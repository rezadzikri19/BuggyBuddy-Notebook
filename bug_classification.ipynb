{
 "cells": [
  {
   "cell_type": "markdown",
   "metadata": {},
   "source": [
    "### **1. Import Dependencies**"
   ]
  },
  {
   "cell_type": "code",
   "execution_count": 1,
   "metadata": {},
   "outputs": [
    {
     "name": "stderr",
     "output_type": "stream",
     "text": [
      "d:\\Project\\Python\\End to End Projects\\Bug Classification\\Notebook\\venv\\Lib\\site-packages\\tqdm\\auto.py:21: TqdmWarning: IProgress not found. Please update jupyter and ipywidgets. See https://ipywidgets.readthedocs.io/en/stable/user_install.html\n",
      "  from .autonotebook import tqdm as notebook_tqdm\n"
     ]
    },
    {
     "name": "stdout",
     "output_type": "stream",
     "text": [
      "WARNING:tensorflow:From d:\\Project\\Python\\End to End Projects\\Bug Classification\\Notebook\\venv\\Lib\\site-packages\\keras\\src\\losses.py:2976: The name tf.losses.sparse_softmax_cross_entropy is deprecated. Please use tf.compat.v1.losses.sparse_softmax_cross_entropy instead.\n",
      "\n"
     ]
    },
    {
     "name": "stderr",
     "output_type": "stream",
     "text": [
      "[nltk_data] Downloading package stopwords to\n",
      "[nltk_data]     C:\\Users\\msi.pc\\AppData\\Roaming\\nltk_data...\n",
      "[nltk_data]   Package stopwords is already up-to-date!\n",
      "[nltk_data] Downloading package punkt to\n",
      "[nltk_data]     C:\\Users\\msi.pc\\AppData\\Roaming\\nltk_data...\n",
      "[nltk_data]   Package punkt is already up-to-date!\n"
     ]
    },
    {
     "data": {
      "text/plain": [
       "True"
      ]
     },
     "execution_count": 1,
     "metadata": {},
     "output_type": "execute_result"
    }
   ],
   "source": [
    "import pandas as pd\n",
    "import numpy as np\n",
    "\n",
    "import gc\n",
    "import os\n",
    "import requests\n",
    "import json\n",
    "import re\n",
    "\n",
    "import concurrent.futures\n",
    "\n",
    "from urllib.parse import urlencode\n",
    "\n",
    "from typing import List, Dict, Optional, Union\n",
    "from glob import glob\n",
    "\n",
    "import joblib\n",
    "\n",
    "import matplotlib.pyplot as plt\n",
    "import seaborn as sns\n",
    "\n",
    "import nltk\n",
    "from nltk.tokenize import word_tokenize\n",
    "from nltk.corpus import stopwords\n",
    "\n",
    "from sklearn.preprocessing import StandardScaler, RobustScaler\n",
    "from sklearn.model_selection import train_test_split, StratifiedKFold\n",
    "from sklearn.impute import KNNImputer, SimpleImputer\n",
    "from sklearn.pipeline import Pipeline\n",
    "from sklearn.compose import ColumnTransformer\n",
    "from sklearn.ensemble import RandomForestClassifier\n",
    "from sklearn.metrics.pairwise import cosine_similarity\n",
    "from sklearn.preprocessing import normalize\n",
    "from sklearn.metrics import precision_score, recall_score, f1_score\n",
    "\n",
    "from sentence_transformers import SentenceTransformer\n",
    "from gensim.models import KeyedVectors \n",
    "\n",
    "import tensorflow as tf\n",
    "import tensorflow.keras as keras\n",
    "\n",
    "from keras.models import Model, load_model\n",
    "from keras.layers import Dense, LSTM, Bidirectional, Input, Reshape, Dot, GlobalAveragePooling1D\n",
    "from keras.callbacks import EarlyStopping\n",
    "\n",
    "import faiss\n",
    "\n",
    "nltk.download('stopwords')\n",
    "nltk.download('punkt')"
   ]
  },
  {
   "cell_type": "markdown",
   "metadata": {},
   "source": [
    "### **2. Settings**"
   ]
  },
  {
   "cell_type": "code",
   "execution_count": 2,
   "metadata": {},
   "outputs": [],
   "source": [
    "tf.random.set_seed(42)\n",
    "\n",
    "pd.set_option('display.max_rows', 100)\n",
    "pd.set_option('display.max_columns', 50)"
   ]
  },
  {
   "cell_type": "markdown",
   "metadata": {},
   "source": [
    "### **3. Load Data**"
   ]
  },
  {
   "cell_type": "markdown",
   "metadata": {},
   "source": [
    "Fetch the bug report data using [BugZilla API](https://bmo.readthedocs.io/en/latest/api/core/v1/bug.html#get-bug) then save it as json and Pandas.parquet."
   ]
  },
  {
   "cell_type": "code",
   "execution_count": 222,
   "metadata": {},
   "outputs": [],
   "source": [
    "def fetch_data(url: str, params=None):\n",
    "  try:\n",
    "    response = requests.get(url, params=params)\n",
    "    if (response.status_code == 200):\n",
    "      return response.json()\n",
    "    \n",
    "    print(f\"Error response with status code: {response.status_code}\")\n",
    "  except Exception as error:\n",
    "    print(f'Failed to fetch data: {error}')\n",
    "\n",
    "def urls_builder(base_url: str, n_fetch: int, limit: int, products: List[str], **kwargs):\n",
    "  urls = []\n",
    "  for product in products:\n",
    "    for i in range(n_fetch):\n",
    "      \n",
    "      param = {\n",
    "        'offset': i * limit,\n",
    "        'limit': limit,\n",
    "        'product': product,\n",
    "        **kwargs,\n",
    "      }\n",
    "      \n",
    "      full_url = base_url + '?' + urlencode(param)\n",
    "      urls.append(full_url)\n",
    "    \n",
    "  return urls\n",
    "\n",
    "def save_json(data, path: str):\n",
    "  with open(path, 'w') as json_file:\n",
    "    json.dump(data, json_file)\n",
    "\n",
    "def load_json(path: str):\n",
    "  with open(path, 'r') as json_file:\n",
    "    loaded_data = json.load(json_file)\n",
    "  return loaded_data"
   ]
  },
  {
   "cell_type": "code",
   "execution_count": 15,
   "metadata": {},
   "outputs": [],
   "source": [
    "# %%script skipped # Skipped \n",
    "\n",
    "selected_fields = ['id', 'duplicates', 'summary', 'description', 'status', 'resolution', 'platform', 'product', 'type', 'priority', 'severity', 'component']\n",
    "products = ['Firefox']\n",
    "\n",
    "base_params = {'include_fields': ', '.join(selected_fields)}\n",
    "saved_data_path = os.path.join('data', 'raw_data', 'firefox_raw_data.json')\n",
    "\n",
    "base_url = 'https://bugzilla.mozilla.org/rest/bug'\n",
    "n_fetch, limit = 50, 100\n",
    "\n",
    "if os.path.exists(saved_data_path):\n",
    "  response_data = load_json(saved_data_path)\n",
    "else:\n",
    "  urls = urls_builder(base_url, n_fetch, limit, products, **base_params)\n",
    "  response_data = []\n",
    "\n",
    "  max_workers = 50\n",
    "  with concurrent.futures.ThreadPoolExecutor(max_workers) as executor:\n",
    "    response_data = list(executor.map(fetch_data, urls))\n",
    "    \n",
    "  response_data = [item['bugs'] for item in response_data]\n",
    "  response_data = [item for sublist in response_data for item in sublist]\n",
    "  \n",
    "  save_json(response_data, saved_data_path)"
   ]
  },
  {
   "cell_type": "code",
   "execution_count": 3,
   "metadata": {},
   "outputs": [
    {
     "data": {
      "text/html": [
       "<div>\n",
       "<style scoped>\n",
       "    .dataframe tbody tr th:only-of-type {\n",
       "        vertical-align: middle;\n",
       "    }\n",
       "\n",
       "    .dataframe tbody tr th {\n",
       "        vertical-align: top;\n",
       "    }\n",
       "\n",
       "    .dataframe thead th {\n",
       "        text-align: right;\n",
       "    }\n",
       "</style>\n",
       "<table border=\"1\" class=\"dataframe\">\n",
       "  <thead>\n",
       "    <tr style=\"text-align: right;\">\n",
       "      <th></th>\n",
       "      <th>component</th>\n",
       "      <th>status</th>\n",
       "      <th>resolution</th>\n",
       "      <th>summary</th>\n",
       "      <th>description</th>\n",
       "      <th>product</th>\n",
       "      <th>duplicates</th>\n",
       "      <th>severity</th>\n",
       "      <th>priority</th>\n",
       "      <th>type</th>\n",
       "      <th>platform</th>\n",
       "    </tr>\n",
       "    <tr>\n",
       "      <th>id</th>\n",
       "      <th></th>\n",
       "      <th></th>\n",
       "      <th></th>\n",
       "      <th></th>\n",
       "      <th></th>\n",
       "      <th></th>\n",
       "      <th></th>\n",
       "      <th></th>\n",
       "      <th></th>\n",
       "      <th></th>\n",
       "      <th></th>\n",
       "    </tr>\n",
       "  </thead>\n",
       "  <tbody>\n",
       "    <tr>\n",
       "      <th>10954</th>\n",
       "      <td>Settings UI</td>\n",
       "      <td>RESOLVED</td>\n",
       "      <td>WONTFIX</td>\n",
       "      <td>Dialup properties needs to be exposed in prefs</td>\n",
       "      <td>The dialup properties of the profile should be...</td>\n",
       "      <td>Firefox</td>\n",
       "      <td>[]</td>\n",
       "      <td>normal</td>\n",
       "      <td>P3</td>\n",
       "      <td>enhancement</td>\n",
       "      <td>All</td>\n",
       "    </tr>\n",
       "    <tr>\n",
       "      <th>14871</th>\n",
       "      <td>General</td>\n",
       "      <td>RESOLVED</td>\n",
       "      <td>DUPLICATE</td>\n",
       "      <td>[Find] Find whole word only</td>\n",
       "      <td>Please add \"Match Whole Word Only\" option to b...</td>\n",
       "      <td>Firefox</td>\n",
       "      <td>[]</td>\n",
       "      <td>minor</td>\n",
       "      <td>--</td>\n",
       "      <td>defect</td>\n",
       "      <td>All</td>\n",
       "    </tr>\n",
       "    <tr>\n",
       "      <th>19118</th>\n",
       "      <td>Settings UI</td>\n",
       "      <td>RESOLVED</td>\n",
       "      <td>WONTFIX</td>\n",
       "      <td>Plug-In Manager (ui for choosing mimetype-plug...</td>\n",
       "      <td>I would really like a plug-in manager for my b...</td>\n",
       "      <td>Firefox</td>\n",
       "      <td>[32380, 57760, 64040, 66644, 95646, 96695, 106...</td>\n",
       "      <td>normal</td>\n",
       "      <td>--</td>\n",
       "      <td>enhancement</td>\n",
       "      <td>All</td>\n",
       "    </tr>\n",
       "    <tr>\n",
       "      <th>21482</th>\n",
       "      <td>File Handling</td>\n",
       "      <td>NEW</td>\n",
       "      <td></td>\n",
       "      <td>Improvement to Save File dialog: folder based ...</td>\n",
       "      <td>Perhaps this really should be in the standardi...</td>\n",
       "      <td>Firefox</td>\n",
       "      <td>[]</td>\n",
       "      <td>S3</td>\n",
       "      <td>P3</td>\n",
       "      <td>enhancement</td>\n",
       "      <td>All</td>\n",
       "    </tr>\n",
       "    <tr>\n",
       "      <th>23207</th>\n",
       "      <td>File Handling</td>\n",
       "      <td>NEW</td>\n",
       "      <td></td>\n",
       "      <td>Options in Save As (location of saved images, ...</td>\n",
       "      <td>Save as... feature should be extended in follo...</td>\n",
       "      <td>Firefox</td>\n",
       "      <td>[26366, 172317, 177285]</td>\n",
       "      <td>S3</td>\n",
       "      <td>P5</td>\n",
       "      <td>enhancement</td>\n",
       "      <td>Unspecified</td>\n",
       "    </tr>\n",
       "  </tbody>\n",
       "</table>\n",
       "</div>"
      ],
      "text/plain": [
       "           component    status resolution  \\\n",
       "id                                          \n",
       "10954    Settings UI  RESOLVED    WONTFIX   \n",
       "14871        General  RESOLVED  DUPLICATE   \n",
       "19118    Settings UI  RESOLVED    WONTFIX   \n",
       "21482  File Handling       NEW              \n",
       "23207  File Handling       NEW              \n",
       "\n",
       "                                                 summary  \\\n",
       "id                                                         \n",
       "10954     Dialup properties needs to be exposed in prefs   \n",
       "14871                        [Find] Find whole word only   \n",
       "19118  Plug-In Manager (ui for choosing mimetype-plug...   \n",
       "21482  Improvement to Save File dialog: folder based ...   \n",
       "23207  Options in Save As (location of saved images, ...   \n",
       "\n",
       "                                             description  product  \\\n",
       "id                                                                  \n",
       "10954  The dialup properties of the profile should be...  Firefox   \n",
       "14871  Please add \"Match Whole Word Only\" option to b...  Firefox   \n",
       "19118  I would really like a plug-in manager for my b...  Firefox   \n",
       "21482  Perhaps this really should be in the standardi...  Firefox   \n",
       "23207  Save as... feature should be extended in follo...  Firefox   \n",
       "\n",
       "                                              duplicates severity priority  \\\n",
       "id                                                                           \n",
       "10954                                                 []   normal       P3   \n",
       "14871                                                 []    minor       --   \n",
       "19118  [32380, 57760, 64040, 66644, 95646, 96695, 106...   normal       --   \n",
       "21482                                                 []       S3       P3   \n",
       "23207                            [26366, 172317, 177285]       S3       P5   \n",
       "\n",
       "              type     platform  \n",
       "id                               \n",
       "10954  enhancement          All  \n",
       "14871       defect          All  \n",
       "19118  enhancement          All  \n",
       "21482  enhancement          All  \n",
       "23207  enhancement  Unspecified  "
      ]
     },
     "execution_count": 3,
     "metadata": {},
     "output_type": "execute_result"
    }
   ],
   "source": [
    "raw_data_path = os.path.join('data', 'cache', 'raw_data.parquet')\n",
    "df = pd.DataFrame()\n",
    "\n",
    "if (os.path.exists(raw_data_path)):\n",
    "  df = pd.read_parquet(raw_data_path)\n",
    "else:\n",
    "  data_paths = glob(os.path.join('data', 'raw_data', 'firefox_raw_data.json'))\n",
    "\n",
    "  for path in data_paths:\n",
    "    data = load_json(path)\n",
    "    data = pd.DataFrame(data)\n",
    "    df = pd.concat([df, data])\n",
    "\n",
    "  df = df.set_index('id')\n",
    "  df.to_parquet(raw_data_path)\n",
    "\n",
    "df.head()"
   ]
  },
  {
   "cell_type": "code",
   "execution_count": 4,
   "metadata": {},
   "outputs": [
    {
     "data": {
      "text/plain": [
       "43"
      ]
     },
     "execution_count": 4,
     "metadata": {},
     "output_type": "execute_result"
    }
   ],
   "source": [
    "df = df.drop(['status', 'priority', 'resolution', 'severity', 'component', 'product', 'type'], axis=1)\n",
    "\n",
    "gc.collect()"
   ]
  },
  {
   "cell_type": "code",
   "execution_count": 5,
   "metadata": {},
   "outputs": [
    {
     "name": "stdout",
     "output_type": "stream",
     "text": [
      "<class 'pandas.core.frame.DataFrame'>\n",
      "Index: 210693 entries, 10954 to 1876223\n",
      "Data columns (total 4 columns):\n",
      " #   Column       Non-Null Count   Dtype \n",
      "---  ------       --------------   ----- \n",
      " 0   summary      210693 non-null  object\n",
      " 1   description  210693 non-null  object\n",
      " 2   duplicates   210693 non-null  object\n",
      " 3   platform     210693 non-null  object\n",
      "dtypes: object(4)\n",
      "memory usage: 291.5 MB\n"
     ]
    }
   ],
   "source": [
    "df.info(memory_usage='deep')"
   ]
  },
  {
   "cell_type": "markdown",
   "metadata": {},
   "source": [
    "### **3. EDA**"
   ]
  },
  {
   "cell_type": "markdown",
   "metadata": {},
   "source": [
    "### **3.1. Missing Values**"
   ]
  },
  {
   "cell_type": "markdown",
   "metadata": {},
   "source": [
    "It seems there is no missing value"
   ]
  },
  {
   "cell_type": "code",
   "execution_count": 6,
   "metadata": {},
   "outputs": [
    {
     "data": {
      "text/plain": [
       "summary        0\n",
       "description    0\n",
       "duplicates     0\n",
       "platform       0\n",
       "dtype: int64"
      ]
     },
     "execution_count": 6,
     "metadata": {},
     "output_type": "execute_result"
    }
   ],
   "source": [
    "df.isna().sum()"
   ]
  },
  {
   "cell_type": "markdown",
   "metadata": {},
   "source": [
    "### **3.2. Product**"
   ]
  },
  {
   "cell_type": "code",
   "execution_count": 13,
   "metadata": {},
   "outputs": [
    {
     "name": "stdout",
     "output_type": "stream",
     "text": [
      "Couldn't find program: 'skipped'\n"
     ]
    }
   ],
   "source": [
    "%%script skipped # Skipped\n",
    "\n",
    "df['product'].value_counts(ascending=False)"
   ]
  },
  {
   "cell_type": "markdown",
   "metadata": {},
   "source": [
    "### **3.3. Platform**"
   ]
  },
  {
   "cell_type": "code",
   "execution_count": 28,
   "metadata": {},
   "outputs": [
    {
     "data": {
      "text/plain": [
       "platform\n",
       "x86            80884\n",
       "Unspecified    39764\n",
       "All            28530\n",
       "x86_64         19096\n",
       "PowerPC         6273\n",
       "Desktop         4625\n",
       "Other            727\n",
       "ARM              188\n",
       "Sun              181\n",
       "ARM64             51\n",
       "HP                24\n",
       "DEC                7\n",
       "SGI                6\n",
       "RISCV64            3\n",
       "XScale             2\n",
       "Name: count, dtype: int64"
      ]
     },
     "execution_count": 28,
     "metadata": {},
     "output_type": "execute_result"
    }
   ],
   "source": [
    "df['platform'].value_counts(ascending=False)"
   ]
  },
  {
   "cell_type": "markdown",
   "metadata": {},
   "source": [
    "### **3.4. Type**"
   ]
  },
  {
   "cell_type": "code",
   "execution_count": 16,
   "metadata": {},
   "outputs": [
    {
     "name": "stdout",
     "output_type": "stream",
     "text": [
      "Couldn't find program: 'skipped'\n"
     ]
    }
   ],
   "source": [
    "%%script skipped # Skipped\n",
    "\n",
    "df['type'].value_counts(ascending=False)"
   ]
  },
  {
   "cell_type": "markdown",
   "metadata": {},
   "source": [
    "### **3.5. Duplicates**"
   ]
  },
  {
   "cell_type": "markdown",
   "metadata": {},
   "source": [
    "We see that there are 15k bug reports are considered duplicated by other reports"
   ]
  },
  {
   "cell_type": "code",
   "execution_count": null,
   "metadata": {},
   "outputs": [
    {
     "data": {
      "text/plain": [
       "id\n",
       "246078     114\n",
       "247116      73\n",
       "210910      69\n",
       "69938       68\n",
       "245392      66\n",
       "          ... \n",
       "505579       0\n",
       "505620       0\n",
       "505621       0\n",
       "505622       0\n",
       "1876223      0\n",
       "Name: duplicates, Length: 210405, dtype: int64"
      ]
     },
     "execution_count": 9,
     "metadata": {},
     "output_type": "execute_result"
    }
   ],
   "source": [
    "duplicates = df['duplicates'].apply(lambda x: len(x)).sort_values(ascending=False)\n",
    "\n",
    "duplicated_bugs = duplicates[duplicates > 0]\n",
    "duplicated_bugs.count()"
   ]
  },
  {
   "cell_type": "markdown",
   "metadata": {},
   "source": [
    "### **4. Feature Engineering**"
   ]
  },
  {
   "cell_type": "markdown",
   "metadata": {},
   "source": [
    "### **4.1. Missing Values**"
   ]
  },
  {
   "cell_type": "code",
   "execution_count": 32,
   "metadata": {},
   "outputs": [
    {
     "name": "stdout",
     "output_type": "stream",
     "text": [
      "Couldn't find program: 'skipped'\n"
     ]
    }
   ],
   "source": [
    "%%script skipped # Skipped\n",
    "\n",
    "df.loc[df['type'] == '--', 'type'] = 'no type'"
   ]
  },
  {
   "cell_type": "markdown",
   "metadata": {},
   "source": [
    "### **4.2. Duplicates**"
   ]
  },
  {
   "cell_type": "code",
   "execution_count": 7,
   "metadata": {},
   "outputs": [],
   "source": [
    "df = df.loc[df.astype(str).drop_duplicates(keep='first').index]"
   ]
  },
  {
   "cell_type": "markdown",
   "metadata": {},
   "source": [
    "### **4.2. Duplicates**"
   ]
  },
  {
   "cell_type": "markdown",
   "metadata": {},
   "source": [
    "Currently we have data that has field called `'duplicates'` which is a list of report ids that considered has the same context. To make the data usable, add new feature called `'duplicates_to'` that inferred from `'duplicates'` field."
   ]
  },
  {
   "cell_type": "code",
   "execution_count": 11,
   "metadata": {},
   "outputs": [
    {
     "data": {
      "text/plain": [
       "id\n",
       "246078     [239385, 239561, 246164, 246674, 246958, 24697...\n",
       "247116     [247032, 254990, 255342, 256792, 257710, 25950...\n",
       "210910     [197227, 210933, 211542, 212349, 212382, 21269...\n",
       "69938      [79637, 87494, 105392, 107129, 116505, 121880,...\n",
       "245392     [245393, 245694, 246339, 246486, 247750, 24788...\n",
       "                                 ...                        \n",
       "1347170                                            [1347627]\n",
       "1349552                                            [1371769]\n",
       "672630                                              [974724]\n",
       "256622                                              [264107]\n",
       "255160                                              [251051]\n",
       "Name: duplicates, Length: 15140, dtype: object"
      ]
     },
     "execution_count": 11,
     "metadata": {},
     "output_type": "execute_result"
    }
   ],
   "source": [
    "duplicated = df.loc[duplicated_bugs.index, 'duplicates']\n",
    "duplicated"
   ]
  },
  {
   "cell_type": "code",
   "execution_count": 12,
   "metadata": {},
   "outputs": [],
   "source": [
    "data_path = os.path.join('data', 'cache', 'duplicate_to_data.parquet')\n",
    "\n",
    "if (os.path.exists(data_path)):\n",
    "  df = pd.read_parquet(data_path)\n",
    "else:\n",
    "  df['duplicates_to'] = -1\n",
    "\n",
    "  for idx, dups in zip(duplicated.index, duplicated):\n",
    "    for item in dups:\n",
    "      df.loc[df.index == item, 'duplicates_to'] = idx\n",
    "      \n",
    "  df.to_parquet(data_path)"
   ]
  },
  {
   "cell_type": "code",
   "execution_count": 13,
   "metadata": {},
   "outputs": [],
   "source": [
    "df = df.drop(columns=['duplicates'])"
   ]
  },
  {
   "cell_type": "markdown",
   "metadata": {},
   "source": [
    "### **4.4. Combined Text**"
   ]
  },
  {
   "cell_type": "code",
   "execution_count": 15,
   "metadata": {},
   "outputs": [],
   "source": [
    "df['text'] = df['platform'] + ' ' + df['summary'] + ' ' + df['description']"
   ]
  },
  {
   "cell_type": "code",
   "execution_count": 16,
   "metadata": {},
   "outputs": [
    {
     "data": {
      "text/html": [
       "<div>\n",
       "<style scoped>\n",
       "    .dataframe tbody tr th:only-of-type {\n",
       "        vertical-align: middle;\n",
       "    }\n",
       "\n",
       "    .dataframe tbody tr th {\n",
       "        vertical-align: top;\n",
       "    }\n",
       "\n",
       "    .dataframe thead th {\n",
       "        text-align: right;\n",
       "    }\n",
       "</style>\n",
       "<table border=\"1\" class=\"dataframe\">\n",
       "  <thead>\n",
       "    <tr style=\"text-align: right;\">\n",
       "      <th></th>\n",
       "      <th>text</th>\n",
       "      <th>duplicates_to</th>\n",
       "    </tr>\n",
       "    <tr>\n",
       "      <th>id</th>\n",
       "      <th></th>\n",
       "      <th></th>\n",
       "    </tr>\n",
       "  </thead>\n",
       "  <tbody>\n",
       "    <tr>\n",
       "      <th>10954</th>\n",
       "      <td>dialup properties needs exposed prefs dialup ...</td>\n",
       "      <td>-1</td>\n",
       "    </tr>\n",
       "    <tr>\n",
       "      <th>14871</th>\n",
       "      <td>find find whole word please add match whole w...</td>\n",
       "      <td>-1</td>\n",
       "    </tr>\n",
       "    <tr>\n",
       "      <th>19118</th>\n",
       "      <td>plug manager ui choosing mimetype plugin asso...</td>\n",
       "      <td>-1</td>\n",
       "    </tr>\n",
       "    <tr>\n",
       "      <th>21482</th>\n",
       "      <td>improvement save file dialog folder based url...</td>\n",
       "      <td>-1</td>\n",
       "    </tr>\n",
       "    <tr>\n",
       "      <th>23207</th>\n",
       "      <td>unspecified options save location saved images...</td>\n",
       "      <td>-1</td>\n",
       "    </tr>\n",
       "  </tbody>\n",
       "</table>\n",
       "</div>"
      ],
      "text/plain": [
       "                                                    text  duplicates_to\n",
       "id                                                                     \n",
       "10954   dialup properties needs exposed prefs dialup ...             -1\n",
       "14871   find find whole word please add match whole w...             -1\n",
       "19118   plug manager ui choosing mimetype plugin asso...             -1\n",
       "21482   improvement save file dialog folder based url...             -1\n",
       "23207  unspecified options save location saved images...             -1"
      ]
     },
     "execution_count": 16,
     "metadata": {},
     "output_type": "execute_result"
    }
   ],
   "source": [
    "df = df[['text', 'duplicates_to']]\n",
    "\n",
    "df.head()"
   ]
  },
  {
   "cell_type": "markdown",
   "metadata": {},
   "source": [
    "### **4.3. Clean Sentences**"
   ]
  },
  {
   "cell_type": "markdown",
   "metadata": {},
   "source": [
    "Remove non-alphanumeric, newline, tab, return, single character, and multiple spaces. We also removing stopwords by utilizing stopwords provided by `nltk` library "
   ]
  },
  {
   "cell_type": "code",
   "execution_count": 14,
   "metadata": {},
   "outputs": [],
   "source": [
    "def remove_special_chars(text: str):\n",
    "  text = text.lower()\n",
    "  text = re.sub(r'\\n|\\t|\\r|\\0', ' ', text)\n",
    "  text = re.sub(r'[^a-zA-Z0-9\\s]', ' ', text)\n",
    "  text = re.sub(r'\\s{2,}', ' ', text)\n",
    "  text = re.sub(r'\\s$', '', text)\n",
    "  text = re.sub(r'\\s[b-z]\\s', ' ', text)\n",
    "  text = re.sub(r'\\s[b-z]\\s', ' ', text)\n",
    "  return text\n",
    "\n",
    "\n",
    "def remove_stopwords(text: str):\n",
    "  stop_words = set(stopwords.words('english'))\n",
    "  words = word_tokenize(text)\n",
    "  filtered_words = [word for word in words if word not in stop_words]\n",
    "  return ' '.join(filtered_words)\n",
    "\n",
    "\n",
    "def clean_text(text: str):\n",
    "  text = remove_special_chars(text)\n",
    "  text = remove_stopwords(text)\n",
    "  return text\n",
    "\n",
    "\n",
    "df['text'] = df['text'].apply(clean_text)"
   ]
  },
  {
   "cell_type": "markdown",
   "metadata": {},
   "source": [
    "### **4.5. Sentence Embedding**"
   ]
  },
  {
   "cell_type": "markdown",
   "metadata": {},
   "source": [
    "We use pretrained embedding model to vectorize the text, there are 2 methods that we try in this project, **Sentence Transformer (all-MiniLM-L6-v2)** and **Fasttext**."
   ]
  },
  {
   "cell_type": "markdown",
   "metadata": {},
   "source": [
    "### **4.5.1. Sentence Transformers**"
   ]
  },
  {
   "cell_type": "markdown",
   "metadata": {},
   "source": [
    "Based on the [all-MiniLM-L6-v2 page](https://huggingface.co/sentence-transformers/all-MiniLM-L6-v2), we know that all-MiniLM-L6-v2 use 384 dense vector to represent a sentence. This model intended to be used as a sentence and short paragraph encoder that limited to 256 word pieces (longer that that will be truncated) that means, *there are some text will not be able to vectorize with full context*."
   ]
  },
  {
   "cell_type": "code",
   "execution_count": 39,
   "metadata": {},
   "outputs": [],
   "source": [
    "# %%script skipped # Skipped\n",
    "sent_embd_model = SentenceTransformer('sentence-transformers/all-MiniLM-L6-v2')"
   ]
  },
  {
   "cell_type": "code",
   "execution_count": 404,
   "metadata": {},
   "outputs": [
    {
     "data": {
      "text/plain": [
       "94771"
      ]
     },
     "execution_count": 404,
     "metadata": {},
     "output_type": "execute_result"
    }
   ],
   "source": [
    "# %%script skipped # Skipped\n",
    "\n",
    "num_dim = 384\n",
    "embd_data_path = os.path.join('data', 'cache', 'sent_trans_embd_data.parquet')\n",
    "\n",
    "if (os.path.exists(embd_data_path)):\n",
    "  df = pd.read_parquet(embd_data_path)\n",
    "else:\n",
    "  df['text_embedded'] = df['text'].apply(sent_embd_model.encode)\n",
    "  df.to_parquet(embd_data_path)\n",
    "\n",
    "df['text_embedded'] = df['text_embedded'].apply(np.array)\n",
    "gc.collect()"
   ]
  },
  {
   "cell_type": "markdown",
   "metadata": {},
   "source": [
    "### **4.5.2. Fasttext**"
   ]
  },
  {
   "cell_type": "markdown",
   "metadata": {},
   "source": [
    "Basically `Fasttext` is used for word embedding, to get sentence vector, we simply use normalized average word vector among sentence. Normalization used because our objective is to determining similarity between texts/sentences. The advantages of using `Fasttext` besides it much faster, we also able to capture full context on every sentence because there is no sentence length limitation."
   ]
  },
  {
   "cell_type": "code",
   "execution_count": 17,
   "metadata": {},
   "outputs": [],
   "source": [
    "%%script skipped # Skipped\n",
    "\n",
    "model_path = os.path.join('models', 'wiki-news-300d-1M-subword.vec')\n",
    "sent_embd_model = KeyedVectors.load_word2vec_format(model_path, binary=False)"
   ]
  },
  {
   "cell_type": "code",
   "execution_count": 18,
   "metadata": {},
   "outputs": [],
   "source": [
    "%%script skipped # Skipped\n",
    "\n",
    "def sentence_embedding(sentence, model):\n",
    "    words = word_tokenize(sentence)\n",
    "    words_in_vocab = [word for word in words if word in model]\n",
    "\n",
    "    if not words_in_vocab:\n",
    "        return None\n",
    "\n",
    "    embedding = np.mean([model[word] for word in words_in_vocab], axis=0)\n",
    "    embedding = normalize(embedding.reshape(1, -1), norm='l2').reshape(-1)\n",
    "\n",
    "    return embedding"
   ]
  },
  {
   "cell_type": "code",
   "execution_count": 97,
   "metadata": {},
   "outputs": [
    {
     "data": {
      "text/plain": [
       "20325"
      ]
     },
     "execution_count": 97,
     "metadata": {},
     "output_type": "execute_result"
    }
   ],
   "source": [
    "%%script skipped # Skipped\n",
    "\n",
    "num_dim = 300\n",
    "embd_data_path = os.path.join('data', 'cache', 'fasttext_embd_data.parquet')\n",
    "\n",
    "if (os.path.exists(embd_data_path)):\n",
    "  df = pd.read_parquet(embd_data_path)\n",
    "else:\n",
    "  df['text_embedded'] = df['text'].apply(sentence_embedding, model=sent_embd_model)\n",
    "  df.to_parquet(embd_data_path)\n",
    "\n",
    "df['text_embedded'] = df['text_embedded'].apply(np.array)\n",
    "gc.collect()"
   ]
  },
  {
   "cell_type": "code",
   "execution_count": 405,
   "metadata": {},
   "outputs": [
    {
     "name": "stdout",
     "output_type": "stream",
     "text": [
      "<class 'pandas.core.frame.DataFrame'>\n",
      "Index: 210693 entries, 10954 to 1876223\n",
      "Data columns (total 3 columns):\n",
      " #   Column         Non-Null Count   Dtype \n",
      "---  ------         --------------   ----- \n",
      " 0   text           210693 non-null  object\n",
      " 1   duplicates_to  210693 non-null  int64 \n",
      " 2   text_embedded  210693 non-null  object\n",
      "dtypes: int64(1), object(2)\n",
      "memory usage: 517.7 MB\n"
     ]
    }
   ],
   "source": [
    "df.info(memory_usage='deep')"
   ]
  },
  {
   "cell_type": "markdown",
   "metadata": {},
   "source": [
    "### **4.6. Sentence Pairs**"
   ]
  },
  {
   "cell_type": "markdown",
   "metadata": {},
   "source": [
    "We create sentence pairs and label them whether both unique or duplicated report"
   ]
  },
  {
   "cell_type": "code",
   "execution_count": 406,
   "metadata": {},
   "outputs": [],
   "source": [
    "df = df.reset_index()"
   ]
  },
  {
   "cell_type": "code",
   "execution_count": 407,
   "metadata": {},
   "outputs": [],
   "source": [
    "df_duplicates = df[df['duplicates_to'] != -1].copy()\n",
    "df_uniques = df[df['duplicates_to'] == -1].copy()"
   ]
  },
  {
   "cell_type": "code",
   "execution_count": 408,
   "metadata": {},
   "outputs": [
    {
     "data": {
      "text/html": [
       "<div>\n",
       "<style scoped>\n",
       "    .dataframe tbody tr th:only-of-type {\n",
       "        vertical-align: middle;\n",
       "    }\n",
       "\n",
       "    .dataframe tbody tr th {\n",
       "        vertical-align: top;\n",
       "    }\n",
       "\n",
       "    .dataframe thead th {\n",
       "        text-align: right;\n",
       "    }\n",
       "</style>\n",
       "<table border=\"1\" class=\"dataframe\">\n",
       "  <thead>\n",
       "    <tr style=\"text-align: right;\">\n",
       "      <th></th>\n",
       "      <th>id__left</th>\n",
       "      <th>text__left</th>\n",
       "      <th>text_embedded__left</th>\n",
       "      <th>id__right</th>\n",
       "      <th>text__right</th>\n",
       "      <th>text_embedded__right</th>\n",
       "      <th>label</th>\n",
       "    </tr>\n",
       "  </thead>\n",
       "  <tbody>\n",
       "    <tr>\n",
       "      <th>0</th>\n",
       "      <td>46407</td>\n",
       "      <td>enhancement  current url querried another app ...</td>\n",
       "      <td>[-0.03849341, 0.044417124, 0.061231103, 0.0028...</td>\n",
       "      <td>516502</td>\n",
       "      <td>defect  add applescript support getting curren...</td>\n",
       "      <td>[-0.068924494, -0.0365692, 0.017821774, -0.005...</td>\n",
       "      <td>1</td>\n",
       "    </tr>\n",
       "    <tr>\n",
       "      <th>1</th>\n",
       "      <td>95091</td>\n",
       "      <td>defect x86 helper application lack mozilla 0 9...</td>\n",
       "      <td>[-0.07100523, -0.028381774, 0.023365201, 0.037...</td>\n",
       "      <td>57420</td>\n",
       "      <td>defect  support helper app command line args u...</td>\n",
       "      <td>[0.030665655, -0.08451681, -0.060907457, -0.08...</td>\n",
       "      <td>1</td>\n",
       "    </tr>\n",
       "    <tr>\n",
       "      <th>2</th>\n",
       "      <td>134649</td>\n",
       "      <td>defect powerpc browser urlbar clickselectsall ...</td>\n",
       "      <td>[-0.028466182, 0.010100972, 0.039920595, 0.120...</td>\n",
       "      <td>409810</td>\n",
       "      <td>defect powerpc clicking location bar selects w...</td>\n",
       "      <td>[-0.022986848, -0.040886015, 0.040972777, 0.05...</td>\n",
       "      <td>1</td>\n",
       "    </tr>\n",
       "    <tr>\n",
       "      <th>3</th>\n",
       "      <td>141706</td>\n",
       "      <td>defect  xx mail address specified href mailto ...</td>\n",
       "      <td>[-0.03694004, -0.014539962, 0.027701173, 0.038...</td>\n",
       "      <td>1781264</td>\n",
       "      <td>defect x86 64 encoded umlauts c3 bc passed dec...</td>\n",
       "      <td>[-0.031441327, -0.041367855, 0.06764637, -0.02...</td>\n",
       "      <td>1</td>\n",
       "    </tr>\n",
       "    <tr>\n",
       "      <th>4</th>\n",
       "      <td>153509</td>\n",
       "      <td>enhancement x86 allow search engines test defa...</td>\n",
       "      <td>[-0.0180947, -0.05431543, 0.026843896, -3.4008...</td>\n",
       "      <td>340604</td>\n",
       "      <td>enhancement  implement ie window external isse...</td>\n",
       "      <td>[-0.13558964, -0.017756177, -0.021699434, 0.04...</td>\n",
       "      <td>1</td>\n",
       "    </tr>\n",
       "  </tbody>\n",
       "</table>\n",
       "</div>"
      ],
      "text/plain": [
       "   id__left                                         text__left  \\\n",
       "0     46407  enhancement  current url querried another app ...   \n",
       "1     95091  defect x86 helper application lack mozilla 0 9...   \n",
       "2    134649  defect powerpc browser urlbar clickselectsall ...   \n",
       "3    141706  defect  xx mail address specified href mailto ...   \n",
       "4    153509  enhancement x86 allow search engines test defa...   \n",
       "\n",
       "                                 text_embedded__left  id__right  \\\n",
       "0  [-0.03849341, 0.044417124, 0.061231103, 0.0028...     516502   \n",
       "1  [-0.07100523, -0.028381774, 0.023365201, 0.037...      57420   \n",
       "2  [-0.028466182, 0.010100972, 0.039920595, 0.120...     409810   \n",
       "3  [-0.03694004, -0.014539962, 0.027701173, 0.038...    1781264   \n",
       "4  [-0.0180947, -0.05431543, 0.026843896, -3.4008...     340604   \n",
       "\n",
       "                                         text__right  \\\n",
       "0  defect  add applescript support getting curren...   \n",
       "1  defect  support helper app command line args u...   \n",
       "2  defect powerpc clicking location bar selects w...   \n",
       "3  defect x86 64 encoded umlauts c3 bc passed dec...   \n",
       "4  enhancement  implement ie window external isse...   \n",
       "\n",
       "                                text_embedded__right  label  \n",
       "0  [-0.068924494, -0.0365692, 0.017821774, -0.005...      1  \n",
       "1  [0.030665655, -0.08451681, -0.060907457, -0.08...      1  \n",
       "2  [-0.022986848, -0.040886015, 0.040972777, 0.05...      1  \n",
       "3  [-0.031441327, -0.041367855, 0.06764637, -0.02...      1  \n",
       "4  [-0.13558964, -0.017756177, -0.021699434, 0.04...      1  "
      ]
     },
     "execution_count": 408,
     "metadata": {},
     "output_type": "execute_result"
    }
   ],
   "source": [
    "df_duplicates = pd.merge(left=df_duplicates,\n",
    "                        right=df_uniques,\n",
    "                        left_on='duplicates_to',\n",
    "                        right_on='id',\n",
    "                        suffixes=('__left', '__right'))\n",
    "df_duplicates = df_duplicates.drop(columns=['duplicates_to__left', 'duplicates_to__right'])\n",
    "df_duplicates['label'] = 1\n",
    "df_duplicates = df_duplicates.reset_index(drop=True)\n",
    "\n",
    "df_duplicates.head()"
   ]
  },
  {
   "cell_type": "code",
   "execution_count": 409,
   "metadata": {},
   "outputs": [
    {
     "data": {
      "text/html": [
       "<div>\n",
       "<style scoped>\n",
       "    .dataframe tbody tr th:only-of-type {\n",
       "        vertical-align: middle;\n",
       "    }\n",
       "\n",
       "    .dataframe tbody tr th {\n",
       "        vertical-align: top;\n",
       "    }\n",
       "\n",
       "    .dataframe thead th {\n",
       "        text-align: right;\n",
       "    }\n",
       "</style>\n",
       "<table border=\"1\" class=\"dataframe\">\n",
       "  <thead>\n",
       "    <tr style=\"text-align: right;\">\n",
       "      <th></th>\n",
       "      <th>text_embedded__left</th>\n",
       "      <th>text__left</th>\n",
       "      <th>id__left</th>\n",
       "      <th>text_embedded__right</th>\n",
       "      <th>text__right</th>\n",
       "      <th>id__right</th>\n",
       "      <th>label</th>\n",
       "    </tr>\n",
       "  </thead>\n",
       "  <tbody>\n",
       "    <tr>\n",
       "      <th>0</th>\n",
       "      <td>[0.013469558, -0.010111869, 0.028897135, -0.00...</td>\n",
       "      <td>defect x86 search without dialog new search di...</td>\n",
       "      <td>264962</td>\n",
       "      <td>[-0.012708805, 0.036860116, 0.09029018, 0.1036...</td>\n",
       "      <td>defect x86 getelementsbytagname confused short...</td>\n",
       "      <td>293692.0</td>\n",
       "      <td>0</td>\n",
       "    </tr>\n",
       "    <tr>\n",
       "      <th>1</th>\n",
       "      <td>[-0.05257168, -0.01263137, 0.089446604, -0.017...</td>\n",
       "      <td>defect unspecified colour updates needed new t...</td>\n",
       "      <td>1451474</td>\n",
       "      <td>[0.013469558, -0.010111869, 0.028897135, -0.00...</td>\n",
       "      <td>defect x86 search without dialog new search di...</td>\n",
       "      <td>264962.0</td>\n",
       "      <td>0</td>\n",
       "    </tr>\n",
       "    <tr>\n",
       "      <th>2</th>\n",
       "      <td>[-0.0056334394, -0.014998359, 0.036152463, 0.0...</td>\n",
       "      <td>defect x86 64 one word urlbar searches incredi...</td>\n",
       "      <td>972452</td>\n",
       "      <td>[-0.05257168, -0.01263137, 0.089446604, -0.017...</td>\n",
       "      <td>defect unspecified colour updates needed new t...</td>\n",
       "      <td>1451474.0</td>\n",
       "      <td>0</td>\n",
       "    </tr>\n",
       "    <tr>\n",
       "      <th>3</th>\n",
       "      <td>[-0.03328692, -0.017311642, 0.02710121, -0.015...</td>\n",
       "      <td>defect x86 firefox installer handle directory ...</td>\n",
       "      <td>341797</td>\n",
       "      <td>[-0.0056334394, -0.014998359, 0.036152463, 0.0...</td>\n",
       "      <td>defect x86 64 one word urlbar searches incredi...</td>\n",
       "      <td>972452.0</td>\n",
       "      <td>0</td>\n",
       "    </tr>\n",
       "    <tr>\n",
       "      <th>4</th>\n",
       "      <td>[0.04823823, -0.0018696992, -0.056124125, -0.0...</td>\n",
       "      <td>defect x86 firefox 18 0b1 b2 segmentation faul...</td>\n",
       "      <td>817482</td>\n",
       "      <td>[-0.03328692, -0.017311642, 0.02710121, -0.015...</td>\n",
       "      <td>defect x86 firefox installer handle directory ...</td>\n",
       "      <td>341797.0</td>\n",
       "      <td>0</td>\n",
       "    </tr>\n",
       "  </tbody>\n",
       "</table>\n",
       "</div>"
      ],
      "text/plain": [
       "                                 text_embedded__left  \\\n",
       "0  [0.013469558, -0.010111869, 0.028897135, -0.00...   \n",
       "1  [-0.05257168, -0.01263137, 0.089446604, -0.017...   \n",
       "2  [-0.0056334394, -0.014998359, 0.036152463, 0.0...   \n",
       "3  [-0.03328692, -0.017311642, 0.02710121, -0.015...   \n",
       "4  [0.04823823, -0.0018696992, -0.056124125, -0.0...   \n",
       "\n",
       "                                          text__left  id__left  \\\n",
       "0  defect x86 search without dialog new search di...    264962   \n",
       "1  defect unspecified colour updates needed new t...   1451474   \n",
       "2  defect x86 64 one word urlbar searches incredi...    972452   \n",
       "3  defect x86 firefox installer handle directory ...    341797   \n",
       "4  defect x86 firefox 18 0b1 b2 segmentation faul...    817482   \n",
       "\n",
       "                                text_embedded__right  \\\n",
       "0  [-0.012708805, 0.036860116, 0.09029018, 0.1036...   \n",
       "1  [0.013469558, -0.010111869, 0.028897135, -0.00...   \n",
       "2  [-0.05257168, -0.01263137, 0.089446604, -0.017...   \n",
       "3  [-0.0056334394, -0.014998359, 0.036152463, 0.0...   \n",
       "4  [-0.03328692, -0.017311642, 0.02710121, -0.015...   \n",
       "\n",
       "                                         text__right  id__right  label  \n",
       "0  defect x86 getelementsbytagname confused short...   293692.0      0  \n",
       "1  defect x86 search without dialog new search di...   264962.0      0  \n",
       "2  defect unspecified colour updates needed new t...  1451474.0      0  \n",
       "3  defect x86 64 one word urlbar searches incredi...   972452.0      0  \n",
       "4  defect x86 firefox installer handle directory ...   341797.0      0  "
      ]
     },
     "execution_count": 409,
     "metadata": {},
     "output_type": "execute_result"
    }
   ],
   "source": [
    "half_rows = df_uniques.shape[0] // 2\n",
    "df_uniques = df_uniques.sample(frac=1, replace=False, random_state=42)\n",
    "\n",
    "df_uniques_temp = pd.DataFrame()\n",
    "df_uniques_temp['text_embedded__left'] = df_uniques['text_embedded']\n",
    "df_uniques_temp['text__left'] = df_uniques['text']\n",
    "df_uniques_temp['id__left'] = df_uniques['id']\n",
    "\n",
    "df_uniques_temp['text_embedded__right'] = df_uniques['text_embedded'].shift(1)\n",
    "df_uniques_temp['text__right'] = df_uniques['text'].shift(1)\n",
    "df_uniques_temp['id__right'] = df_uniques['id'].shift(1)\n",
    "\n",
    "df_uniques_temp = df_uniques_temp.dropna()\n",
    "df_uniques_temp['label'] = 0\n",
    "\n",
    "df_uniques = df_uniques_temp.reset_index(drop=True)\n",
    "\n",
    "del df_uniques_temp\n",
    "gc.collect()\n",
    "\n",
    "df_uniques.head()"
   ]
  },
  {
   "cell_type": "code",
   "execution_count": 410,
   "metadata": {},
   "outputs": [
    {
     "data": {
      "text/plain": [
       "0"
      ]
     },
     "execution_count": 410,
     "metadata": {},
     "output_type": "execute_result"
    }
   ],
   "source": [
    "df = pd.concat([df_duplicates, df_uniques], axis=0).sample(frac=1, replace=False, random_state=42).reset_index(drop=True)\n",
    "gc.collect()"
   ]
  },
  {
   "cell_type": "markdown",
   "metadata": {},
   "source": [
    "### **5. Data Split**"
   ]
  },
  {
   "cell_type": "markdown",
   "metadata": {},
   "source": [
    "### **5.1. Train Test Split**"
   ]
  },
  {
   "cell_type": "code",
   "execution_count": 411,
   "metadata": {},
   "outputs": [
    {
     "name": "stdout",
     "output_type": "stream",
     "text": [
      "Shape of X_train: (146384, 2)\n",
      "Shape of X_test: (62737, 2)\n",
      "Shape of y_train: (146384,)\n",
      "Shape of y_test: (62737,)\n"
     ]
    }
   ],
   "source": [
    "X, X_test, y, y_test = train_test_split(df[['text_embedded__left', 'text_embedded__right']],\n",
    "                                        df['label'],\n",
    "                                        shuffle=True,\n",
    "                                        stratify=df['label'],\n",
    "                                        test_size=0.3,\n",
    "                                        random_state=42)\n",
    "\n",
    "print(f'Shape of X_train: {X.shape}')\n",
    "print(f'Shape of X_test: {X_test.shape}')\n",
    "print(f'Shape of y_train: {y.shape}')\n",
    "print(f'Shape of y_test: {y_test.shape}')"
   ]
  },
  {
   "cell_type": "markdown",
   "metadata": {},
   "source": [
    "### **5.2. Data Fold**"
   ]
  },
  {
   "cell_type": "markdown",
   "metadata": {},
   "source": [
    "Using 5 stratified fold"
   ]
  },
  {
   "cell_type": "code",
   "execution_count": 412,
   "metadata": {},
   "outputs": [],
   "source": [
    "n_splits = 5\n",
    "skf = StratifiedKFold(n_splits=n_splits, shuffle=True, random_state=42)"
   ]
  },
  {
   "cell_type": "markdown",
   "metadata": {},
   "source": [
    "### **6. Model Preparation**"
   ]
  },
  {
   "cell_type": "markdown",
   "metadata": {},
   "source": [
    "We build 2 model, first is using dense layer and the second is using lstm"
   ]
  },
  {
   "cell_type": "markdown",
   "metadata": {},
   "source": [
    "### **6.1. Dense Embedding**"
   ]
  },
  {
   "cell_type": "markdown",
   "metadata": {},
   "source": [
    "The model constructed using 2 inputs, a fully connected layer (acting as latent layer), a similarity layer (using normalized dot product), then last layer is a fully connected with sigmoid activation."
   ]
  },
  {
   "cell_type": "code",
   "execution_count": 351,
   "metadata": {},
   "outputs": [
    {
     "name": "stdout",
     "output_type": "stream",
     "text": [
      "Model: \"training_model\"\n",
      "__________________________________________________________________________________________________\n",
      " Layer (type)                Output Shape                 Param #   Connected to                  \n",
      "==================================================================================================\n",
      " input_1 (InputLayer)        [(None, 384)]                0         []                            \n",
      "                                                                                                  \n",
      " input_2 (InputLayer)        [(None, 384)]                0         []                            \n",
      "                                                                                                  \n",
      " shared_node_1 (Dense)       (None, 256)                  98560     ['input_1[0][0]',             \n",
      "                                                                     'input_2[0][0]']             \n",
      "                                                                                                  \n",
      " cosine_similarity (Dot)     (None, 1)                    0         ['shared_node_1[0][0]',       \n",
      "                                                                     'shared_node_1[1][0]']       \n",
      "                                                                                                  \n",
      " output (Dense)              (None, 1)                    2         ['cosine_similarity[0][0]']   \n",
      "                                                                                                  \n",
      "==================================================================================================\n",
      "Total params: 98562 (385.01 KB)\n",
      "Trainable params: 98562 (385.01 KB)\n",
      "Non-trainable params: 0 (0.00 Byte)\n",
      "__________________________________________________________________________________________________\n"
     ]
    }
   ],
   "source": [
    "# %%script skipped # Skipped\n",
    "\n",
    "input_1 = Input(shape=(num_dim, ), name='input_1')\n",
    "input_2 = Input(shape=(num_dim, ), name='input_2')\n",
    "\n",
    "shared_node_1 = Dense(256, activation='linear', name='shared_node_1')\n",
    "\n",
    "x1 = shared_node_1(input_1)\n",
    "x2 = shared_node_1(input_2)\n",
    "\n",
    "cosine_similarity_layer = Dot(axes=-1, normalize=True, name='cosine_similarity')([x1, x2])\n",
    "output_layer = Dense(1, activation='sigmoid', name='output')(cosine_similarity_layer)\n",
    "\n",
    "training_model = Model(inputs=[input_1, input_2], outputs=output_layer, name='training_model')\n",
    "\n",
    "optimizer = keras.optimizers.Adam(learning_rate=0.002)\n",
    "loss = keras.losses.BinaryCrossentropy(from_logits=False)\n",
    "metrics=[\n",
    "    keras.metrics.Precision(name='precision'),\n",
    "    keras.metrics.Recall(name='recall')\n",
    "  ]\n",
    "\n",
    "training_model.compile(\n",
    "  loss=loss,\n",
    "  optimizer=optimizer,\n",
    "  metrics=metrics)\n",
    "\n",
    "training_model.summary()"
   ]
  },
  {
   "cell_type": "markdown",
   "metadata": {},
   "source": [
    "### **6.2. LSTM Embedding**"
   ]
  },
  {
   "cell_type": "markdown",
   "metadata": {},
   "source": [
    "The model constructed using 2 inputs, an LSTM layer (return  a sequence that acting as latent layer), a 1D global average pooling layer, a similarity layer (using normalized dot product), then last layer is a fully connected with sigmoid activation."
   ]
  },
  {
   "cell_type": "code",
   "execution_count": 346,
   "metadata": {},
   "outputs": [
    {
     "name": "stdout",
     "output_type": "stream",
     "text": [
      "Couldn't find program: 'skipped'\n"
     ]
    }
   ],
   "source": [
    "%%script skipped # Skipped\n",
    "\n",
    "input_1 = Input(shape=(300, ), name='input_1')\n",
    "input_2 = Input(shape=(300, ), name='input_2')\n",
    "\n",
    "reshape_node = Reshape((1, 300), input_shape=(300, ), name='reshape_node_1')\n",
    "\n",
    "shared_node_1 = Bidirectional(LSTM(256, return_sequences=True, input_shape=(1, 300)), name='shared_node_1')\n",
    "shared_node_2 = GlobalAveragePooling1D(name='shared_node_2')\n",
    "\n",
    "x1 = reshape_node(input_1)\n",
    "x1 = shared_node_1(x1)\n",
    "x1 = shared_node_2(x1)\n",
    "\n",
    "x2 = reshape_node(input_2)\n",
    "x2 = shared_node_1(x2)\n",
    "x2 = shared_node_2(x2)\n",
    "\n",
    "cosine_similarity_layer = Dot(axes=-1, normalize=True, name='cosine_similarity')([x1, x2])\n",
    "output_layer = Dense(1, activation='sigmoid', name='output')(cosine_similarity_layer)\n",
    "\n",
    "training_model = Model(inputs=[input_1, input_2], outputs=output_layer, name='training_model')\n",
    "\n",
    "optimizer = keras.optimizers.Adam(learning_rate=0.002)\n",
    "loss = keras.losses.BinaryCrossentropy(from_logits=False)\n",
    "metrics=[\n",
    "    keras.metrics.Precision(name='precision'),\n",
    "    keras.metrics.Recall(name='recall')\n",
    "  ]\n",
    "\n",
    "training_model.compile(\n",
    "  loss=loss,\n",
    "  optimizer=optimizer,\n",
    "  metrics=metrics)\n",
    "\n",
    "training_model.summary()"
   ]
  },
  {
   "cell_type": "markdown",
   "metadata": {},
   "source": [
    "### **7. Model Training**"
   ]
  },
  {
   "cell_type": "markdown",
   "metadata": {},
   "source": [
    "### **7.1. Traning Preparation**"
   ]
  },
  {
   "cell_type": "code",
   "execution_count": 352,
   "metadata": {},
   "outputs": [
    {
     "data": {
      "text/plain": [
       "5137"
      ]
     },
     "execution_count": 352,
     "metadata": {},
     "output_type": "execute_result"
    }
   ],
   "source": [
    "tf.random.set_seed(42)\n",
    "gc.collect()"
   ]
  },
  {
   "cell_type": "code",
   "execution_count": 353,
   "metadata": {},
   "outputs": [],
   "source": [
    "def train_model(X_train, X_valid, y_train, y_valid, batch_size, epochs, callbacks=None, verbose='auto'):\n",
    "  history = training_model.fit(\n",
    "    X_train,\n",
    "    y_train,\n",
    "    epochs=epochs,\n",
    "    batch_size=batch_size,\n",
    "    validation_data=(X_valid, y_valid),\n",
    "    callbacks=[*callbacks],\n",
    "    verbose=verbose)\n",
    "    \n",
    "  train_score = training_model.evaluate(X_train, y_train, verbose=verbose)[1:]\n",
    "  valid_score = training_model.evaluate(X_valid, y_valid, verbose=verbose)[1:]\n",
    "  \n",
    "  return [train_score, valid_score, history]"
   ]
  },
  {
   "cell_type": "markdown",
   "metadata": {},
   "source": [
    "### **7.2. Model Training**"
   ]
  },
  {
   "cell_type": "code",
   "execution_count": 354,
   "metadata": {},
   "outputs": [
    {
     "name": "stdout",
     "output_type": "stream",
     "text": [
      "fold-1: train - precision = 0.9964810609817505, recall = 0.9988933205604553\n",
      "fold-1: valid - precision = 0.9096538424491882, recall = 0.8942999243736267\n",
      "----------------------------------------------------------------------------------------------------\n",
      "fold-2: train - precision = 0.9997925162315369, recall = 0.9999308586120605\n",
      "fold-2: valid - precision = 0.9508103728294373, recall = 0.9252905249595642\n",
      "----------------------------------------------------------------------------------------------------\n",
      "fold-3: train - precision = 0.9997233152389526, recall = 0.9997925162315369\n",
      "fold-3: valid - precision = 0.9784232378005981, recall = 0.9784232378005981\n",
      "----------------------------------------------------------------------------------------------------\n",
      "fold-4: train - precision = 1.0, recall = 1.0\n",
      "fold-4: valid - precision = 0.9873489141464233, recall = 0.9715076088905334\n",
      "----------------------------------------------------------------------------------------------------\n",
      "fold-5: train - precision = 0.992994487285614, recall = 1.0\n",
      "fold-5: valid - precision = 0.9822112917900085, recall = 0.9930824637413025\n",
      "----------------------------------------------------------------------------------------------------\n",
      "average_score: train - precision = 0.9977982759475708, recall = 0.9997233390808106\n",
      "average_score: valid - precision = 0.9616895318031311, recall = 0.952520751953125\n"
     ]
    }
   ],
   "source": [
    "epochs = 30\n",
    "batch_size = 64\n",
    "\n",
    "train_scores = []\n",
    "valid_scores = []\n",
    "histories = []\n",
    "\n",
    "for fold, (train_idx, valid_idx) in enumerate(skf.split(X, y)):\n",
    "    X_train, X_valid = X.iloc[train_idx], X.iloc[valid_idx]\n",
    "    y_train, y_valid = y.iloc[train_idx], y.iloc[valid_idx]\n",
    "\n",
    "    X_train_inputs = [np.vstack(X_train['text_embedded__left']), np.vstack(X_train['text_embedded__right'])]\n",
    "    X_valid_inputs = [np.vstack(X_valid['text_embedded__left']), np.vstack(X_valid['text_embedded__right'])]\n",
    "    \n",
    "    early_stopping = EarlyStopping(monitor='loss', patience=5, restore_best_weights=True)\n",
    "    \n",
    "    train_score, valid_score, history = train_model(\n",
    "        X_train_inputs,\n",
    "        X_valid_inputs,\n",
    "        y_train,\n",
    "        y_valid,\n",
    "        batch_size=batch_size,\n",
    "        epochs=epochs,\n",
    "        callbacks=[early_stopping],\n",
    "        verbose=0)\n",
    "    \n",
    "    print(f'fold-{fold + 1}: train - precision = {train_score[0]}, recall = {train_score[1]}')\n",
    "    print(f'fold-{fold + 1}: valid - precision = {valid_score[0]}, recall = {valid_score[1]}')\n",
    "    print('-' * 100)\n",
    "    \n",
    "    train_scores.append(train_score)\n",
    "    valid_scores.append(valid_score)\n",
    "    histories.append(history.history)\n",
    "    \n",
    "train_scores_avg = np.mean(train_scores, axis=0)\n",
    "valid_scores_avg = np.mean(valid_scores, axis=0)\n",
    "\n",
    "print(f'average_score: train - precision = {train_scores_avg[0]}, recall = {train_scores_avg[1]}')\n",
    "print(f'average_score: valid - precision = {valid_scores_avg[0]}, recall = {valid_scores_avg[1]}')"
   ]
  },
  {
   "cell_type": "markdown",
   "metadata": {},
   "source": [
    "### **7.3. Save/Load Model**"
   ]
  },
  {
   "cell_type": "code",
   "execution_count": 413,
   "metadata": {},
   "outputs": [],
   "source": [
    "# %%script skipped # Skipped\n",
    "\n",
    "MODE = 'load'\n",
    "\n",
    "saved_model_path = os.path.join('models', 'model_dense_sent_trans.h5')\n",
    "saved_train_data_path = os.path.join('models', 'model_dense_sent_trans.json')\n",
    "\n",
    "if MODE == 'save': \n",
    "  training_model.save(saved_model_path)\n",
    "  save_json(histories ,saved_train_data_path)\n",
    "elif MODE == 'load':\n",
    "  training_model = load_model(saved_model_path)\n",
    "  histories = load_json(saved_train_data_path)"
   ]
  },
  {
   "cell_type": "markdown",
   "metadata": {},
   "source": [
    "### **7.4. Model Training Evaluation**"
   ]
  },
  {
   "cell_type": "code",
   "execution_count": 414,
   "metadata": {},
   "outputs": [
    {
     "data": {
      "image/png": "[encoded data removed]",
      "text/plain": [
       "<Figure size 1000x500 with 2 Axes>"
      ]
     },
     "metadata": {},
     "output_type": "display_data"
    }
   ],
   "source": [
    "valid_precision_score = [item for history in histories for item in history['val_precision']]\n",
    "train_precision_score = [item for history in histories for item in history['precision']]\n",
    "valid_recall_score = [item for history in histories for item in history['val_recall']]\n",
    "train_recall_score = [item for history in histories for item in history['recall']]\n",
    "\n",
    "fig, axes = plt.subplots(1, 2, figsize=(10, 5), sharey=True)\n",
    "\n",
    "axes[0].plot(valid_precision_score, label='valid')\n",
    "axes[0].plot(train_precision_score, label='train')\n",
    "axes[0].set_title('Precision Score')\n",
    "axes[0].set_xlabel('epoch')\n",
    "axes[0].set_ylabel('score')\n",
    "axes[0].legend()\n",
    "axes[0].grid()\n",
    "\n",
    "axes[1].plot(valid_recall_score, label='valid')\n",
    "axes[1].plot(train_recall_score, label='train')\n",
    "axes[1].set_title('Recall Score')\n",
    "axes[1].set_xlabel('epoch')\n",
    "axes[1].set_ylabel('score')\n",
    "axes[1].legend()\n",
    "axes[1].grid()\n",
    "\n",
    "plt.tight_layout()\n",
    "plt.show()"
   ]
  },
  {
   "cell_type": "markdown",
   "metadata": {},
   "source": [
    "### **7.5. Embedding Model Preparation**"
   ]
  },
  {
   "cell_type": "markdown",
   "metadata": {},
   "source": [
    "### **7.5.1. Get Dense Embedding Model**"
   ]
  },
  {
   "cell_type": "code",
   "execution_count": 388,
   "metadata": {},
   "outputs": [
    {
     "name": "stdout",
     "output_type": "stream",
     "text": [
      "Model: \"embd_inference_model\"\n",
      "_________________________________________________________________\n",
      " Layer (type)                Output Shape              Param #   \n",
      "=================================================================\n",
      " input (InputLayer)          [(None, 384)]             0         \n",
      "                                                                 \n",
      " shared_node_1 (Dense)       (None, 256)               98560     \n",
      "                                                                 \n",
      "=================================================================\n",
      "Total params: 98560 (385.00 KB)\n",
      "Trainable params: 98560 (385.00 KB)\n",
      "Non-trainable params: 0 (0.00 Byte)\n",
      "_________________________________________________________________\n"
     ]
    }
   ],
   "source": [
    "embd_input = Input(shape=(num_dim, ), name='input')\n",
    "embd_output = training_model.get_layer('shared_node_1')(embd_input)\n",
    "\n",
    "embd_model = Model(inputs=embd_input, outputs=embd_output, name='embd_inference_model')\n",
    "embd_model.summary()"
   ]
  },
  {
   "cell_type": "markdown",
   "metadata": {},
   "source": [
    "### **7.5.2. Get LSTM Embedding Model**"
   ]
  },
  {
   "cell_type": "code",
   "execution_count": 162,
   "metadata": {},
   "outputs": [
    {
     "name": "stdout",
     "output_type": "stream",
     "text": [
      "Model: \"embd_inference_model\"\n",
      "_________________________________________________________________\n",
      " Layer (type)                Output Shape              Param #   \n",
      "=================================================================\n",
      " input (InputLayer)          [(None, 384)]             0         \n",
      "                                                                 \n",
      " shared_node_1 (Dense)       (None, 256)               98560     \n",
      "                                                                 \n",
      "=================================================================\n",
      "Total params: 98560 (385.00 KB)\n",
      "Trainable params: 98560 (385.00 KB)\n",
      "Non-trainable params: 0 (0.00 Byte)\n",
      "_________________________________________________________________\n"
     ]
    }
   ],
   "source": [
    "%%script skipped # Skipped\n",
    "\n",
    "embd_input = Input(shape=(num_dim, ), name='input')\n",
    "embd_x = training_model.get_layer('reshape_node_1')(embd_input)\n",
    "embd_x = training_model.get_layer('shared_node_1')(embd_x)\n",
    "embd_x = training_model.get_layer('shared_node_2')(embd_x)\n",
    "embd_output = training_model.get_layer('shared_node_3')(embd_x)\n",
    "\n",
    "embd_model = Model(inputs=embd_input, outputs=embd_output, name='embd_inference_model')\n",
    "embd_model.summary()"
   ]
  },
  {
   "cell_type": "markdown",
   "metadata": {},
   "source": [
    "### **7.6. Embedding Model Evaluation**"
   ]
  },
  {
   "cell_type": "code",
   "execution_count": 389,
   "metadata": {},
   "outputs": [],
   "source": [
    "def custom_cosine_similarity(text_1: np.ndarray, text_2: np.ndarray):\n",
    "    dot_product = np.dot(text_1, text_2)\n",
    "    norm_text_1 = np.linalg.norm(text_1)\n",
    "    norm_text_2 = np.linalg.norm(text_2)\n",
    "    \n",
    "    similarity = dot_product / (norm_text_1 * norm_text_2)\n",
    "    return similarity"
   ]
  },
  {
   "cell_type": "code",
   "execution_count": 390,
   "metadata": {},
   "outputs": [
    {
     "name": "stdout",
     "output_type": "stream",
     "text": [
      "1961/1961 [==============================] - 2s 1ms/step\n",
      "1961/1961 [==============================] - 2s 1ms/step\n"
     ]
    }
   ],
   "source": [
    "embd_test_left = embd_model.predict(np.vstack(X_test['text_embedded__left']))\n",
    "embd_test_right = embd_model.predict(np.vstack(X_test['text_embedded__right']))\n",
    "embd_similarity = np.array([custom_cosine_similarity(embd_1, embd_2) for embd_1, embd_2 in zip(embd_test_left, embd_test_right)])"
   ]
  },
  {
   "cell_type": "code",
   "execution_count": 394,
   "metadata": {},
   "outputs": [],
   "source": [
    "def evaluate_model(similarity_scores: np.ndarray, threshold: float):\n",
    "  embd_binary_similarity = (similarity_scores > threshold).astype(int)\n",
    "\n",
    "  precision = precision_score(y_test, embd_binary_similarity)\n",
    "  recall = recall_score(y_test, embd_binary_similarity)\n",
    "  f1 = f1_score(y_test, embd_binary_similarity)\n",
    "  \n",
    "  return [precision, recall, f1]"
   ]
  },
  {
   "cell_type": "code",
   "execution_count": 395,
   "metadata": {},
   "outputs": [
    {
     "data": {
      "text/html": [
       "<div>\n",
       "<style scoped>\n",
       "    .dataframe tbody tr th:only-of-type {\n",
       "        vertical-align: middle;\n",
       "    }\n",
       "\n",
       "    .dataframe tbody tr th {\n",
       "        vertical-align: top;\n",
       "    }\n",
       "\n",
       "    .dataframe thead th {\n",
       "        text-align: right;\n",
       "    }\n",
       "</style>\n",
       "<table border=\"1\" class=\"dataframe\">\n",
       "  <thead>\n",
       "    <tr style=\"text-align: right;\">\n",
       "      <th></th>\n",
       "      <th>threshold</th>\n",
       "      <th>precision</th>\n",
       "      <th>recall</th>\n",
       "      <th>f1</th>\n",
       "    </tr>\n",
       "  </thead>\n",
       "  <tbody>\n",
       "    <tr>\n",
       "      <th>376</th>\n",
       "      <td>0.376376</td>\n",
       "      <td>0.918620</td>\n",
       "      <td>0.900710</td>\n",
       "      <td>0.909577</td>\n",
       "    </tr>\n",
       "    <tr>\n",
       "      <th>385</th>\n",
       "      <td>0.385385</td>\n",
       "      <td>0.929024</td>\n",
       "      <td>0.890639</td>\n",
       "      <td>0.909426</td>\n",
       "    </tr>\n",
       "    <tr>\n",
       "      <th>377</th>\n",
       "      <td>0.377377</td>\n",
       "      <td>0.919372</td>\n",
       "      <td>0.899548</td>\n",
       "      <td>0.909352</td>\n",
       "    </tr>\n",
       "    <tr>\n",
       "      <th>375</th>\n",
       "      <td>0.375375</td>\n",
       "      <td>0.917225</td>\n",
       "      <td>0.901356</td>\n",
       "      <td>0.909221</td>\n",
       "    </tr>\n",
       "    <tr>\n",
       "      <th>378</th>\n",
       "      <td>0.378378</td>\n",
       "      <td>0.920249</td>\n",
       "      <td>0.898386</td>\n",
       "      <td>0.909186</td>\n",
       "    </tr>\n",
       "    <tr>\n",
       "      <th>...</th>\n",
       "      <td>...</td>\n",
       "      <td>...</td>\n",
       "      <td>...</td>\n",
       "      <td>...</td>\n",
       "    </tr>\n",
       "    <tr>\n",
       "      <th>995</th>\n",
       "      <td>0.995996</td>\n",
       "      <td>1.000000</td>\n",
       "      <td>0.020400</td>\n",
       "      <td>0.039985</td>\n",
       "    </tr>\n",
       "    <tr>\n",
       "      <th>996</th>\n",
       "      <td>0.996997</td>\n",
       "      <td>1.000000</td>\n",
       "      <td>0.020013</td>\n",
       "      <td>0.039241</td>\n",
       "    </tr>\n",
       "    <tr>\n",
       "      <th>997</th>\n",
       "      <td>0.997998</td>\n",
       "      <td>1.000000</td>\n",
       "      <td>0.019496</td>\n",
       "      <td>0.038247</td>\n",
       "    </tr>\n",
       "    <tr>\n",
       "      <th>998</th>\n",
       "      <td>0.998999</td>\n",
       "      <td>1.000000</td>\n",
       "      <td>0.019367</td>\n",
       "      <td>0.037999</td>\n",
       "    </tr>\n",
       "    <tr>\n",
       "      <th>999</th>\n",
       "      <td>1.000000</td>\n",
       "      <td>1.000000</td>\n",
       "      <td>0.004390</td>\n",
       "      <td>0.008741</td>\n",
       "    </tr>\n",
       "  </tbody>\n",
       "</table>\n",
       "<p>1000 rows × 4 columns</p>\n",
       "</div>"
      ],
      "text/plain": [
       "     threshold  precision    recall        f1\n",
       "376   0.376376   0.918620  0.900710  0.909577\n",
       "385   0.385385   0.929024  0.890639  0.909426\n",
       "377   0.377377   0.919372  0.899548  0.909352\n",
       "375   0.375375   0.917225  0.901356  0.909221\n",
       "378   0.378378   0.920249  0.898386  0.909186\n",
       "..         ...        ...       ...       ...\n",
       "995   0.995996   1.000000  0.020400  0.039985\n",
       "996   0.996997   1.000000  0.020013  0.039241\n",
       "997   0.997998   1.000000  0.019496  0.038247\n",
       "998   0.998999   1.000000  0.019367  0.037999\n",
       "999   1.000000   1.000000  0.004390  0.008741\n",
       "\n",
       "[1000 rows x 4 columns]"
      ]
     },
     "execution_count": 395,
     "metadata": {},
     "output_type": "execute_result"
    }
   ],
   "source": [
    "threshold_eval = pd.DataFrame([[threshold, *evaluate_model(embd_similarity, threshold)] for threshold in np.linspace(0, 1, 1000)], columns=['threshold', 'precision', 'recall', 'f1'])\n",
    "threshold_eval.sort_values(by='f1', ascending=False)"
   ]
  },
  {
   "cell_type": "code",
   "execution_count": 397,
   "metadata": {},
   "outputs": [
    {
     "data": {
      "text/plain": [
       "<Axes: title={'center': 'Metrics Evaluation'}, xlabel='Threshold', ylabel='Metric score'>"
      ]
     },
     "execution_count": 397,
     "metadata": {},
     "output_type": "execute_result"
    },
    {
     "data": {
      "image/png": "[encoded data removed]",
      "text/plain": [
       "<Figure size 640x480 with 1 Axes>"
      ]
     },
     "metadata": {},
     "output_type": "display_data"
    }
   ],
   "source": [
    "threshold_eval.plot(\n",
    "  kind='line',\n",
    "  title='Metrics Evaluation',\n",
    "  x='threshold',\n",
    "  xlabel='Threshold',\n",
    "  ylabel='Metric score',\n",
    "  grid=True)"
   ]
  },
  {
   "cell_type": "code",
   "execution_count": 483,
   "metadata": {},
   "outputs": [
    {
     "name": "stdout",
     "output_type": "stream",
     "text": [
      "Precision: 0.91862\n",
      "Recall: 0.90071\n",
      "F1: 0.90958\n"
     ]
    }
   ],
   "source": [
    "model_eval = evaluate_model(embd_similarity, 0.376376)\n",
    "\n",
    "print(f'Precision: {model_eval[0]:.5f}')\n",
    "print(f'Recall: {model_eval[1]:.5f}')\n",
    "print(f'F1: {model_eval[2]:.5f}')"
   ]
  },
  {
   "cell_type": "markdown",
   "metadata": {},
   "source": [
    "### **8. Similarity Search**"
   ]
  },
  {
   "cell_type": "markdown",
   "metadata": {},
   "source": [
    "### **8.1. Prepare Data**"
   ]
  },
  {
   "cell_type": "code",
   "execution_count": 449,
   "metadata": {},
   "outputs": [
    {
     "data": {
      "text/html": [
       "<div>\n",
       "<style scoped>\n",
       "    .dataframe tbody tr th:only-of-type {\n",
       "        vertical-align: middle;\n",
       "    }\n",
       "\n",
       "    .dataframe tbody tr th {\n",
       "        vertical-align: top;\n",
       "    }\n",
       "\n",
       "    .dataframe thead th {\n",
       "        text-align: right;\n",
       "    }\n",
       "</style>\n",
       "<table border=\"1\" class=\"dataframe\">\n",
       "  <thead>\n",
       "    <tr style=\"text-align: right;\">\n",
       "      <th></th>\n",
       "      <th>id</th>\n",
       "      <th>vector</th>\n",
       "      <th>id_match</th>\n",
       "    </tr>\n",
       "  </thead>\n",
       "  <tbody>\n",
       "    <tr>\n",
       "      <th>5</th>\n",
       "      <td>416997</td>\n",
       "      <td>[-0.072986886, -0.048403066, -0.05239149, 0.03...</td>\n",
       "      <td>409704.0</td>\n",
       "    </tr>\n",
       "    <tr>\n",
       "      <th>11</th>\n",
       "      <td>417394</td>\n",
       "      <td>[0.0004796597, -0.03494158, 0.02467686, 0.0704...</td>\n",
       "      <td>414846.0</td>\n",
       "    </tr>\n",
       "    <tr>\n",
       "      <th>12</th>\n",
       "      <td>923579</td>\n",
       "      <td>[-0.0062303515, -0.034742985, 0.023416176, 0.0...</td>\n",
       "      <td>911158.0</td>\n",
       "    </tr>\n",
       "    <tr>\n",
       "      <th>27</th>\n",
       "      <td>1269834</td>\n",
       "      <td>[-0.0050008707, -0.026148036, 0.0021574006, 0....</td>\n",
       "      <td>1260763.0</td>\n",
       "    </tr>\n",
       "    <tr>\n",
       "      <th>29</th>\n",
       "      <td>1632001</td>\n",
       "      <td>[-0.028161129, -0.02929935, 0.036383927, 0.069...</td>\n",
       "      <td>1664120.0</td>\n",
       "    </tr>\n",
       "    <tr>\n",
       "      <th>...</th>\n",
       "      <td>...</td>\n",
       "      <td>...</td>\n",
       "      <td>...</td>\n",
       "    </tr>\n",
       "    <tr>\n",
       "      <th>209071</th>\n",
       "      <td>547422</td>\n",
       "      <td>[-0.04709348, 0.033390395, 0.061012138, 0.0247...</td>\n",
       "      <td>547418.0</td>\n",
       "    </tr>\n",
       "    <tr>\n",
       "      <th>209084</th>\n",
       "      <td>266505</td>\n",
       "      <td>[-0.065609306, 0.026629083, -0.044262823, 0.03...</td>\n",
       "      <td>204519.0</td>\n",
       "    </tr>\n",
       "    <tr>\n",
       "      <th>209096</th>\n",
       "      <td>322669</td>\n",
       "      <td>[0.024973787, -0.060527463, -0.005482184, 0.02...</td>\n",
       "      <td>259362.0</td>\n",
       "    </tr>\n",
       "    <tr>\n",
       "      <th>209101</th>\n",
       "      <td>219511</td>\n",
       "      <td>[0.012483932, -0.061094485, 0.0012884644, 0.02...</td>\n",
       "      <td>210910.0</td>\n",
       "    </tr>\n",
       "    <tr>\n",
       "      <th>209105</th>\n",
       "      <td>969987</td>\n",
       "      <td>[0.0051286835, -0.038589764, 0.012033456, -0.0...</td>\n",
       "      <td>946598.0</td>\n",
       "    </tr>\n",
       "  </tbody>\n",
       "</table>\n",
       "<p>25817 rows × 3 columns</p>\n",
       "</div>"
      ],
      "text/plain": [
       "             id                                             vector   id_match\n",
       "5        416997  [-0.072986886, -0.048403066, -0.05239149, 0.03...   409704.0\n",
       "11       417394  [0.0004796597, -0.03494158, 0.02467686, 0.0704...   414846.0\n",
       "12       923579  [-0.0062303515, -0.034742985, 0.023416176, 0.0...   911158.0\n",
       "27      1269834  [-0.0050008707, -0.026148036, 0.0021574006, 0....  1260763.0\n",
       "29      1632001  [-0.028161129, -0.02929935, 0.036383927, 0.069...  1664120.0\n",
       "...         ...                                                ...        ...\n",
       "209071   547422  [-0.04709348, 0.033390395, 0.061012138, 0.0247...   547418.0\n",
       "209084   266505  [-0.065609306, 0.026629083, -0.044262823, 0.03...   204519.0\n",
       "209096   322669  [0.024973787, -0.060527463, -0.005482184, 0.02...   259362.0\n",
       "209101   219511  [0.012483932, -0.061094485, 0.0012884644, 0.02...   210910.0\n",
       "209105   969987  [0.0051286835, -0.038589764, 0.012033456, -0.0...   946598.0\n",
       "\n",
       "[25817 rows x 3 columns]"
      ]
     },
     "execution_count": 449,
     "metadata": {},
     "output_type": "execute_result"
    }
   ],
   "source": [
    "column_mapper = {\n",
    "  'id__left': 'id',\n",
    "  'text_embedded__left': 'vector',\n",
    "  'id__right': 'id_match',\n",
    "}\n",
    "\n",
    "df_sim_search_test = df[df['label'] == 1][['id__left', 'text_embedded__left', 'id__right']].rename(columns=column_mapper)\n",
    "df_sim_search_test"
   ]
  },
  {
   "cell_type": "code",
   "execution_count": 450,
   "metadata": {},
   "outputs": [
    {
     "data": {
      "text/html": [
       "<div>\n",
       "<style scoped>\n",
       "    .dataframe tbody tr th:only-of-type {\n",
       "        vertical-align: middle;\n",
       "    }\n",
       "\n",
       "    .dataframe tbody tr th {\n",
       "        vertical-align: top;\n",
       "    }\n",
       "\n",
       "    .dataframe thead th {\n",
       "        text-align: right;\n",
       "    }\n",
       "</style>\n",
       "<table border=\"1\" class=\"dataframe\">\n",
       "  <thead>\n",
       "    <tr style=\"text-align: right;\">\n",
       "      <th></th>\n",
       "      <th>id</th>\n",
       "      <th>vector</th>\n",
       "    </tr>\n",
       "  </thead>\n",
       "  <tbody>\n",
       "    <tr>\n",
       "      <th>0</th>\n",
       "      <td>1279257</td>\n",
       "      <td>[-0.0022593888, -0.044363864, 0.06777612, 0.00...</td>\n",
       "    </tr>\n",
       "    <tr>\n",
       "      <th>1</th>\n",
       "      <td>1141385</td>\n",
       "      <td>[-0.007411764, -0.013490342, 0.019699965, 0.05...</td>\n",
       "    </tr>\n",
       "    <tr>\n",
       "      <th>2</th>\n",
       "      <td>1703386</td>\n",
       "      <td>[-0.08651987, -0.012659603, 0.08617276, 0.0153...</td>\n",
       "    </tr>\n",
       "    <tr>\n",
       "      <th>3</th>\n",
       "      <td>414919</td>\n",
       "      <td>[-0.09629384, 0.07576377, 0.014162948, 0.00260...</td>\n",
       "    </tr>\n",
       "    <tr>\n",
       "      <th>4</th>\n",
       "      <td>308978</td>\n",
       "      <td>[0.018577315, -0.020130774, -0.001404795, -0.0...</td>\n",
       "    </tr>\n",
       "    <tr>\n",
       "      <th>...</th>\n",
       "      <td>...</td>\n",
       "      <td>...</td>\n",
       "    </tr>\n",
       "    <tr>\n",
       "      <th>209116</th>\n",
       "      <td>668453</td>\n",
       "      <td>[-0.039439715, 0.012647993, -0.007290032, 0.07...</td>\n",
       "    </tr>\n",
       "    <tr>\n",
       "      <th>209117</th>\n",
       "      <td>495107</td>\n",
       "      <td>[-0.04159561, -0.04965289, 0.048648275, -0.029...</td>\n",
       "    </tr>\n",
       "    <tr>\n",
       "      <th>209118</th>\n",
       "      <td>449563</td>\n",
       "      <td>[0.009493686, -0.007985604, 0.028533928, 0.015...</td>\n",
       "    </tr>\n",
       "    <tr>\n",
       "      <th>209119</th>\n",
       "      <td>1044403</td>\n",
       "      <td>[-0.045551524, -0.020288467, -0.026136968, 0.0...</td>\n",
       "    </tr>\n",
       "    <tr>\n",
       "      <th>209120</th>\n",
       "      <td>318902</td>\n",
       "      <td>[-0.017412992, -0.057773694, 0.03341316, -0.00...</td>\n",
       "    </tr>\n",
       "  </tbody>\n",
       "</table>\n",
       "<p>183304 rows × 2 columns</p>\n",
       "</div>"
      ],
      "text/plain": [
       "             id                                             vector\n",
       "0       1279257  [-0.0022593888, -0.044363864, 0.06777612, 0.00...\n",
       "1       1141385  [-0.007411764, -0.013490342, 0.019699965, 0.05...\n",
       "2       1703386  [-0.08651987, -0.012659603, 0.08617276, 0.0153...\n",
       "3        414919  [-0.09629384, 0.07576377, 0.014162948, 0.00260...\n",
       "4        308978  [0.018577315, -0.020130774, -0.001404795, -0.0...\n",
       "...         ...                                                ...\n",
       "209116   668453  [-0.039439715, 0.012647993, -0.007290032, 0.07...\n",
       "209117   495107  [-0.04159561, -0.04965289, 0.048648275, -0.029...\n",
       "209118   449563  [0.009493686, -0.007985604, 0.028533928, 0.015...\n",
       "209119  1044403  [-0.045551524, -0.020288467, -0.026136968, 0.0...\n",
       "209120   318902  [-0.017412992, -0.057773694, 0.03341316, -0.00...\n",
       "\n",
       "[183304 rows x 2 columns]"
      ]
     },
     "execution_count": 450,
     "metadata": {},
     "output_type": "execute_result"
    }
   ],
   "source": [
    "column_mapper = {\n",
    "  'id__left': 'id',\n",
    "  'text_embedded__left': 'vector',\n",
    "}\n",
    "\n",
    "df_sim_search_data = df[['id__left', 'text_embedded__left']].rename(columns=column_mapper)\n",
    "df_sim_search_data = df_sim_search_data[~df_sim_search_data['id'].isin(df_sim_search_test['id'])]\n",
    "df_sim_search_data"
   ]
  },
  {
   "cell_type": "markdown",
   "metadata": {},
   "source": [
    "### **8.2. Create Faiss Index**"
   ]
  },
  {
   "cell_type": "code",
   "execution_count": 454,
   "metadata": {},
   "outputs": [],
   "source": [
    "vectors = np.vstack(df_sim_search_data['vector'])\n",
    "ids = df_sim_search_data['id']\n",
    "\n",
    "nlist = 100\n",
    "quantizer = faiss.IndexFlatL2(num_dim)\n",
    "index = faiss.IndexIVFFlat(quantizer, num_dim, nlist)\n",
    "\n",
    "index.train(vectors)\n",
    "\n",
    "faiss.normalize_L2(vectors)\n",
    "index.add_with_ids(vectors, ids)"
   ]
  },
  {
   "cell_type": "markdown",
   "metadata": {},
   "source": [
    "### **8.3. Perform Similarity Search**"
   ]
  },
  {
   "cell_type": "code",
   "execution_count": 480,
   "metadata": {},
   "outputs": [],
   "source": [
    "index.nprobe = 10\n",
    "k = 5\n",
    "\n",
    "_vector = np.vstack(df_sim_search_test['vector'])\n",
    "search_result = index.search(_vector, k=k)"
   ]
  },
  {
   "cell_type": "markdown",
   "metadata": {},
   "source": [
    "### **8.4. Similarity Search Evaluation**"
   ]
  },
  {
   "cell_type": "code",
   "execution_count": 481,
   "metadata": {},
   "outputs": [],
   "source": [
    "ids_actual = search_result[1]\n",
    "ids_expected = df_sim_search_test['id_match']\n",
    "\n",
    "results = []\n",
    "for id_actual, id_expected in zip(ids_actual, ids_expected):\n",
    "  if id_expected in id_actual:\n",
    "    results.append(1)\n",
    "  else:\n",
    "    results.append(0)"
   ]
  },
  {
   "cell_type": "code",
   "execution_count": 482,
   "metadata": {},
   "outputs": [
    {
     "data": {
      "text/plain": [
       "0.21846070418716348"
      ]
     },
     "execution_count": 482,
     "metadata": {},
     "output_type": "execute_result"
    }
   ],
   "source": [
    "np.average(results)"
   ]
  }
 ],
 "metadata": {
  "kernelspec": {
   "display_name": "env_1",
   "language": "python",
   "name": "python3"
  },
  "language_info": {
   "codemirror_mode": {
    "name": "ipython",
    "version": 3
   },
   "file_extension": ".py",
   "mimetype": "text/x-python",
   "name": "python",
   "nbconvert_exporter": "python",
   "pygments_lexer": "ipython3",
   "version": "3.11.5"
  }
 },
 "nbformat": 4,
 "nbformat_minor": 2
}
