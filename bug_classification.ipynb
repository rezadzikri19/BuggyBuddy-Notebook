{
 "cells": [
  {
   "cell_type": "markdown",
   "metadata": {},
   "source": [
    "### **1. Import Dependencies**"
   ]
  },
  {
   "cell_type": "code",
   "execution_count": 88,
   "metadata": {},
   "outputs": [
    {
     "name": "stderr",
     "output_type": "stream",
     "text": [
      "[nltk_data] Downloading package stopwords to\n",
      "[nltk_data]     C:\\Users\\msi.pc\\AppData\\Roaming\\nltk_data...\n",
      "[nltk_data]   Package stopwords is already up-to-date!\n",
      "[nltk_data] Downloading package punkt to\n",
      "[nltk_data]     C:\\Users\\msi.pc\\AppData\\Roaming\\nltk_data...\n",
      "[nltk_data]   Package punkt is already up-to-date!\n"
     ]
    },
    {
     "data": {
      "text/plain": [
       "True"
      ]
     },
     "execution_count": 88,
     "metadata": {},
     "output_type": "execute_result"
    }
   ],
   "source": [
    "import pandas as pd\n",
    "import numpy as np\n",
    "\n",
    "from collections import Counter\n",
    "\n",
    "import gc\n",
    "import os\n",
    "import requests\n",
    "import json\n",
    "import re\n",
    "\n",
    "import concurrent.futures\n",
    "\n",
    "from urllib.parse import urlencode\n",
    "\n",
    "from typing import List, Dict, Optional, Union\n",
    "from glob import glob\n",
    "\n",
    "import joblib\n",
    "\n",
    "import matplotlib.pyplot as plt\n",
    "import seaborn as sns\n",
    "\n",
    "import nltk\n",
    "from nltk.tokenize import word_tokenize\n",
    "from nltk.corpus import stopwords\n",
    "\n",
    "from sklearn.preprocessing import StandardScaler, RobustScaler\n",
    "from sklearn.model_selection import train_test_split, StratifiedKFold\n",
    "from sklearn.impute import KNNImputer, SimpleImputer\n",
    "from sklearn.pipeline import Pipeline\n",
    "from sklearn.compose import ColumnTransformer\n",
    "from sklearn.ensemble import RandomForestClassifier\n",
    "from sklearn.metrics.pairwise import cosine_similarity\n",
    "from sklearn.preprocessing import normalize\n",
    "from sklearn.metrics import precision_score, recall_score, f1_score\n",
    "\n",
    "from sentence_transformers import SentenceTransformer\n",
    "from gensim.models import KeyedVectors \n",
    "\n",
    "import tensorflow as tf\n",
    "import tensorflow.keras as keras\n",
    "\n",
    "from keras.models import Model, load_model\n",
    "from keras.layers import Dense, LSTM, Bidirectional, Input, Reshape, Dot, GlobalAveragePooling1D\n",
    "from keras.callbacks import EarlyStopping\n",
    "\n",
    "import faiss\n",
    "\n",
    "from imblearn.over_sampling import RandomOverSampler\n",
    "\n",
    "nltk.download('stopwords')\n",
    "nltk.download('punkt')"
   ]
  },
  {
   "cell_type": "markdown",
   "metadata": {},
   "source": [
    "### **2. Settings**"
   ]
  },
  {
   "cell_type": "code",
   "execution_count": 2,
   "metadata": {},
   "outputs": [],
   "source": [
    "tf.random.set_seed(42)\n",
    "\n",
    "pd.set_option('display.max_rows', 100)\n",
    "pd.set_option('display.max_columns', 50)"
   ]
  },
  {
   "cell_type": "markdown",
   "metadata": {},
   "source": [
    "### **3. Load Data**"
   ]
  },
  {
   "cell_type": "markdown",
   "metadata": {},
   "source": [
    "Fetch the bug report data using [BugZilla API](https://bmo.readthedocs.io/en/latest/api/core/v1/bug.html#get-bug) then save it as json and Pandas.parquet."
   ]
  },
  {
   "cell_type": "code",
   "execution_count": 3,
   "metadata": {},
   "outputs": [],
   "source": [
    "def fetch_data(url: str, params=None):\n",
    "  try:\n",
    "    response = requests.get(url, params=params)\n",
    "    if (response.status_code == 200):\n",
    "      return response.json()\n",
    "    \n",
    "    print(f\"Error response with status code: {response.status_code}\")\n",
    "  except Exception as error:\n",
    "    print(f'Failed to fetch data: {error}')\n",
    "\n",
    "\n",
    "def urls_builder(base_url: str, n_fetch: int, limit: int, products: List[str], **kwargs):\n",
    "  urls = []\n",
    "  for product in products:\n",
    "    for i in range(n_fetch):\n",
    "      param = {'offset': i * limit, 'limit': limit, 'product': product, **kwargs}\n",
    "      full_url = base_url + '?' + urlencode(param)\n",
    "      urls.append(full_url)\n",
    "    \n",
    "  return urls\n",
    "\n",
    "\n",
    "def save_json(data, path: str):\n",
    "  with open(path, 'w') as json_file:\n",
    "    json.dump(data, json_file)\n",
    "\n",
    "\n",
    "def load_json(path: str):\n",
    "  with open(path, 'r') as json_file:\n",
    "    loaded_data = json.load(json_file)\n",
    "  return loaded_data"
   ]
  },
  {
   "cell_type": "code",
   "execution_count": 17,
   "metadata": {},
   "outputs": [],
   "source": [
    "# %%script skipped # Skipped \n",
    "\n",
    "selected_fields = ['id', 'duplicates', 'summary', 'description', 'status', 'resolution', 'platform', 'product', 'type', 'priority', 'severity', 'component']\n",
    "products = ['Firefox']\n",
    "\n",
    "base_params = {'include_fields': ', '.join(selected_fields)}\n",
    "saved_data_path = os.path.join('data', 'raw_data', 'firefox_raw_data.json')\n",
    "\n",
    "base_url = 'https://bugzilla.mozilla.org/rest/bug'\n",
    "n_fetch, limit = 50, 100\n",
    "\n",
    "if os.path.exists(saved_data_path):\n",
    "  response_data = load_json(saved_data_path)\n",
    "else:\n",
    "  urls = urls_builder(base_url, n_fetch, limit, products, **base_params)\n",
    "  response_data = []\n",
    "\n",
    "  max_workers = 50\n",
    "  with concurrent.futures.ThreadPoolExecutor(max_workers) as executor:\n",
    "    response_data = list(executor.map(fetch_data, urls))\n",
    "    \n",
    "  response_data = [item['bugs'] for item in response_data]\n",
    "  response_data = [item for sublist in response_data for item in sublist]\n",
    "  \n",
    "  save_json(response_data, saved_data_path)"
   ]
  },
  {
   "cell_type": "code",
   "execution_count": 18,
   "metadata": {},
   "outputs": [
    {
     "data": {
      "text/html": [
       "<div>\n",
       "<style scoped>\n",
       "    .dataframe tbody tr th:only-of-type {\n",
       "        vertical-align: middle;\n",
       "    }\n",
       "\n",
       "    .dataframe tbody tr th {\n",
       "        vertical-align: top;\n",
       "    }\n",
       "\n",
       "    .dataframe thead th {\n",
       "        text-align: right;\n",
       "    }\n",
       "</style>\n",
       "<table border=\"1\" class=\"dataframe\">\n",
       "  <thead>\n",
       "    <tr style=\"text-align: right;\">\n",
       "      <th></th>\n",
       "      <th>component</th>\n",
       "      <th>status</th>\n",
       "      <th>resolution</th>\n",
       "      <th>summary</th>\n",
       "      <th>description</th>\n",
       "      <th>product</th>\n",
       "      <th>duplicates</th>\n",
       "      <th>severity</th>\n",
       "      <th>priority</th>\n",
       "      <th>type</th>\n",
       "      <th>platform</th>\n",
       "    </tr>\n",
       "    <tr>\n",
       "      <th>id</th>\n",
       "      <th></th>\n",
       "      <th></th>\n",
       "      <th></th>\n",
       "      <th></th>\n",
       "      <th></th>\n",
       "      <th></th>\n",
       "      <th></th>\n",
       "      <th></th>\n",
       "      <th></th>\n",
       "      <th></th>\n",
       "      <th></th>\n",
       "    </tr>\n",
       "  </thead>\n",
       "  <tbody>\n",
       "    <tr>\n",
       "      <th>10954</th>\n",
       "      <td>Settings UI</td>\n",
       "      <td>RESOLVED</td>\n",
       "      <td>WONTFIX</td>\n",
       "      <td>Dialup properties needs to be exposed in prefs</td>\n",
       "      <td>The dialup properties of the profile should be...</td>\n",
       "      <td>Firefox</td>\n",
       "      <td>[]</td>\n",
       "      <td>normal</td>\n",
       "      <td>P3</td>\n",
       "      <td>enhancement</td>\n",
       "      <td>All</td>\n",
       "    </tr>\n",
       "    <tr>\n",
       "      <th>14871</th>\n",
       "      <td>General</td>\n",
       "      <td>RESOLVED</td>\n",
       "      <td>DUPLICATE</td>\n",
       "      <td>[Find] Find whole word only</td>\n",
       "      <td>Please add \"Match Whole Word Only\" option to b...</td>\n",
       "      <td>Firefox</td>\n",
       "      <td>[]</td>\n",
       "      <td>minor</td>\n",
       "      <td>--</td>\n",
       "      <td>defect</td>\n",
       "      <td>All</td>\n",
       "    </tr>\n",
       "    <tr>\n",
       "      <th>19118</th>\n",
       "      <td>Settings UI</td>\n",
       "      <td>RESOLVED</td>\n",
       "      <td>WONTFIX</td>\n",
       "      <td>Plug-In Manager (ui for choosing mimetype-plug...</td>\n",
       "      <td>I would really like a plug-in manager for my b...</td>\n",
       "      <td>Firefox</td>\n",
       "      <td>[32380, 57760, 64040, 66644, 95646, 96695, 106...</td>\n",
       "      <td>normal</td>\n",
       "      <td>--</td>\n",
       "      <td>enhancement</td>\n",
       "      <td>All</td>\n",
       "    </tr>\n",
       "    <tr>\n",
       "      <th>21482</th>\n",
       "      <td>File Handling</td>\n",
       "      <td>NEW</td>\n",
       "      <td></td>\n",
       "      <td>Improvement to Save File dialog: folder based ...</td>\n",
       "      <td>Perhaps this really should be in the standardi...</td>\n",
       "      <td>Firefox</td>\n",
       "      <td>[]</td>\n",
       "      <td>S3</td>\n",
       "      <td>P3</td>\n",
       "      <td>enhancement</td>\n",
       "      <td>All</td>\n",
       "    </tr>\n",
       "    <tr>\n",
       "      <th>23207</th>\n",
       "      <td>File Handling</td>\n",
       "      <td>NEW</td>\n",
       "      <td></td>\n",
       "      <td>Options in Save As (location of saved images, ...</td>\n",
       "      <td>Save as... feature should be extended in follo...</td>\n",
       "      <td>Firefox</td>\n",
       "      <td>[26366, 172317, 177285]</td>\n",
       "      <td>S3</td>\n",
       "      <td>P5</td>\n",
       "      <td>enhancement</td>\n",
       "      <td>Unspecified</td>\n",
       "    </tr>\n",
       "  </tbody>\n",
       "</table>\n",
       "</div>"
      ],
      "text/plain": [
       "           component    status resolution  \\\n",
       "id                                          \n",
       "10954    Settings UI  RESOLVED    WONTFIX   \n",
       "14871        General  RESOLVED  DUPLICATE   \n",
       "19118    Settings UI  RESOLVED    WONTFIX   \n",
       "21482  File Handling       NEW              \n",
       "23207  File Handling       NEW              \n",
       "\n",
       "                                                 summary  \\\n",
       "id                                                         \n",
       "10954     Dialup properties needs to be exposed in prefs   \n",
       "14871                        [Find] Find whole word only   \n",
       "19118  Plug-In Manager (ui for choosing mimetype-plug...   \n",
       "21482  Improvement to Save File dialog: folder based ...   \n",
       "23207  Options in Save As (location of saved images, ...   \n",
       "\n",
       "                                             description  product  \\\n",
       "id                                                                  \n",
       "10954  The dialup properties of the profile should be...  Firefox   \n",
       "14871  Please add \"Match Whole Word Only\" option to b...  Firefox   \n",
       "19118  I would really like a plug-in manager for my b...  Firefox   \n",
       "21482  Perhaps this really should be in the standardi...  Firefox   \n",
       "23207  Save as... feature should be extended in follo...  Firefox   \n",
       "\n",
       "                                              duplicates severity priority  \\\n",
       "id                                                                           \n",
       "10954                                                 []   normal       P3   \n",
       "14871                                                 []    minor       --   \n",
       "19118  [32380, 57760, 64040, 66644, 95646, 96695, 106...   normal       --   \n",
       "21482                                                 []       S3       P3   \n",
       "23207                            [26366, 172317, 177285]       S3       P5   \n",
       "\n",
       "              type     platform  \n",
       "id                               \n",
       "10954  enhancement          All  \n",
       "14871       defect          All  \n",
       "19118  enhancement          All  \n",
       "21482  enhancement          All  \n",
       "23207  enhancement  Unspecified  "
      ]
     },
     "execution_count": 18,
     "metadata": {},
     "output_type": "execute_result"
    }
   ],
   "source": [
    "raw_data_path = os.path.join('data', 'cache', 'raw_data.parquet')\n",
    "df = pd.DataFrame()\n",
    "\n",
    "if (os.path.exists(raw_data_path)):\n",
    "  df = pd.read_parquet(raw_data_path)\n",
    "else:\n",
    "  data_paths = glob(os.path.join('data', 'raw_data', 'firefox_raw_data.json'))\n",
    "\n",
    "  for path in data_paths:\n",
    "    data = load_json(path)\n",
    "    data = pd.DataFrame(data)\n",
    "    df = pd.concat([df, data])\n",
    "\n",
    "  df = df.set_index('id')\n",
    "  df.to_parquet(raw_data_path)\n",
    "\n",
    "df.head()"
   ]
  },
  {
   "cell_type": "code",
   "execution_count": 19,
   "metadata": {},
   "outputs": [
    {
     "data": {
      "text/plain": [
       "0"
      ]
     },
     "execution_count": 19,
     "metadata": {},
     "output_type": "execute_result"
    }
   ],
   "source": [
    "df = df.drop(['status', 'priority', 'resolution', 'severity', 'product', 'type'], axis=1)\n",
    "\n",
    "gc.collect()"
   ]
  },
  {
   "cell_type": "code",
   "execution_count": 20,
   "metadata": {},
   "outputs": [
    {
     "name": "stdout",
     "output_type": "stream",
     "text": [
      "<class 'pandas.core.frame.DataFrame'>\n",
      "Index: 210693 entries, 10954 to 1876223\n",
      "Data columns (total 5 columns):\n",
      " #   Column       Non-Null Count   Dtype \n",
      "---  ------       --------------   ----- \n",
      " 0   component    210693 non-null  object\n",
      " 1   summary      210693 non-null  object\n",
      " 2   description  210693 non-null  object\n",
      " 3   duplicates   210693 non-null  object\n",
      " 4   platform     210693 non-null  object\n",
      "dtypes: object(5)\n",
      "memory usage: 313.5 MB\n"
     ]
    }
   ],
   "source": [
    "df.info(memory_usage='deep')"
   ]
  },
  {
   "cell_type": "markdown",
   "metadata": {},
   "source": [
    "### **3. EDA**"
   ]
  },
  {
   "cell_type": "markdown",
   "metadata": {},
   "source": [
    "### **3.1. Missing Values**"
   ]
  },
  {
   "cell_type": "markdown",
   "metadata": {},
   "source": [
    "It seems there is no missing value"
   ]
  },
  {
   "cell_type": "code",
   "execution_count": 21,
   "metadata": {},
   "outputs": [
    {
     "data": {
      "text/plain": [
       "component      0\n",
       "summary        0\n",
       "description    0\n",
       "duplicates     0\n",
       "platform       0\n",
       "dtype: int64"
      ]
     },
     "execution_count": 21,
     "metadata": {},
     "output_type": "execute_result"
    }
   ],
   "source": [
    "df.isna().sum()"
   ]
  },
  {
   "cell_type": "markdown",
   "metadata": {},
   "source": [
    "### **3.2. Product**"
   ]
  },
  {
   "cell_type": "code",
   "execution_count": 13,
   "metadata": {},
   "outputs": [
    {
     "name": "stdout",
     "output_type": "stream",
     "text": [
      "Couldn't find program: 'skipped'\n"
     ]
    }
   ],
   "source": [
    "%%script skipped # Skipped\n",
    "\n",
    "df['product'].value_counts(ascending=False)"
   ]
  },
  {
   "cell_type": "markdown",
   "metadata": {},
   "source": [
    "### **3.3. Platform**"
   ]
  },
  {
   "cell_type": "code",
   "execution_count": 22,
   "metadata": {},
   "outputs": [
    {
     "data": {
      "text/plain": [
       "platform\n",
       "x86            84726\n",
       "Unspecified    57693\n",
       "All            35063\n",
       "x86_64         19720\n",
       "PowerPC         6528\n",
       "Desktop         5729\n",
       "Other            755\n",
       "ARM              192\n",
       "Sun              184\n",
       "ARM64             60\n",
       "HP                24\n",
       "DEC                7\n",
       "SGI                6\n",
       "RISCV64            4\n",
       "XScale             2\n",
       "Name: count, dtype: int64"
      ]
     },
     "execution_count": 22,
     "metadata": {},
     "output_type": "execute_result"
    }
   ],
   "source": [
    "df['platform'].value_counts(ascending=False)"
   ]
  },
  {
   "cell_type": "markdown",
   "metadata": {},
   "source": [
    "### **3.4. Type**"
   ]
  },
  {
   "cell_type": "code",
   "execution_count": 13,
   "metadata": {},
   "outputs": [
    {
     "name": "stdout",
     "output_type": "stream",
     "text": [
      "Couldn't find program: 'skipped'\n"
     ]
    }
   ],
   "source": [
    "%%script skipped # Skipped\n",
    "\n",
    "df['type'].value_counts(ascending=False)"
   ]
  },
  {
   "cell_type": "markdown",
   "metadata": {},
   "source": [
    "### **3.5. Duplicates**"
   ]
  },
  {
   "cell_type": "markdown",
   "metadata": {},
   "source": [
    "We see that there are 15k bug reports are considered duplicated by other reports"
   ]
  },
  {
   "cell_type": "code",
   "execution_count": 23,
   "metadata": {},
   "outputs": [
    {
     "data": {
      "text/plain": [
       "15140"
      ]
     },
     "execution_count": 23,
     "metadata": {},
     "output_type": "execute_result"
    }
   ],
   "source": [
    "duplicates = df['duplicates'].apply(lambda x: len(x)).sort_values(ascending=False)\n",
    "\n",
    "duplicated_bugs = duplicates[duplicates > 0]\n",
    "duplicated_bugs.count()"
   ]
  },
  {
   "cell_type": "markdown",
   "metadata": {},
   "source": [
    "### **4. Feature Engineering**"
   ]
  },
  {
   "cell_type": "markdown",
   "metadata": {},
   "source": [
    "### **4.1. Missing Values**"
   ]
  },
  {
   "cell_type": "code",
   "execution_count": 32,
   "metadata": {},
   "outputs": [
    {
     "name": "stdout",
     "output_type": "stream",
     "text": [
      "Couldn't find program: 'skipped'\n"
     ]
    }
   ],
   "source": [
    "%%script skipped # Skipped\n",
    "\n",
    "df.loc[df['type'] == '--', 'type'] = 'no type'"
   ]
  },
  {
   "cell_type": "markdown",
   "metadata": {},
   "source": [
    "### **4.2. Duplicates**"
   ]
  },
  {
   "cell_type": "code",
   "execution_count": 24,
   "metadata": {},
   "outputs": [],
   "source": [
    "df = df.loc[df.astype(str).drop_duplicates(keep='first').index]"
   ]
  },
  {
   "cell_type": "markdown",
   "metadata": {},
   "source": [
    "### **4.2. Duplicates**"
   ]
  },
  {
   "cell_type": "markdown",
   "metadata": {},
   "source": [
    "Currently we have data that has field called `'duplicates'` which is a list of report ids that considered has the same context. To make the data usable, add new feature called `'duplicates_to'` that inferred from `'duplicates'` field."
   ]
  },
  {
   "cell_type": "code",
   "execution_count": 25,
   "metadata": {},
   "outputs": [
    {
     "data": {
      "text/plain": [
       "id\n",
       "246078     [239385, 239561, 246164, 246674, 246958, 24697...\n",
       "247116     [247032, 254990, 255342, 256792, 257710, 25950...\n",
       "210910     [197227, 210933, 211542, 212349, 212382, 21269...\n",
       "69938      [79637, 87494, 105392, 107129, 116505, 121880,...\n",
       "245392     [245393, 245694, 246339, 246486, 247750, 24788...\n",
       "                                 ...                        \n",
       "733886                                              [615920]\n",
       "849859                                             [1235163]\n",
       "1860453                                            [1860454]\n",
       "875488                                              [886453]\n",
       "194923                                              [301718]\n",
       "Name: duplicates, Length: 15140, dtype: object"
      ]
     },
     "execution_count": 25,
     "metadata": {},
     "output_type": "execute_result"
    }
   ],
   "source": [
    "duplicated = df.loc[duplicated_bugs.index, 'duplicates']\n",
    "duplicated"
   ]
  },
  {
   "cell_type": "code",
   "execution_count": 26,
   "metadata": {},
   "outputs": [],
   "source": [
    "data_path = os.path.join('data', 'cache', 'duplicate_to_data.parquet')\n",
    "\n",
    "if (os.path.exists(data_path)):\n",
    "  df = pd.read_parquet(data_path)\n",
    "else:\n",
    "  df['duplicates_to'] = -1\n",
    "\n",
    "  for idx, dups in zip(duplicated.index, duplicated):\n",
    "    for item in dups:\n",
    "      df.loc[df.index == item, 'duplicates_to'] = idx\n",
    "      \n",
    "  df.to_parquet(data_path)"
   ]
  },
  {
   "cell_type": "code",
   "execution_count": 27,
   "metadata": {},
   "outputs": [],
   "source": [
    "df = df.drop(columns=['duplicates'])"
   ]
  },
  {
   "cell_type": "markdown",
   "metadata": {},
   "source": [
    "### **4.4. Combined Text**"
   ]
  },
  {
   "cell_type": "code",
   "execution_count": 28,
   "metadata": {},
   "outputs": [],
   "source": [
    "df['text'] = df['platform'] + ' ' + df['component'] + ' ' + df['summary']"
   ]
  },
  {
   "cell_type": "code",
   "execution_count": 29,
   "metadata": {},
   "outputs": [
    {
     "data": {
      "text/html": [
       "<div>\n",
       "<style scoped>\n",
       "    .dataframe tbody tr th:only-of-type {\n",
       "        vertical-align: middle;\n",
       "    }\n",
       "\n",
       "    .dataframe tbody tr th {\n",
       "        vertical-align: top;\n",
       "    }\n",
       "\n",
       "    .dataframe thead th {\n",
       "        text-align: right;\n",
       "    }\n",
       "</style>\n",
       "<table border=\"1\" class=\"dataframe\">\n",
       "  <thead>\n",
       "    <tr style=\"text-align: right;\">\n",
       "      <th></th>\n",
       "      <th>text</th>\n",
       "      <th>duplicates_to</th>\n",
       "    </tr>\n",
       "    <tr>\n",
       "      <th>id</th>\n",
       "      <th></th>\n",
       "      <th></th>\n",
       "    </tr>\n",
       "  </thead>\n",
       "  <tbody>\n",
       "    <tr>\n",
       "      <th>10954</th>\n",
       "      <td>All Settings UI Dialup properties needs to be ...</td>\n",
       "      <td>-1</td>\n",
       "    </tr>\n",
       "    <tr>\n",
       "      <th>14871</th>\n",
       "      <td>All General [Find] Find whole word only</td>\n",
       "      <td>-1</td>\n",
       "    </tr>\n",
       "    <tr>\n",
       "      <th>19118</th>\n",
       "      <td>All Settings UI Plug-In Manager (ui for choosi...</td>\n",
       "      <td>-1</td>\n",
       "    </tr>\n",
       "    <tr>\n",
       "      <th>21482</th>\n",
       "      <td>All File Handling Improvement to Save File dia...</td>\n",
       "      <td>-1</td>\n",
       "    </tr>\n",
       "    <tr>\n",
       "      <th>23207</th>\n",
       "      <td>Unspecified File Handling Options in Save As (...</td>\n",
       "      <td>-1</td>\n",
       "    </tr>\n",
       "  </tbody>\n",
       "</table>\n",
       "</div>"
      ],
      "text/plain": [
       "                                                    text  duplicates_to\n",
       "id                                                                     \n",
       "10954  All Settings UI Dialup properties needs to be ...             -1\n",
       "14871            All General [Find] Find whole word only             -1\n",
       "19118  All Settings UI Plug-In Manager (ui for choosi...             -1\n",
       "21482  All File Handling Improvement to Save File dia...             -1\n",
       "23207  Unspecified File Handling Options in Save As (...             -1"
      ]
     },
     "execution_count": 29,
     "metadata": {},
     "output_type": "execute_result"
    }
   ],
   "source": [
    "df = df[['text', 'duplicates_to']]\n",
    "\n",
    "df.head()"
   ]
  },
  {
   "cell_type": "markdown",
   "metadata": {},
   "source": [
    "### **4.3. Clean Sentences**"
   ]
  },
  {
   "cell_type": "markdown",
   "metadata": {},
   "source": [
    "Remove non-alphanumeric, newline, tab, return, single character, and multiple spaces. We also removing stopwords by utilizing stopwords provided by `nltk` library "
   ]
  },
  {
   "cell_type": "code",
   "execution_count": 30,
   "metadata": {},
   "outputs": [],
   "source": [
    "def remove_special_chars(text: str):\n",
    "  text = text.lower()\n",
    "  text = re.sub(r'\\n|\\t|\\r|\\0', ' ', text)\n",
    "  text = re.sub(r'[^a-zA-Z0-9\\s]', ' ', text)\n",
    "  text = re.sub(r'\\s{2,}', ' ', text)\n",
    "  text = re.sub(r'\\s$', '', text)\n",
    "  text = re.sub(r'\\s[b-z]\\s', ' ', text)\n",
    "  text = re.sub(r'\\s[b-z]\\s', ' ', text)\n",
    "  text = re.sub(r'\\s{2,}', ' ', text)\n",
    "  return text\n",
    "\n",
    "\n",
    "def remove_stopwords(text: str):\n",
    "  stop_words = set(stopwords.words('english'))\n",
    "  words = word_tokenize(text)\n",
    "  filtered_words = [word for word in words if word not in stop_words]\n",
    "  return ' '.join(filtered_words)\n",
    "\n",
    "\n",
    "def clean_text(text: str):\n",
    "  text = remove_special_chars(text)\n",
    "  text = remove_stopwords(text)\n",
    "  return text\n",
    "\n",
    "\n",
    "df['text'] = df['text'].apply(clean_text)"
   ]
  },
  {
   "cell_type": "markdown",
   "metadata": {},
   "source": [
    "### **4.5. Sentence Embedding**"
   ]
  },
  {
   "cell_type": "markdown",
   "metadata": {},
   "source": [
    "We use pretrained embedding model to vectorize the text, there are 2 methods that we try in this project, **Sentence Transformer (all-MiniLM-L6-v2)** and **Fasttext**."
   ]
  },
  {
   "cell_type": "markdown",
   "metadata": {},
   "source": [
    "### **4.5.1. Sentence Transformers**"
   ]
  },
  {
   "cell_type": "markdown",
   "metadata": {},
   "source": [
    "Based on the [all-MiniLM-L6-v2 page](https://huggingface.co/sentence-transformers/all-MiniLM-L6-v2), we know that all-MiniLM-L6-v2 use 384 dense vector to represent a sentence. This model intended to be used as a sentence and short paragraph encoder that limited to 256 word pieces (longer that that will be truncated) that means, *there are some text will not be able to vectorize with full context*."
   ]
  },
  {
   "cell_type": "code",
   "execution_count": 31,
   "metadata": {},
   "outputs": [],
   "source": [
    "# %%script skipped # Skipped\n",
    "sent_embd_model = SentenceTransformer('sentence-transformers/all-MiniLM-L6-v2')"
   ]
  },
  {
   "cell_type": "code",
   "execution_count": 37,
   "metadata": {},
   "outputs": [
    {
     "data": {
      "text/plain": [
       "8943"
      ]
     },
     "execution_count": 37,
     "metadata": {},
     "output_type": "execute_result"
    }
   ],
   "source": [
    "# %%script skipped # Skipped\n",
    "\n",
    "num_dim = 384\n",
    "embd_data_path = os.path.join('data', 'cache', 'sent_trans_embd_data.parquet')\n",
    "\n",
    "if (os.path.exists(embd_data_path)):\n",
    "  df = pd.read_parquet(embd_data_path)\n",
    "else:\n",
    "  df['text_embedded'] = df['text'].apply(sent_embd_model.encode)\n",
    "  df.to_parquet(embd_data_path)\n",
    "\n",
    "df['text_embedded'] = df['text_embedded'].apply(np.array)\n",
    "gc.collect()"
   ]
  },
  {
   "cell_type": "markdown",
   "metadata": {},
   "source": [
    "### **4.5.2. Fasttext**"
   ]
  },
  {
   "cell_type": "markdown",
   "metadata": {},
   "source": [
    "Basically `Fasttext` is used for word embedding, to get sentence vector, we simply use normalized average word vector among sentence. Normalization used because our objective is to determining similarity between texts/sentences. The advantages of using `Fasttext` besides it much faster, we also able to capture full context on every sentence because there is no sentence length limitation."
   ]
  },
  {
   "cell_type": "code",
   "execution_count": 17,
   "metadata": {},
   "outputs": [],
   "source": [
    "%%script skipped # Skipped\n",
    "\n",
    "model_path = os.path.join('pretrained_models', 'wiki-news-300d-1M-subword.vec')\n",
    "sent_embd_model = KeyedVectors.load_word2vec_format(model_path, binary=False)"
   ]
  },
  {
   "cell_type": "code",
   "execution_count": 18,
   "metadata": {},
   "outputs": [],
   "source": [
    "%%script skipped # Skipped\n",
    "\n",
    "def sentence_embedding(sentence, model):\n",
    "    words = word_tokenize(sentence)\n",
    "    words_in_vocab = [word for word in words if word in model]\n",
    "\n",
    "    if not words_in_vocab:\n",
    "        return None\n",
    "\n",
    "    embedding = np.mean([model[word] for word in words_in_vocab], axis=0)\n",
    "    embedding = normalize(embedding.reshape(1, -1), norm='l2').reshape(-1)\n",
    "\n",
    "    return embedding"
   ]
  },
  {
   "cell_type": "code",
   "execution_count": 167,
   "metadata": {},
   "outputs": [
    {
     "data": {
      "text/plain": [
       "20005"
      ]
     },
     "execution_count": 167,
     "metadata": {},
     "output_type": "execute_result"
    }
   ],
   "source": [
    "%%script skipped # Skipped\n",
    "\n",
    "num_dim = 300\n",
    "embd_data_path = os.path.join('data', 'cache', 'fasttext_embd_data.parquet')\n",
    "\n",
    "if (os.path.exists(embd_data_path)):\n",
    "  df = pd.read_parquet(embd_data_path)\n",
    "else:\n",
    "  df['text_embedded'] = df['text'].apply(sentence_embedding, model=sent_embd_model)\n",
    "  df.to_parquet(embd_data_path)\n",
    "\n",
    "df['text_embedded'] = df['text_embedded'].apply(np.array)\n",
    "gc.collect()"
   ]
  },
  {
   "cell_type": "code",
   "execution_count": 168,
   "metadata": {},
   "outputs": [
    {
     "name": "stdout",
     "output_type": "stream",
     "text": [
      "<class 'pandas.core.frame.DataFrame'>\n",
      "Index: 210693 entries, 10954 to 1876223\n",
      "Data columns (total 3 columns):\n",
      " #   Column         Non-Null Count   Dtype \n",
      "---  ------         --------------   ----- \n",
      " 0   text           210693 non-null  object\n",
      " 1   duplicates_to  210693 non-null  int64 \n",
      " 2   text_embedded  210693 non-null  object\n",
      "dtypes: int64(1), object(2)\n",
      "memory usage: 450.2 MB\n"
     ]
    }
   ],
   "source": [
    "df.info(memory_usage='deep')"
   ]
  },
  {
   "cell_type": "markdown",
   "metadata": {},
   "source": [
    "### **4.6. Sentence Pairs**"
   ]
  },
  {
   "cell_type": "markdown",
   "metadata": {},
   "source": [
    "We create sentence pairs and label them whether both unique or duplicated report"
   ]
  },
  {
   "cell_type": "code",
   "execution_count": 169,
   "metadata": {},
   "outputs": [],
   "source": [
    "df = df.reset_index()"
   ]
  },
  {
   "cell_type": "code",
   "execution_count": 170,
   "metadata": {},
   "outputs": [],
   "source": [
    "df_duplicates = df[df['duplicates_to'] != -1].copy()\n",
    "df_uniques = df[df['duplicates_to'] == -1].copy()"
   ]
  },
  {
   "cell_type": "code",
   "execution_count": 171,
   "metadata": {},
   "outputs": [
    {
     "data": {
      "text/html": [
       "<div>\n",
       "<style scoped>\n",
       "    .dataframe tbody tr th:only-of-type {\n",
       "        vertical-align: middle;\n",
       "    }\n",
       "\n",
       "    .dataframe tbody tr th {\n",
       "        vertical-align: top;\n",
       "    }\n",
       "\n",
       "    .dataframe thead th {\n",
       "        text-align: right;\n",
       "    }\n",
       "</style>\n",
       "<table border=\"1\" class=\"dataframe\">\n",
       "  <thead>\n",
       "    <tr style=\"text-align: right;\">\n",
       "      <th></th>\n",
       "      <th>id__left</th>\n",
       "      <th>text__left</th>\n",
       "      <th>text_embedded__left</th>\n",
       "      <th>id__right</th>\n",
       "      <th>text__right</th>\n",
       "      <th>text_embedded__right</th>\n",
       "      <th>label</th>\n",
       "    </tr>\n",
       "  </thead>\n",
       "  <tbody>\n",
       "    <tr>\n",
       "      <th>0</th>\n",
       "      <td>46407</td>\n",
       "      <td>enhancement  current url querried another app ...</td>\n",
       "      <td>[-0.0023696667, -0.035115827, 0.062171057, -0....</td>\n",
       "      <td>516502</td>\n",
       "      <td>defect  add applescript support getting curren...</td>\n",
       "      <td>[-0.00920859, 0.014499452, 0.032967843, 0.0078...</td>\n",
       "      <td>1</td>\n",
       "    </tr>\n",
       "    <tr>\n",
       "      <th>1</th>\n",
       "      <td>95091</td>\n",
       "      <td>defect x86 helper application lack mozilla 0 9...</td>\n",
       "      <td>[-0.03253318, 0.011125067, 0.031311132, 0.0223...</td>\n",
       "      <td>57420</td>\n",
       "      <td>defect  support helper app command line args u...</td>\n",
       "      <td>[-0.009637785, 0.00013978098, 0.023175225, 0.0...</td>\n",
       "      <td>1</td>\n",
       "    </tr>\n",
       "    <tr>\n",
       "      <th>2</th>\n",
       "      <td>134649</td>\n",
       "      <td>defect powerpc browser urlbar clickselectsall ...</td>\n",
       "      <td>[0.0023650862, 0.0038622504, 0.033161826, -0.0...</td>\n",
       "      <td>409810</td>\n",
       "      <td>defect powerpc clicking location bar selects w...</td>\n",
       "      <td>[6.14451e-05, 0.048469707, 0.022347407, 0.0010...</td>\n",
       "      <td>1</td>\n",
       "    </tr>\n",
       "    <tr>\n",
       "      <th>3</th>\n",
       "      <td>141706</td>\n",
       "      <td>defect  xx mail address specified href mailto ...</td>\n",
       "      <td>[0.038731467, -0.0014264551, 0.026019303, 0.00...</td>\n",
       "      <td>1781264</td>\n",
       "      <td>defect x86 64 encoded umlauts c3 bc passed dec...</td>\n",
       "      <td>[0.047269914, 0.007069105, 0.047301926, 0.0205...</td>\n",
       "      <td>1</td>\n",
       "    </tr>\n",
       "    <tr>\n",
       "      <th>4</th>\n",
       "      <td>153509</td>\n",
       "      <td>enhancement x86 allow search engines test defa...</td>\n",
       "      <td>[0.025153171, -0.014818188, 0.022563292, 0.007...</td>\n",
       "      <td>340604</td>\n",
       "      <td>enhancement  implement ie window external isse...</td>\n",
       "      <td>[0.0044474527, -0.0033140273, 0.032776866, -0....</td>\n",
       "      <td>1</td>\n",
       "    </tr>\n",
       "  </tbody>\n",
       "</table>\n",
       "</div>"
      ],
      "text/plain": [
       "   id__left                                         text__left  \\\n",
       "0     46407  enhancement  current url querried another app ...   \n",
       "1     95091  defect x86 helper application lack mozilla 0 9...   \n",
       "2    134649  defect powerpc browser urlbar clickselectsall ...   \n",
       "3    141706  defect  xx mail address specified href mailto ...   \n",
       "4    153509  enhancement x86 allow search engines test defa...   \n",
       "\n",
       "                                 text_embedded__left  id__right  \\\n",
       "0  [-0.0023696667, -0.035115827, 0.062171057, -0....     516502   \n",
       "1  [-0.03253318, 0.011125067, 0.031311132, 0.0223...      57420   \n",
       "2  [0.0023650862, 0.0038622504, 0.033161826, -0.0...     409810   \n",
       "3  [0.038731467, -0.0014264551, 0.026019303, 0.00...    1781264   \n",
       "4  [0.025153171, -0.014818188, 0.022563292, 0.007...     340604   \n",
       "\n",
       "                                         text__right  \\\n",
       "0  defect  add applescript support getting curren...   \n",
       "1  defect  support helper app command line args u...   \n",
       "2  defect powerpc clicking location bar selects w...   \n",
       "3  defect x86 64 encoded umlauts c3 bc passed dec...   \n",
       "4  enhancement  implement ie window external isse...   \n",
       "\n",
       "                                text_embedded__right  label  \n",
       "0  [-0.00920859, 0.014499452, 0.032967843, 0.0078...      1  \n",
       "1  [-0.009637785, 0.00013978098, 0.023175225, 0.0...      1  \n",
       "2  [6.14451e-05, 0.048469707, 0.022347407, 0.0010...      1  \n",
       "3  [0.047269914, 0.007069105, 0.047301926, 0.0205...      1  \n",
       "4  [0.0044474527, -0.0033140273, 0.032776866, -0....      1  "
      ]
     },
     "execution_count": 171,
     "metadata": {},
     "output_type": "execute_result"
    }
   ],
   "source": [
    "df_duplicates = pd.merge(left=df_duplicates,\n",
    "                        right=df_uniques,\n",
    "                        left_on='duplicates_to',\n",
    "                        right_on='id',\n",
    "                        suffixes=('__left', '__right'))\n",
    "df_duplicates = df_duplicates.drop(columns=['duplicates_to__left', 'duplicates_to__right'])\n",
    "df_duplicates['label'] = 1\n",
    "df_duplicates = df_duplicates.reset_index(drop=True)\n",
    "\n",
    "df_duplicates.head()"
   ]
  },
  {
   "cell_type": "code",
   "execution_count": 172,
   "metadata": {},
   "outputs": [
    {
     "data": {
      "text/html": [
       "<div>\n",
       "<style scoped>\n",
       "    .dataframe tbody tr th:only-of-type {\n",
       "        vertical-align: middle;\n",
       "    }\n",
       "\n",
       "    .dataframe tbody tr th {\n",
       "        vertical-align: top;\n",
       "    }\n",
       "\n",
       "    .dataframe thead th {\n",
       "        text-align: right;\n",
       "    }\n",
       "</style>\n",
       "<table border=\"1\" class=\"dataframe\">\n",
       "  <thead>\n",
       "    <tr style=\"text-align: right;\">\n",
       "      <th></th>\n",
       "      <th>text_embedded__left</th>\n",
       "      <th>text__left</th>\n",
       "      <th>id__left</th>\n",
       "      <th>text_embedded__right</th>\n",
       "      <th>text__right</th>\n",
       "      <th>id__right</th>\n",
       "      <th>label</th>\n",
       "    </tr>\n",
       "  </thead>\n",
       "  <tbody>\n",
       "    <tr>\n",
       "      <th>0</th>\n",
       "      <td>[0.0064705536, 0.045026768, 0.014774143, 0.009...</td>\n",
       "      <td>defect x86 search without dialog new search di...</td>\n",
       "      <td>264962</td>\n",
       "      <td>[0.015322351, 0.039216094, 0.018340139, 0.0095...</td>\n",
       "      <td>defect x86 getelementsbytagname confused short...</td>\n",
       "      <td>293692.0</td>\n",
       "      <td>0</td>\n",
       "    </tr>\n",
       "    <tr>\n",
       "      <th>1</th>\n",
       "      <td>[0.0075292224, 0.022191392, 0.05013739, 0.0050...</td>\n",
       "      <td>defect unspecified colour updates needed new t...</td>\n",
       "      <td>1451474</td>\n",
       "      <td>[0.0064705536, 0.045026768, 0.014774143, 0.009...</td>\n",
       "      <td>defect x86 search without dialog new search di...</td>\n",
       "      <td>264962.0</td>\n",
       "      <td>0</td>\n",
       "    </tr>\n",
       "    <tr>\n",
       "      <th>2</th>\n",
       "      <td>[0.0017332855, 0.017958546, 0.028890675, 0.011...</td>\n",
       "      <td>defect x86 64 one word urlbar searches incredi...</td>\n",
       "      <td>972452</td>\n",
       "      <td>[0.0075292224, 0.022191392, 0.05013739, 0.0050...</td>\n",
       "      <td>defect unspecified colour updates needed new t...</td>\n",
       "      <td>1451474.0</td>\n",
       "      <td>0</td>\n",
       "    </tr>\n",
       "    <tr>\n",
       "      <th>3</th>\n",
       "      <td>[-0.0018321006, -0.034610473, 0.020652002, -0....</td>\n",
       "      <td>defect x86 firefox installer handle directory ...</td>\n",
       "      <td>341797</td>\n",
       "      <td>[0.0017332855, 0.017958546, 0.028890675, 0.011...</td>\n",
       "      <td>defect x86 64 one word urlbar searches incredi...</td>\n",
       "      <td>972452.0</td>\n",
       "      <td>0</td>\n",
       "    </tr>\n",
       "    <tr>\n",
       "      <th>4</th>\n",
       "      <td>[0.0012329025, 0.0037409784, 0.01816242, 0.001...</td>\n",
       "      <td>defect x86 firefox 18 0b1 b2 segmentation faul...</td>\n",
       "      <td>817482</td>\n",
       "      <td>[-0.0018321006, -0.034610473, 0.020652002, -0....</td>\n",
       "      <td>defect x86 firefox installer handle directory ...</td>\n",
       "      <td>341797.0</td>\n",
       "      <td>0</td>\n",
       "    </tr>\n",
       "  </tbody>\n",
       "</table>\n",
       "</div>"
      ],
      "text/plain": [
       "                                 text_embedded__left  \\\n",
       "0  [0.0064705536, 0.045026768, 0.014774143, 0.009...   \n",
       "1  [0.0075292224, 0.022191392, 0.05013739, 0.0050...   \n",
       "2  [0.0017332855, 0.017958546, 0.028890675, 0.011...   \n",
       "3  [-0.0018321006, -0.034610473, 0.020652002, -0....   \n",
       "4  [0.0012329025, 0.0037409784, 0.01816242, 0.001...   \n",
       "\n",
       "                                          text__left  id__left  \\\n",
       "0  defect x86 search without dialog new search di...    264962   \n",
       "1  defect unspecified colour updates needed new t...   1451474   \n",
       "2  defect x86 64 one word urlbar searches incredi...    972452   \n",
       "3  defect x86 firefox installer handle directory ...    341797   \n",
       "4  defect x86 firefox 18 0b1 b2 segmentation faul...    817482   \n",
       "\n",
       "                                text_embedded__right  \\\n",
       "0  [0.015322351, 0.039216094, 0.018340139, 0.0095...   \n",
       "1  [0.0064705536, 0.045026768, 0.014774143, 0.009...   \n",
       "2  [0.0075292224, 0.022191392, 0.05013739, 0.0050...   \n",
       "3  [0.0017332855, 0.017958546, 0.028890675, 0.011...   \n",
       "4  [-0.0018321006, -0.034610473, 0.020652002, -0....   \n",
       "\n",
       "                                         text__right  id__right  label  \n",
       "0  defect x86 getelementsbytagname confused short...   293692.0      0  \n",
       "1  defect x86 search without dialog new search di...   264962.0      0  \n",
       "2  defect unspecified colour updates needed new t...  1451474.0      0  \n",
       "3  defect x86 64 one word urlbar searches incredi...   972452.0      0  \n",
       "4  defect x86 firefox installer handle directory ...   341797.0      0  "
      ]
     },
     "execution_count": 172,
     "metadata": {},
     "output_type": "execute_result"
    }
   ],
   "source": [
    "half_rows = df_uniques.shape[0] // 2\n",
    "df_uniques = df_uniques.sample(frac=1, replace=False, random_state=42)\n",
    "\n",
    "df_uniques_temp = pd.DataFrame()\n",
    "df_uniques_temp['text_embedded__left'] = df_uniques['text_embedded']\n",
    "df_uniques_temp['text__left'] = df_uniques['text']\n",
    "df_uniques_temp['id__left'] = df_uniques['id']\n",
    "\n",
    "df_uniques_temp['text_embedded__right'] = df_uniques['text_embedded'].shift(1)\n",
    "df_uniques_temp['text__right'] = df_uniques['text'].shift(1)\n",
    "df_uniques_temp['id__right'] = df_uniques['id'].shift(1)\n",
    "\n",
    "df_uniques_temp = df_uniques_temp.dropna()\n",
    "df_uniques_temp['label'] = 0\n",
    "\n",
    "df_uniques = df_uniques_temp.reset_index(drop=True)\n",
    "\n",
    "del df_uniques_temp\n",
    "gc.collect()\n",
    "\n",
    "df_uniques.head()"
   ]
  },
  {
   "cell_type": "code",
   "execution_count": 173,
   "metadata": {},
   "outputs": [
    {
     "data": {
      "text/plain": [
       "0"
      ]
     },
     "execution_count": 173,
     "metadata": {},
     "output_type": "execute_result"
    }
   ],
   "source": [
    "df = pd.concat([df_duplicates, df_uniques], axis=0).sample(frac=1, replace=False, random_state=42).reset_index(drop=True)\n",
    "gc.collect()"
   ]
  },
  {
   "cell_type": "markdown",
   "metadata": {},
   "source": [
    "### **5. Data Split**"
   ]
  },
  {
   "cell_type": "markdown",
   "metadata": {},
   "source": [
    "### **5.1. Train Test Split**"
   ]
  },
  {
   "cell_type": "code",
   "execution_count": 213,
   "metadata": {},
   "outputs": [
    {
     "name": "stdout",
     "output_type": "stream",
     "text": [
      "Shape of X_train: (146384, 2)\n",
      "Shape of X_test: (62737, 2)\n",
      "Shape of y_train: (146384,)\n",
      "Shape of y_test: (62737,)\n"
     ]
    }
   ],
   "source": [
    "X, X_test, y, y_test = train_test_split(df[['text_embedded__left', 'text_embedded__right']],\n",
    "                                        df['label'],\n",
    "                                        shuffle=True,\n",
    "                                        stratify=df['label'],\n",
    "                                        test_size=0.3,\n",
    "                                        random_state=42)\n",
    "\n",
    "print(f'Shape of X_train: {X.shape}')\n",
    "print(f'Shape of X_test: {X_test.shape}')\n",
    "print(f'Shape of y_train: {y.shape}')\n",
    "print(f'Shape of y_test: {y_test.shape}')"
   ]
  },
  {
   "cell_type": "code",
   "execution_count": 214,
   "metadata": {},
   "outputs": [
    {
     "name": "stdout",
     "output_type": "stream",
     "text": [
      "Resampled train dataset target shape: Counter({0: 128312, 1: 18072})\n",
      "Resampled test dataset target shape: Counter({0: 54992, 1: 7745})\n"
     ]
    }
   ],
   "source": [
    "print(f'Resampled train dataset target shape: {Counter(y)}')\n",
    "print(f'Resampled test dataset target shape: {Counter(y_test)}')"
   ]
  },
  {
   "cell_type": "markdown",
   "metadata": {},
   "source": [
    "### **5.2. Oversampling**"
   ]
  },
  {
   "cell_type": "code",
   "execution_count": 215,
   "metadata": {},
   "outputs": [
    {
     "name": "stdout",
     "output_type": "stream",
     "text": [
      "Resampled dataset target shape: Counter({0: 128312, 1: 128312})\n"
     ]
    }
   ],
   "source": [
    "resampler = RandomOverSampler(random_state=42)\n",
    "X, y = resampler.fit_resample(X, y)\n",
    "\n",
    "print(f'Resampled dataset target shape: {Counter(y)}')"
   ]
  },
  {
   "cell_type": "markdown",
   "metadata": {},
   "source": [
    "### **5.2. Data Fold**"
   ]
  },
  {
   "cell_type": "markdown",
   "metadata": {},
   "source": [
    "Using 5 stratified fold"
   ]
  },
  {
   "cell_type": "code",
   "execution_count": 216,
   "metadata": {},
   "outputs": [],
   "source": [
    "n_splits = 5\n",
    "skf = StratifiedKFold(n_splits=n_splits, shuffle=True, random_state=42)"
   ]
  },
  {
   "cell_type": "markdown",
   "metadata": {},
   "source": [
    "### **6. Model Preparation**"
   ]
  },
  {
   "cell_type": "markdown",
   "metadata": {},
   "source": [
    "We build 2 model, first is using dense layer with linear activation and the second is using LSTM"
   ]
  },
  {
   "cell_type": "markdown",
   "metadata": {},
   "source": [
    "### **6.1. Dense Embedding**"
   ]
  },
  {
   "cell_type": "markdown",
   "metadata": {},
   "source": [
    "The model constructed using 2 inputs, a fully connected layer (acting as latent layer), a similarity layer (using normalized dot product), then last layer is a fully connected with sigmoid activation."
   ]
  },
  {
   "cell_type": "code",
   "execution_count": 217,
   "metadata": {},
   "outputs": [
    {
     "name": "stdout",
     "output_type": "stream",
     "text": [
      "Model: \"training_model\"\n",
      "__________________________________________________________________________________________________\n",
      " Layer (type)                Output Shape                 Param #   Connected to                  \n",
      "==================================================================================================\n",
      " input_1 (InputLayer)        [(None, 300)]                0         []                            \n",
      "                                                                                                  \n",
      " input_2 (InputLayer)        [(None, 300)]                0         []                            \n",
      "                                                                                                  \n",
      " shared_node_1 (Dense)       (None, 256)                  77056     ['input_1[0][0]',             \n",
      "                                                                     'input_2[0][0]']             \n",
      "                                                                                                  \n",
      " cosine_similarity (Dot)     (None, 1)                    0         ['shared_node_1[0][0]',       \n",
      "                                                                     'shared_node_1[1][0]']       \n",
      "                                                                                                  \n",
      " output (Dense)              (None, 1)                    2         ['cosine_similarity[0][0]']   \n",
      "                                                                                                  \n",
      "==================================================================================================\n",
      "Total params: 77058 (301.01 KB)\n",
      "Trainable params: 77058 (301.01 KB)\n",
      "Non-trainable params: 0 (0.00 Byte)\n",
      "__________________________________________________________________________________________________\n"
     ]
    }
   ],
   "source": [
    "# %%script skipped # Skipped\n",
    "\n",
    "input_1 = Input(shape=(num_dim, ), name='input_1')\n",
    "input_2 = Input(shape=(num_dim, ), name='input_2')\n",
    "\n",
    "shared_node_1 = Dense(256, activation='linear', name='shared_node_1')\n",
    "\n",
    "x1 = shared_node_1(input_1)\n",
    "x2 = shared_node_1(input_2)\n",
    "\n",
    "cosine_similarity_layer = Dot(axes=-1, normalize=True, name='cosine_similarity')([x1, x2])\n",
    "output_layer = Dense(1, activation='sigmoid', name='output')(cosine_similarity_layer)\n",
    "\n",
    "training_model = Model(inputs=[input_1, input_2], outputs=output_layer, name='training_model')\n",
    "\n",
    "optimizer = keras.optimizers.Adam(learning_rate=0.002)\n",
    "loss = keras.losses.BinaryCrossentropy(from_logits=False)\n",
    "metrics=[\n",
    "    keras.metrics.Precision(name='precision'),\n",
    "    keras.metrics.Recall(name='recall')\n",
    "  ]\n",
    "\n",
    "training_model.compile(\n",
    "  loss=loss,\n",
    "  optimizer=optimizer,\n",
    "  metrics=metrics)\n",
    "\n",
    "training_model.summary()"
   ]
  },
  {
   "cell_type": "markdown",
   "metadata": {},
   "source": [
    "### **6.2. LSTM Embedding**"
   ]
  },
  {
   "cell_type": "markdown",
   "metadata": {},
   "source": [
    "The model constructed using 2 inputs, an LSTM layer (return  a sequence that acting as latent layer), a 1D global average pooling layer, a similarity layer (using normalized dot product), then last layer is a fully connected with sigmoid activation."
   ]
  },
  {
   "cell_type": "code",
   "execution_count": 218,
   "metadata": {},
   "outputs": [
    {
     "name": "stdout",
     "output_type": "stream",
     "text": [
      "Couldn't find program: 'skipped'\n"
     ]
    }
   ],
   "source": [
    "%%script skipped # Skipped\n",
    "\n",
    "input_1 = Input(shape=(num_dim, ), name='input_1')\n",
    "input_2 = Input(shape=(num_dim, ), name='input_2')\n",
    "\n",
    "reshape_node = Reshape((1, num_dim), input_shape=(num_dim, ), name='reshape_node_1')\n",
    "\n",
    "shared_node_1 = Bidirectional(LSTM(256, return_sequences=True, input_shape=(1, num_dim)), name='shared_node_1')\n",
    "shared_node_2 = GlobalAveragePooling1D(name='shared_node_2')\n",
    "\n",
    "x1 = reshape_node(input_1)\n",
    "x1 = shared_node_1(x1)\n",
    "x1 = shared_node_2(x1)\n",
    "\n",
    "x2 = reshape_node(input_2)\n",
    "x2 = shared_node_1(x2)\n",
    "x2 = shared_node_2(x2)\n",
    "\n",
    "cosine_similarity_layer = Dot(axes=-1, normalize=True, name='cosine_similarity')([x1, x2])\n",
    "output_layer = Dense(1, activation='sigmoid', name='output')(cosine_similarity_layer)\n",
    "\n",
    "training_model = Model(inputs=[input_1, input_2], outputs=output_layer, name='training_model')\n",
    "\n",
    "optimizer = keras.optimizers.Adam(learning_rate=0.002)\n",
    "loss = keras.losses.BinaryCrossentropy(from_logits=False)\n",
    "metrics=[\n",
    "    keras.metrics.Precision(name='precision'),\n",
    "    keras.metrics.Recall(name='recall')\n",
    "  ]\n",
    "\n",
    "training_model.compile(\n",
    "  loss=loss,\n",
    "  optimizer=optimizer,\n",
    "  metrics=metrics)\n",
    "\n",
    "training_model.summary()"
   ]
  },
  {
   "cell_type": "markdown",
   "metadata": {},
   "source": [
    "### **7. Model Training**"
   ]
  },
  {
   "cell_type": "markdown",
   "metadata": {},
   "source": [
    "### **7.1. Traning Preparation**"
   ]
  },
  {
   "cell_type": "code",
   "execution_count": 219,
   "metadata": {},
   "outputs": [
    {
     "data": {
      "text/plain": [
       "7136"
      ]
     },
     "execution_count": 219,
     "metadata": {},
     "output_type": "execute_result"
    }
   ],
   "source": [
    "tf.random.set_seed(42)\n",
    "gc.collect()"
   ]
  },
  {
   "cell_type": "code",
   "execution_count": 220,
   "metadata": {},
   "outputs": [],
   "source": [
    "def train_model(X_train, X_valid, y_train, y_valid, batch_size, epochs, callbacks=None, verbose='auto'):\n",
    "  history = training_model.fit(\n",
    "    X_train,\n",
    "    y_train,\n",
    "    epochs=epochs,\n",
    "    batch_size=batch_size,\n",
    "    validation_data=(X_valid, y_valid),\n",
    "    callbacks=[*callbacks],\n",
    "    verbose=verbose)\n",
    "    \n",
    "  train_score = training_model.evaluate(X_train, y_train, verbose=verbose)[1:]\n",
    "  valid_score = training_model.evaluate(X_valid, y_valid, verbose=verbose)[1:]\n",
    "  \n",
    "  return [train_score, valid_score, history]"
   ]
  },
  {
   "cell_type": "markdown",
   "metadata": {},
   "source": [
    "### **7.2. Model Training**"
   ]
  },
  {
   "cell_type": "code",
   "execution_count": 221,
   "metadata": {},
   "outputs": [
    {
     "name": "stdout",
     "output_type": "stream",
     "text": [
      "fold-1: train - precision = 0.9734103083610535, recall = 0.9793180823326111\n",
      "fold-1: valid - precision = 0.959670901298523, recall = 0.9727222919464111\n",
      "----------------------------------------------------------------------------------------------------\n",
      "fold-2: train - precision = 0.9851445555686951, recall = 0.9897223711013794\n",
      "fold-2: valid - precision = 0.9737945795059204, recall = 0.9861273765563965\n",
      "----------------------------------------------------------------------------------------------------\n",
      "fold-3: train - precision = 0.9758195281028748, recall = 0.9860008358955383\n",
      "fold-3: valid - precision = 0.9658178687095642, recall = 0.984296441078186\n",
      "----------------------------------------------------------------------------------------------------\n",
      "fold-4: train - precision = 0.9909331202507019, recall = 0.9944373369216919\n",
      "fold-4: valid - precision = 0.9804752469062805, recall = 0.9920898079872131\n",
      "----------------------------------------------------------------------------------------------------\n",
      "fold-5: train - precision = 0.9927096962928772, recall = 0.9975547790527344\n",
      "fold-5: valid - precision = 0.9841410517692566, recall = 0.9962980151176453\n",
      "----------------------------------------------------------------------------------------------------\n",
      "average_score: train - precision = 0.9836034417152405, recall = 0.989406681060791\n",
      "average_score: valid - precision = 0.9727799296379089, recall = 0.9863067865371704\n"
     ]
    }
   ],
   "source": [
    "epochs = 30\n",
    "batch_size = 64\n",
    "\n",
    "train_scores = []\n",
    "valid_scores = []\n",
    "histories = []\n",
    "\n",
    "for fold, (train_idx, valid_idx) in enumerate(skf.split(X, y)):\n",
    "    X_train, X_valid = X.iloc[train_idx], X.iloc[valid_idx]\n",
    "    y_train, y_valid = y.iloc[train_idx], y.iloc[valid_idx]\n",
    "\n",
    "    X_train_inputs = [np.vstack(X_train['text_embedded__left']), np.vstack(X_train['text_embedded__right'])]\n",
    "    X_valid_inputs = [np.vstack(X_valid['text_embedded__left']), np.vstack(X_valid['text_embedded__right'])]\n",
    "    \n",
    "    early_stopping = EarlyStopping(monitor='loss', patience=5, restore_best_weights=True)\n",
    "    \n",
    "    train_score, valid_score, history = train_model(\n",
    "        X_train_inputs,\n",
    "        X_valid_inputs,\n",
    "        y_train,\n",
    "        y_valid,\n",
    "        batch_size=batch_size,\n",
    "        epochs=epochs,\n",
    "        callbacks=[early_stopping],\n",
    "        verbose=0)\n",
    "    \n",
    "    print(f'fold-{fold + 1}: train - precision = {train_score[0]}, recall = {train_score[1]}')\n",
    "    print(f'fold-{fold + 1}: valid - precision = {valid_score[0]}, recall = {valid_score[1]}')\n",
    "    print('-' * 100)\n",
    "    \n",
    "    train_scores.append(train_score)\n",
    "    valid_scores.append(valid_score)\n",
    "    histories.append(history.history)\n",
    "    \n",
    "train_scores_avg = np.mean(train_scores, axis=0)\n",
    "valid_scores_avg = np.mean(valid_scores, axis=0)\n",
    "\n",
    "print(f'average_score: train - precision = {train_scores_avg[0]}, recall = {train_scores_avg[1]}')\n",
    "print(f'average_score: valid - precision = {valid_scores_avg[0]}, recall = {valid_scores_avg[1]}')"
   ]
  },
  {
   "cell_type": "markdown",
   "metadata": {},
   "source": [
    "### **7.3. Save/Load Model**"
   ]
  },
  {
   "cell_type": "code",
   "execution_count": 222,
   "metadata": {},
   "outputs": [
    {
     "name": "stderr",
     "output_type": "stream",
     "text": [
      "d:\\Project\\Python\\End to End Projects\\Bug Classification\\Notebook\\venv\\Lib\\site-packages\\keras\\src\\engine\\training.py:3103: UserWarning: You are saving your model as an HDF5 file via `model.save()`. This file format is considered legacy. We recommend using instead the native Keras format, e.g. `model.save('my_model.keras')`.\n",
      "  saving_api.save_model(\n"
     ]
    }
   ],
   "source": [
    "# %%script skipped # Skipped\n",
    "\n",
    "MODE = 'load'\n",
    "\n",
    "saved_model_path = os.path.join('models', 'model_dense_fasttext.h5')\n",
    "saved_train_data_path = os.path.join('models', 'model_dense_fasttext.json')\n",
    "\n",
    "if MODE == 'save':\n",
    "  training_model.save(saved_model_path)\n",
    "  save_json(histories ,saved_train_data_path)\n",
    "elif MODE == 'load':\n",
    "  training_model = load_model(saved_model_path)\n",
    "  histories = load_json(saved_train_data_path)"
   ]
  },
  {
   "cell_type": "markdown",
   "metadata": {},
   "source": [
    "### **7.4. Model Training Evaluation**"
   ]
  },
  {
   "cell_type": "code",
   "execution_count": 223,
   "metadata": {},
   "outputs": [
    {
     "data": {
      "image/png": "[encoded data removed]",
      "text/plain": [
       "<Figure size 1000x500 with 2 Axes>"
      ]
     },
     "metadata": {},
     "output_type": "display_data"
    }
   ],
   "source": [
    "valid_precision_score = [item for history in histories for item in history['val_precision']]\n",
    "train_precision_score = [item for history in histories for item in history['precision']]\n",
    "valid_recall_score = [item for history in histories for item in history['val_recall']]\n",
    "train_recall_score = [item for history in histories for item in history['recall']]\n",
    "\n",
    "fig, axes = plt.subplots(1, 2, figsize=(10, 5), sharey=True)\n",
    "\n",
    "axes[0].plot(valid_precision_score, label='valid')\n",
    "axes[0].plot(train_precision_score, label='train')\n",
    "axes[0].set_title('Precision Score')\n",
    "axes[0].set_xlabel('epoch')\n",
    "axes[0].set_ylabel('score')\n",
    "axes[0].legend()\n",
    "axes[0].grid()\n",
    "\n",
    "axes[1].plot(valid_recall_score, label='valid')\n",
    "axes[1].plot(train_recall_score, label='train')\n",
    "axes[1].set_title('Recall Score')\n",
    "axes[1].set_xlabel('epoch')\n",
    "axes[1].set_ylabel('score')\n",
    "axes[1].legend()\n",
    "axes[1].grid()\n",
    "\n",
    "plt.tight_layout()\n",
    "plt.show()"
   ]
  },
  {
   "cell_type": "markdown",
   "metadata": {},
   "source": [
    "### **7.5. Embedding Model Preparation**"
   ]
  },
  {
   "cell_type": "markdown",
   "metadata": {},
   "source": [
    "### **7.5.1. Get Dense Embedding Model**"
   ]
  },
  {
   "cell_type": "code",
   "execution_count": 225,
   "metadata": {},
   "outputs": [
    {
     "name": "stdout",
     "output_type": "stream",
     "text": [
      "Model: \"embd_inference_model\"\n",
      "_________________________________________________________________\n",
      " Layer (type)                Output Shape              Param #   \n",
      "=================================================================\n",
      " input (InputLayer)          [(None, 300)]             0         \n",
      "                                                                 \n",
      " shared_node_1 (Dense)       (None, 256)               77056     \n",
      "                                                                 \n",
      "=================================================================\n",
      "Total params: 77056 (301.00 KB)\n",
      "Trainable params: 77056 (301.00 KB)\n",
      "Non-trainable params: 0 (0.00 Byte)\n",
      "_________________________________________________________________\n"
     ]
    }
   ],
   "source": [
    "embd_input = Input(shape=(num_dim, ), name='input')\n",
    "embd_output = training_model.get_layer('shared_node_1')(embd_input)\n",
    "\n",
    "embd_model = Model(inputs=embd_input, outputs=embd_output, name='embd_inference_model')\n",
    "embd_model.summary()"
   ]
  },
  {
   "cell_type": "markdown",
   "metadata": {},
   "source": [
    "### **7.5.2. Get LSTM Embedding Model**"
   ]
  },
  {
   "cell_type": "code",
   "execution_count": 226,
   "metadata": {},
   "outputs": [
    {
     "name": "stdout",
     "output_type": "stream",
     "text": [
      "Couldn't find program: 'skipped'\n"
     ]
    }
   ],
   "source": [
    "%%script skipped # Skipped\n",
    "\n",
    "embd_input = Input(shape=(num_dim, ), name='input')\n",
    "embd_x = training_model.get_layer('reshape_node_1')(embd_input)\n",
    "embd_x = training_model.get_layer('shared_node_1')(embd_x)\n",
    "embd_x = training_model.get_layer('shared_node_2')(embd_x)\n",
    "embd_output = training_model.get_layer('shared_node_3')(embd_x)\n",
    "\n",
    "embd_model = Model(inputs=embd_input, outputs=embd_output, name='embd_inference_model')\n",
    "embd_model.summary()"
   ]
  },
  {
   "cell_type": "markdown",
   "metadata": {},
   "source": [
    "### **7.6. Embedding Model Evaluation**"
   ]
  },
  {
   "cell_type": "code",
   "execution_count": 227,
   "metadata": {},
   "outputs": [],
   "source": [
    "def custom_cosine_similarity(text_1: np.ndarray, text_2: np.ndarray):\n",
    "    dot_product = np.dot(text_1, text_2)\n",
    "    norm_text_1 = np.linalg.norm(text_1)\n",
    "    norm_text_2 = np.linalg.norm(text_2)\n",
    "    \n",
    "    similarity = dot_product / (norm_text_1 * norm_text_2)\n",
    "    return similarity"
   ]
  },
  {
   "cell_type": "code",
   "execution_count": 228,
   "metadata": {},
   "outputs": [
    {
     "name": "stdout",
     "output_type": "stream",
     "text": [
      "1961/1961 [==============================] - 2s 998us/step\n",
      "1961/1961 [==============================] - 2s 926us/step\n"
     ]
    }
   ],
   "source": [
    "embd_test_left = embd_model.predict(np.vstack(X_test['text_embedded__left']))\n",
    "embd_test_right = embd_model.predict(np.vstack(X_test['text_embedded__right']))\n",
    "\n",
    "embd_similarity = np.array([custom_cosine_similarity(embd_1, embd_2) for embd_1, embd_2 in zip(embd_test_left, embd_test_right)])"
   ]
  },
  {
   "cell_type": "code",
   "execution_count": 229,
   "metadata": {},
   "outputs": [],
   "source": [
    "def evaluate_model(similarity_scores: np.ndarray, threshold: float):\n",
    "  embd_binary_similarity = (similarity_scores > threshold).astype(int)\n",
    "\n",
    "  precision = precision_score(y_test, embd_binary_similarity)\n",
    "  recall = recall_score(y_test, embd_binary_similarity)\n",
    "  f1 = f1_score(y_test, embd_binary_similarity)\n",
    "  \n",
    "  return [precision, recall, f1]"
   ]
  },
  {
   "cell_type": "code",
   "execution_count": 230,
   "metadata": {},
   "outputs": [
    {
     "data": {
      "text/html": [
       "<div>\n",
       "<style scoped>\n",
       "    .dataframe tbody tr th:only-of-type {\n",
       "        vertical-align: middle;\n",
       "    }\n",
       "\n",
       "    .dataframe tbody tr th {\n",
       "        vertical-align: top;\n",
       "    }\n",
       "\n",
       "    .dataframe thead th {\n",
       "        text-align: right;\n",
       "    }\n",
       "</style>\n",
       "<table border=\"1\" class=\"dataframe\">\n",
       "  <thead>\n",
       "    <tr style=\"text-align: right;\">\n",
       "      <th></th>\n",
       "      <th>threshold</th>\n",
       "      <th>precision</th>\n",
       "      <th>recall</th>\n",
       "      <th>f1</th>\n",
       "    </tr>\n",
       "  </thead>\n",
       "  <tbody>\n",
       "    <tr>\n",
       "      <th>395</th>\n",
       "      <td>0.395395</td>\n",
       "      <td>0.872270</td>\n",
       "      <td>0.820013</td>\n",
       "      <td>0.845335</td>\n",
       "    </tr>\n",
       "    <tr>\n",
       "      <th>394</th>\n",
       "      <td>0.394394</td>\n",
       "      <td>0.870011</td>\n",
       "      <td>0.821821</td>\n",
       "      <td>0.845229</td>\n",
       "    </tr>\n",
       "    <tr>\n",
       "      <th>396</th>\n",
       "      <td>0.396396</td>\n",
       "      <td>0.873604</td>\n",
       "      <td>0.818334</td>\n",
       "      <td>0.845067</td>\n",
       "    </tr>\n",
       "    <tr>\n",
       "      <th>397</th>\n",
       "      <td>0.397397</td>\n",
       "      <td>0.874516</td>\n",
       "      <td>0.817043</td>\n",
       "      <td>0.844803</td>\n",
       "    </tr>\n",
       "    <tr>\n",
       "      <th>400</th>\n",
       "      <td>0.400400</td>\n",
       "      <td>0.878205</td>\n",
       "      <td>0.813686</td>\n",
       "      <td>0.844716</td>\n",
       "    </tr>\n",
       "    <tr>\n",
       "      <th>...</th>\n",
       "      <td>...</td>\n",
       "      <td>...</td>\n",
       "      <td>...</td>\n",
       "      <td>...</td>\n",
       "    </tr>\n",
       "    <tr>\n",
       "      <th>995</th>\n",
       "      <td>0.995996</td>\n",
       "      <td>1.000000</td>\n",
       "      <td>0.023241</td>\n",
       "      <td>0.045426</td>\n",
       "    </tr>\n",
       "    <tr>\n",
       "      <th>996</th>\n",
       "      <td>0.996997</td>\n",
       "      <td>1.000000</td>\n",
       "      <td>0.021821</td>\n",
       "      <td>0.042709</td>\n",
       "    </tr>\n",
       "    <tr>\n",
       "      <th>997</th>\n",
       "      <td>0.997998</td>\n",
       "      <td>1.000000</td>\n",
       "      <td>0.021304</td>\n",
       "      <td>0.041719</td>\n",
       "    </tr>\n",
       "    <tr>\n",
       "      <th>998</th>\n",
       "      <td>0.998999</td>\n",
       "      <td>1.000000</td>\n",
       "      <td>0.020529</td>\n",
       "      <td>0.040233</td>\n",
       "    </tr>\n",
       "    <tr>\n",
       "      <th>999</th>\n",
       "      <td>1.000000</td>\n",
       "      <td>1.000000</td>\n",
       "      <td>0.004003</td>\n",
       "      <td>0.007973</td>\n",
       "    </tr>\n",
       "  </tbody>\n",
       "</table>\n",
       "<p>1000 rows × 4 columns</p>\n",
       "</div>"
      ],
      "text/plain": [
       "     threshold  precision    recall        f1\n",
       "395   0.395395   0.872270  0.820013  0.845335\n",
       "394   0.394394   0.870011  0.821821  0.845229\n",
       "396   0.396396   0.873604  0.818334  0.845067\n",
       "397   0.397397   0.874516  0.817043  0.844803\n",
       "400   0.400400   0.878205  0.813686  0.844716\n",
       "..         ...        ...       ...       ...\n",
       "995   0.995996   1.000000  0.023241  0.045426\n",
       "996   0.996997   1.000000  0.021821  0.042709\n",
       "997   0.997998   1.000000  0.021304  0.041719\n",
       "998   0.998999   1.000000  0.020529  0.040233\n",
       "999   1.000000   1.000000  0.004003  0.007973\n",
       "\n",
       "[1000 rows x 4 columns]"
      ]
     },
     "execution_count": 230,
     "metadata": {},
     "output_type": "execute_result"
    }
   ],
   "source": [
    "threshold_eval = pd.DataFrame([[threshold, *evaluate_model(embd_similarity, threshold)] for threshold in np.linspace(0, 1, 1000)], columns=['threshold', 'precision', 'recall', 'f1'])\n",
    "threshold_eval.sort_values(by='f1', ascending=False)"
   ]
  },
  {
   "cell_type": "code",
   "execution_count": 231,
   "metadata": {},
   "outputs": [
    {
     "data": {
      "text/plain": [
       "<Axes: title={'center': 'Metrics Evaluation'}, xlabel='Threshold', ylabel='Metric score'>"
      ]
     },
     "execution_count": 231,
     "metadata": {},
     "output_type": "execute_result"
    },
    {
     "data": {
      "image/png": "[encoded data removed]",
      "text/plain": [
       "<Figure size 640x480 with 1 Axes>"
      ]
     },
     "metadata": {},
     "output_type": "display_data"
    }
   ],
   "source": [
    "threshold_eval.plot(\n",
    "  kind='line',\n",
    "  title='Metrics Evaluation',\n",
    "  x='threshold',\n",
    "  xlabel='Threshold',\n",
    "  ylabel='Metric score',\n",
    "  grid=True)"
   ]
  },
  {
   "cell_type": "code",
   "execution_count": 232,
   "metadata": {},
   "outputs": [
    {
     "name": "stdout",
     "output_type": "stream",
     "text": [
      "Precision: 0.88063\n",
      "Recall: 0.81059\n",
      "F1: 0.84416\n"
     ]
    }
   ],
   "source": [
    "model_eval = evaluate_model(embd_similarity, 0.402402)\n",
    "\n",
    "print(f'Precision: {model_eval[0]:.5f}')\n",
    "print(f'Recall: {model_eval[1]:.5f}')\n",
    "print(f'F1: {model_eval[2]:.5f}')"
   ]
  },
  {
   "cell_type": "markdown",
   "metadata": {},
   "source": [
    "### **8. Similarity Search**"
   ]
  },
  {
   "cell_type": "markdown",
   "metadata": {},
   "source": [
    "### **8.1. Prepare Data**"
   ]
  },
  {
   "cell_type": "code",
   "execution_count": 233,
   "metadata": {},
   "outputs": [
    {
     "data": {
      "text/html": [
       "<div>\n",
       "<style scoped>\n",
       "    .dataframe tbody tr th:only-of-type {\n",
       "        vertical-align: middle;\n",
       "    }\n",
       "\n",
       "    .dataframe tbody tr th {\n",
       "        vertical-align: top;\n",
       "    }\n",
       "\n",
       "    .dataframe thead th {\n",
       "        text-align: right;\n",
       "    }\n",
       "</style>\n",
       "<table border=\"1\" class=\"dataframe\">\n",
       "  <thead>\n",
       "    <tr style=\"text-align: right;\">\n",
       "      <th></th>\n",
       "      <th>id</th>\n",
       "      <th>vector</th>\n",
       "      <th>id_match</th>\n",
       "    </tr>\n",
       "  </thead>\n",
       "  <tbody>\n",
       "    <tr>\n",
       "      <th>5</th>\n",
       "      <td>416997</td>\n",
       "      <td>[0.021208376, 0.039101895, 0.025803914, -0.002...</td>\n",
       "      <td>409704.0</td>\n",
       "    </tr>\n",
       "    <tr>\n",
       "      <th>11</th>\n",
       "      <td>417394</td>\n",
       "      <td>[0.013598694, 0.021496505, 0.021567294, 0.0013...</td>\n",
       "      <td>414846.0</td>\n",
       "    </tr>\n",
       "    <tr>\n",
       "      <th>12</th>\n",
       "      <td>923579</td>\n",
       "      <td>[-0.005629012, 0.020306982, 0.041845415, 0.003...</td>\n",
       "      <td>911158.0</td>\n",
       "    </tr>\n",
       "    <tr>\n",
       "      <th>27</th>\n",
       "      <td>1269834</td>\n",
       "      <td>[-0.0034723475, 0.034236766, 0.030265054, -0.0...</td>\n",
       "      <td>1260763.0</td>\n",
       "    </tr>\n",
       "    <tr>\n",
       "      <th>29</th>\n",
       "      <td>1632001</td>\n",
       "      <td>[0.0011553821, -0.03322117, 0.018132357, -0.00...</td>\n",
       "      <td>1664120.0</td>\n",
       "    </tr>\n",
       "    <tr>\n",
       "      <th>...</th>\n",
       "      <td>...</td>\n",
       "      <td>...</td>\n",
       "      <td>...</td>\n",
       "    </tr>\n",
       "    <tr>\n",
       "      <th>209071</th>\n",
       "      <td>547422</td>\n",
       "      <td>[-0.010672236, -0.011572848, 0.03298809, 0.000...</td>\n",
       "      <td>547418.0</td>\n",
       "    </tr>\n",
       "    <tr>\n",
       "      <th>209084</th>\n",
       "      <td>266505</td>\n",
       "      <td>[0.0081414785, 0.04426314, 0.029262347, 0.0001...</td>\n",
       "      <td>204519.0</td>\n",
       "    </tr>\n",
       "    <tr>\n",
       "      <th>209096</th>\n",
       "      <td>322669</td>\n",
       "      <td>[0.011518952, 0.027007388, 0.022229528, 0.0017...</td>\n",
       "      <td>259362.0</td>\n",
       "    </tr>\n",
       "    <tr>\n",
       "      <th>209101</th>\n",
       "      <td>219511</td>\n",
       "      <td>[0.020924713, 0.043182794, 0.015464429, 0.0048...</td>\n",
       "      <td>210910.0</td>\n",
       "    </tr>\n",
       "    <tr>\n",
       "      <th>209105</th>\n",
       "      <td>969987</td>\n",
       "      <td>[-0.024186423, -0.0024723888, 0.039517928, 0.0...</td>\n",
       "      <td>946598.0</td>\n",
       "    </tr>\n",
       "  </tbody>\n",
       "</table>\n",
       "<p>25817 rows × 3 columns</p>\n",
       "</div>"
      ],
      "text/plain": [
       "             id                                             vector   id_match\n",
       "5        416997  [0.021208376, 0.039101895, 0.025803914, -0.002...   409704.0\n",
       "11       417394  [0.013598694, 0.021496505, 0.021567294, 0.0013...   414846.0\n",
       "12       923579  [-0.005629012, 0.020306982, 0.041845415, 0.003...   911158.0\n",
       "27      1269834  [-0.0034723475, 0.034236766, 0.030265054, -0.0...  1260763.0\n",
       "29      1632001  [0.0011553821, -0.03322117, 0.018132357, -0.00...  1664120.0\n",
       "...         ...                                                ...        ...\n",
       "209071   547422  [-0.010672236, -0.011572848, 0.03298809, 0.000...   547418.0\n",
       "209084   266505  [0.0081414785, 0.04426314, 0.029262347, 0.0001...   204519.0\n",
       "209096   322669  [0.011518952, 0.027007388, 0.022229528, 0.0017...   259362.0\n",
       "209101   219511  [0.020924713, 0.043182794, 0.015464429, 0.0048...   210910.0\n",
       "209105   969987  [-0.024186423, -0.0024723888, 0.039517928, 0.0...   946598.0\n",
       "\n",
       "[25817 rows x 3 columns]"
      ]
     },
     "execution_count": 233,
     "metadata": {},
     "output_type": "execute_result"
    }
   ],
   "source": [
    "column_mapper = {\n",
    "  'id__left': 'id',\n",
    "  'text_embedded__left': 'vector',\n",
    "  'id__right': 'id_match',\n",
    "}\n",
    "\n",
    "df_sim_search_test = df[df['label'] == 1][['id__left', 'text_embedded__left', 'id__right']].rename(columns=column_mapper)\n",
    "df_sim_search_test"
   ]
  },
  {
   "cell_type": "code",
   "execution_count": 234,
   "metadata": {},
   "outputs": [
    {
     "data": {
      "text/html": [
       "<div>\n",
       "<style scoped>\n",
       "    .dataframe tbody tr th:only-of-type {\n",
       "        vertical-align: middle;\n",
       "    }\n",
       "\n",
       "    .dataframe tbody tr th {\n",
       "        vertical-align: top;\n",
       "    }\n",
       "\n",
       "    .dataframe thead th {\n",
       "        text-align: right;\n",
       "    }\n",
       "</style>\n",
       "<table border=\"1\" class=\"dataframe\">\n",
       "  <thead>\n",
       "    <tr style=\"text-align: right;\">\n",
       "      <th></th>\n",
       "      <th>id</th>\n",
       "      <th>vector</th>\n",
       "    </tr>\n",
       "  </thead>\n",
       "  <tbody>\n",
       "    <tr>\n",
       "      <th>0</th>\n",
       "      <td>1279257</td>\n",
       "      <td>[-0.007279202, -0.009260601, 0.03945913, 0.009...</td>\n",
       "    </tr>\n",
       "    <tr>\n",
       "      <th>1</th>\n",
       "      <td>1141385</td>\n",
       "      <td>[-0.013864928, 0.0049995, 0.02776918, -0.01075...</td>\n",
       "    </tr>\n",
       "    <tr>\n",
       "      <th>2</th>\n",
       "      <td>1703386</td>\n",
       "      <td>[-0.05865265, -0.03335859, 0.082347564, -0.056...</td>\n",
       "    </tr>\n",
       "    <tr>\n",
       "      <th>3</th>\n",
       "      <td>414919</td>\n",
       "      <td>[-0.008106812, -0.017168904, 0.025119111, 0.00...</td>\n",
       "    </tr>\n",
       "    <tr>\n",
       "      <th>4</th>\n",
       "      <td>308978</td>\n",
       "      <td>[0.0025419714, 0.03425198, 0.019764332, 0.0118...</td>\n",
       "    </tr>\n",
       "    <tr>\n",
       "      <th>...</th>\n",
       "      <td>...</td>\n",
       "      <td>...</td>\n",
       "    </tr>\n",
       "    <tr>\n",
       "      <th>209116</th>\n",
       "      <td>668453</td>\n",
       "      <td>[-3.5638273e-05, 0.028962713, 0.020635046, 0.0...</td>\n",
       "    </tr>\n",
       "    <tr>\n",
       "      <th>209117</th>\n",
       "      <td>495107</td>\n",
       "      <td>[-0.00037265595, 0.035629977, 0.022736026, 0.0...</td>\n",
       "    </tr>\n",
       "    <tr>\n",
       "      <th>209118</th>\n",
       "      <td>449563</td>\n",
       "      <td>[0.0017366918, 0.03170668, 0.018814148, 0.0095...</td>\n",
       "    </tr>\n",
       "    <tr>\n",
       "      <th>209119</th>\n",
       "      <td>1044403</td>\n",
       "      <td>[-0.012454124, 0.013967889, 0.042438485, 0.010...</td>\n",
       "    </tr>\n",
       "    <tr>\n",
       "      <th>209120</th>\n",
       "      <td>318902</td>\n",
       "      <td>[0.0057887076, 0.045604095, 0.02269233, 0.0024...</td>\n",
       "    </tr>\n",
       "  </tbody>\n",
       "</table>\n",
       "<p>183304 rows × 2 columns</p>\n",
       "</div>"
      ],
      "text/plain": [
       "             id                                             vector\n",
       "0       1279257  [-0.007279202, -0.009260601, 0.03945913, 0.009...\n",
       "1       1141385  [-0.013864928, 0.0049995, 0.02776918, -0.01075...\n",
       "2       1703386  [-0.05865265, -0.03335859, 0.082347564, -0.056...\n",
       "3        414919  [-0.008106812, -0.017168904, 0.025119111, 0.00...\n",
       "4        308978  [0.0025419714, 0.03425198, 0.019764332, 0.0118...\n",
       "...         ...                                                ...\n",
       "209116   668453  [-3.5638273e-05, 0.028962713, 0.020635046, 0.0...\n",
       "209117   495107  [-0.00037265595, 0.035629977, 0.022736026, 0.0...\n",
       "209118   449563  [0.0017366918, 0.03170668, 0.018814148, 0.0095...\n",
       "209119  1044403  [-0.012454124, 0.013967889, 0.042438485, 0.010...\n",
       "209120   318902  [0.0057887076, 0.045604095, 0.02269233, 0.0024...\n",
       "\n",
       "[183304 rows x 2 columns]"
      ]
     },
     "execution_count": 234,
     "metadata": {},
     "output_type": "execute_result"
    }
   ],
   "source": [
    "column_mapper = {\n",
    "  'id__left': 'id',\n",
    "  'text_embedded__left': 'vector',\n",
    "}\n",
    "\n",
    "df_sim_search_data = df[['id__left', 'text_embedded__left']].rename(columns=column_mapper)\n",
    "df_sim_search_data = df_sim_search_data[~df_sim_search_data['id'].isin(df_sim_search_test['id'])]\n",
    "df_sim_search_data"
   ]
  },
  {
   "cell_type": "markdown",
   "metadata": {},
   "source": [
    "### **8.2. Create Faiss Index**"
   ]
  },
  {
   "cell_type": "code",
   "execution_count": 235,
   "metadata": {},
   "outputs": [
    {
     "name": "stdout",
     "output_type": "stream",
     "text": [
      "5729/5729 [==============================] - 6s 1ms/step\n"
     ]
    }
   ],
   "source": [
    "base_vectors = np.vstack(df_sim_search_data['vector'])\n",
    "mod_vectors = embd_model.predict(base_vectors)\n",
    "\n",
    "vector_dim = 256\n",
    "ids = df_sim_search_data['id']\n",
    "\n",
    "nlist = 100\n",
    "quantizer = faiss.IndexFlatIP(vector_dim)\n",
    "index = faiss.IndexIVFFlat(quantizer, vector_dim, nlist, faiss.METRIC_INNER_PRODUCT)\n",
    "\n",
    "faiss.normalize_L2(mod_vectors)\n",
    "\n",
    "index.train(mod_vectors)\n",
    "index.add_with_ids(mod_vectors, ids)"
   ]
  },
  {
   "cell_type": "markdown",
   "metadata": {},
   "source": [
    "### **8.3. Perform Similarity Search**"
   ]
  },
  {
   "cell_type": "code",
   "execution_count": 236,
   "metadata": {},
   "outputs": [
    {
     "name": "stdout",
     "output_type": "stream",
     "text": [
      "807/807 [==============================] - 1s 1ms/step\n"
     ]
    }
   ],
   "source": [
    "index.nprobe = 10\n",
    "k = 10\n",
    "\n",
    "_base_vector = np.vstack(df_sim_search_test['vector'])\n",
    "_mod_vectors = embd_model.predict(_base_vector)\n",
    "\n",
    "faiss.normalize_L2(_mod_vectors)\n",
    "\n",
    "search_result = index.search(_mod_vectors, k=k)"
   ]
  },
  {
   "cell_type": "markdown",
   "metadata": {},
   "source": [
    "### **8.4. Similarity Search Evaluation**"
   ]
  },
  {
   "cell_type": "code",
   "execution_count": 237,
   "metadata": {},
   "outputs": [],
   "source": [
    "ids_actual = search_result[1]\n",
    "ids_expected = df_sim_search_test['id_match']\n",
    "\n",
    "results = []\n",
    "for id_actual, id_expected in zip(ids_actual, ids_expected):\n",
    "  if id_expected in id_actual:\n",
    "    results.append(1)\n",
    "  else:\n",
    "    results.append(0)"
   ]
  },
  {
   "cell_type": "code",
   "execution_count": 238,
   "metadata": {},
   "outputs": [
    {
     "data": {
      "text/plain": [
       "0.21745361583452763"
      ]
     },
     "execution_count": 238,
     "metadata": {},
     "output_type": "execute_result"
    }
   ],
   "source": [
    "np.average(results)"
   ]
  }
 ],
 "metadata": {
  "kernelspec": {
   "display_name": "env_1",
   "language": "python",
   "name": "python3"
  },
  "language_info": {
   "codemirror_mode": {
    "name": "ipython",
    "version": 3
   },
   "file_extension": ".py",
   "mimetype": "text/x-python",
   "name": "python",
   "nbconvert_exporter": "python",
   "pygments_lexer": "ipython3",
   "version": "3.11.5"
  }
 },
 "nbformat": 4,
 "nbformat_minor": 2
}
