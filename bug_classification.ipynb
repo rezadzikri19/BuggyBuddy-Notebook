{
 "cells": [
  {
   "cell_type": "markdown",
   "metadata": {},
   "source": [
    "### **1. Import Dependencies**"
   ]
  },
  {
   "cell_type": "code",
   "execution_count": 111,
   "metadata": {},
   "outputs": [],
   "source": [
    "import pandas as pd\n",
    "import numpy as np\n",
    "\n",
    "import gc\n",
    "import os\n",
    "import requests\n",
    "import json\n",
    "\n",
    "import concurrent.futures\n",
    "import asyncio\n",
    "import httpx\n",
    "from urllib.parse import urlencode\n",
    "\n",
    "from typing import List, Dict, Optional\n",
    "from glob import glob\n",
    "\n",
    "import joblib\n",
    "\n",
    "import matplotlib.pyplot as plt\n",
    "import seaborn as sns\n",
    "\n",
    "from sklearn.preprocessing import StandardScaler, RobustScaler\n",
    "from sklearn.model_selection import train_test_split, StratifiedKFold\n",
    "from sklearn.impute import KNNImputer, SimpleImputer\n",
    "from sklearn.pipeline import Pipeline\n",
    "from sklearn.compose import ColumnTransformer\n",
    "from sklearn.ensemble import RandomForestClassifier\n",
    "\n",
    "from sentence_transformers import SentenceTransformer"
   ]
  },
  {
   "cell_type": "markdown",
   "metadata": {},
   "source": [
    "### **2. Settings**"
   ]
  },
  {
   "cell_type": "code",
   "execution_count": 121,
   "metadata": {},
   "outputs": [],
   "source": [
    "pd.set_option('display.max_rows', 100)\n",
    "pd.set_option('display.max_columns', 50)"
   ]
  },
  {
   "cell_type": "markdown",
   "metadata": {},
   "source": [
    "### **2. Load Data**"
   ]
  },
  {
   "cell_type": "code",
   "execution_count": 2,
   "metadata": {},
   "outputs": [],
   "source": [
    "def fetch_data(url: str, params=None):\n",
    "  try:\n",
    "    response = requests.get(url, params=params)\n",
    "    if (response.status_code == 200):\n",
    "      return response.json()\n",
    "    \n",
    "    print(f\"Error response with status code: {response.status_code}\")\n",
    "  except Exception as error:\n",
    "    print(f'Failed to fetch data: {error}')\n",
    "\n",
    "def urls_builder(base_url: str, n_fetch: int, limit: int, products: List[str], **kwargs):\n",
    "  urls = []\n",
    "  for product in products:\n",
    "    for i in range(n_fetch):\n",
    "      \n",
    "      param = {\n",
    "        'offset': i * limit,\n",
    "        'limit': limit,\n",
    "        'product': product,\n",
    "        **kwargs,\n",
    "      }\n",
    "      \n",
    "      full_url = base_url + '?' + urlencode(param)\n",
    "      urls.append(full_url)\n",
    "    \n",
    "  return urls\n",
    "\n",
    "def save_json(data, path: str):\n",
    "  with open(path, 'w') as json_file:\n",
    "    json.dump(data, json_file)\n",
    "\n",
    "def load_json(path: str):\n",
    "  with open(path, 'r') as json_file:\n",
    "    loaded_data = json.load(json_file)\n",
    "  return loaded_data"
   ]
  },
  {
   "cell_type": "code",
   "execution_count": 66,
   "metadata": {},
   "outputs": [],
   "source": [
    "selected_fields = ['id', 'duplicates', 'summary', 'status', 'resolution', 'platform', 'product', 'type', 'priority', 'severity', 'component']\n",
    "products = ['Firefox']\n",
    "\n",
    "base_params = {\n",
    "  'include_fields': ', '.join(selected_fields),\n",
    "}\n",
    "saved_data_path = os.path.join('data', 'firefox_raw_data.json')\n",
    "\n",
    "base_url = 'https://bugzilla.mozilla.org/rest/bug'\n",
    "n_fetch = 20\n",
    "limit = 10000\n",
    "\n",
    "if os.path.exists(saved_data_path):\n",
    "  response_data = load_json(saved_data_path)\n",
    "else:\n",
    "  urls = urls_builder(base_url, n_fetch, limit, products, **base_params)\n",
    "  response_data = []\n",
    "\n",
    "  max_workers = 100\n",
    "  with concurrent.futures.ThreadPoolExecutor(max_workers) as executor:\n",
    "    response_data = list(executor.map(fetch_data, urls))\n",
    "    \n",
    "  response_data = [item['bugs'] for item in response_data]\n",
    "  response_data = [item for sublist in response_data for item in sublist]\n",
    "  \n",
    "  save_json(response_data, saved_data_path)"
   ]
  },
  {
   "cell_type": "code",
   "execution_count": 108,
   "metadata": {},
   "outputs": [
    {
     "data": {
      "text/html": [
       "<div>\n",
       "<style scoped>\n",
       "    .dataframe tbody tr th:only-of-type {\n",
       "        vertical-align: middle;\n",
       "    }\n",
       "\n",
       "    .dataframe tbody tr th {\n",
       "        vertical-align: top;\n",
       "    }\n",
       "\n",
       "    .dataframe thead th {\n",
       "        text-align: right;\n",
       "    }\n",
       "</style>\n",
       "<table border=\"1\" class=\"dataframe\">\n",
       "  <thead>\n",
       "    <tr style=\"text-align: right;\">\n",
       "      <th></th>\n",
       "      <th>duplicates</th>\n",
       "      <th>product</th>\n",
       "      <th>resolution</th>\n",
       "      <th>priority</th>\n",
       "      <th>summary</th>\n",
       "      <th>severity</th>\n",
       "      <th>status</th>\n",
       "      <th>platform</th>\n",
       "      <th>component</th>\n",
       "      <th>type</th>\n",
       "    </tr>\n",
       "    <tr>\n",
       "      <th>id</th>\n",
       "      <th></th>\n",
       "      <th></th>\n",
       "      <th></th>\n",
       "      <th></th>\n",
       "      <th></th>\n",
       "      <th></th>\n",
       "      <th></th>\n",
       "      <th></th>\n",
       "      <th></th>\n",
       "      <th></th>\n",
       "    </tr>\n",
       "  </thead>\n",
       "  <tbody>\n",
       "    <tr>\n",
       "      <th>406067</th>\n",
       "      <td>[]</td>\n",
       "      <td>Cloud Services</td>\n",
       "      <td>FIXED</td>\n",
       "      <td>--</td>\n",
       "      <td>Chrome error</td>\n",
       "      <td>minor</td>\n",
       "      <td>RESOLVED</td>\n",
       "      <td>x86</td>\n",
       "      <td>General</td>\n",
       "      <td>defect</td>\n",
       "    </tr>\n",
       "    <tr>\n",
       "      <th>408325</th>\n",
       "      <td>[]</td>\n",
       "      <td>Cloud Services</td>\n",
       "      <td>FIXED</td>\n",
       "      <td>--</td>\n",
       "      <td>Can no longer synch between two machines runni...</td>\n",
       "      <td>normal</td>\n",
       "      <td>VERIFIED</td>\n",
       "      <td>x86</td>\n",
       "      <td>General</td>\n",
       "      <td>defect</td>\n",
       "    </tr>\n",
       "    <tr>\n",
       "      <th>409568</th>\n",
       "      <td>[]</td>\n",
       "      <td>Cloud Services</td>\n",
       "      <td>DUPLICATE</td>\n",
       "      <td>--</td>\n",
       "      <td>Arrow not pointing to weave icon on services.m...</td>\n",
       "      <td>minor</td>\n",
       "      <td>RESOLVED</td>\n",
       "      <td>All</td>\n",
       "      <td>General</td>\n",
       "      <td>defect</td>\n",
       "    </tr>\n",
       "    <tr>\n",
       "      <th>409579</th>\n",
       "      <td>[409713]</td>\n",
       "      <td>Cloud Services</td>\n",
       "      <td>FIXED</td>\n",
       "      <td>--</td>\n",
       "      <td>Mail from Weave detected as spam</td>\n",
       "      <td>major</td>\n",
       "      <td>RESOLVED</td>\n",
       "      <td>All</td>\n",
       "      <td>General</td>\n",
       "      <td>defect</td>\n",
       "    </tr>\n",
       "    <tr>\n",
       "      <th>409600</th>\n",
       "      <td>[409568, 420386]</td>\n",
       "      <td>Cloud Services</td>\n",
       "      <td>WONTFIX</td>\n",
       "      <td>--</td>\n",
       "      <td>First run page has an arrow that points to the...</td>\n",
       "      <td>normal</td>\n",
       "      <td>RESOLVED</td>\n",
       "      <td>All</td>\n",
       "      <td>General</td>\n",
       "      <td>defect</td>\n",
       "    </tr>\n",
       "  </tbody>\n",
       "</table>\n",
       "</div>"
      ],
      "text/plain": [
       "              duplicates         product resolution priority  \\\n",
       "id                                                             \n",
       "406067                []  Cloud Services      FIXED       --   \n",
       "408325                []  Cloud Services      FIXED       --   \n",
       "409568                []  Cloud Services  DUPLICATE       --   \n",
       "409579          [409713]  Cloud Services      FIXED       --   \n",
       "409600  [409568, 420386]  Cloud Services    WONTFIX       --   \n",
       "\n",
       "                                                  summary severity    status  \\\n",
       "id                                                                             \n",
       "406067                                       Chrome error    minor  RESOLVED   \n",
       "408325  Can no longer synch between two machines runni...   normal  VERIFIED   \n",
       "409568  Arrow not pointing to weave icon on services.m...    minor  RESOLVED   \n",
       "409579                   Mail from Weave detected as spam    major  RESOLVED   \n",
       "409600  First run page has an arrow that points to the...   normal  RESOLVED   \n",
       "\n",
       "       platform component    type  \n",
       "id                                 \n",
       "406067      x86   General  defect  \n",
       "408325      x86   General  defect  \n",
       "409568      All   General  defect  \n",
       "409579      All   General  defect  \n",
       "409600      All   General  defect  "
      ]
     },
     "execution_count": 108,
     "metadata": {},
     "output_type": "execute_result"
    }
   ],
   "source": [
    "df = pd.DataFrame()\n",
    "\n",
    "data_paths = glob(os.path.join('data', '*.json'))\n",
    "\n",
    "for path in data_paths:\n",
    "  data = load_json(path)\n",
    "  data = pd.DataFrame(data)\n",
    "  df = pd.concat([df, data])\n",
    "  \n",
    "df = df.set_index('id')\n",
    "df.head()"
   ]
  },
  {
   "cell_type": "code",
   "execution_count": 109,
   "metadata": {},
   "outputs": [
    {
     "name": "stdout",
     "output_type": "stream",
     "text": [
      "<class 'pandas.core.frame.DataFrame'>\n",
      "Index: 1131592 entries, 406067 to 1876125\n",
      "Data columns (total 10 columns):\n",
      " #   Column      Non-Null Count    Dtype \n",
      "---  ------      --------------    ----- \n",
      " 0   duplicates  1131592 non-null  object\n",
      " 1   product     1131592 non-null  object\n",
      " 2   resolution  1131592 non-null  object\n",
      " 3   priority    1131592 non-null  object\n",
      " 4   summary     1131592 non-null  object\n",
      " 5   severity    1131592 non-null  object\n",
      " 6   status      1131592 non-null  object\n",
      " 7   platform    1131592 non-null  object\n",
      " 8   component   1131592 non-null  object\n",
      " 9   type        1131592 non-null  object\n",
      "dtypes: object(10)\n",
      "memory usage: 769.4 MB\n"
     ]
    }
   ],
   "source": [
    "df.info(memory_usage='deep')"
   ]
  },
  {
   "cell_type": "markdown",
   "metadata": {},
   "source": [
    "### **3. EDA**"
   ]
  },
  {
   "cell_type": "markdown",
   "metadata": {},
   "source": [
    "### **3.1. Missing Values**"
   ]
  },
  {
   "cell_type": "code",
   "execution_count": 126,
   "metadata": {},
   "outputs": [
    {
     "data": {
      "text/plain": [
       "duplicates    0\n",
       "product       0\n",
       "resolution    0\n",
       "priority      0\n",
       "summary       0\n",
       "severity      0\n",
       "status        0\n",
       "platform      0\n",
       "component     0\n",
       "type          0\n",
       "dtype: int64"
      ]
     },
     "execution_count": 126,
     "metadata": {},
     "output_type": "execute_result"
    }
   ],
   "source": [
    "df.isna().sum()"
   ]
  },
  {
   "cell_type": "markdown",
   "metadata": {},
   "source": [
    "### **3.2. Product**"
   ]
  },
  {
   "cell_type": "code",
   "execution_count": 120,
   "metadata": {},
   "outputs": [
    {
     "data": {
      "text/plain": [
       "product\n",
       "Core                                   500000\n",
       "Firefox                                210650\n",
       "SeaMonkey                               96704\n",
       "Thunderbird                             68967\n",
       "Toolkit                                 60076\n",
       "DevTools                                42318\n",
       "Testing                                 37572\n",
       "Firefox Build System                    24496\n",
       "Mozilla Localizations                   14491\n",
       "WebExtensions                           11405\n",
       "Cloud Services                           9948\n",
       "Websites                                 8595\n",
       "Firefox for iOS                          7226\n",
       "Tree Management                          6852\n",
       "Remote Protocol                          6287\n",
       "Fenix                                    6231\n",
       "Web Compatibility                        5992\n",
       "GeckoView                                4909\n",
       "Hello (Loop)                             3331\n",
       "Webtools                                 2254\n",
       "Input                                    1064\n",
       "Shield                                    818\n",
       "External Software Affecting Firefox       599\n",
       "Focus                                     393\n",
       "User Research                             357\n",
       "User Experience Design                     43\n",
       "Product Innovation                          7\n",
       "Firefox Private Network                     6\n",
       "Firefox Profiler                            1\n",
       "Name: count, dtype: int64"
      ]
     },
     "execution_count": 120,
     "metadata": {},
     "output_type": "execute_result"
    }
   ],
   "source": [
    "df['product'].value_counts(ascending=False)"
   ]
  },
  {
   "cell_type": "markdown",
   "metadata": {},
   "source": [
    "### **3.3. Resolution**"
   ]
  },
  {
   "cell_type": "code",
   "execution_count": 122,
   "metadata": {},
   "outputs": [
    {
     "data": {
      "text/plain": [
       "resolution\n",
       "FIXED         435203\n",
       "DUPLICATE     207028\n",
       "              129433\n",
       "WORKSFORME    122231\n",
       "INCOMPLETE     95960\n",
       "INVALID        81294\n",
       "WONTFIX        46331\n",
       "EXPIRED         8849\n",
       "INACTIVE        4512\n",
       "MOVED            751\n",
       "Name: count, dtype: int64"
      ]
     },
     "execution_count": 122,
     "metadata": {},
     "output_type": "execute_result"
    }
   ],
   "source": [
    "df['resolution'].value_counts(ascending=False)"
   ]
  },
  {
   "cell_type": "markdown",
   "metadata": {},
   "source": [
    "### **3.4. Priority**"
   ]
  },
  {
   "cell_type": "code",
   "execution_count": 128,
   "metadata": {},
   "outputs": [
    {
     "data": {
      "text/plain": [
       "priority\n",
       "--    763048\n",
       "P3    145837\n",
       "P5     81812\n",
       "P2     54671\n",
       "P1     52002\n",
       "P4     34222\n",
       "Name: count, dtype: int64"
      ]
     },
     "execution_count": 128,
     "metadata": {},
     "output_type": "execute_result"
    }
   ],
   "source": [
    "df['priority'].value_counts(ascending=False)"
   ]
  },
  {
   "cell_type": "markdown",
   "metadata": {},
   "source": [
    "### **3.5. Severity**"
   ]
  },
  {
   "cell_type": "code",
   "execution_count": 129,
   "metadata": {},
   "outputs": [
    {
     "data": {
      "text/plain": [
       "severity\n",
       "normal         680726\n",
       "S3             115244\n",
       "--              95645\n",
       "critical        70737\n",
       "major           53828\n",
       "S4              45603\n",
       "minor           28913\n",
       "N/A             15658\n",
       "trivial         11790\n",
       "blocker          6686\n",
       "S2               6218\n",
       "S1                499\n",
       "enhancement        45\n",
       "Name: count, dtype: int64"
      ]
     },
     "execution_count": 129,
     "metadata": {},
     "output_type": "execute_result"
    }
   ],
   "source": [
    "df['severity'].value_counts(ascending=False)"
   ]
  },
  {
   "cell_type": "markdown",
   "metadata": {},
   "source": [
    "### **3.6. Status**"
   ]
  },
  {
   "cell_type": "code",
   "execution_count": 130,
   "metadata": {},
   "outputs": [
    {
     "data": {
      "text/plain": [
       "status\n",
       "RESOLVED       841157\n",
       "VERIFIED       160019\n",
       "NEW             99645\n",
       "UNCONFIRMED     22094\n",
       "REOPENED         5075\n",
       "ASSIGNED         2619\n",
       "CLOSED            983\n",
       "Name: count, dtype: int64"
      ]
     },
     "execution_count": 130,
     "metadata": {},
     "output_type": "execute_result"
    }
   ],
   "source": [
    "df['status'].value_counts(ascending=False)"
   ]
  },
  {
   "cell_type": "markdown",
   "metadata": {},
   "source": [
    "### **3.7. Platform**"
   ]
  },
  {
   "cell_type": "code",
   "execution_count": 131,
   "metadata": {},
   "outputs": [
    {
     "data": {
      "text/plain": [
       "platform\n",
       "Unspecified    381749\n",
       "x86            327986\n",
       "All            276949\n",
       "x86_64          76594\n",
       "PowerPC         24133\n",
       "ARM             14795\n",
       "Desktop         14357\n",
       "Other           10254\n",
       "Sun              2640\n",
       "ARM64            1117\n",
       "DEC               454\n",
       "HP                341\n",
       "SGI               188\n",
       "RISCV64            31\n",
       "XScale              4\n",
       "Name: count, dtype: int64"
      ]
     },
     "execution_count": 131,
     "metadata": {},
     "output_type": "execute_result"
    }
   ],
   "source": [
    "df['platform'].value_counts(ascending=False)"
   ]
  },
  {
   "cell_type": "markdown",
   "metadata": {},
   "source": [
    "### **3.8. Component**"
   ]
  },
  {
   "cell_type": "code",
   "execution_count": 140,
   "metadata": {},
   "outputs": [
    {
     "data": {
      "text/plain": [
       "component\n",
       "General                   164761\n",
       "DOM: Core & HTML           43368\n",
       "JavaScript Engine          42674\n",
       "Layout                     33973\n",
       "Untriaged                  28837\n",
       "                           ...  \n",
       "bo / Tibetan                   1\n",
       "Morgoth                        1\n",
       "Operations: Activedata         1\n",
       "Operations: Location           1\n",
       "Operations: Pageshot           1\n",
       "Name: count, Length: 693, dtype: int64"
      ]
     },
     "execution_count": 140,
     "metadata": {},
     "output_type": "execute_result"
    }
   ],
   "source": [
    "df['component'].value_counts(ascending=False)"
   ]
  },
  {
   "cell_type": "markdown",
   "metadata": {},
   "source": [
    "### **3.9. Type**"
   ]
  },
  {
   "cell_type": "code",
   "execution_count": 133,
   "metadata": {},
   "outputs": [
    {
     "data": {
      "text/plain": [
       "type\n",
       "defect         924476\n",
       "enhancement    128147\n",
       "task            78959\n",
       "--                 10\n",
       "Name: count, dtype: int64"
      ]
     },
     "execution_count": 133,
     "metadata": {},
     "output_type": "execute_result"
    }
   ],
   "source": [
    "df['type'].value_counts(ascending=False)"
   ]
  }
 ],
 "metadata": {
  "kernelspec": {
   "display_name": "env_1",
   "language": "python",
   "name": "python3"
  },
  "language_info": {
   "codemirror_mode": {
    "name": "ipython",
    "version": 3
   },
   "file_extension": ".py",
   "mimetype": "text/x-python",
   "name": "python",
   "nbconvert_exporter": "python",
   "pygments_lexer": "ipython3",
   "version": "3.11.7"
  }
 },
 "nbformat": 4,
 "nbformat_minor": 2
}
