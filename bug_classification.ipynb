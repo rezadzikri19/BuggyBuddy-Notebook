{
 "cells": [
  {
   "cell_type": "markdown",
   "metadata": {},
   "source": [
    "### **1. Import Dependencies**"
   ]
  },
  {
   "cell_type": "code",
   "execution_count": 1,
   "metadata": {},
   "outputs": [
    {
     "name": "stderr",
     "output_type": "stream",
     "text": [
      "d:\\Project\\Python\\End to End Projects\\Bug Classification\\Notebook\\venv\\Lib\\site-packages\\tqdm\\auto.py:21: TqdmWarning: IProgress not found. Please update jupyter and ipywidgets. See https://ipywidgets.readthedocs.io/en/stable/user_install.html\n",
      "  from .autonotebook import tqdm as notebook_tqdm\n"
     ]
    },
    {
     "name": "stdout",
     "output_type": "stream",
     "text": [
      "WARNING:tensorflow:From d:\\Project\\Python\\End to End Projects\\Bug Classification\\Notebook\\venv\\Lib\\site-packages\\keras\\src\\losses.py:2976: The name tf.losses.sparse_softmax_cross_entropy is deprecated. Please use tf.compat.v1.losses.sparse_softmax_cross_entropy instead.\n",
      "\n"
     ]
    },
    {
     "name": "stderr",
     "output_type": "stream",
     "text": [
      "[nltk_data] Downloading package stopwords to\n",
      "[nltk_data]     C:\\Users\\msi.pc\\AppData\\Roaming\\nltk_data...\n",
      "[nltk_data]   Package stopwords is already up-to-date!\n",
      "[nltk_data] Downloading package punkt to\n",
      "[nltk_data]     C:\\Users\\msi.pc\\AppData\\Roaming\\nltk_data...\n",
      "[nltk_data]   Package punkt is already up-to-date!\n"
     ]
    },
    {
     "data": {
      "text/plain": [
       "True"
      ]
     },
     "execution_count": 1,
     "metadata": {},
     "output_type": "execute_result"
    }
   ],
   "source": [
    "import pandas as pd\n",
    "import numpy as np\n",
    "\n",
    "from collections import Counter\n",
    "\n",
    "import gc\n",
    "import os\n",
    "import requests\n",
    "import json\n",
    "import re\n",
    "\n",
    "import concurrent.futures\n",
    "\n",
    "from urllib.parse import urlencode\n",
    "\n",
    "from typing import List, Dict, Optional, Union\n",
    "from glob import glob\n",
    "\n",
    "import joblib\n",
    "\n",
    "import matplotlib.pyplot as plt\n",
    "import seaborn as sns\n",
    "\n",
    "import nltk\n",
    "from nltk.tokenize import word_tokenize\n",
    "from nltk.corpus import stopwords\n",
    "\n",
    "from sklearn.preprocessing import StandardScaler, RobustScaler\n",
    "from sklearn.model_selection import train_test_split, StratifiedKFold\n",
    "from sklearn.impute import KNNImputer, SimpleImputer\n",
    "from sklearn.pipeline import Pipeline\n",
    "from sklearn.compose import ColumnTransformer\n",
    "from sklearn.ensemble import RandomForestClassifier\n",
    "from sklearn.metrics.pairwise import cosine_similarity\n",
    "from sklearn.preprocessing import normalize\n",
    "from sklearn.metrics import precision_score, recall_score, f1_score\n",
    "\n",
    "from sentence_transformers import SentenceTransformer\n",
    "from gensim.models import KeyedVectors \n",
    "\n",
    "import tensorflow as tf\n",
    "import tensorflow.keras as keras\n",
    "\n",
    "from keras.models import Model, load_model\n",
    "from keras.layers import Dense, LSTM, Bidirectional, Input, Reshape, Dot, GlobalAveragePooling1D\n",
    "from keras.callbacks import EarlyStopping\n",
    "\n",
    "import faiss\n",
    "\n",
    "from imblearn.over_sampling import RandomOverSampler\n",
    "\n",
    "nltk.download('stopwords')\n",
    "nltk.download('punkt')"
   ]
  },
  {
   "cell_type": "markdown",
   "metadata": {},
   "source": [
    "### **2. Settings**"
   ]
  },
  {
   "cell_type": "code",
   "execution_count": 2,
   "metadata": {},
   "outputs": [],
   "source": [
    "tf.random.set_seed(42)\n",
    "\n",
    "pd.set_option('display.max_rows', 100)\n",
    "pd.set_option('display.max_columns', 50)"
   ]
  },
  {
   "cell_type": "markdown",
   "metadata": {},
   "source": [
    "### **3. Load Data**"
   ]
  },
  {
   "cell_type": "markdown",
   "metadata": {},
   "source": [
    "Fetch the bug report data using [BugZilla API](https://bmo.readthedocs.io/en/latest/api/core/v1/bug.html#get-bug) then save it as json and Pandas.parquet."
   ]
  },
  {
   "cell_type": "code",
   "execution_count": 17,
   "metadata": {},
   "outputs": [],
   "source": [
    "def fetch_data(url: str, params=None):\n",
    "  try:\n",
    "    response = requests.get(url, params=params)\n",
    "    if (response.status_code == 200):\n",
    "      return response.json()\n",
    "    \n",
    "    print(f\"Error response with status code: {response.status_code}\")\n",
    "  except Exception as error:\n",
    "    print(f'Failed to fetch data: {error}')\n",
    "\n",
    "\n",
    "def urls_builder(base_url: str, n_fetch: int, limit: int, products: List[str], **kwargs):\n",
    "  urls = []\n",
    "  for product in products:\n",
    "    for i in range(n_fetch):\n",
    "      param = {'offset': i * limit, 'limit': limit, 'product': product, **kwargs}\n",
    "      full_url = base_url + '?' + urlencode(param)\n",
    "      urls.append(full_url)\n",
    "    \n",
    "  return urls\n",
    "\n",
    "\n",
    "def save_json(data, path: str):\n",
    "  with open(path, 'w') as json_file:\n",
    "    json.dump(data, json_file)\n",
    "\n",
    "\n",
    "def load_json(path: str):\n",
    "  with open(path, 'r') as json_file:\n",
    "    loaded_data = json.load(json_file)\n",
    "  return loaded_data"
   ]
  },
  {
   "cell_type": "code",
   "execution_count": 17,
   "metadata": {},
   "outputs": [],
   "source": [
    "%%script skipped # Skipped\n",
    "\n",
    "selected_fields = ['id', 'duplicates', 'summary', 'description', 'status', 'resolution', 'platform', 'product', 'type', 'priority', 'severity', 'component']\n",
    "products = ['Firefox']\n",
    "\n",
    "base_params = {'include_fields': ', '.join(selected_fields)}\n",
    "saved_data_path = os.path.join('data', 'raw_data', 'firefox_raw_data.json')\n",
    "\n",
    "base_url = 'https://bugzilla.mozilla.org/rest/bug'\n",
    "n_fetch, limit = 50, 100\n",
    "\n",
    "if os.path.exists(saved_data_path):\n",
    "  response_data = load_json(saved_data_path)\n",
    "else:\n",
    "  urls = urls_builder(base_url, n_fetch, limit, products, **base_params)\n",
    "  response_data = []\n",
    "\n",
    "  max_workers = 50\n",
    "  with concurrent.futures.ThreadPoolExecutor(max_workers) as executor:\n",
    "    response_data = list(executor.map(fetch_data, urls))\n",
    "    \n",
    "  response_data = [item['bugs'] for item in response_data]\n",
    "  response_data = [item for sublist in response_data for item in sublist]\n",
    "  \n",
    "  save_json(response_data, saved_data_path)"
   ]
  },
  {
   "cell_type": "code",
   "execution_count": 18,
   "metadata": {},
   "outputs": [
    {
     "data": {
      "text/html": [
       "<div>\n",
       "<style scoped>\n",
       "    .dataframe tbody tr th:only-of-type {\n",
       "        vertical-align: middle;\n",
       "    }\n",
       "\n",
       "    .dataframe tbody tr th {\n",
       "        vertical-align: top;\n",
       "    }\n",
       "\n",
       "    .dataframe thead th {\n",
       "        text-align: right;\n",
       "    }\n",
       "</style>\n",
       "<table border=\"1\" class=\"dataframe\">\n",
       "  <thead>\n",
       "    <tr style=\"text-align: right;\">\n",
       "      <th></th>\n",
       "      <th>priority</th>\n",
       "      <th>type</th>\n",
       "      <th>status</th>\n",
       "      <th>severity</th>\n",
       "      <th>product</th>\n",
       "      <th>description</th>\n",
       "      <th>resolution</th>\n",
       "      <th>duplicates</th>\n",
       "      <th>component</th>\n",
       "      <th>platform</th>\n",
       "      <th>summary</th>\n",
       "    </tr>\n",
       "    <tr>\n",
       "      <th>id</th>\n",
       "      <th></th>\n",
       "      <th></th>\n",
       "      <th></th>\n",
       "      <th></th>\n",
       "      <th></th>\n",
       "      <th></th>\n",
       "      <th></th>\n",
       "      <th></th>\n",
       "      <th></th>\n",
       "      <th></th>\n",
       "      <th></th>\n",
       "    </tr>\n",
       "  </thead>\n",
       "  <tbody>\n",
       "    <tr>\n",
       "      <th>91</th>\n",
       "      <td>P3</td>\n",
       "      <td>defect</td>\n",
       "      <td>VERIFIED</td>\n",
       "      <td>major</td>\n",
       "      <td>Core</td>\n",
       "      <td>Created by Till Krech (till@berlin.snafu.de) o...</td>\n",
       "      <td>FIXED</td>\n",
       "      <td>[]</td>\n",
       "      <td>DOM: Core &amp; HTML</td>\n",
       "      <td>x86</td>\n",
       "      <td>document properties cannot be listed</td>\n",
       "    </tr>\n",
       "    <tr>\n",
       "      <th>103</th>\n",
       "      <td>P1</td>\n",
       "      <td>defect</td>\n",
       "      <td>VERIFIED</td>\n",
       "      <td>normal</td>\n",
       "      <td>Core</td>\n",
       "      <td>Created by Darrell Kindred (dkindred=mozilla@c...</td>\n",
       "      <td>FIXED</td>\n",
       "      <td>[]</td>\n",
       "      <td>Layout: Tables</td>\n",
       "      <td>x86</td>\n",
       "      <td>layout bug: table cell overflows containing cell</td>\n",
       "    </tr>\n",
       "    <tr>\n",
       "      <th>104</th>\n",
       "      <td>P3</td>\n",
       "      <td>defect</td>\n",
       "      <td>VERIFIED</td>\n",
       "      <td>minor</td>\n",
       "      <td>Core</td>\n",
       "      <td>Created by Darrell Kindred (dkindred=mozilla@c...</td>\n",
       "      <td>WONTFIX</td>\n",
       "      <td>[]</td>\n",
       "      <td>DOM: Serializers</td>\n",
       "      <td>x86</td>\n",
       "      <td>table saved as text: missing inter-column space</td>\n",
       "    </tr>\n",
       "    <tr>\n",
       "      <th>105</th>\n",
       "      <td>P2</td>\n",
       "      <td>defect</td>\n",
       "      <td>VERIFIED</td>\n",
       "      <td>normal</td>\n",
       "      <td>Core</td>\n",
       "      <td>Created by   (msuencks@marcant.de) on Tuesday,...</td>\n",
       "      <td>FIXED</td>\n",
       "      <td>[]</td>\n",
       "      <td>Layout: Tables</td>\n",
       "      <td>x86</td>\n",
       "      <td>nested &lt;TABLE&gt;s: bgcolor of inner table not re...</td>\n",
       "    </tr>\n",
       "    <tr>\n",
       "      <th>133</th>\n",
       "      <td>P3</td>\n",
       "      <td>defect</td>\n",
       "      <td>VERIFIED</td>\n",
       "      <td>minor</td>\n",
       "      <td>Core</td>\n",
       "      <td>Created by Boris Tobotras (boris@xtalk.msk.su)...</td>\n",
       "      <td>FIXED</td>\n",
       "      <td>[]</td>\n",
       "      <td>Internationalization</td>\n",
       "      <td>All</td>\n",
       "      <td>Navigator draws entities like &amp;lt;&amp;amp;&amp;gt; as...</td>\n",
       "    </tr>\n",
       "  </tbody>\n",
       "</table>\n",
       "</div>"
      ],
      "text/plain": [
       "    priority    type    status severity product  \\\n",
       "id                                                \n",
       "91        P3  defect  VERIFIED    major    Core   \n",
       "103       P1  defect  VERIFIED   normal    Core   \n",
       "104       P3  defect  VERIFIED    minor    Core   \n",
       "105       P2  defect  VERIFIED   normal    Core   \n",
       "133       P3  defect  VERIFIED    minor    Core   \n",
       "\n",
       "                                           description resolution duplicates  \\\n",
       "id                                                                             \n",
       "91   Created by Till Krech (till@berlin.snafu.de) o...      FIXED         []   \n",
       "103  Created by Darrell Kindred (dkindred=mozilla@c...      FIXED         []   \n",
       "104  Created by Darrell Kindred (dkindred=mozilla@c...    WONTFIX         []   \n",
       "105  Created by   (msuencks@marcant.de) on Tuesday,...      FIXED         []   \n",
       "133  Created by Boris Tobotras (boris@xtalk.msk.su)...      FIXED         []   \n",
       "\n",
       "                component platform  \\\n",
       "id                                   \n",
       "91       DOM: Core & HTML      x86   \n",
       "103        Layout: Tables      x86   \n",
       "104      DOM: Serializers      x86   \n",
       "105        Layout: Tables      x86   \n",
       "133  Internationalization      All   \n",
       "\n",
       "                                               summary  \n",
       "id                                                      \n",
       "91                document properties cannot be listed  \n",
       "103   layout bug: table cell overflows containing cell  \n",
       "104    table saved as text: missing inter-column space  \n",
       "105  nested <TABLE>s: bgcolor of inner table not re...  \n",
       "133  Navigator draws entities like &lt;&amp;&gt; as...  "
      ]
     },
     "execution_count": 18,
     "metadata": {},
     "output_type": "execute_result"
    }
   ],
   "source": [
    "raw_data_path = os.path.join('data', 'cache', 'raw_data.parquet')\n",
    "df = pd.DataFrame()\n",
    "\n",
    "if (os.path.exists(raw_data_path)):\n",
    "  df = pd.read_parquet(raw_data_path)\n",
    "else:\n",
    "  data_paths = glob(os.path.join('data', 'raw_data', '*.json'))\n",
    "\n",
    "  for path in data_paths:\n",
    "    data = load_json(path)\n",
    "    data = pd.DataFrame(data)\n",
    "    df = pd.concat([df, data])\n",
    "\n",
    "  df = df.set_index('id')\n",
    "  df.to_parquet(raw_data_path)\n",
    "\n",
    "df.head()"
   ]
  },
  {
   "cell_type": "code",
   "execution_count": 19,
   "metadata": {},
   "outputs": [
    {
     "data": {
      "text/plain": [
       "0"
      ]
     },
     "execution_count": 19,
     "metadata": {},
     "output_type": "execute_result"
    }
   ],
   "source": [
    "df = df.drop(['status', 'priority', 'resolution', 'severity', 'type'], axis=1)\n",
    "\n",
    "gc.collect()"
   ]
  },
  {
   "cell_type": "code",
   "execution_count": 20,
   "metadata": {},
   "outputs": [
    {
     "name": "stdout",
     "output_type": "stream",
     "text": [
      "<class 'pandas.core.frame.DataFrame'>\n",
      "Index: 710693 entries, 91 to 1876223\n",
      "Data columns (total 6 columns):\n",
      " #   Column       Non-Null Count   Dtype \n",
      "---  ------       --------------   ----- \n",
      " 0   product      710693 non-null  object\n",
      " 1   description  710693 non-null  object\n",
      " 2   duplicates   710693 non-null  object\n",
      " 3   component    710693 non-null  object\n",
      " 4   platform     710693 non-null  object\n",
      " 5   summary      710693 non-null  object\n",
      "dtypes: object(6)\n",
      "memory usage: 1.3 GB\n"
     ]
    }
   ],
   "source": [
    "df.info(memory_usage='deep')"
   ]
  },
  {
   "cell_type": "markdown",
   "metadata": {},
   "source": [
    "### **3. EDA**"
   ]
  },
  {
   "cell_type": "markdown",
   "metadata": {},
   "source": [
    "### **3.1. Missing Values**"
   ]
  },
  {
   "cell_type": "markdown",
   "metadata": {},
   "source": [
    "It seems there is no missing value"
   ]
  },
  {
   "cell_type": "code",
   "execution_count": 21,
   "metadata": {},
   "outputs": [
    {
     "data": {
      "text/plain": [
       "product        0\n",
       "description    0\n",
       "duplicates     0\n",
       "component      0\n",
       "platform       0\n",
       "summary        0\n",
       "dtype: int64"
      ]
     },
     "execution_count": 21,
     "metadata": {},
     "output_type": "execute_result"
    }
   ],
   "source": [
    "df.isna().sum()"
   ]
  },
  {
   "cell_type": "markdown",
   "metadata": {},
   "source": [
    "### **3.2. Product (Skipped)**"
   ]
  },
  {
   "cell_type": "code",
   "execution_count": 16,
   "metadata": {},
   "outputs": [
    {
     "data": {
      "text/plain": [
       "product\n",
       "Core       500000\n",
       "Firefox    210693\n",
       "Name: count, dtype: int64"
      ]
     },
     "execution_count": 16,
     "metadata": {},
     "output_type": "execute_result"
    }
   ],
   "source": [
    "%%script skipped # Skipped\n",
    "\n",
    "df['product'].value_counts(ascending=False)"
   ]
  },
  {
   "cell_type": "markdown",
   "metadata": {},
   "source": [
    "### **3.3. Platform**"
   ]
  },
  {
   "cell_type": "code",
   "execution_count": 22,
   "metadata": {},
   "outputs": [
    {
     "data": {
      "text/plain": [
       "platform\n",
       "Unspecified    237419\n",
       "x86            207583\n",
       "All            167509\n",
       "x86_64          58191\n",
       "PowerPC         13960\n",
       "Desktop         10684\n",
       "ARM              9370\n",
       "Other            3171\n",
       "Sun              1477\n",
       "ARM64             883\n",
       "DEC               201\n",
       "HP                134\n",
       "SGI                80\n",
       "RISCV64            28\n",
       "XScale              3\n",
       "Name: count, dtype: int64"
      ]
     },
     "execution_count": 22,
     "metadata": {},
     "output_type": "execute_result"
    }
   ],
   "source": [
    "df['platform'].value_counts(ascending=False)"
   ]
  },
  {
   "cell_type": "markdown",
   "metadata": {},
   "source": [
    "### **3.4. Type (Skipped)**"
   ]
  },
  {
   "cell_type": "code",
   "execution_count": 13,
   "metadata": {},
   "outputs": [
    {
     "name": "stdout",
     "output_type": "stream",
     "text": [
      "Couldn't find program: 'skipped'\n"
     ]
    }
   ],
   "source": [
    "%%script skipped # Skipped\n",
    "\n",
    "df['type'].value_counts(ascending=False)"
   ]
  },
  {
   "cell_type": "markdown",
   "metadata": {},
   "source": [
    "### **3.5. Duplicates**"
   ]
  },
  {
   "cell_type": "markdown",
   "metadata": {},
   "source": [
    "We see that there are 15k bug reports are considered duplicated by other reports"
   ]
  },
  {
   "cell_type": "code",
   "execution_count": 23,
   "metadata": {},
   "outputs": [
    {
     "name": "stdout",
     "output_type": "stream",
     "text": [
      "total of duplicated bugs: 61367\n"
     ]
    }
   ],
   "source": [
    "duplicates = df['duplicates'].apply(lambda x: len(x)).sort_values(ascending=False)\n",
    "\n",
    "duplicated_bugs = duplicates[duplicates > 0]\n",
    "\n",
    "print(f'total of duplicated bugs: {duplicated_bugs.count()}')"
   ]
  },
  {
   "cell_type": "markdown",
   "metadata": {},
   "source": [
    "### **4. Feature Engineering**"
   ]
  },
  {
   "cell_type": "markdown",
   "metadata": {},
   "source": [
    "### **4.1. Missing Values (Skipped)**"
   ]
  },
  {
   "cell_type": "code",
   "execution_count": 32,
   "metadata": {},
   "outputs": [
    {
     "name": "stdout",
     "output_type": "stream",
     "text": [
      "Couldn't find program: 'skipped'\n"
     ]
    }
   ],
   "source": [
    "%%script skipped # Skipped\n",
    "\n",
    "df.loc[df['type'] == '--', 'type'] = 'no type'"
   ]
  },
  {
   "cell_type": "markdown",
   "metadata": {},
   "source": [
    "### **4.2. Duplicates**"
   ]
  },
  {
   "cell_type": "code",
   "execution_count": 24,
   "metadata": {},
   "outputs": [],
   "source": [
    "df = df.loc[df.astype(str).drop_duplicates(keep='first').index]"
   ]
  },
  {
   "cell_type": "markdown",
   "metadata": {},
   "source": [
    "### **4.2. Duplicates**"
   ]
  },
  {
   "cell_type": "markdown",
   "metadata": {},
   "source": [
    "Currently we have data that has field called `'duplicates'` which is a list of report ids that considered has the same context. To make the data usable, add new feature called `'duplicates_to'` that inferred from `'duplicates'` field."
   ]
  },
  {
   "cell_type": "code",
   "execution_count": 25,
   "metadata": {},
   "outputs": [
    {
     "data": {
      "text/plain": [
       "id\n",
       "171441     [152619, 155407, 169276, 171588, 171649, 17171...\n",
       "1392106    [1384501, 1393296, 1407762, 1424790, 1427728, ...\n",
       "22274      [18941, 19956, 20575, 40355, 44978, 46299, 469...\n",
       "82534      [84921, 87390, 87452, 87479, 91757, 94869, 100...\n",
       "25537      [50727, 61222, 66282, 67093, 74376, 78575, 799...\n",
       "                                 ...                        \n",
       "1458553                                            [1448420]\n",
       "1603979                                            [1604107]\n",
       "426009                                              [425931]\n",
       "55881                                                [55901]\n",
       "60787                                               [813510]\n",
       "Name: duplicates, Length: 61367, dtype: object"
      ]
     },
     "execution_count": 25,
     "metadata": {},
     "output_type": "execute_result"
    }
   ],
   "source": [
    "duplicated = df.loc[duplicated_bugs.index, 'duplicates']\n",
    "duplicated"
   ]
  },
  {
   "cell_type": "code",
   "execution_count": 4,
   "metadata": {},
   "outputs": [],
   "source": [
    "data_path = os.path.join('data', 'cache', 'duplicate_to_data.parquet')\n",
    "\n",
    "if (os.path.exists(data_path)):\n",
    "  df = pd.read_parquet(data_path)\n",
    "else:\n",
    "  df['duplicates_to'] = -1\n",
    "\n",
    "  for idx, dups in zip(duplicated.index, duplicated):\n",
    "    for item in dups:\n",
    "      df.loc[df.index == item, 'duplicates_to'] = idx\n",
    "      \n",
    "  df.to_parquet(data_path)"
   ]
  },
  {
   "cell_type": "code",
   "execution_count": 5,
   "metadata": {},
   "outputs": [],
   "source": [
    "df = df.drop(columns=['duplicates'])\n",
    "gc.collect()"
   ]
  },
  {
   "cell_type": "markdown",
   "metadata": {},
   "source": [
    "### **4.4. Combined Text**"
   ]
  },
  {
   "cell_type": "code",
   "execution_count": 6,
   "metadata": {},
   "outputs": [],
   "source": [
    "df['text'] = df['platform'] + ' ' + df['component'] + ' ' + df['summary']"
   ]
  },
  {
   "cell_type": "code",
   "execution_count": 7,
   "metadata": {},
   "outputs": [
    {
     "data": {
      "text/html": [
       "<div>\n",
       "<style scoped>\n",
       "    .dataframe tbody tr th:only-of-type {\n",
       "        vertical-align: middle;\n",
       "    }\n",
       "\n",
       "    .dataframe tbody tr th {\n",
       "        vertical-align: top;\n",
       "    }\n",
       "\n",
       "    .dataframe thead th {\n",
       "        text-align: right;\n",
       "    }\n",
       "</style>\n",
       "<table border=\"1\" class=\"dataframe\">\n",
       "  <thead>\n",
       "    <tr style=\"text-align: right;\">\n",
       "      <th></th>\n",
       "      <th>text</th>\n",
       "      <th>duplicates_to</th>\n",
       "    </tr>\n",
       "    <tr>\n",
       "      <th>id</th>\n",
       "      <th></th>\n",
       "      <th></th>\n",
       "    </tr>\n",
       "  </thead>\n",
       "  <tbody>\n",
       "    <tr>\n",
       "      <th>91</th>\n",
       "      <td>x86 DOM: Core &amp; HTML document properties canno...</td>\n",
       "      <td>-1</td>\n",
       "    </tr>\n",
       "    <tr>\n",
       "      <th>103</th>\n",
       "      <td>x86 Layout: Tables layout bug: table cell over...</td>\n",
       "      <td>-1</td>\n",
       "    </tr>\n",
       "    <tr>\n",
       "      <th>104</th>\n",
       "      <td>x86 DOM: Serializers table saved as text: miss...</td>\n",
       "      <td>-1</td>\n",
       "    </tr>\n",
       "    <tr>\n",
       "      <th>105</th>\n",
       "      <td>x86 Layout: Tables nested &lt;TABLE&gt;s: bgcolor of...</td>\n",
       "      <td>-1</td>\n",
       "    </tr>\n",
       "    <tr>\n",
       "      <th>133</th>\n",
       "      <td>All Internationalization Navigator draws entit...</td>\n",
       "      <td>-1</td>\n",
       "    </tr>\n",
       "  </tbody>\n",
       "</table>\n",
       "</div>"
      ],
      "text/plain": [
       "                                                  text  duplicates_to\n",
       "id                                                                   \n",
       "91   x86 DOM: Core & HTML document properties canno...             -1\n",
       "103  x86 Layout: Tables layout bug: table cell over...             -1\n",
       "104  x86 DOM: Serializers table saved as text: miss...             -1\n",
       "105  x86 Layout: Tables nested <TABLE>s: bgcolor of...             -1\n",
       "133  All Internationalization Navigator draws entit...             -1"
      ]
     },
     "execution_count": 7,
     "metadata": {},
     "output_type": "execute_result"
    }
   ],
   "source": [
    "df = df[['text', 'duplicates_to']]\n",
    "\n",
    "df.head()"
   ]
  },
  {
   "cell_type": "code",
   "execution_count": 12,
   "metadata": {},
   "outputs": [
    {
     "name": "stdout",
     "output_type": "stream",
     "text": [
      "total duplicates report: 106919\n"
     ]
    }
   ],
   "source": [
    "total_duplicates = df['duplicates_to']\n",
    "total_duplicates = total_duplicates[total_duplicates != -1].count()\n",
    "\n",
    "print(f'total duplicates report: {total_duplicates}')"
   ]
  },
  {
   "cell_type": "markdown",
   "metadata": {},
   "source": [
    "### **4.3. Clean Sentences**"
   ]
  },
  {
   "cell_type": "markdown",
   "metadata": {},
   "source": [
    "Remove non-alphanumeric, newline, tab, return, single character, and multiple spaces. We also removing stopwords by utilizing stopwords provided by `nltk` library "
   ]
  },
  {
   "cell_type": "code",
   "execution_count": 4,
   "metadata": {},
   "outputs": [],
   "source": [
    "def remove_special_chars(text: str):\n",
    "  text = text.lower()\n",
    "  text = re.sub(r'\\n|\\t|\\r|\\0', ' ', text)\n",
    "  text = re.sub(r'[^a-zA-Z0-9\\s]', ' ', text)\n",
    "  text = re.sub(r'\\s{2,}', ' ', text)\n",
    "  text = re.sub(r'\\s$', '', text)\n",
    "  text = re.sub(r'\\s[b-z]\\s', ' ', text)\n",
    "  text = re.sub(r'\\s[b-z]\\s', ' ', text)\n",
    "  text = re.sub(r'\\s{2,}', ' ', text)\n",
    "  return text\n",
    "\n",
    "\n",
    "def remove_stopwords(text: str):\n",
    "  stop_words = set(stopwords.words('english'))\n",
    "  words = word_tokenize(text)\n",
    "  filtered_words = [word for word in words if word not in stop_words]\n",
    "  return ' '.join(filtered_words)\n",
    "\n",
    "\n",
    "def clean_text(text: str):\n",
    "  text = remove_special_chars(text)\n",
    "  text = remove_stopwords(text)\n",
    "  return text\n",
    "\n",
    "\n",
    "data_path = os.path.join('data', 'cache', 'cleaned_text_data.parquet')\n",
    "\n",
    "if (os.path.exists(data_path)):\n",
    "  df = pd.read_parquet(data_path)\n",
    "else:\n",
    "  df['text'] = df['text'].apply(clean_text)\n",
    "  df.to_parquet(data_path)"
   ]
  },
  {
   "cell_type": "markdown",
   "metadata": {},
   "source": [
    "### **4.5. Sentence Embedding**"
   ]
  },
  {
   "cell_type": "markdown",
   "metadata": {},
   "source": [
    "We use pretrained embedding model to vectorize the text, there are 2 methods that we try in this project, **Sentence Transformer (all-MiniLM-L6-v2)** and **Fasttext**."
   ]
  },
  {
   "cell_type": "markdown",
   "metadata": {},
   "source": [
    "### **4.5.1. Sentence Transformers**"
   ]
  },
  {
   "cell_type": "markdown",
   "metadata": {},
   "source": [
    "Based on the [all-MiniLM-L6-v2 page](https://huggingface.co/sentence-transformers/all-MiniLM-L6-v2), we know that all-MiniLM-L6-v2 use 384 dense vector to represent a sentence. This model intended to be used as a sentence and short paragraph encoder that limited to 256 word pieces (longer that that will be truncated) that means, *there are some text will not be able to vectorize with full context*."
   ]
  },
  {
   "cell_type": "code",
   "execution_count": 5,
   "metadata": {},
   "outputs": [],
   "source": [
    "# %%script skipped # Skipped\n",
    "sent_embd_model = SentenceTransformer('sentence-transformers/all-MiniLM-L6-v2')"
   ]
  },
  {
   "cell_type": "code",
   "execution_count": 3,
   "metadata": {},
   "outputs": [
    {
     "data": {
      "text/plain": [
       "43"
      ]
     },
     "execution_count": 3,
     "metadata": {},
     "output_type": "execute_result"
    }
   ],
   "source": [
    "# %%script skipped # Skipped\n",
    "\n",
    "num_dim = 384\n",
    "embd_data_path = os.path.join('data', 'cache', 'sent_trans_embd_data.parquet')\n",
    "\n",
    "if (os.path.exists(embd_data_path)):\n",
    "  df = pd.read_parquet(embd_data_path)\n",
    "else:\n",
    "  df['text_embedded'] = df['text'].apply(sent_embd_model.encode)\n",
    "  df.to_parquet(embd_data_path)\n",
    "\n",
    "df['text_embedded'] = df['text_embedded'].apply(np.array)\n",
    "gc.collect()"
   ]
  },
  {
   "cell_type": "markdown",
   "metadata": {},
   "source": [
    "### **4.5.2. Fasttext**"
   ]
  },
  {
   "cell_type": "markdown",
   "metadata": {},
   "source": [
    "Basically `Fasttext` is used for word embedding, to get sentence vector, we simply use normalized average word vector among sentence. Normalization used because our objective is to determining similarity between texts/sentences. The advantages of using `Fasttext` besides it much faster, we also able to capture full context on every sentence because there is no sentence length limitation."
   ]
  },
  {
   "cell_type": "code",
   "execution_count": 17,
   "metadata": {},
   "outputs": [],
   "source": [
    "%%script skipped # Skipped\n",
    "\n",
    "model_path = os.path.join('pretrained_models', 'wiki-news-300d-1M-subword.vec')\n",
    "sent_embd_model = KeyedVectors.load_word2vec_format(model_path, binary=False)"
   ]
  },
  {
   "cell_type": "code",
   "execution_count": 18,
   "metadata": {},
   "outputs": [],
   "source": [
    "%%script skipped # Skipped\n",
    "\n",
    "def sentence_embedding(sentence, model):\n",
    "    words = word_tokenize(sentence)\n",
    "    words_in_vocab = [word for word in words if word in model]\n",
    "\n",
    "    if not words_in_vocab:\n",
    "        return None\n",
    "\n",
    "    embedding = np.mean([model[word] for word in words_in_vocab], axis=0)\n",
    "    embedding = normalize(embedding.reshape(1, -1), norm='l2').reshape(-1)\n",
    "\n",
    "    return embedding"
   ]
  },
  {
   "cell_type": "code",
   "execution_count": 167,
   "metadata": {},
   "outputs": [
    {
     "data": {
      "text/plain": [
       "20005"
      ]
     },
     "execution_count": 167,
     "metadata": {},
     "output_type": "execute_result"
    }
   ],
   "source": [
    "%%script skipped # Skipped\n",
    "\n",
    "num_dim = 300\n",
    "embd_data_path = os.path.join('data', 'cache', 'fasttext_embd_data.parquet')\n",
    "\n",
    "if (os.path.exists(embd_data_path)):\n",
    "  df = pd.read_parquet(embd_data_path)\n",
    "else:\n",
    "  df['text_embedded'] = df['text'].apply(sentence_embedding, model=sent_embd_model)\n",
    "  df.to_parquet(embd_data_path)\n",
    "\n",
    "df['text_embedded'] = df['text_embedded'].apply(np.array)\n",
    "gc.collect()"
   ]
  },
  {
   "cell_type": "code",
   "execution_count": 10,
   "metadata": {},
   "outputs": [
    {
     "name": "stdout",
     "output_type": "stream",
     "text": [
      "<class 'pandas.core.frame.DataFrame'>\n",
      "Index: 709953 entries, 91 to 1876223\n",
      "Data columns (total 3 columns):\n",
      " #   Column         Non-Null Count   Dtype \n",
      "---  ------         --------------   ----- \n",
      " 0   text           709953 non-null  object\n",
      " 1   duplicates_to  709953 non-null  int64 \n",
      " 2   text_embedded  709953 non-null  object\n",
      "dtypes: int64(1), object(2)\n",
      "memory usage: 1.2 GB\n"
     ]
    }
   ],
   "source": [
    "df.info(memory_usage='deep')"
   ]
  },
  {
   "cell_type": "markdown",
   "metadata": {},
   "source": [
    "### **4.6. Sentence Pairs**"
   ]
  },
  {
   "cell_type": "markdown",
   "metadata": {},
   "source": [
    "We create sentence pairs and label them whether both unique or (same) duplicated report"
   ]
  },
  {
   "cell_type": "code",
   "execution_count": 4,
   "metadata": {},
   "outputs": [],
   "source": [
    "df = df.reset_index()"
   ]
  },
  {
   "cell_type": "code",
   "execution_count": 5,
   "metadata": {},
   "outputs": [],
   "source": [
    "df_duplicate_pairs = df[df['duplicates_to'] != -1].copy()\n",
    "df_unique_pairs = df[df['duplicates_to'] == -1].copy()"
   ]
  },
  {
   "cell_type": "code",
   "execution_count": 6,
   "metadata": {},
   "outputs": [
    {
     "data": {
      "text/html": [
       "<div>\n",
       "<style scoped>\n",
       "    .dataframe tbody tr th:only-of-type {\n",
       "        vertical-align: middle;\n",
       "    }\n",
       "\n",
       "    .dataframe tbody tr th {\n",
       "        vertical-align: top;\n",
       "    }\n",
       "\n",
       "    .dataframe thead th {\n",
       "        text-align: right;\n",
       "    }\n",
       "</style>\n",
       "<table border=\"1\" class=\"dataframe\">\n",
       "  <thead>\n",
       "    <tr style=\"text-align: right;\">\n",
       "      <th></th>\n",
       "      <th>id__left</th>\n",
       "      <th>text__left</th>\n",
       "      <th>text_embedded__left</th>\n",
       "      <th>id__right</th>\n",
       "      <th>text__right</th>\n",
       "      <th>text_embedded__right</th>\n",
       "      <th>label</th>\n",
       "    </tr>\n",
       "  </thead>\n",
       "  <tbody>\n",
       "    <tr>\n",
       "      <th>0</th>\n",
       "      <td>273</td>\n",
       "      <td>x86 xul submenu open delay wrong windows</td>\n",
       "      <td>[0.009231214, -0.056730874, 0.02627475, 0.0123...</td>\n",
       "      <td>24514</td>\n",
       "      <td>x86 xul tweak open delay use os setting</td>\n",
       "      <td>[0.03783767, -0.015200045, -0.022235006, 0.032...</td>\n",
       "      <td>1</td>\n",
       "    </tr>\n",
       "    <tr>\n",
       "      <th>1</th>\n",
       "      <td>414</td>\n",
       "      <td>x86 javascript engine resizing browser href fu...</td>\n",
       "      <td>[-0.038329743, 0.0071658525, 0.048500344, 0.03...</td>\n",
       "      <td>415</td>\n",
       "      <td>x86 javascript engine resizing browser href fu...</td>\n",
       "      <td>[-0.038329743, 0.0071658525, 0.048500344, 0.03...</td>\n",
       "      <td>1</td>\n",
       "    </tr>\n",
       "    <tr>\n",
       "      <th>2</th>\n",
       "      <td>466</td>\n",
       "      <td>layout font stacks parsing algorithm bug</td>\n",
       "      <td>[-0.08694876, -0.010136366, 0.038810704, -0.00...</td>\n",
       "      <td>991</td>\n",
       "      <td>x86 dom html parser dogfood 4 xp font tags con...</td>\n",
       "      <td>[-0.009354677, -0.012226332, 0.04828655, -0.03...</td>\n",
       "      <td>1</td>\n",
       "    </tr>\n",
       "    <tr>\n",
       "      <th>3</th>\n",
       "      <td>599</td>\n",
       "      <td>x86 networking ftp ss ftp directories displaying</td>\n",
       "      <td>[0.045445204, -0.026756555, -0.029333267, 0.05...</td>\n",
       "      <td>1533</td>\n",
       "      <td>x86 networking ftp ftp urls crash 11 23 98 xpv...</td>\n",
       "      <td>[-0.012797209, -0.006409554, 0.019315422, -0.0...</td>\n",
       "      <td>1</td>\n",
       "    </tr>\n",
       "    <tr>\n",
       "      <th>4</th>\n",
       "      <td>603</td>\n",
       "      <td>x86 layout script src work</td>\n",
       "      <td>[-0.015569594, -0.017515322, -0.034079563, -0....</td>\n",
       "      <td>1433</td>\n",
       "      <td>x86 layout page loading synchronous embedded s...</td>\n",
       "      <td>[-0.038522158, 0.040723607, 0.013081141, 0.005...</td>\n",
       "      <td>1</td>\n",
       "    </tr>\n",
       "  </tbody>\n",
       "</table>\n",
       "</div>"
      ],
      "text/plain": [
       "   id__left                                         text__left  \\\n",
       "0       273           x86 xul submenu open delay wrong windows   \n",
       "1       414  x86 javascript engine resizing browser href fu...   \n",
       "2       466           layout font stacks parsing algorithm bug   \n",
       "3       599   x86 networking ftp ss ftp directories displaying   \n",
       "4       603                         x86 layout script src work   \n",
       "\n",
       "                                 text_embedded__left  id__right  \\\n",
       "0  [0.009231214, -0.056730874, 0.02627475, 0.0123...      24514   \n",
       "1  [-0.038329743, 0.0071658525, 0.048500344, 0.03...        415   \n",
       "2  [-0.08694876, -0.010136366, 0.038810704, -0.00...        991   \n",
       "3  [0.045445204, -0.026756555, -0.029333267, 0.05...       1533   \n",
       "4  [-0.015569594, -0.017515322, -0.034079563, -0....       1433   \n",
       "\n",
       "                                         text__right  \\\n",
       "0            x86 xul tweak open delay use os setting   \n",
       "1  x86 javascript engine resizing browser href fu...   \n",
       "2  x86 dom html parser dogfood 4 xp font tags con...   \n",
       "3  x86 networking ftp ftp urls crash 11 23 98 xpv...   \n",
       "4  x86 layout page loading synchronous embedded s...   \n",
       "\n",
       "                                text_embedded__right  label  \n",
       "0  [0.03783767, -0.015200045, -0.022235006, 0.032...      1  \n",
       "1  [-0.038329743, 0.0071658525, 0.048500344, 0.03...      1  \n",
       "2  [-0.009354677, -0.012226332, 0.04828655, -0.03...      1  \n",
       "3  [-0.012797209, -0.006409554, 0.019315422, -0.0...      1  \n",
       "4  [-0.038522158, 0.040723607, 0.013081141, 0.005...      1  "
      ]
     },
     "execution_count": 6,
     "metadata": {},
     "output_type": "execute_result"
    }
   ],
   "source": [
    "df_duplicate_pairs = pd.merge(left=df_duplicate_pairs,\n",
    "                        right=df_unique_pairs,\n",
    "                        left_on='duplicates_to',\n",
    "                        right_on='id',\n",
    "                        suffixes=('__left', '__right'))\n",
    "df_duplicate_pairs = df_duplicate_pairs.drop(columns=['duplicates_to__left', 'duplicates_to__right'])\n",
    "df_duplicate_pairs['label'] = 1\n",
    "df_duplicate_pairs = df_duplicate_pairs.reset_index(drop=True)\n",
    "\n",
    "df_duplicate_pairs.head()"
   ]
  },
  {
   "cell_type": "code",
   "execution_count": 7,
   "metadata": {},
   "outputs": [
    {
     "data": {
      "text/html": [
       "<div>\n",
       "<style scoped>\n",
       "    .dataframe tbody tr th:only-of-type {\n",
       "        vertical-align: middle;\n",
       "    }\n",
       "\n",
       "    .dataframe tbody tr th {\n",
       "        vertical-align: top;\n",
       "    }\n",
       "\n",
       "    .dataframe thead th {\n",
       "        text-align: right;\n",
       "    }\n",
       "</style>\n",
       "<table border=\"1\" class=\"dataframe\">\n",
       "  <thead>\n",
       "    <tr style=\"text-align: right;\">\n",
       "      <th></th>\n",
       "      <th>text_embedded__left</th>\n",
       "      <th>text__left</th>\n",
       "      <th>id__left</th>\n",
       "      <th>text_embedded__right</th>\n",
       "      <th>text__right</th>\n",
       "      <th>id__right</th>\n",
       "      <th>label</th>\n",
       "    </tr>\n",
       "  </thead>\n",
       "  <tbody>\n",
       "    <tr>\n",
       "      <th>0</th>\n",
       "      <td>[0.0037959728, -0.035022546, -0.021059414, -0....</td>\n",
       "      <td>unspecified panning zooming use isrootcontentd...</td>\n",
       "      <td>1728665</td>\n",
       "      <td>[-0.046126463, 0.07969776, -0.008310649, -0.02...</td>\n",
       "      <td>desktop security psm meta tls 1 0 1 1 deprecat...</td>\n",
       "      <td>1616494.0</td>\n",
       "      <td>0</td>\n",
       "    </tr>\n",
       "    <tr>\n",
       "      <th>1</th>\n",
       "      <td>[0.0060888575, 0.019317826, 0.022315515, 0.033...</td>\n",
       "      <td>unspecified dom core html intermittent test un...</td>\n",
       "      <td>1315172</td>\n",
       "      <td>[0.0037959728, -0.035022546, -0.021059414, -0....</td>\n",
       "      <td>unspecified panning zooming use isrootcontentd...</td>\n",
       "      <td>1728665.0</td>\n",
       "      <td>0</td>\n",
       "    </tr>\n",
       "    <tr>\n",
       "      <th>2</th>\n",
       "      <td>[0.03650787, 0.005706785, 0.06280722, 0.008842...</td>\n",
       "      <td>dom html parser object object object</td>\n",
       "      <td>139298</td>\n",
       "      <td>[0.0060888575, 0.019317826, 0.022315515, 0.033...</td>\n",
       "      <td>unspecified dom core html intermittent test un...</td>\n",
       "      <td>1315172.0</td>\n",
       "      <td>0</td>\n",
       "    </tr>\n",
       "    <tr>\n",
       "      <th>3</th>\n",
       "      <td>[0.0035623948, -0.10948064, 0.010345231, -0.08...</td>\n",
       "      <td>unspecified audio video playback support audio...</td>\n",
       "      <td>1321502</td>\n",
       "      <td>[0.03650787, 0.005706785, 0.06280722, 0.008842...</td>\n",
       "      <td>dom html parser object object object</td>\n",
       "      <td>139298.0</td>\n",
       "      <td>0</td>\n",
       "    </tr>\n",
       "    <tr>\n",
       "      <th>4</th>\n",
       "      <td>[-0.09122259, 0.07784709, -0.096260756, -0.040...</td>\n",
       "      <td>security load opensc pkcs11 dll</td>\n",
       "      <td>1302175</td>\n",
       "      <td>[0.0035623948, -0.10948064, 0.010345231, -0.08...</td>\n",
       "      <td>unspecified audio video playback support audio...</td>\n",
       "      <td>1321502.0</td>\n",
       "      <td>0</td>\n",
       "    </tr>\n",
       "  </tbody>\n",
       "</table>\n",
       "</div>"
      ],
      "text/plain": [
       "                                 text_embedded__left  \\\n",
       "0  [0.0037959728, -0.035022546, -0.021059414, -0....   \n",
       "1  [0.0060888575, 0.019317826, 0.022315515, 0.033...   \n",
       "2  [0.03650787, 0.005706785, 0.06280722, 0.008842...   \n",
       "3  [0.0035623948, -0.10948064, 0.010345231, -0.08...   \n",
       "4  [-0.09122259, 0.07784709, -0.096260756, -0.040...   \n",
       "\n",
       "                                          text__left  id__left  \\\n",
       "0  unspecified panning zooming use isrootcontentd...   1728665   \n",
       "1  unspecified dom core html intermittent test un...   1315172   \n",
       "2               dom html parser object object object    139298   \n",
       "3  unspecified audio video playback support audio...   1321502   \n",
       "4                    security load opensc pkcs11 dll   1302175   \n",
       "\n",
       "                                text_embedded__right  \\\n",
       "0  [-0.046126463, 0.07969776, -0.008310649, -0.02...   \n",
       "1  [0.0037959728, -0.035022546, -0.021059414, -0....   \n",
       "2  [0.0060888575, 0.019317826, 0.022315515, 0.033...   \n",
       "3  [0.03650787, 0.005706785, 0.06280722, 0.008842...   \n",
       "4  [0.0035623948, -0.10948064, 0.010345231, -0.08...   \n",
       "\n",
       "                                         text__right  id__right  label  \n",
       "0  desktop security psm meta tls 1 0 1 1 deprecat...  1616494.0      0  \n",
       "1  unspecified panning zooming use isrootcontentd...  1728665.0      0  \n",
       "2  unspecified dom core html intermittent test un...  1315172.0      0  \n",
       "3               dom html parser object object object   139298.0      0  \n",
       "4  unspecified audio video playback support audio...  1321502.0      0  "
      ]
     },
     "execution_count": 7,
     "metadata": {},
     "output_type": "execute_result"
    }
   ],
   "source": [
    "half_rows = df_unique_pairs.shape[0] // 2\n",
    "df_unique_pairs = df_unique_pairs.sample(frac=1, replace=False, random_state=42)\n",
    "\n",
    "_df_unique_pairs = pd.DataFrame()\n",
    "_df_unique_pairs['text_embedded__left'] = df_unique_pairs['text_embedded']\n",
    "_df_unique_pairs['text__left'] = df_unique_pairs['text']\n",
    "_df_unique_pairs['id__left'] = df_unique_pairs['id']\n",
    "\n",
    "_df_unique_pairs['text_embedded__right'] = df_unique_pairs['text_embedded'].shift(1)\n",
    "_df_unique_pairs['text__right'] = df_unique_pairs['text'].shift(1)\n",
    "_df_unique_pairs['id__right'] = df_unique_pairs['id'].shift(1)\n",
    "\n",
    "_df_unique_pairs = _df_unique_pairs.dropna()\n",
    "_df_unique_pairs['label'] = 0\n",
    "\n",
    "df_unique_pairs = _df_unique_pairs.reset_index(drop=True)\n",
    "\n",
    "del _df_unique_pairs\n",
    "gc.collect()\n",
    "\n",
    "df_unique_pairs.head()"
   ]
  },
  {
   "cell_type": "code",
   "execution_count": 8,
   "metadata": {},
   "outputs": [
    {
     "data": {
      "text/plain": [
       "0"
      ]
     },
     "execution_count": 8,
     "metadata": {},
     "output_type": "execute_result"
    }
   ],
   "source": [
    "df = pd.concat([df_duplicate_pairs, df_unique_pairs], axis=0).sample(frac=1, replace=False, random_state=42).reset_index(drop=True)\n",
    "gc.collect()"
   ]
  },
  {
   "cell_type": "markdown",
   "metadata": {},
   "source": [
    "### **5. Data Split**"
   ]
  },
  {
   "cell_type": "markdown",
   "metadata": {},
   "source": [
    "### **5.1. Train Test Split**"
   ]
  },
  {
   "cell_type": "code",
   "execution_count": 9,
   "metadata": {},
   "outputs": [
    {
     "name": "stdout",
     "output_type": "stream",
     "text": [
      "Shape of X_train: (491758, 2)\n",
      "Shape of X_test: (210754, 2)\n",
      "Shape of y_train: (491758,)\n",
      "Shape of y_test: (210754,)\n"
     ]
    }
   ],
   "source": [
    "X, X_test, y, y_test = train_test_split(df[['text_embedded__left', 'text_embedded__right']],\n",
    "                                        df['label'],\n",
    "                                        shuffle=True,\n",
    "                                        stratify=df['label'],\n",
    "                                        test_size=0.3,\n",
    "                                        random_state=42)\n",
    "\n",
    "print(f'Shape of X_train: {X.shape}')\n",
    "print(f'Shape of X_test: {X_test.shape}')\n",
    "print(f'Shape of y_train: {y.shape}')\n",
    "print(f'Shape of y_test: {y_test.shape}')"
   ]
  },
  {
   "cell_type": "code",
   "execution_count": 10,
   "metadata": {},
   "outputs": [
    {
     "name": "stdout",
     "output_type": "stream",
     "text": [
      "Train dataset target shape => 0: 422123, 1: 69635\n",
      "Test dataset target shape => 0: 180910, 1: 29844\n"
     ]
    }
   ],
   "source": [
    "print(f'Train dataset target shape => 0: {Counter(y)[0]}, 1: {Counter(y)[1]}')\n",
    "print(f'Test dataset target shape => 0: {Counter(y_test)[0]}, 1: {Counter(y_test)[1]}')"
   ]
  },
  {
   "cell_type": "markdown",
   "metadata": {},
   "source": [
    "### **5.2. Oversampling (Skipped)**"
   ]
  },
  {
   "cell_type": "code",
   "execution_count": 215,
   "metadata": {},
   "outputs": [
    {
     "name": "stdout",
     "output_type": "stream",
     "text": [
      "Resampled dataset target shape: Counter({0: 128312, 1: 128312})\n"
     ]
    }
   ],
   "source": [
    "%%script skipped # Skipped\n",
    "\n",
    "resampler = RandomOverSampler(random_state=42)\n",
    "X, y = resampler.fit_resample(X, y)\n",
    "\n",
    "print(f'Resampled dataset target shape: {Counter(y)}')"
   ]
  },
  {
   "cell_type": "markdown",
   "metadata": {},
   "source": [
    "### **5.3. Data Fold**"
   ]
  },
  {
   "cell_type": "markdown",
   "metadata": {},
   "source": [
    "We use OOF Cross Validation with 5 stratified fold"
   ]
  },
  {
   "cell_type": "code",
   "execution_count": 11,
   "metadata": {},
   "outputs": [],
   "source": [
    "n_splits = 5\n",
    "skf = StratifiedKFold(n_splits=n_splits, shuffle=True, random_state=42)"
   ]
  },
  {
   "cell_type": "markdown",
   "metadata": {},
   "source": [
    "### **6. Model Preparation**"
   ]
  },
  {
   "cell_type": "markdown",
   "metadata": {},
   "source": [
    "The model architecture utilized is a Siamese network with two input layers for embedded text, a projection layer (fully connected), a similarity layer (normalized dot product), and a single fully connected node with sigmoid activation at the end for binary classification. This model is trained to classify whether the text pairs are the same (duplicate) or different (unique). In this project, we test two different types of projection layers: one with a fully connected / dense layer and the other with an LSTM layer."
   ]
  },
  {
   "cell_type": "markdown",
   "metadata": {},
   "source": [
    "### **6.1. Dense Model**"
   ]
  },
  {
   "cell_type": "markdown",
   "metadata": {},
   "source": [
    "The model constructed using 2 inputs, a fully connected layer (acting as projection layer), a similarity layer (using normalized dot product), then last layer is a fully connected with sigmoid activation."
   ]
  },
  {
   "cell_type": "code",
   "execution_count": 12,
   "metadata": {},
   "outputs": [
    {
     "name": "stdout",
     "output_type": "stream",
     "text": [
      "WARNING:tensorflow:From d:\\Project\\Python\\End to End Projects\\Bug Classification\\Notebook\\venv\\Lib\\site-packages\\keras\\src\\backend.py:1398: The name tf.executing_eagerly_outside_functions is deprecated. Please use tf.compat.v1.executing_eagerly_outside_functions instead.\n",
      "\n",
      "Model: \"training_model\"\n",
      "__________________________________________________________________________________________________\n",
      " Layer (type)                Output Shape                 Param #   Connected to                  \n",
      "==================================================================================================\n",
      " input_1 (InputLayer)        [(None, 384)]                0         []                            \n",
      "                                                                                                  \n",
      " input_2 (InputLayer)        [(None, 384)]                0         []                            \n",
      "                                                                                                  \n",
      " shared_node_1 (Dense)       (None, 256)                  98560     ['input_1[0][0]',             \n",
      "                                                                     'input_2[0][0]']             \n",
      "                                                                                                  \n",
      " cosine_similarity (Dot)     (None, 1)                    0         ['shared_node_1[0][0]',       \n",
      "                                                                     'shared_node_1[1][0]']       \n",
      "                                                                                                  \n",
      " output (Dense)              (None, 1)                    2         ['cosine_similarity[0][0]']   \n",
      "                                                                                                  \n",
      "==================================================================================================\n",
      "Total params: 98562 (385.01 KB)\n",
      "Trainable params: 98562 (385.01 KB)\n",
      "Non-trainable params: 0 (0.00 Byte)\n",
      "__________________________________________________________________________________________________\n"
     ]
    }
   ],
   "source": [
    "# %%script skipped # Skipped\n",
    "\n",
    "input_1 = Input(shape=(num_dim, ), name='input_1')\n",
    "input_2 = Input(shape=(num_dim, ), name='input_2')\n",
    "\n",
    "shared_node_1 = Dense(256, activation='linear', name='shared_node_1')\n",
    "\n",
    "x1 = shared_node_1(input_1)\n",
    "x2 = shared_node_1(input_2)\n",
    "\n",
    "cosine_similarity_layer = Dot(axes=-1, normalize=True, name='cosine_similarity')([x1, x2])\n",
    "output_layer = Dense(1, activation='sigmoid', name='output')(cosine_similarity_layer)\n",
    "\n",
    "training_model = Model(inputs=[input_1, input_2], outputs=output_layer, name='training_model')\n",
    "\n",
    "optimizer = keras.optimizers.Adam(learning_rate=0.002)\n",
    "loss = keras.losses.BinaryCrossentropy(from_logits=False)\n",
    "metrics=[\n",
    "    keras.metrics.Precision(name='precision'),\n",
    "    keras.metrics.Recall(name='recall')\n",
    "  ]\n",
    "\n",
    "training_model.compile(\n",
    "  loss=loss,\n",
    "  optimizer=optimizer,\n",
    "  metrics=metrics)\n",
    "\n",
    "training_model.summary()"
   ]
  },
  {
   "cell_type": "markdown",
   "metadata": {},
   "source": [
    "### **6.2. LSTM Model**"
   ]
  },
  {
   "cell_type": "markdown",
   "metadata": {},
   "source": [
    "The model constructed using 2 inputs, an LSTM layer (return  a sequence that acting as latent layer), a 1D global average pooling layer, a similarity layer (using normalized dot product), then last layer is a fully connected with sigmoid activation."
   ]
  },
  {
   "cell_type": "code",
   "execution_count": 218,
   "metadata": {},
   "outputs": [
    {
     "name": "stdout",
     "output_type": "stream",
     "text": [
      "Couldn't find program: 'skipped'\n"
     ]
    }
   ],
   "source": [
    "%%script skipped # Skipped\n",
    "\n",
    "input_1 = Input(shape=(num_dim, ), name='input_1')\n",
    "input_2 = Input(shape=(num_dim, ), name='input_2')\n",
    "\n",
    "reshape_node = Reshape((1, num_dim), input_shape=(num_dim, ), name='reshape_node_1')\n",
    "\n",
    "shared_node_1 = Bidirectional(LSTM(256, return_sequences=True, input_shape=(1, num_dim)), name='shared_node_1')\n",
    "shared_node_2 = GlobalAveragePooling1D(name='shared_node_2')\n",
    "\n",
    "x1 = reshape_node(input_1)\n",
    "x1 = shared_node_1(x1)\n",
    "x1 = shared_node_2(x1)\n",
    "\n",
    "x2 = reshape_node(input_2)\n",
    "x2 = shared_node_1(x2)\n",
    "x2 = shared_node_2(x2)\n",
    "\n",
    "cosine_similarity_layer = Dot(axes=-1, normalize=True, name='cosine_similarity')([x1, x2])\n",
    "output_layer = Dense(1, activation='sigmoid', name='output')(cosine_similarity_layer)\n",
    "\n",
    "training_model = Model(inputs=[input_1, input_2], outputs=output_layer, name='training_model')\n",
    "\n",
    "optimizer = keras.optimizers.Adam(learning_rate=0.002)\n",
    "loss = keras.losses.BinaryCrossentropy(from_logits=False)\n",
    "metrics=[\n",
    "    keras.metrics.Precision(name='precision'),\n",
    "    keras.metrics.Recall(name='recall')\n",
    "  ]\n",
    "\n",
    "training_model.compile(\n",
    "  loss=loss,\n",
    "  optimizer=optimizer,\n",
    "  metrics=metrics)\n",
    "\n",
    "training_model.summary()"
   ]
  },
  {
   "cell_type": "markdown",
   "metadata": {},
   "source": [
    "### **7. Model Training**"
   ]
  },
  {
   "cell_type": "markdown",
   "metadata": {},
   "source": [
    "### **7.1. Traning Preparation**"
   ]
  },
  {
   "cell_type": "code",
   "execution_count": 13,
   "metadata": {},
   "outputs": [
    {
     "data": {
      "text/plain": [
       "302"
      ]
     },
     "execution_count": 13,
     "metadata": {},
     "output_type": "execute_result"
    }
   ],
   "source": [
    "tf.random.set_seed(42)\n",
    "gc.collect()"
   ]
  },
  {
   "cell_type": "code",
   "execution_count": 14,
   "metadata": {},
   "outputs": [],
   "source": [
    "def train_model(X_train, X_valid, y_train, y_valid, batch_size, epochs, callbacks=None, verbose='auto'):\n",
    "  history = training_model.fit(\n",
    "    X_train,\n",
    "    y_train,\n",
    "    epochs=epochs,\n",
    "    batch_size=batch_size,\n",
    "    validation_data=(X_valid, y_valid),\n",
    "    callbacks=[*callbacks],\n",
    "    verbose=verbose)\n",
    "    \n",
    "  train_score = training_model.evaluate(X_train, y_train, verbose=verbose)[1:]\n",
    "  valid_score = training_model.evaluate(X_valid, y_valid, verbose=verbose)[1:]\n",
    "  \n",
    "  return [train_score, valid_score, history]"
   ]
  },
  {
   "cell_type": "markdown",
   "metadata": {},
   "source": [
    "### **7.2. Model Training**"
   ]
  },
  {
   "cell_type": "code",
   "execution_count": 15,
   "metadata": {},
   "outputs": [
    {
     "name": "stdout",
     "output_type": "stream",
     "text": [
      "WARNING:tensorflow:From d:\\Project\\Python\\End to End Projects\\Bug Classification\\Notebook\\venv\\Lib\\site-packages\\keras\\src\\utils\\tf_utils.py:492: The name tf.ragged.RaggedTensorValue is deprecated. Please use tf.compat.v1.ragged.RaggedTensorValue instead.\n",
      "\n",
      "fold-1: train - precision = 0.9773231744766235, recall = 0.9562181234359741\n",
      "fold-1: valid - precision = 0.9205673933029175, recall = 0.8854024410247803\n",
      "----------------------------------------------------------------------------------------------------\n",
      "fold-2: train - precision = 0.9798821806907654, recall = 0.9705069065093994\n",
      "fold-2: valid - precision = 0.9239792227745056, recall = 0.893659770488739\n",
      "----------------------------------------------------------------------------------------------------\n",
      "fold-3: train - precision = 0.9854156970977783, recall = 0.9800028800964355\n",
      "fold-3: valid - precision = 0.9094855785369873, recall = 0.9025633931159973\n",
      "----------------------------------------------------------------------------------------------------\n",
      "fold-4: train - precision = 0.9897197484970093, recall = 0.9833416938781738\n",
      "fold-4: valid - precision = 0.9202314615249634, recall = 0.9020607471466064\n",
      "----------------------------------------------------------------------------------------------------\n",
      "fold-5: train - precision = 0.9908096790313721, recall = 0.9869856834411621\n",
      "fold-5: valid - precision = 0.9198192358016968, recall = 0.9060817360877991\n",
      "----------------------------------------------------------------------------------------------------\n",
      "average_score: train - precision = 0.9846300959587098, recall = 0.975411057472229\n",
      "average_score: valid - precision = 0.9188165783882141, recall = 0.8979536175727845\n"
     ]
    }
   ],
   "source": [
    "epochs = 30\n",
    "batch_size = 128\n",
    "\n",
    "train_scores = []\n",
    "valid_scores = []\n",
    "histories = []\n",
    "\n",
    "for fold, (train_idx, valid_idx) in enumerate(skf.split(X, y)):\n",
    "    X_train, X_valid = X.iloc[train_idx], X.iloc[valid_idx]\n",
    "    y_train, y_valid = y.iloc[train_idx], y.iloc[valid_idx]\n",
    "\n",
    "    X_train_inputs = [np.vstack(X_train['text_embedded__left']), np.vstack(X_train['text_embedded__right'])]\n",
    "    X_valid_inputs = [np.vstack(X_valid['text_embedded__left']), np.vstack(X_valid['text_embedded__right'])]\n",
    "    \n",
    "    early_stopping = EarlyStopping(monitor='loss', patience=5, restore_best_weights=True)\n",
    "    \n",
    "    train_score, valid_score, history = train_model(X_train_inputs,\n",
    "                                                    X_valid_inputs,\n",
    "                                                    y_train,\n",
    "                                                    y_valid,\n",
    "                                                    batch_size=batch_size,\n",
    "                                                    epochs=epochs,\n",
    "                                                    callbacks=[early_stopping],\n",
    "                                                    verbose=0)\n",
    "    \n",
    "    print(f'fold-{fold + 1}: train - precision = {train_score[0]}, recall = {train_score[1]}')\n",
    "    print(f'fold-{fold + 1}: valid - precision = {valid_score[0]}, recall = {valid_score[1]}')\n",
    "    print('-' * 100)\n",
    "    \n",
    "    train_scores.append(train_score)\n",
    "    valid_scores.append(valid_score)\n",
    "    histories.append(history.history)\n",
    "    \n",
    "train_scores_avg = np.mean(train_scores, axis=0)\n",
    "valid_scores_avg = np.mean(valid_scores, axis=0)\n",
    "\n",
    "print(f'average_score: train - precision = {train_scores_avg[0]}, recall = {train_scores_avg[1]}')\n",
    "print(f'average_score: valid - precision = {valid_scores_avg[0]}, recall = {valid_scores_avg[1]}')"
   ]
  },
  {
   "cell_type": "markdown",
   "metadata": {},
   "source": [
    "### **7.3. Save/Load Model**"
   ]
  },
  {
   "cell_type": "code",
   "execution_count": 18,
   "metadata": {},
   "outputs": [],
   "source": [
    "# %%script skipped # Skipped\n",
    "\n",
    "MODE = 'save'\n",
    "\n",
    "saved_model_path = os.path.join('models', 'model_dense_sent_trans.h5')\n",
    "saved_train_data_path = os.path.join('models', 'model_dense_sent_trans.json')\n",
    "\n",
    "if MODE == 'save':\n",
    "  training_model.save(saved_model_path)\n",
    "  save_json(histories ,saved_train_data_path)\n",
    "elif MODE == 'load':\n",
    "  training_model = load_model(saved_model_path)\n",
    "  histories = load_json(saved_train_data_path)"
   ]
  },
  {
   "cell_type": "markdown",
   "metadata": {},
   "source": [
    "### **7.4. Model Training Evaluation**"
   ]
  },
  {
   "cell_type": "markdown",
   "metadata": {},
   "source": [
    "From plots below, we can see drops in precisin and recall happens on every beginning of the fold training, but overall both tends to improve over the time."
   ]
  },
  {
   "cell_type": "code",
   "execution_count": 19,
   "metadata": {},
   "outputs": [
    {
     "data": {
      "image/png": "[encoded data removed]",
      "text/plain": [
       "<Figure size 1000x500 with 2 Axes>"
      ]
     },
     "metadata": {},
     "output_type": "display_data"
    }
   ],
   "source": [
    "valid_precision_score = [item for history in histories for item in history['val_precision']]\n",
    "train_precision_score = [item for history in histories for item in history['precision']]\n",
    "valid_recall_score = [item for history in histories for item in history['val_recall']]\n",
    "train_recall_score = [item for history in histories for item in history['recall']]\n",
    "\n",
    "fig, axes = plt.subplots(1, 2, figsize=(10, 5), sharey=True)\n",
    "\n",
    "axes[0].plot(valid_precision_score, label='valid')\n",
    "axes[0].plot(train_precision_score, label='train')\n",
    "axes[0].set_title('Precision Score')\n",
    "axes[0].set_xlabel('epoch')\n",
    "axes[0].set_ylabel('score')\n",
    "axes[0].legend()\n",
    "axes[0].grid()\n",
    "\n",
    "axes[1].plot(valid_recall_score, label='valid')\n",
    "axes[1].plot(train_recall_score, label='train')\n",
    "axes[1].set_title('Recall Score')\n",
    "axes[1].set_xlabel('epoch')\n",
    "axes[1].set_ylabel('score')\n",
    "axes[1].legend()\n",
    "axes[1].grid()\n",
    "\n",
    "plt.tight_layout()\n",
    "plt.show()"
   ]
  },
  {
   "cell_type": "markdown",
   "metadata": {},
   "source": [
    "### **7.5. Embedding Model Preparation**"
   ]
  },
  {
   "cell_type": "markdown",
   "metadata": {},
   "source": [
    "We only use first shared_node for embedding model"
   ]
  },
  {
   "cell_type": "markdown",
   "metadata": {},
   "source": [
    "### **7.5.1. Get Dense Embedding Model**"
   ]
  },
  {
   "cell_type": "code",
   "execution_count": 20,
   "metadata": {},
   "outputs": [
    {
     "name": "stdout",
     "output_type": "stream",
     "text": [
      "Model: \"embd_inference_model\"\n",
      "_________________________________________________________________\n",
      " Layer (type)                Output Shape              Param #   \n",
      "=================================================================\n",
      " input (InputLayer)          [(None, 384)]             0         \n",
      "                                                                 \n",
      " shared_node_1 (Dense)       (None, 256)               98560     \n",
      "                                                                 \n",
      "=================================================================\n",
      "Total params: 98560 (385.00 KB)\n",
      "Trainable params: 98560 (385.00 KB)\n",
      "Non-trainable params: 0 (0.00 Byte)\n",
      "_________________________________________________________________\n"
     ]
    }
   ],
   "source": [
    "embd_input = Input(shape=(num_dim, ), name='input')\n",
    "embd_output = training_model.get_layer('shared_node_1')(embd_input)\n",
    "\n",
    "embd_model = Model(inputs=embd_input, outputs=embd_output, name='embd_inference_model')\n",
    "embd_model.summary()"
   ]
  },
  {
   "cell_type": "markdown",
   "metadata": {},
   "source": [
    "### **7.5.2. Get LSTM Embedding Model**"
   ]
  },
  {
   "cell_type": "code",
   "execution_count": 226,
   "metadata": {},
   "outputs": [
    {
     "name": "stdout",
     "output_type": "stream",
     "text": [
      "Couldn't find program: 'skipped'\n"
     ]
    }
   ],
   "source": [
    "%%script skipped # Skipped\n",
    "\n",
    "embd_input = Input(shape=(num_dim, ), name='input')\n",
    "embd_x = training_model.get_layer('reshape_node_1')(embd_input)\n",
    "embd_x = training_model.get_layer('shared_node_1')(embd_x)\n",
    "embd_x = training_model.get_layer('shared_node_2')(embd_x)\n",
    "embd_output = training_model.get_layer('shared_node_3')(embd_x)\n",
    "\n",
    "embd_model = Model(inputs=embd_input, outputs=embd_output, name='embd_inference_model')\n",
    "embd_model.summary()"
   ]
  },
  {
   "cell_type": "markdown",
   "metadata": {},
   "source": [
    "### **7.6. Embedding Model Evaluation**"
   ]
  },
  {
   "cell_type": "code",
   "execution_count": 21,
   "metadata": {},
   "outputs": [],
   "source": [
    "def custom_cosine_similarity(text_1: np.ndarray, text_2: np.ndarray):\n",
    "    dot_product = np.dot(text_1, text_2)\n",
    "    norm_text_1 = np.linalg.norm(text_1)\n",
    "    norm_text_2 = np.linalg.norm(text_2)\n",
    "    \n",
    "    similarity = dot_product / (norm_text_1 * norm_text_2)\n",
    "    return similarity"
   ]
  },
  {
   "cell_type": "code",
   "execution_count": 22,
   "metadata": {},
   "outputs": [
    {
     "name": "stdout",
     "output_type": "stream",
     "text": [
      "6587/6587 [==============================] - 8s 1ms/step\n",
      "6587/6587 [==============================] - 8s 1ms/step\n"
     ]
    }
   ],
   "source": [
    "embd_test_left = embd_model.predict(np.vstack(X_test['text_embedded__left']))\n",
    "embd_test_right = embd_model.predict(np.vstack(X_test['text_embedded__right']))\n",
    "\n",
    "embd_similarity = np.array([custom_cosine_similarity(embd_1, embd_2) for embd_1, embd_2 in zip(embd_test_left, embd_test_right)])"
   ]
  },
  {
   "cell_type": "code",
   "execution_count": 23,
   "metadata": {},
   "outputs": [],
   "source": [
    "def evaluate_model(similarity_scores: np.ndarray, threshold: float):\n",
    "  embd_binary_similarity = (similarity_scores > threshold).astype(int)\n",
    "\n",
    "  precision = precision_score(y_test, embd_binary_similarity)\n",
    "  recall = recall_score(y_test, embd_binary_similarity)\n",
    "  f1 = f1_score(y_test, embd_binary_similarity)\n",
    "  \n",
    "  return [precision, recall, f1]"
   ]
  },
  {
   "cell_type": "code",
   "execution_count": 24,
   "metadata": {},
   "outputs": [
    {
     "data": {
      "text/html": [
       "<div>\n",
       "<style scoped>\n",
       "    .dataframe tbody tr th:only-of-type {\n",
       "        vertical-align: middle;\n",
       "    }\n",
       "\n",
       "    .dataframe tbody tr th {\n",
       "        vertical-align: top;\n",
       "    }\n",
       "\n",
       "    .dataframe thead th {\n",
       "        text-align: right;\n",
       "    }\n",
       "</style>\n",
       "<table border=\"1\" class=\"dataframe\">\n",
       "  <thead>\n",
       "    <tr style=\"text-align: right;\">\n",
       "      <th></th>\n",
       "      <th>threshold</th>\n",
       "      <th>precision</th>\n",
       "      <th>recall</th>\n",
       "      <th>f1</th>\n",
       "    </tr>\n",
       "  </thead>\n",
       "  <tbody>\n",
       "    <tr>\n",
       "      <th>315</th>\n",
       "      <td>0.315315</td>\n",
       "      <td>0.908723</td>\n",
       "      <td>0.879339</td>\n",
       "      <td>0.893789</td>\n",
       "    </tr>\n",
       "    <tr>\n",
       "      <th>314</th>\n",
       "      <td>0.314314</td>\n",
       "      <td>0.907574</td>\n",
       "      <td>0.880143</td>\n",
       "      <td>0.893648</td>\n",
       "    </tr>\n",
       "    <tr>\n",
       "      <th>316</th>\n",
       "      <td>0.316316</td>\n",
       "      <td>0.910060</td>\n",
       "      <td>0.877798</td>\n",
       "      <td>0.893638</td>\n",
       "    </tr>\n",
       "    <tr>\n",
       "      <th>317</th>\n",
       "      <td>0.317317</td>\n",
       "      <td>0.911038</td>\n",
       "      <td>0.876726</td>\n",
       "      <td>0.893552</td>\n",
       "    </tr>\n",
       "    <tr>\n",
       "      <th>318</th>\n",
       "      <td>0.318318</td>\n",
       "      <td>0.912365</td>\n",
       "      <td>0.875251</td>\n",
       "      <td>0.893423</td>\n",
       "    </tr>\n",
       "    <tr>\n",
       "      <th>...</th>\n",
       "      <td>...</td>\n",
       "      <td>...</td>\n",
       "      <td>...</td>\n",
       "      <td>...</td>\n",
       "    </tr>\n",
       "    <tr>\n",
       "      <th>995</th>\n",
       "      <td>0.995996</td>\n",
       "      <td>1.000000</td>\n",
       "      <td>0.018798</td>\n",
       "      <td>0.036902</td>\n",
       "    </tr>\n",
       "    <tr>\n",
       "      <th>996</th>\n",
       "      <td>0.996997</td>\n",
       "      <td>1.000000</td>\n",
       "      <td>0.018697</td>\n",
       "      <td>0.036708</td>\n",
       "    </tr>\n",
       "    <tr>\n",
       "      <th>997</th>\n",
       "      <td>0.997998</td>\n",
       "      <td>1.000000</td>\n",
       "      <td>0.018563</td>\n",
       "      <td>0.036450</td>\n",
       "    </tr>\n",
       "    <tr>\n",
       "      <th>998</th>\n",
       "      <td>0.998999</td>\n",
       "      <td>1.000000</td>\n",
       "      <td>0.018496</td>\n",
       "      <td>0.036321</td>\n",
       "    </tr>\n",
       "    <tr>\n",
       "      <th>999</th>\n",
       "      <td>1.000000</td>\n",
       "      <td>1.000000</td>\n",
       "      <td>0.005060</td>\n",
       "      <td>0.010068</td>\n",
       "    </tr>\n",
       "  </tbody>\n",
       "</table>\n",
       "<p>1000 rows × 4 columns</p>\n",
       "</div>"
      ],
      "text/plain": [
       "     threshold  precision    recall        f1\n",
       "315   0.315315   0.908723  0.879339  0.893789\n",
       "314   0.314314   0.907574  0.880143  0.893648\n",
       "316   0.316316   0.910060  0.877798  0.893638\n",
       "317   0.317317   0.911038  0.876726  0.893552\n",
       "318   0.318318   0.912365  0.875251  0.893423\n",
       "..         ...        ...       ...       ...\n",
       "995   0.995996   1.000000  0.018798  0.036902\n",
       "996   0.996997   1.000000  0.018697  0.036708\n",
       "997   0.997998   1.000000  0.018563  0.036450\n",
       "998   0.998999   1.000000  0.018496  0.036321\n",
       "999   1.000000   1.000000  0.005060  0.010068\n",
       "\n",
       "[1000 rows x 4 columns]"
      ]
     },
     "execution_count": 24,
     "metadata": {},
     "output_type": "execute_result"
    }
   ],
   "source": [
    "threshold_eval = pd.DataFrame([[threshold, *evaluate_model(embd_similarity, threshold)] for threshold in np.linspace(0, 1, 1000)], columns=['threshold', 'precision', 'recall', 'f1'])\n",
    "threshold_eval.sort_values(by='f1', ascending=False)"
   ]
  },
  {
   "cell_type": "code",
   "execution_count": 25,
   "metadata": {},
   "outputs": [
    {
     "data": {
      "text/plain": [
       "<Axes: title={'center': 'Metrics Evaluation'}, xlabel='Threshold', ylabel='Metric score'>"
      ]
     },
     "execution_count": 25,
     "metadata": {},
     "output_type": "execute_result"
    },
    {
     "data": {
      "image/png": "[encoded data removed]",
      "text/plain": [
       "<Figure size 640x480 with 1 Axes>"
      ]
     },
     "metadata": {},
     "output_type": "display_data"
    }
   ],
   "source": [
    "threshold_eval.plot(\n",
    "  kind='line',\n",
    "  title='Metrics Evaluation',\n",
    "  x='threshold',\n",
    "  xlabel='Threshold',\n",
    "  ylabel='Metric score',\n",
    "  grid=True)"
   ]
  },
  {
   "cell_type": "code",
   "execution_count": 26,
   "metadata": {},
   "outputs": [
    {
     "name": "stdout",
     "output_type": "stream",
     "text": [
      "Precision: 0.97722\n",
      "Recall: 0.76029\n",
      "F1: 0.85521\n"
     ]
    }
   ],
   "source": [
    "model_eval = evaluate_model(embd_similarity, 0.402402)\n",
    "\n",
    "print(f'Precision: {model_eval[0]:.5f}')\n",
    "print(f'Recall: {model_eval[1]:.5f}')\n",
    "print(f'F1: {model_eval[2]:.5f}')"
   ]
  },
  {
   "cell_type": "markdown",
   "metadata": {},
   "source": [
    "### **8. Similarity Search**"
   ]
  },
  {
   "cell_type": "markdown",
   "metadata": {},
   "source": [
    "### **8.1. Prepare Data**"
   ]
  },
  {
   "cell_type": "code",
   "execution_count": 27,
   "metadata": {},
   "outputs": [
    {
     "data": {
      "text/html": [
       "<div>\n",
       "<style scoped>\n",
       "    .dataframe tbody tr th:only-of-type {\n",
       "        vertical-align: middle;\n",
       "    }\n",
       "\n",
       "    .dataframe tbody tr th {\n",
       "        vertical-align: top;\n",
       "    }\n",
       "\n",
       "    .dataframe thead th {\n",
       "        text-align: right;\n",
       "    }\n",
       "</style>\n",
       "<table border=\"1\" class=\"dataframe\">\n",
       "  <thead>\n",
       "    <tr style=\"text-align: right;\">\n",
       "      <th></th>\n",
       "      <th>id</th>\n",
       "      <th>vector</th>\n",
       "      <th>id_match</th>\n",
       "    </tr>\n",
       "  </thead>\n",
       "  <tbody>\n",
       "    <tr>\n",
       "      <th>6</th>\n",
       "      <td>1827635</td>\n",
       "      <td>[-0.1291467, 0.02662287, -0.04684974, -0.08061...</td>\n",
       "      <td>1818889.0</td>\n",
       "    </tr>\n",
       "    <tr>\n",
       "      <th>27</th>\n",
       "      <td>1605547</td>\n",
       "      <td>[0.0024032774, -0.029554408, 0.0068566585, 0.0...</td>\n",
       "      <td>1595125.0</td>\n",
       "    </tr>\n",
       "    <tr>\n",
       "      <th>35</th>\n",
       "      <td>1272833</td>\n",
       "      <td>[0.0018792549, 0.025417238, 0.08257131, -0.052...</td>\n",
       "      <td>1269055.0</td>\n",
       "    </tr>\n",
       "    <tr>\n",
       "      <th>46</th>\n",
       "      <td>256587</td>\n",
       "      <td>[0.048316304, -0.050933715, -0.024246735, -0.0...</td>\n",
       "      <td>250396.0</td>\n",
       "    </tr>\n",
       "    <tr>\n",
       "      <th>56</th>\n",
       "      <td>852907</td>\n",
       "      <td>[0.04085875, -0.03561307, 0.015352942, 0.02826...</td>\n",
       "      <td>851491.0</td>\n",
       "    </tr>\n",
       "    <tr>\n",
       "      <th>...</th>\n",
       "      <td>...</td>\n",
       "      <td>...</td>\n",
       "      <td>...</td>\n",
       "    </tr>\n",
       "    <tr>\n",
       "      <th>702475</th>\n",
       "      <td>277748</td>\n",
       "      <td>[0.06269118, -0.09506704, 0.030324927, -0.0123...</td>\n",
       "      <td>243893.0</td>\n",
       "    </tr>\n",
       "    <tr>\n",
       "      <th>702495</th>\n",
       "      <td>267004</td>\n",
       "      <td>[-0.053758204, 0.0076490645, 0.021267977, -0.0...</td>\n",
       "      <td>267003.0</td>\n",
       "    </tr>\n",
       "    <tr>\n",
       "      <th>702497</th>\n",
       "      <td>1312990</td>\n",
       "      <td>[-0.030019205, 0.013571095, -0.024307784, 0.03...</td>\n",
       "      <td>1309236.0</td>\n",
       "    </tr>\n",
       "    <tr>\n",
       "      <th>702501</th>\n",
       "      <td>1036023</td>\n",
       "      <td>[0.05396592, 0.01790012, 0.032566354, -0.03994...</td>\n",
       "      <td>989947.0</td>\n",
       "    </tr>\n",
       "    <tr>\n",
       "      <th>702504</th>\n",
       "      <td>1695372</td>\n",
       "      <td>[0.0048520532, -0.023690851, -0.01908931, 0.05...</td>\n",
       "      <td>1677653.0</td>\n",
       "    </tr>\n",
       "  </tbody>\n",
       "</table>\n",
       "<p>99479 rows × 3 columns</p>\n",
       "</div>"
      ],
      "text/plain": [
       "             id                                             vector   id_match\n",
       "6       1827635  [-0.1291467, 0.02662287, -0.04684974, -0.08061...  1818889.0\n",
       "27      1605547  [0.0024032774, -0.029554408, 0.0068566585, 0.0...  1595125.0\n",
       "35      1272833  [0.0018792549, 0.025417238, 0.08257131, -0.052...  1269055.0\n",
       "46       256587  [0.048316304, -0.050933715, -0.024246735, -0.0...   250396.0\n",
       "56       852907  [0.04085875, -0.03561307, 0.015352942, 0.02826...   851491.0\n",
       "...         ...                                                ...        ...\n",
       "702475   277748  [0.06269118, -0.09506704, 0.030324927, -0.0123...   243893.0\n",
       "702495   267004  [-0.053758204, 0.0076490645, 0.021267977, -0.0...   267003.0\n",
       "702497  1312990  [-0.030019205, 0.013571095, -0.024307784, 0.03...  1309236.0\n",
       "702501  1036023  [0.05396592, 0.01790012, 0.032566354, -0.03994...   989947.0\n",
       "702504  1695372  [0.0048520532, -0.023690851, -0.01908931, 0.05...  1677653.0\n",
       "\n",
       "[99479 rows x 3 columns]"
      ]
     },
     "execution_count": 27,
     "metadata": {},
     "output_type": "execute_result"
    }
   ],
   "source": [
    "column_mapper = {\n",
    "  'id__left': 'id',\n",
    "  'text_embedded__left': 'vector',\n",
    "  'id__right': 'id_match',\n",
    "}\n",
    "\n",
    "df_sim_search_test = df[df['label'] == 1][['id__left', 'text_embedded__left', 'id__right']].rename(columns=column_mapper)\n",
    "df_sim_search_test"
   ]
  },
  {
   "cell_type": "code",
   "execution_count": 28,
   "metadata": {},
   "outputs": [
    {
     "data": {
      "text/html": [
       "<div>\n",
       "<style scoped>\n",
       "    .dataframe tbody tr th:only-of-type {\n",
       "        vertical-align: middle;\n",
       "    }\n",
       "\n",
       "    .dataframe tbody tr th {\n",
       "        vertical-align: top;\n",
       "    }\n",
       "\n",
       "    .dataframe thead th {\n",
       "        text-align: right;\n",
       "    }\n",
       "</style>\n",
       "<table border=\"1\" class=\"dataframe\">\n",
       "  <thead>\n",
       "    <tr style=\"text-align: right;\">\n",
       "      <th></th>\n",
       "      <th>id</th>\n",
       "      <th>vector</th>\n",
       "    </tr>\n",
       "  </thead>\n",
       "  <tbody>\n",
       "    <tr>\n",
       "      <th>0</th>\n",
       "      <td>1423931</td>\n",
       "      <td>[-0.073869064, -0.023113009, -0.036643017, 0.0...</td>\n",
       "    </tr>\n",
       "    <tr>\n",
       "      <th>1</th>\n",
       "      <td>1285784</td>\n",
       "      <td>[0.037364237, -0.0663444, 0.027595308, 0.06272...</td>\n",
       "    </tr>\n",
       "    <tr>\n",
       "      <th>2</th>\n",
       "      <td>80203</td>\n",
       "      <td>[0.0064626415, 0.049363393, 0.0705011, 0.02903...</td>\n",
       "    </tr>\n",
       "    <tr>\n",
       "      <th>3</th>\n",
       "      <td>217765</td>\n",
       "      <td>[-0.0657082, 0.032259695, 0.0018165926, -0.068...</td>\n",
       "    </tr>\n",
       "    <tr>\n",
       "      <th>4</th>\n",
       "      <td>72229</td>\n",
       "      <td>[0.06847505, -0.004994621, 0.017238725, -0.030...</td>\n",
       "    </tr>\n",
       "    <tr>\n",
       "      <th>...</th>\n",
       "      <td>...</td>\n",
       "      <td>...</td>\n",
       "    </tr>\n",
       "    <tr>\n",
       "      <th>702507</th>\n",
       "      <td>959973</td>\n",
       "      <td>[-0.07375773, 0.056716017, -0.039623976, 0.068...</td>\n",
       "    </tr>\n",
       "    <tr>\n",
       "      <th>702508</th>\n",
       "      <td>757533</td>\n",
       "      <td>[0.0022730783, 0.01744571, 0.014961153, -0.026...</td>\n",
       "    </tr>\n",
       "    <tr>\n",
       "      <th>702509</th>\n",
       "      <td>1272894</td>\n",
       "      <td>[-0.023455046, -0.015315322, 0.041282535, 0.07...</td>\n",
       "    </tr>\n",
       "    <tr>\n",
       "      <th>702510</th>\n",
       "      <td>1240342</td>\n",
       "      <td>[-0.010341146, 0.035316605, -0.018016774, -0.0...</td>\n",
       "    </tr>\n",
       "    <tr>\n",
       "      <th>702511</th>\n",
       "      <td>690341</td>\n",
       "      <td>[0.06400305, -0.043223932, 0.04439115, 0.01842...</td>\n",
       "    </tr>\n",
       "  </tbody>\n",
       "</table>\n",
       "<p>603033 rows × 2 columns</p>\n",
       "</div>"
      ],
      "text/plain": [
       "             id                                             vector\n",
       "0       1423931  [-0.073869064, -0.023113009, -0.036643017, 0.0...\n",
       "1       1285784  [0.037364237, -0.0663444, 0.027595308, 0.06272...\n",
       "2         80203  [0.0064626415, 0.049363393, 0.0705011, 0.02903...\n",
       "3        217765  [-0.0657082, 0.032259695, 0.0018165926, -0.068...\n",
       "4         72229  [0.06847505, -0.004994621, 0.017238725, -0.030...\n",
       "...         ...                                                ...\n",
       "702507   959973  [-0.07375773, 0.056716017, -0.039623976, 0.068...\n",
       "702508   757533  [0.0022730783, 0.01744571, 0.014961153, -0.026...\n",
       "702509  1272894  [-0.023455046, -0.015315322, 0.041282535, 0.07...\n",
       "702510  1240342  [-0.010341146, 0.035316605, -0.018016774, -0.0...\n",
       "702511   690341  [0.06400305, -0.043223932, 0.04439115, 0.01842...\n",
       "\n",
       "[603033 rows x 2 columns]"
      ]
     },
     "execution_count": 28,
     "metadata": {},
     "output_type": "execute_result"
    }
   ],
   "source": [
    "column_mapper = {\n",
    "  'id__left': 'id',\n",
    "  'text_embedded__left': 'vector',\n",
    "}\n",
    "\n",
    "df_sim_search_data = df[['id__left', 'text_embedded__left']].rename(columns=column_mapper)\n",
    "df_sim_search_data = df_sim_search_data[~df_sim_search_data['id'].isin(df_sim_search_test['id'])]\n",
    "df_sim_search_data"
   ]
  },
  {
   "cell_type": "markdown",
   "metadata": {},
   "source": [
    "### **8.2. Create Faiss Index**"
   ]
  },
  {
   "cell_type": "code",
   "execution_count": 29,
   "metadata": {},
   "outputs": [
    {
     "name": "stdout",
     "output_type": "stream",
     "text": [
      "18845/18845 [==============================] - 54s 3ms/step\n"
     ]
    }
   ],
   "source": [
    "base_vectors = np.vstack(df_sim_search_data['vector'])\n",
    "mod_vectors = embd_model.predict(base_vectors)\n",
    "\n",
    "vector_dim = 256\n",
    "ids = df_sim_search_data['id']\n",
    "\n",
    "nlist = 500\n",
    "quantizer = faiss.IndexFlatIP(vector_dim)\n",
    "index = faiss.IndexIVFFlat(quantizer, vector_dim, nlist, faiss.METRIC_INNER_PRODUCT)\n",
    "\n",
    "faiss.normalize_L2(mod_vectors)\n",
    "\n",
    "index.train(mod_vectors)\n",
    "index.add_with_ids(mod_vectors, ids)"
   ]
  },
  {
   "cell_type": "markdown",
   "metadata": {},
   "source": [
    "### **8.3. Perform Similarity Search**"
   ]
  },
  {
   "cell_type": "code",
   "execution_count": 30,
   "metadata": {},
   "outputs": [
    {
     "name": "stdout",
     "output_type": "stream",
     "text": [
      "3109/3109 [==============================] - 6s 1ms/step\n"
     ]
    }
   ],
   "source": [
    "index.nprobe = 10\n",
    "k = 10\n",
    "\n",
    "_base_vector = np.vstack(df_sim_search_test['vector'])\n",
    "_mod_vectors = embd_model.predict(_base_vector)\n",
    "\n",
    "faiss.normalize_L2(_mod_vectors)\n",
    "\n",
    "search_result = index.search(_mod_vectors, k=k)"
   ]
  },
  {
   "cell_type": "markdown",
   "metadata": {},
   "source": [
    "### **8.4. Similarity Search Evaluation**"
   ]
  },
  {
   "cell_type": "code",
   "execution_count": 31,
   "metadata": {},
   "outputs": [],
   "source": [
    "ids_actual = search_result[1]\n",
    "ids_expected = df_sim_search_test['id_match']\n",
    "\n",
    "results = []\n",
    "for id_actual, id_expected in zip(ids_actual, ids_expected):\n",
    "  if id_expected in id_actual:\n",
    "    results.append(1)\n",
    "  else:\n",
    "    results.append(0)"
   ]
  },
  {
   "cell_type": "code",
   "execution_count": 32,
   "metadata": {},
   "outputs": [
    {
     "data": {
      "text/plain": [
       "0.25354094834085583"
      ]
     },
     "execution_count": 32,
     "metadata": {},
     "output_type": "execute_result"
    }
   ],
   "source": [
    "np.average(results)"
   ]
  }
 ],
 "metadata": {
  "kernelspec": {
   "display_name": "env_1",
   "language": "python",
   "name": "python3"
  },
  "language_info": {
   "codemirror_mode": {
    "name": "ipython",
    "version": 3
   },
   "file_extension": ".py",
   "mimetype": "text/x-python",
   "name": "python",
   "nbconvert_exporter": "python",
   "pygments_lexer": "ipython3",
   "version": "3.11.5"
  }
 },
 "nbformat": 4,
 "nbformat_minor": 2
}
