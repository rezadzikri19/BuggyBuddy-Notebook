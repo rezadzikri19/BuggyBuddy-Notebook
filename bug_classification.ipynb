{
 "cells": [
  {
   "cell_type": "markdown",
   "metadata": {},
   "source": [
    "### **1. Import Dependencies**"
   ]
  },
  {
   "cell_type": "code",
   "execution_count": 595,
   "metadata": {},
   "outputs": [
    {
     "name": "stderr",
     "output_type": "stream",
     "text": [
      "[nltk_data] Downloading package stopwords to\n",
      "[nltk_data]     C:\\Users\\msi.pc\\AppData\\Roaming\\nltk_data...\n",
      "[nltk_data]   Package stopwords is already up-to-date!\n",
      "[nltk_data] Downloading package punkt to\n",
      "[nltk_data]     C:\\Users\\msi.pc\\AppData\\Roaming\\nltk_data...\n",
      "[nltk_data]   Package punkt is already up-to-date!\n"
     ]
    },
    {
     "data": {
      "text/plain": [
       "True"
      ]
     },
     "execution_count": 595,
     "metadata": {},
     "output_type": "execute_result"
    }
   ],
   "source": [
    "import pandas as pd\n",
    "import numpy as np\n",
    "\n",
    "import gc\n",
    "import os\n",
    "import requests\n",
    "import json\n",
    "import re\n",
    "\n",
    "import concurrent.futures\n",
    "import asyncio\n",
    "import httpx\n",
    "import multiprocessing\n",
    "\n",
    "from urllib.parse import urlencode\n",
    "\n",
    "from typing import List, Dict, Optional, Union\n",
    "from glob import glob\n",
    "\n",
    "import joblib\n",
    "\n",
    "import matplotlib.pyplot as plt\n",
    "import seaborn as sns\n",
    "\n",
    "import nltk\n",
    "from nltk.tokenize import word_tokenize\n",
    "from nltk.corpus import stopwords\n",
    "\n",
    "from sklearn.preprocessing import StandardScaler, RobustScaler\n",
    "from sklearn.model_selection import train_test_split, StratifiedKFold\n",
    "from sklearn.impute import KNNImputer, SimpleImputer\n",
    "from sklearn.pipeline import Pipeline\n",
    "from sklearn.compose import ColumnTransformer\n",
    "from sklearn.ensemble import RandomForestClassifier\n",
    "from sklearn.metrics.pairwise import cosine_similarity\n",
    "from sklearn.preprocessing import normalize\n",
    "from sklearn.metrics import precision_score, recall_score, roc_auc_score\n",
    "\n",
    "from sentence_transformers import SentenceTransformer\n",
    "import fasttext\n",
    "from gensim.models import KeyedVectors \n",
    "\n",
    "import tensorflow as tf\n",
    "import tensorflow.keras as keras\n",
    "\n",
    "from keras import backend as K\n",
    "from keras.models import Model, Sequential\n",
    "from keras.layers import Dense, LSTM, Bidirectional, Input, Lambda, Dot, Layer\n",
    "from keras.callbacks import EarlyStopping\n",
    "\n",
    "nltk.download('stopwords')\n",
    "nltk.download('punkt')"
   ]
  },
  {
   "cell_type": "markdown",
   "metadata": {},
   "source": [
    "### **2. Settings**"
   ]
  },
  {
   "cell_type": "code",
   "execution_count": 404,
   "metadata": {},
   "outputs": [],
   "source": [
    "tf.random.set_seed(42)\n",
    "\n",
    "pd.set_option('display.max_rows', 100)\n",
    "pd.set_option('display.max_columns', 50)"
   ]
  },
  {
   "cell_type": "markdown",
   "metadata": {},
   "source": [
    "### **2. Load Data**"
   ]
  },
  {
   "cell_type": "code",
   "execution_count": null,
   "metadata": {},
   "outputs": [],
   "source": [
    "def fetch_data(url: str, params=None):\n",
    "  try:\n",
    "    response = requests.get(url, params=params)\n",
    "    if (response.status_code == 200):\n",
    "      return response.json()\n",
    "    \n",
    "    print(f\"Error response with status code: {response.status_code}\")\n",
    "  except Exception as error:\n",
    "    print(f'Failed to fetch data: {error}')\n",
    "\n",
    "def urls_builder(base_url: str, n_fetch: int, limit: int, products: List[str], **kwargs):\n",
    "  urls = []\n",
    "  for product in products:\n",
    "    for i in range(n_fetch):\n",
    "      \n",
    "      param = {\n",
    "        'offset': i * limit,\n",
    "        'limit': limit,\n",
    "        'product': product,\n",
    "        **kwargs,\n",
    "      }\n",
    "      \n",
    "      full_url = base_url + '?' + urlencode(param)\n",
    "      urls.append(full_url)\n",
    "    \n",
    "  return urls\n",
    "\n",
    "def save_json(data, path: str):\n",
    "  with open(path, 'w') as json_file:\n",
    "    json.dump(data, json_file)\n",
    "\n",
    "def load_json(path: str):\n",
    "  with open(path, 'r') as json_file:\n",
    "    loaded_data = json.load(json_file)\n",
    "  return loaded_data"
   ]
  },
  {
   "cell_type": "code",
   "execution_count": null,
   "metadata": {},
   "outputs": [],
   "source": [
    "%%script skipped # Skipped due to resource optimization\n",
    "\n",
    "selected_fields = ['id', 'duplicates', 'summary', 'description', 'status', 'resolution', 'platform', 'product', 'type', 'priority', 'severity', 'component']\n",
    "products = ['Firefox']\n",
    "\n",
    "base_params = {\n",
    "  'include_fields': ', '.join(selected_fields),\n",
    "}\n",
    "saved_data_path = os.path.join('data', 'raw_data', 'firefox_raw_data.json')\n",
    "\n",
    "base_url = 'https://bugzilla.mozilla.org/rest/bug'\n",
    "n_fetch = 50\n",
    "limit = 5000\n",
    "\n",
    "if os.path.exists(saved_data_path):\n",
    "  response_data = load_json(saved_data_path)\n",
    "else:\n",
    "  urls = urls_builder(base_url, n_fetch, limit, products, **base_params)\n",
    "  response_data = []\n",
    "\n",
    "  max_workers = 50\n",
    "  with concurrent.futures.ThreadPoolExecutor(max_workers) as executor:\n",
    "    response_data = list(executor.map(fetch_data, urls))\n",
    "    \n",
    "  response_data = [item['bugs'] for item in response_data]\n",
    "  response_data = [item for sublist in response_data for item in sublist]\n",
    "  \n",
    "  save_json(response_data, saved_data_path)"
   ]
  },
  {
   "cell_type": "code",
   "execution_count": null,
   "metadata": {},
   "outputs": [],
   "source": [
    "raw_data_path = os.path.join('data', 'cache', 'raw_data.parquet')\n",
    "df = pd.DataFrame()\n",
    "\n",
    "if (os.path.exists(raw_data_path)):\n",
    "  df = pd.read_parquet(raw_data_path)\n",
    "else:\n",
    "  data_paths = glob(os.path.join('data', 'raw_data', 'firefox_raw_data.json'))\n",
    "\n",
    "  for path in data_paths:\n",
    "    data = load_json(path)\n",
    "    data = pd.DataFrame(data)\n",
    "    df = pd.concat([df, data])\n",
    "\n",
    "  df = df.set_index('id')\n",
    "  df.to_parquet(raw_data_path)\n",
    "\n",
    "df.head()"
   ]
  },
  {
   "cell_type": "code",
   "execution_count": null,
   "metadata": {},
   "outputs": [],
   "source": [
    "df = df.drop(['status', 'priority', 'resolution', 'severity', 'component', 'product'], axis=1)"
   ]
  },
  {
   "cell_type": "code",
   "execution_count": null,
   "metadata": {},
   "outputs": [],
   "source": [
    "df.info(memory_usage='deep')"
   ]
  },
  {
   "cell_type": "markdown",
   "metadata": {},
   "source": [
    "### **3. EDA**"
   ]
  },
  {
   "cell_type": "markdown",
   "metadata": {},
   "source": [
    "### **3.1. Missing Values**"
   ]
  },
  {
   "cell_type": "code",
   "execution_count": null,
   "metadata": {},
   "outputs": [],
   "source": [
    "df.isna().sum()"
   ]
  },
  {
   "cell_type": "markdown",
   "metadata": {},
   "source": [
    "### **3.2. Product**"
   ]
  },
  {
   "cell_type": "code",
   "execution_count": null,
   "metadata": {},
   "outputs": [],
   "source": [
    "%%script skipped # Skipped due to resource optimization\n",
    "\n",
    "df['product'].value_counts(ascending=False)"
   ]
  },
  {
   "cell_type": "markdown",
   "metadata": {},
   "source": [
    "### **3.3. Platform**"
   ]
  },
  {
   "cell_type": "code",
   "execution_count": null,
   "metadata": {},
   "outputs": [],
   "source": [
    "df['platform'].value_counts(ascending=False)"
   ]
  },
  {
   "cell_type": "markdown",
   "metadata": {},
   "source": [
    "### **3.4. Type**"
   ]
  },
  {
   "cell_type": "code",
   "execution_count": null,
   "metadata": {},
   "outputs": [],
   "source": [
    "df['type'].value_counts(ascending=False)"
   ]
  },
  {
   "cell_type": "markdown",
   "metadata": {},
   "source": [
    "### **3.5. Duplicates**"
   ]
  },
  {
   "cell_type": "code",
   "execution_count": null,
   "metadata": {},
   "outputs": [],
   "source": [
    "duplicates = df['duplicates'].apply(lambda x: len(x)).sort_values(ascending=False)\n",
    "duplicates"
   ]
  },
  {
   "cell_type": "code",
   "execution_count": null,
   "metadata": {},
   "outputs": [],
   "source": [
    "duplicated_bugs = duplicates[duplicates > 0]\n",
    "duplicated_bugs.count()"
   ]
  },
  {
   "cell_type": "markdown",
   "metadata": {},
   "source": [
    "### **4. Feature Engineering**"
   ]
  },
  {
   "cell_type": "markdown",
   "metadata": {},
   "source": [
    "### **4.1. Missing Values**"
   ]
  },
  {
   "cell_type": "code",
   "execution_count": null,
   "metadata": {},
   "outputs": [],
   "source": [
    "df.loc[df['type'] == '--', 'type'] = 'no type'"
   ]
  },
  {
   "cell_type": "markdown",
   "metadata": {},
   "source": [
    "### **4.2. Duplicates**"
   ]
  },
  {
   "cell_type": "code",
   "execution_count": null,
   "metadata": {},
   "outputs": [],
   "source": [
    "duplicated = df.loc[duplicated_bugs.index, 'duplicates']\n",
    "duplicated"
   ]
  },
  {
   "cell_type": "code",
   "execution_count": null,
   "metadata": {},
   "outputs": [],
   "source": [
    "data_path = os.path.join('data', 'cache', 'duplicate_to_data.parquet')\n",
    "\n",
    "if (os.path.exists(data_path)):\n",
    "  df = pd.read_parquet(data_path)\n",
    "else:\n",
    "  df['duplicates_to'] = -1\n",
    "\n",
    "  for idx, dups in zip(duplicated.index, duplicated):\n",
    "    for item in dups:\n",
    "      df.loc[df.index == item, 'duplicates_to'] = idx\n",
    "      \n",
    "  df.to_parquet(data_path)"
   ]
  },
  {
   "cell_type": "code",
   "execution_count": null,
   "metadata": {},
   "outputs": [],
   "source": [
    "df = df.drop(columns=['duplicates'])"
   ]
  },
  {
   "cell_type": "markdown",
   "metadata": {},
   "source": [
    "### **4.3. Clean Sentences**"
   ]
  },
  {
   "cell_type": "code",
   "execution_count": null,
   "metadata": {},
   "outputs": [],
   "source": [
    "def remove_special_chars(text: str):\n",
    "  text = text.lower()\n",
    "  text = re.sub(r'\\n|\\t|\\r|\\0', ' ', text)\n",
    "  text = re.sub(r'[^a-zA-Z0-9\\s]', ' ', text)\n",
    "  text = re.sub(r'\\s{2,}', ' ', text)\n",
    "  text = re.sub(r'\\s$', '', text)\n",
    "  text = re.sub(r'\\s[b-z]\\s', ' ', text)\n",
    "  text = re.sub(r'\\s[b-z]\\s', ' ', text)\n",
    "  \n",
    "  return text\n",
    "\n",
    "def remove_stopwords(text: str):\n",
    "  stop_words = set(stopwords.words('english'))\n",
    "  words = word_tokenize(text)\n",
    "  filtered_words = [word for word in words if word not in stop_words]\n",
    "  \n",
    "  return ' '.join(filtered_words)\n",
    "\n",
    "def clean_text(text: str):\n",
    "  text = remove_special_chars(text)\n",
    "  text = remove_stopwords(text)\n",
    "  \n",
    "  return text\n",
    "\n",
    "df['platform'] = df['platform'].apply(clean_text)\n",
    "df['summary'] = df['summary'].apply(clean_text)\n",
    "df['type'] = df['type'].apply(clean_text)\n",
    "df['description'] = df['description'].apply(clean_text)\n",
    "\n",
    "# df['product'] = df['product'].apply(clean_text)"
   ]
  },
  {
   "cell_type": "markdown",
   "metadata": {},
   "source": [
    "### **4.4. Combined Text**"
   ]
  },
  {
   "cell_type": "code",
   "execution_count": null,
   "metadata": {},
   "outputs": [],
   "source": [
    "df['text'] = df['type'] + ' ' + df['platform'] + ' ' + df['summary'] + ' ' + df['description']"
   ]
  },
  {
   "cell_type": "code",
   "execution_count": null,
   "metadata": {},
   "outputs": [],
   "source": [
    "df = df[['text', 'duplicates_to']]\n",
    "\n",
    "df.head()"
   ]
  },
  {
   "cell_type": "markdown",
   "metadata": {},
   "source": [
    "### **4.5. Sentence Embedding**"
   ]
  },
  {
   "cell_type": "code",
   "execution_count": null,
   "metadata": {},
   "outputs": [],
   "source": [
    "# %%script skipped # Skipped\n",
    "\n",
    "sent_embd_model = SentenceTransformer('sentence-transformers/all-MiniLM-L6-v2')"
   ]
  },
  {
   "cell_type": "code",
   "execution_count": 152,
   "metadata": {},
   "outputs": [
    {
     "data": {
      "text/plain": [
       "1569"
      ]
     },
     "execution_count": 152,
     "metadata": {},
     "output_type": "execute_result"
    }
   ],
   "source": [
    "# %%script skipped # Skipped\n",
    "\n",
    "embd_data_path = os.path.join('data', 'cache', 'sent_trans_embd_data.parquet')\n",
    "\n",
    "if (os.path.exists(embd_data_path)):\n",
    "  df = pd.read_parquet(embd_data_path)\n",
    "else:\n",
    "  df['text_embedded'] = df['text'].apply(sent_embd_model.encode)\n",
    "  df.to_parquet(embd_data_path)\n",
    "\n",
    "df['text_embedded'] = df['text_embedded'].apply(np.array)\n",
    "gc.collect()"
   ]
  },
  {
   "cell_type": "code",
   "execution_count": null,
   "metadata": {},
   "outputs": [],
   "source": [
    "# %%script skipped # Skipped\n",
    "\n",
    "model_path = os.path.join('models', 'wiki-news-300d-1M-subword.vec')\n",
    "sent_embd_model = KeyedVectors.load_word2vec_format(model_path, binary=False)"
   ]
  },
  {
   "cell_type": "code",
   "execution_count": 39,
   "metadata": {},
   "outputs": [],
   "source": [
    "# %%script skipped # Skipped\n",
    "\n",
    "def sentence_embedding(sentence, model):\n",
    "    words = word_tokenize(sentence)\n",
    "    words_in_vocab = [word for word in words if word in model]\n",
    "\n",
    "    if not words_in_vocab:\n",
    "        return None\n",
    "\n",
    "    embedding = np.mean([model[word] for word in words_in_vocab], axis=0)\n",
    "    embedding = normalize(embedding.reshape(1, -1), norm='l2').reshape(-1)\n",
    "    \n",
    "    return embedding"
   ]
  },
  {
   "cell_type": "code",
   "execution_count": 112,
   "metadata": {},
   "outputs": [
    {
     "data": {
      "text/plain": [
       "0"
      ]
     },
     "execution_count": 112,
     "metadata": {},
     "output_type": "execute_result"
    }
   ],
   "source": [
    "# %%script skipped # Skipped\n",
    "\n",
    "embd_data_path = os.path.join('data', 'cache', 'fasttext_embd_data.parquet')\n",
    "\n",
    "if (os.path.exists(embd_data_path)):\n",
    "  df = pd.read_parquet(embd_data_path)\n",
    "else:\n",
    "  df['text_embedded'] = df['text'].apply(sentence_embedding, model=sent_embd_model)\n",
    "  df.to_parquet(embd_data_path)\n",
    "\n",
    "df['text_embedded'] = df['text_embedded'].apply(np.array)\n",
    "gc.collect()"
   ]
  },
  {
   "cell_type": "code",
   "execution_count": 41,
   "metadata": {},
   "outputs": [
    {
     "name": "stdout",
     "output_type": "stream",
     "text": [
      "<class 'pandas.core.frame.DataFrame'>\n",
      "Index: 210693 entries, 10954 to 1876223\n",
      "Data columns (total 3 columns):\n",
      " #   Column         Non-Null Count   Dtype \n",
      "---  ------         --------------   ----- \n",
      " 0   text           210693 non-null  object\n",
      " 1   duplicates_to  210693 non-null  int64 \n",
      " 2   text_embedded  210693 non-null  object\n",
      "dtypes: int64(1), object(2)\n",
      "memory usage: 450.2 MB\n"
     ]
    }
   ],
   "source": [
    "df.info(memory_usage='deep')"
   ]
  },
  {
   "cell_type": "markdown",
   "metadata": {},
   "source": [
    "### **4.6. Sentence Pairs**"
   ]
  },
  {
   "cell_type": "code",
   "execution_count": 153,
   "metadata": {},
   "outputs": [],
   "source": [
    "df = df.reset_index()"
   ]
  },
  {
   "cell_type": "code",
   "execution_count": 154,
   "metadata": {},
   "outputs": [],
   "source": [
    "df_duplicates = df[df['duplicates_to'] != -1].copy()\n",
    "df_uniques = df[df['duplicates_to'] == -1].copy()"
   ]
  },
  {
   "cell_type": "code",
   "execution_count": 155,
   "metadata": {},
   "outputs": [
    {
     "data": {
      "text/html": [
       "<div>\n",
       "<style scoped>\n",
       "    .dataframe tbody tr th:only-of-type {\n",
       "        vertical-align: middle;\n",
       "    }\n",
       "\n",
       "    .dataframe tbody tr th {\n",
       "        vertical-align: top;\n",
       "    }\n",
       "\n",
       "    .dataframe thead th {\n",
       "        text-align: right;\n",
       "    }\n",
       "</style>\n",
       "<table border=\"1\" class=\"dataframe\">\n",
       "  <thead>\n",
       "    <tr style=\"text-align: right;\">\n",
       "      <th></th>\n",
       "      <th>id__left</th>\n",
       "      <th>text__left</th>\n",
       "      <th>text_embedded__left</th>\n",
       "      <th>id__right</th>\n",
       "      <th>text__right</th>\n",
       "      <th>text_embedded__right</th>\n",
       "      <th>label</th>\n",
       "    </tr>\n",
       "  </thead>\n",
       "  <tbody>\n",
       "    <tr>\n",
       "      <th>0</th>\n",
       "      <td>46407</td>\n",
       "      <td>enhancement  current url querried another app ...</td>\n",
       "      <td>[-0.03849341, 0.044417124, 0.061231103, 0.0028...</td>\n",
       "      <td>516502</td>\n",
       "      <td>defect  add applescript support getting curren...</td>\n",
       "      <td>[-0.068924494, -0.0365692, 0.017821774, -0.005...</td>\n",
       "      <td>1</td>\n",
       "    </tr>\n",
       "    <tr>\n",
       "      <th>1</th>\n",
       "      <td>491005</td>\n",
       "      <td>defect powerpc applescript error get class cur...</td>\n",
       "      <td>[-0.042833928, -0.019467501, -0.0014609282, 0....</td>\n",
       "      <td>516502</td>\n",
       "      <td>defect  add applescript support getting curren...</td>\n",
       "      <td>[-0.068924494, -0.0365692, 0.017821774, -0.005...</td>\n",
       "      <td>1</td>\n",
       "    </tr>\n",
       "    <tr>\n",
       "      <th>2</th>\n",
       "      <td>95091</td>\n",
       "      <td>defect x86 helper application lack mozilla 0 9...</td>\n",
       "      <td>[-0.07100523, -0.028381774, 0.023365201, 0.037...</td>\n",
       "      <td>57420</td>\n",
       "      <td>defect  support helper app command line args u...</td>\n",
       "      <td>[0.030665655, -0.08451681, -0.060907457, -0.08...</td>\n",
       "      <td>1</td>\n",
       "    </tr>\n",
       "    <tr>\n",
       "      <th>3</th>\n",
       "      <td>308815</td>\n",
       "      <td>defect x86 linux choose helper application all...</td>\n",
       "      <td>[-0.005184613, -0.028351225, -0.08792038, 0.01...</td>\n",
       "      <td>57420</td>\n",
       "      <td>defect  support helper app command line args u...</td>\n",
       "      <td>[0.030665655, -0.08451681, -0.060907457, -0.08...</td>\n",
       "      <td>1</td>\n",
       "    </tr>\n",
       "    <tr>\n",
       "      <th>4</th>\n",
       "      <td>392205</td>\n",
       "      <td>enhancement  add support arguments help apps u...</td>\n",
       "      <td>[0.014655771, -0.03146617, -0.08758416, 0.0324...</td>\n",
       "      <td>57420</td>\n",
       "      <td>defect  support helper app command line args u...</td>\n",
       "      <td>[0.030665655, -0.08451681, -0.060907457, -0.08...</td>\n",
       "      <td>1</td>\n",
       "    </tr>\n",
       "  </tbody>\n",
       "</table>\n",
       "</div>"
      ],
      "text/plain": [
       "   id__left                                         text__left  \\\n",
       "0     46407  enhancement  current url querried another app ...   \n",
       "1    491005  defect powerpc applescript error get class cur...   \n",
       "2     95091  defect x86 helper application lack mozilla 0 9...   \n",
       "3    308815  defect x86 linux choose helper application all...   \n",
       "4    392205  enhancement  add support arguments help apps u...   \n",
       "\n",
       "                                 text_embedded__left  id__right  \\\n",
       "0  [-0.03849341, 0.044417124, 0.061231103, 0.0028...     516502   \n",
       "1  [-0.042833928, -0.019467501, -0.0014609282, 0....     516502   \n",
       "2  [-0.07100523, -0.028381774, 0.023365201, 0.037...      57420   \n",
       "3  [-0.005184613, -0.028351225, -0.08792038, 0.01...      57420   \n",
       "4  [0.014655771, -0.03146617, -0.08758416, 0.0324...      57420   \n",
       "\n",
       "                                         text__right  \\\n",
       "0  defect  add applescript support getting curren...   \n",
       "1  defect  add applescript support getting curren...   \n",
       "2  defect  support helper app command line args u...   \n",
       "3  defect  support helper app command line args u...   \n",
       "4  defect  support helper app command line args u...   \n",
       "\n",
       "                                text_embedded__right  label  \n",
       "0  [-0.068924494, -0.0365692, 0.017821774, -0.005...      1  \n",
       "1  [-0.068924494, -0.0365692, 0.017821774, -0.005...      1  \n",
       "2  [0.030665655, -0.08451681, -0.060907457, -0.08...      1  \n",
       "3  [0.030665655, -0.08451681, -0.060907457, -0.08...      1  \n",
       "4  [0.030665655, -0.08451681, -0.060907457, -0.08...      1  "
      ]
     },
     "execution_count": 155,
     "metadata": {},
     "output_type": "execute_result"
    }
   ],
   "source": [
    "df_duplicates = pd.merge(left=df_duplicates,\n",
    "                        right=df_uniques,\n",
    "                        left_on='duplicates_to',\n",
    "                        right_on='id',\n",
    "                        suffixes=('__left', '__right'))\n",
    "df_duplicates = df_duplicates.drop(columns=['duplicates_to__left', 'duplicates_to__right'])\n",
    "df_duplicates['label'] = 1\n",
    "df_duplicates = df_duplicates.reset_index(drop=True)\n",
    "\n",
    "df_duplicates.head()"
   ]
  },
  {
   "cell_type": "code",
   "execution_count": 156,
   "metadata": {},
   "outputs": [
    {
     "data": {
      "text/html": [
       "<div>\n",
       "<style scoped>\n",
       "    .dataframe tbody tr th:only-of-type {\n",
       "        vertical-align: middle;\n",
       "    }\n",
       "\n",
       "    .dataframe tbody tr th {\n",
       "        vertical-align: top;\n",
       "    }\n",
       "\n",
       "    .dataframe thead th {\n",
       "        text-align: right;\n",
       "    }\n",
       "</style>\n",
       "<table border=\"1\" class=\"dataframe\">\n",
       "  <thead>\n",
       "    <tr style=\"text-align: right;\">\n",
       "      <th></th>\n",
       "      <th>text_embedded__left</th>\n",
       "      <th>text__left</th>\n",
       "      <th>id__left</th>\n",
       "      <th>text_embedded__right</th>\n",
       "      <th>text__right</th>\n",
       "      <th>id__right</th>\n",
       "      <th>label</th>\n",
       "    </tr>\n",
       "  </thead>\n",
       "  <tbody>\n",
       "    <tr>\n",
       "      <th>0</th>\n",
       "      <td>[0.013469558, -0.010111869, 0.028897135, -0.00...</td>\n",
       "      <td>defect x86 search without dialog new search di...</td>\n",
       "      <td>264962</td>\n",
       "      <td>[-0.012708805, 0.036860116, 0.09029018, 0.1036...</td>\n",
       "      <td>defect x86 getelementsbytagname confused short...</td>\n",
       "      <td>293692.0</td>\n",
       "      <td>0</td>\n",
       "    </tr>\n",
       "    <tr>\n",
       "      <th>1</th>\n",
       "      <td>[-0.05257168, -0.01263137, 0.089446604, -0.017...</td>\n",
       "      <td>defect unspecified colour updates needed new t...</td>\n",
       "      <td>1451474</td>\n",
       "      <td>[0.013469558, -0.010111869, 0.028897135, -0.00...</td>\n",
       "      <td>defect x86 search without dialog new search di...</td>\n",
       "      <td>264962.0</td>\n",
       "      <td>0</td>\n",
       "    </tr>\n",
       "    <tr>\n",
       "      <th>2</th>\n",
       "      <td>[-0.0056334394, -0.014998359, 0.036152463, 0.0...</td>\n",
       "      <td>defect x86 64 one word urlbar searches incredi...</td>\n",
       "      <td>972452</td>\n",
       "      <td>[-0.05257168, -0.01263137, 0.089446604, -0.017...</td>\n",
       "      <td>defect unspecified colour updates needed new t...</td>\n",
       "      <td>1451474.0</td>\n",
       "      <td>0</td>\n",
       "    </tr>\n",
       "    <tr>\n",
       "      <th>3</th>\n",
       "      <td>[-0.03328692, -0.017311642, 0.02710121, -0.015...</td>\n",
       "      <td>defect x86 firefox installer handle directory ...</td>\n",
       "      <td>341797</td>\n",
       "      <td>[-0.0056334394, -0.014998359, 0.036152463, 0.0...</td>\n",
       "      <td>defect x86 64 one word urlbar searches incredi...</td>\n",
       "      <td>972452.0</td>\n",
       "      <td>0</td>\n",
       "    </tr>\n",
       "    <tr>\n",
       "      <th>4</th>\n",
       "      <td>[0.04823823, -0.0018696992, -0.056124125, -0.0...</td>\n",
       "      <td>defect x86 firefox 18 0b1 b2 segmentation faul...</td>\n",
       "      <td>817482</td>\n",
       "      <td>[-0.03328692, -0.017311642, 0.02710121, -0.015...</td>\n",
       "      <td>defect x86 firefox installer handle directory ...</td>\n",
       "      <td>341797.0</td>\n",
       "      <td>0</td>\n",
       "    </tr>\n",
       "  </tbody>\n",
       "</table>\n",
       "</div>"
      ],
      "text/plain": [
       "                                 text_embedded__left  \\\n",
       "0  [0.013469558, -0.010111869, 0.028897135, -0.00...   \n",
       "1  [-0.05257168, -0.01263137, 0.089446604, -0.017...   \n",
       "2  [-0.0056334394, -0.014998359, 0.036152463, 0.0...   \n",
       "3  [-0.03328692, -0.017311642, 0.02710121, -0.015...   \n",
       "4  [0.04823823, -0.0018696992, -0.056124125, -0.0...   \n",
       "\n",
       "                                          text__left  id__left  \\\n",
       "0  defect x86 search without dialog new search di...    264962   \n",
       "1  defect unspecified colour updates needed new t...   1451474   \n",
       "2  defect x86 64 one word urlbar searches incredi...    972452   \n",
       "3  defect x86 firefox installer handle directory ...    341797   \n",
       "4  defect x86 firefox 18 0b1 b2 segmentation faul...    817482   \n",
       "\n",
       "                                text_embedded__right  \\\n",
       "0  [-0.012708805, 0.036860116, 0.09029018, 0.1036...   \n",
       "1  [0.013469558, -0.010111869, 0.028897135, -0.00...   \n",
       "2  [-0.05257168, -0.01263137, 0.089446604, -0.017...   \n",
       "3  [-0.0056334394, -0.014998359, 0.036152463, 0.0...   \n",
       "4  [-0.03328692, -0.017311642, 0.02710121, -0.015...   \n",
       "\n",
       "                                         text__right  id__right  label  \n",
       "0  defect x86 getelementsbytagname confused short...   293692.0      0  \n",
       "1  defect x86 search without dialog new search di...   264962.0      0  \n",
       "2  defect unspecified colour updates needed new t...  1451474.0      0  \n",
       "3  defect x86 64 one word urlbar searches incredi...   972452.0      0  \n",
       "4  defect x86 firefox installer handle directory ...   341797.0      0  "
      ]
     },
     "execution_count": 156,
     "metadata": {},
     "output_type": "execute_result"
    }
   ],
   "source": [
    "half_rows = df_uniques.shape[0] // 2\n",
    "df_uniques = df_uniques.sample(frac=1, replace=False, random_state=42)\n",
    "\n",
    "df_uniques_temp = pd.DataFrame()\n",
    "df_uniques_temp['text_embedded__left'] = df_uniques['text_embedded']\n",
    "df_uniques_temp['text__left'] = df_uniques['text']\n",
    "df_uniques_temp['id__left'] = df_uniques['id']\n",
    "\n",
    "df_uniques_temp['text_embedded__right'] = df_uniques['text_embedded'].shift(1)\n",
    "df_uniques_temp['text__right'] = df_uniques['text'].shift(1)\n",
    "df_uniques_temp['id__right'] = df_uniques['id'].shift(1)\n",
    "\n",
    "df_uniques_temp = df_uniques_temp.dropna()\n",
    "df_uniques_temp['label'] = 0\n",
    "\n",
    "df_uniques = df_uniques_temp.reset_index(drop=True)\n",
    "\n",
    "del df_uniques_temp\n",
    "gc.collect()\n",
    "\n",
    "df_uniques.head()"
   ]
  },
  {
   "cell_type": "code",
   "execution_count": 157,
   "metadata": {},
   "outputs": [
    {
     "data": {
      "text/plain": [
       "0"
      ]
     },
     "execution_count": 157,
     "metadata": {},
     "output_type": "execute_result"
    }
   ],
   "source": [
    "df = pd.concat([df_duplicates, df_uniques], axis=0).sample(frac=1, replace=False, random_state=42).reset_index(drop=True)\n",
    "gc.collect()"
   ]
  },
  {
   "cell_type": "markdown",
   "metadata": {},
   "source": [
    "### **5. Data Split**"
   ]
  },
  {
   "cell_type": "markdown",
   "metadata": {},
   "source": [
    "### **5.1. Train Test Split**"
   ]
  },
  {
   "cell_type": "code",
   "execution_count": 846,
   "metadata": {},
   "outputs": [
    {
     "name": "stdout",
     "output_type": "stream",
     "text": [
      "Shape of X_train: (146384, 2)\n",
      "Shape of X_test: (62737, 2)\n",
      "Shape of y_train: (146384,)\n",
      "Shape of y_test: (62737,)\n"
     ]
    }
   ],
   "source": [
    "X, X_test, y, y_test = train_test_split(df[['text_embedded__left', 'text_embedded__right']],\n",
    "                                                    df['label'],\n",
    "                                                    shuffle=True,\n",
    "                                                    stratify=df['label'],\n",
    "                                                    test_size=0.3,\n",
    "                                                    random_state=42)\n",
    "\n",
    "print(f'Shape of X_train: {X.shape}')\n",
    "print(f'Shape of X_test: {X_test.shape}')\n",
    "print(f'Shape of y_train: {y.shape}')\n",
    "print(f'Shape of y_test: {y_test.shape}')"
   ]
  },
  {
   "cell_type": "markdown",
   "metadata": {},
   "source": [
    "### **5.2. Data Fold**"
   ]
  },
  {
   "cell_type": "code",
   "execution_count": 742,
   "metadata": {},
   "outputs": [],
   "source": [
    "n_splits = 5\n",
    "\n",
    "skf = StratifiedKFold(n_splits=n_splits, shuffle=True, random_state=42)"
   ]
  },
  {
   "cell_type": "markdown",
   "metadata": {},
   "source": [
    "### **6. Model Preparation**"
   ]
  },
  {
   "cell_type": "code",
   "execution_count": 847,
   "metadata": {},
   "outputs": [
    {
     "name": "stdout",
     "output_type": "stream",
     "text": [
      "Model: \"training_model\"\n",
      "__________________________________________________________________________________________________\n",
      " Layer (type)                Output Shape                 Param #   Connected to                  \n",
      "==================================================================================================\n",
      " input_1 (InputLayer)        [(None, 384)]                0         []                            \n",
      "                                                                                                  \n",
      " input_2 (InputLayer)        [(None, 384)]                0         []                            \n",
      "                                                                                                  \n",
      " shared_node_1 (Dense)       (None, 256)                  98560     ['input_1[0][0]',             \n",
      "                                                                     'input_2[0][0]']             \n",
      "                                                                                                  \n",
      " shared_node_2 (Dense)       (None, 256)                  65792     ['shared_node_1[0][0]',       \n",
      "                                                                     'shared_node_1[1][0]']       \n",
      "                                                                                                  \n",
      " shared_node_3 (Dense)       (None, 128)                  32896     ['shared_node_2[0][0]',       \n",
      "                                                                     'shared_node_2[1][0]']       \n",
      "                                                                                                  \n",
      " shared_node_4 (Dense)       (None, 128)                  16512     ['shared_node_3[0][0]',       \n",
      "                                                                     'shared_node_3[1][0]']       \n",
      "                                                                                                  \n",
      " cosine_similarity (Dot)     (None, 1)                    0         ['shared_node_4[0][0]',       \n",
      "                                                                     'shared_node_4[1][0]']       \n",
      "                                                                                                  \n",
      " output (Dense)              (None, 1)                    2         ['cosine_similarity[0][0]']   \n",
      "                                                                                                  \n",
      "==================================================================================================\n",
      "Total params: 213762 (835.01 KB)\n",
      "Trainable params: 213762 (835.01 KB)\n",
      "Non-trainable params: 0 (0.00 Byte)\n",
      "__________________________________________________________________________________________________\n"
     ]
    }
   ],
   "source": [
    "input_1 = Input(shape=(384, ), name='input_1')\n",
    "input_2 = Input(shape=(384, ), name='input_2')\n",
    "\n",
    "shared_node_1 = Dense(256, name='shared_node_1')\n",
    "shared_node_2 = Dense(256, name='shared_node_2')\n",
    "shared_node_3 = Dense(128, name='shared_node_3')\n",
    "shared_node_4 = Dense(128, name='shared_node_4')\n",
    "\n",
    "x1 = shared_node_1(input_1)\n",
    "x1 = shared_node_2(x1)\n",
    "x1 = shared_node_3(x1)\n",
    "x1 = shared_node_4(x1)\n",
    "\n",
    "x2 = shared_node_1(input_2)\n",
    "x2 = shared_node_2(x2)\n",
    "x2 = shared_node_3(x2)\n",
    "x2 = shared_node_4(x2)\n",
    "\n",
    "cosine_similarity_layer = Dot(axes=-1, normalize=True, name='cosine_similarity')([x1, x2])\n",
    "output_layer = Dense(1, activation='sigmoid', name='output')(cosine_similarity_layer)\n",
    "\n",
    "training_model = Model(inputs=[input_1, input_2], outputs=output_layer, name='training_model')\n",
    "\n",
    "optimizer = keras.optimizers.Adam(learning_rate=0.002)\n",
    "loss = keras.losses.BinaryCrossentropy(from_logits=False)\n",
    "\n",
    "training_model.compile(loss=loss, optimizer=optimizer, metrics=[keras.metrics.Precision(), keras.metrics.Recall()])\n",
    "\n",
    "training_model.summary()"
   ]
  },
  {
   "cell_type": "markdown",
   "metadata": {},
   "source": [
    "### **7. Model Training**"
   ]
  },
  {
   "cell_type": "markdown",
   "metadata": {},
   "source": [
    "### **7.1. Traning Preparation**"
   ]
  },
  {
   "cell_type": "code",
   "execution_count": 890,
   "metadata": {},
   "outputs": [
    {
     "data": {
      "text/plain": [
       "9414"
      ]
     },
     "execution_count": 890,
     "metadata": {},
     "output_type": "execute_result"
    }
   ],
   "source": [
    "tf.random.set_seed(42)\n",
    "gc.collect()"
   ]
  },
  {
   "cell_type": "code",
   "execution_count": 891,
   "metadata": {},
   "outputs": [],
   "source": [
    "def train_model(X_train, X_valid, y_train, y_valid, batch_size, epochs, callbacks=None, verbose='auto'):\n",
    "  training_model.fit(X_train,\n",
    "                       y_train,\n",
    "                       epochs=epochs,\n",
    "                       batch_size=batch_size,\n",
    "                       validation_data=(X_valid, y_valid),\n",
    "                       callbacks=[*callbacks],\n",
    "                       verbose=verbose)\n",
    "    \n",
    "  train_score = training_model.evaluate(X_train, y_train, verbose=verbose)[1:]\n",
    "  valid_score = training_model.evaluate(X_valid, y_valid, verbose=verbose)[1:]\n",
    "  \n",
    "  return (train_score, valid_score)"
   ]
  },
  {
   "cell_type": "markdown",
   "metadata": {},
   "source": [
    "### **7.2. Model Training**"
   ]
  },
  {
   "cell_type": "code",
   "execution_count": 882,
   "metadata": {},
   "outputs": [
    {
     "name": "stdout",
     "output_type": "stream",
     "text": [
      "fold-1: train - precision = 0.9321084022521973, recall = 0.9087702035903931\n",
      "fold-1: valid - precision = 0.8746867179870605, recall = 0.8691200613975525\n",
      "--------------------------------------------------------------------------------------------------------------------------------------------------------------------------------------------------------\n",
      "fold-2: train - precision = 0.9238320589065552, recall = 0.9177618026733398\n",
      "fold-2: valid - precision = 0.8732782602310181, recall = 0.877144455909729\n",
      "--------------------------------------------------------------------------------------------------------------------------------------------------------------------------------------------------------\n",
      "fold-3: train - precision = 0.9380005598068237, recall = 0.9073113203048706\n",
      "fold-3: valid - precision = 0.8902438879013062, recall = 0.8683264255523682\n",
      "--------------------------------------------------------------------------------------------------------------------------------------------------------------------------------------------------------\n",
      "fold-4: train - precision = 0.937411904335022, recall = 0.9199695587158203\n",
      "fold-4: valid - precision = 0.8891415596008301, recall = 0.8652835488319397\n",
      "--------------------------------------------------------------------------------------------------------------------------------------------------------------------------------------------------------\n",
      "fold-5: train - precision = 0.9301981329917908, recall = 0.9125052094459534\n",
      "fold-5: valid - precision = 0.8956447839736938, recall = 0.8763143420219421\n",
      "--------------------------------------------------------------------------------------------------------------------------------------------------------------------------------------------------------\n",
      "average_score: train - precision = 0.9323102116584778, recall = 0.9132636189460754\n",
      "average_score: valid - precision = 0.9323102116584778, recall = 0.9132636189460754\n"
     ]
    }
   ],
   "source": [
    "epochs = 10\n",
    "batch_size = 32\n",
    "\n",
    "train_scores = []\n",
    "valid_scores = []\n",
    "\n",
    "for fold, (train_idx, valid_idx) in enumerate(skf.split(X, y)):\n",
    "    X_train, X_valid = X.iloc[train_idx], X.iloc[valid_idx]\n",
    "    y_train, y_valid = y.iloc[train_idx], y.iloc[valid_idx]\n",
    "\n",
    "    X_train_inputs = [np.vstack(X_train['text_embedded__left']), np.vstack(X_train['text_embedded__right'])]\n",
    "    X_valid_inputs = [np.vstack(X_valid['text_embedded__left']), np.vstack(X_valid['text_embedded__right'])]\n",
    "    \n",
    "    early_stopping = EarlyStopping(monitor='loss', patience=5, restore_best_weights=True)\n",
    "    \n",
    "    train_score, valid_score = train_model(X_train_inputs,\n",
    "                                           X_valid_inputs,\n",
    "                                           y_train,\n",
    "                                           y_valid,\n",
    "                                           batch_size=batch_size,\n",
    "                                           epochs=epochs,\n",
    "                                           callbacks=[early_stopping],\n",
    "                                           verbose=0)\n",
    "    \n",
    "    print(f'fold-{fold + 1}: train - precision = {train_score[0]}, recall = {train_score[1]}')\n",
    "    print(f'fold-{fold + 1}: valid - precision = {valid_score[0]}, recall = {valid_score[1]}')\n",
    "    print('-' * 200)\n",
    "    \n",
    "    train_scores.append(train_score)\n",
    "    valid_scores.append(valid_score)\n",
    "    \n",
    "train_scores_avg = np.mean(train_scores, axis=0)\n",
    "valid_scores_avg = np.mean(train_scores, axis=0)\n",
    "\n",
    "print(f'average_score: train - precision = {train_scores_avg[0]}, recall = {train_scores_avg[1]}')\n",
    "print(f'average_score: valid - precision = {valid_scores_avg[0]}, recall = {valid_scores_avg[1]}')"
   ]
  },
  {
   "cell_type": "markdown",
   "metadata": {},
   "source": [
    "### **7.3. Save/Load Model**"
   ]
  },
  {
   "cell_type": "code",
   "execution_count": 899,
   "metadata": {},
   "outputs": [],
   "source": [
    "saved_model_path = os.path.join('models', 'model.pkl')\n",
    "# joblib.dump(training_model, saved_model_path)\n",
    "\n",
    "training_model = joblib.load(saved_model_path)"
   ]
  },
  {
   "cell_type": "markdown",
   "metadata": {},
   "source": [
    "### **7.4. Model Evaluation**"
   ]
  },
  {
   "cell_type": "code",
   "execution_count": 900,
   "metadata": {},
   "outputs": [
    {
     "name": "stdout",
     "output_type": "stream",
     "text": [
      "1961/1961 [==============================] - 3s 2ms/step\n",
      "Precision: 0.8672\n",
      "Recall: 0.8492\n",
      "AUC: 0.9154\n"
     ]
    }
   ],
   "source": [
    "val_predictions = training_model.predict([np.vstack(X_test['text_embedded__left']), np.vstack(X_test['text_embedded__right'])])\n",
    "val_predictions_binary = (val_predictions > 0.5).astype(int)\n",
    "\n",
    "precision = precision_score(y_test, val_predictions_binary)\n",
    "recall = recall_score(y_test, val_predictions_binary)\n",
    "auc = roc_auc_score(y_test, val_predictions_binary)\n",
    "\n",
    "print(f'Precision: {precision:.4f}')\n",
    "print(f'Recall: {recall:.4f}')\n",
    "print(f'AUC: {auc:.4f}')"
   ]
  },
  {
   "cell_type": "markdown",
   "metadata": {},
   "source": [
    "### **7.5. Embedding Model Preparation**"
   ]
  },
  {
   "cell_type": "code",
   "execution_count": 901,
   "metadata": {},
   "outputs": [
    {
     "name": "stdout",
     "output_type": "stream",
     "text": [
      "Model: \"embd_inference_model\"\n",
      "_________________________________________________________________\n",
      " Layer (type)                Output Shape              Param #   \n",
      "=================================================================\n",
      " input (InputLayer)          [(None, 384)]             0         \n",
      "                                                                 \n",
      " shared_node_1 (Dense)       (None, 256)               98560     \n",
      "                                                                 \n",
      " shared_node_2 (Dense)       (None, 256)               65792     \n",
      "                                                                 \n",
      " shared_node_3 (Dense)       (None, 128)               32896     \n",
      "                                                                 \n",
      " shared_node_4 (Dense)       (None, 128)               16512     \n",
      "                                                                 \n",
      "=================================================================\n",
      "Total params: 213760 (835.00 KB)\n",
      "Trainable params: 213760 (835.00 KB)\n",
      "Non-trainable params: 0 (0.00 Byte)\n",
      "_________________________________________________________________\n"
     ]
    }
   ],
   "source": [
    "embd_input = Input(shape=(384, ), name='input')\n",
    "embd_hidden = training_model.get_layer('shared_node_1')(embd_input)\n",
    "embd_hidden = training_model.get_layer('shared_node_2')(embd_hidden)\n",
    "embd_hidden = training_model.get_layer('shared_node_3')(embd_hidden)\n",
    "embd_output = training_model.get_layer('shared_node_4')(embd_hidden)\n",
    "\n",
    "embd_model = Model(inputs=embd_input, outputs=embd_output, name='embd_inference_model')\n",
    "embd_model.summary()"
   ]
  },
  {
   "cell_type": "markdown",
   "metadata": {},
   "source": [
    "### **7.6. Embedding Model Evaluation**"
   ]
  },
  {
   "cell_type": "code",
   "execution_count": 902,
   "metadata": {},
   "outputs": [],
   "source": [
    "def custom_cosine_similarity(text_1: np.ndarray, text_2: np.ndarray):\n",
    "    dot_product = np.dot(text_1, text_2)\n",
    "    norm_text_1 = np.linalg.norm(text_1)\n",
    "    norm_text_2 = np.linalg.norm(text_2)\n",
    "    \n",
    "    similarity = dot_product / (norm_text_1 * norm_text_2)\n",
    "    \n",
    "    return similarity"
   ]
  },
  {
   "cell_type": "code",
   "execution_count": 903,
   "metadata": {},
   "outputs": [
    {
     "name": "stdout",
     "output_type": "stream",
     "text": [
      "1961/1961 [==============================] - 3s 1ms/step\n",
      "1961/1961 [==============================] - 3s 1ms/step\n"
     ]
    }
   ],
   "source": [
    "embd_test_left = embd_model.predict(np.vstack(X_test['text_embedded__left']))\n",
    "embd_test_right = embd_model.predict(np.vstack(X_test['text_embedded__right']))\n",
    "embd_similarity = np.array([custom_cosine_similarity(embd_1, embd_2) for embd_1, embd_2 in zip(embd_test_left, embd_test_right)])"
   ]
  },
  {
   "cell_type": "code",
   "execution_count": 904,
   "metadata": {},
   "outputs": [],
   "source": [
    "def evaluate_model(similarity_scores: np.ndarray, threshold: float):\n",
    "  embd_binary_similarity = (similarity_scores > threshold).astype(int)\n",
    "\n",
    "  precision = precision_score(y_test, embd_binary_similarity)\n",
    "  recall = recall_score(y_test, embd_binary_similarity)\n",
    "  auc = roc_auc_score(y_test, embd_binary_similarity)\n",
    "  \n",
    "  return [precision, recall, auc]"
   ]
  },
  {
   "cell_type": "code",
   "execution_count": 908,
   "metadata": {},
   "outputs": [
    {
     "data": {
      "text/html": [
       "<div>\n",
       "<style scoped>\n",
       "    .dataframe tbody tr th:only-of-type {\n",
       "        vertical-align: middle;\n",
       "    }\n",
       "\n",
       "    .dataframe tbody tr th {\n",
       "        vertical-align: top;\n",
       "    }\n",
       "\n",
       "    .dataframe thead th {\n",
       "        text-align: right;\n",
       "    }\n",
       "</style>\n",
       "<table border=\"1\" class=\"dataframe\">\n",
       "  <thead>\n",
       "    <tr style=\"text-align: right;\">\n",
       "      <th></th>\n",
       "      <th>threshold</th>\n",
       "      <th>precision</th>\n",
       "      <th>recall</th>\n",
       "      <th>auc</th>\n",
       "    </tr>\n",
       "  </thead>\n",
       "  <tbody>\n",
       "    <tr>\n",
       "      <th>501</th>\n",
       "      <td>0.501502</td>\n",
       "      <td>0.711361</td>\n",
       "      <td>0.932989</td>\n",
       "      <td>0.939836</td>\n",
       "    </tr>\n",
       "    <tr>\n",
       "      <th>500</th>\n",
       "      <td>0.500501</td>\n",
       "      <td>0.709741</td>\n",
       "      <td>0.933247</td>\n",
       "      <td>0.939747</td>\n",
       "    </tr>\n",
       "    <tr>\n",
       "      <th>498</th>\n",
       "      <td>0.498498</td>\n",
       "      <td>0.706267</td>\n",
       "      <td>0.934151</td>\n",
       "      <td>0.939717</td>\n",
       "    </tr>\n",
       "    <tr>\n",
       "      <th>488</th>\n",
       "      <td>0.488488</td>\n",
       "      <td>0.692000</td>\n",
       "      <td>0.938154</td>\n",
       "      <td>0.939673</td>\n",
       "    </tr>\n",
       "    <tr>\n",
       "      <th>502</th>\n",
       "      <td>0.502503</td>\n",
       "      <td>0.713382</td>\n",
       "      <td>0.931956</td>\n",
       "      <td>0.939611</td>\n",
       "    </tr>\n",
       "    <tr>\n",
       "      <th>...</th>\n",
       "      <td>...</td>\n",
       "      <td>...</td>\n",
       "      <td>...</td>\n",
       "      <td>...</td>\n",
       "    </tr>\n",
       "    <tr>\n",
       "      <th>995</th>\n",
       "      <td>0.995996</td>\n",
       "      <td>1.000000</td>\n",
       "      <td>0.025178</td>\n",
       "      <td>0.512589</td>\n",
       "    </tr>\n",
       "    <tr>\n",
       "      <th>996</th>\n",
       "      <td>0.996997</td>\n",
       "      <td>1.000000</td>\n",
       "      <td>0.024661</td>\n",
       "      <td>0.512331</td>\n",
       "    </tr>\n",
       "    <tr>\n",
       "      <th>997</th>\n",
       "      <td>0.997998</td>\n",
       "      <td>1.000000</td>\n",
       "      <td>0.023370</td>\n",
       "      <td>0.511685</td>\n",
       "    </tr>\n",
       "    <tr>\n",
       "      <th>998</th>\n",
       "      <td>0.998999</td>\n",
       "      <td>1.000000</td>\n",
       "      <td>0.022853</td>\n",
       "      <td>0.511427</td>\n",
       "    </tr>\n",
       "    <tr>\n",
       "      <th>999</th>\n",
       "      <td>1.000000</td>\n",
       "      <td>1.000000</td>\n",
       "      <td>0.004906</td>\n",
       "      <td>0.502453</td>\n",
       "    </tr>\n",
       "  </tbody>\n",
       "</table>\n",
       "<p>1000 rows × 4 columns</p>\n",
       "</div>"
      ],
      "text/plain": [
       "     threshold  precision    recall       auc\n",
       "501   0.501502   0.711361  0.932989  0.939836\n",
       "500   0.500501   0.709741  0.933247  0.939747\n",
       "498   0.498498   0.706267  0.934151  0.939717\n",
       "488   0.488488   0.692000  0.938154  0.939673\n",
       "502   0.502503   0.713382  0.931956  0.939611\n",
       "..         ...        ...       ...       ...\n",
       "995   0.995996   1.000000  0.025178  0.512589\n",
       "996   0.996997   1.000000  0.024661  0.512331\n",
       "997   0.997998   1.000000  0.023370  0.511685\n",
       "998   0.998999   1.000000  0.022853  0.511427\n",
       "999   1.000000   1.000000  0.004906  0.502453\n",
       "\n",
       "[1000 rows x 4 columns]"
      ]
     },
     "execution_count": 908,
     "metadata": {},
     "output_type": "execute_result"
    }
   ],
   "source": [
    "threshold_eval = pd.DataFrame([[threshold, *evaluate_model(embd_similarity, threshold)] for threshold in np.linspace(0, 1, 1000)], columns=['threshold', 'precision', 'recall', 'auc'])\n",
    "threshold_eval.sort_values(by='auc', ascending=False)"
   ]
  },
  {
   "cell_type": "code",
   "execution_count": 909,
   "metadata": {},
   "outputs": [
    {
     "data": {
      "text/plain": [
       "<Axes: title={'center': 'Metrics Evaluation'}, xlabel='Threshold', ylabel='Metric score'>"
      ]
     },
     "execution_count": 909,
     "metadata": {},
     "output_type": "execute_result"
    },
    {
     "data": {
      "image/png": "[encoded data removed]",
      "text/plain": [
       "<Figure size 640x480 with 1 Axes>"
      ]
     },
     "metadata": {},
     "output_type": "display_data"
    }
   ],
   "source": [
    "threshold_eval.plot(kind='line',\n",
    "                    title='Metrics Evaluation',\n",
    "                    x='threshold',\n",
    "                    xlabel='Threshold',\n",
    "                    ylabel='Metric score',\n",
    "                    grid=True)"
   ]
  },
  {
   "cell_type": "code",
   "execution_count": 914,
   "metadata": {},
   "outputs": [
    {
     "name": "stdout",
     "output_type": "stream",
     "text": [
      "Precision: 0.99034\n",
      "Recall: 0.38399\n",
      "AUC: 0.69173\n"
     ]
    }
   ],
   "source": [
    "model_eval = evaluate_model(embd_similarity, 0.84)\n",
    "\n",
    "print(f'Precision: {model_eval[0]:.5f}')\n",
    "print(f'Recall: {model_eval[1]:.5f}')\n",
    "print(f'AUC: {model_eval[2]:.5f}')"
   ]
  }
 ],
 "metadata": {
  "kernelspec": {
   "display_name": "env_1",
   "language": "python",
   "name": "python3"
  },
  "language_info": {
   "codemirror_mode": {
    "name": "ipython",
    "version": 3
   },
   "file_extension": ".py",
   "mimetype": "text/x-python",
   "name": "python",
   "nbconvert_exporter": "python",
   "pygments_lexer": "ipython3",
   "version": "3.11.7"
  }
 },
 "nbformat": 4,
 "nbformat_minor": 2
}
