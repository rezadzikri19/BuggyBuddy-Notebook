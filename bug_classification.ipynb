{
 "cells": [
  {
   "cell_type": "markdown",
   "metadata": {},
   "source": [
    "### **1. Import Dependencies**"
   ]
  },
  {
   "cell_type": "code",
   "execution_count": 1,
   "metadata": {},
   "outputs": [
    {
     "name": "stderr",
     "output_type": "stream",
     "text": [
      "d:\\Programs\\Miniconda3\\envs\\env_1\\Lib\\site-packages\\tqdm\\auto.py:21: TqdmWarning: IProgress not found. Please update jupyter and ipywidgets. See https://ipywidgets.readthedocs.io/en/stable/user_install.html\n",
      "  from .autonotebook import tqdm as notebook_tqdm\n"
     ]
    },
    {
     "name": "stdout",
     "output_type": "stream",
     "text": [
      "WARNING:tensorflow:From d:\\Programs\\Miniconda3\\envs\\env_1\\Lib\\site-packages\\keras\\src\\losses.py:2976: The name tf.losses.sparse_softmax_cross_entropy is deprecated. Please use tf.compat.v1.losses.sparse_softmax_cross_entropy instead.\n",
      "\n"
     ]
    },
    {
     "name": "stderr",
     "output_type": "stream",
     "text": [
      "[nltk_data] Downloading package stopwords to\n",
      "[nltk_data]     C:\\Users\\msi.pc\\AppData\\Roaming\\nltk_data...\n",
      "[nltk_data]   Package stopwords is already up-to-date!\n",
      "[nltk_data] Downloading package punkt to\n",
      "[nltk_data]     C:\\Users\\msi.pc\\AppData\\Roaming\\nltk_data...\n",
      "[nltk_data]   Package punkt is already up-to-date!\n"
     ]
    },
    {
     "data": {
      "text/plain": [
       "True"
      ]
     },
     "execution_count": 1,
     "metadata": {},
     "output_type": "execute_result"
    }
   ],
   "source": [
    "import pandas as pd\n",
    "import numpy as np\n",
    "\n",
    "import gc\n",
    "import os\n",
    "import requests\n",
    "import json\n",
    "import re\n",
    "\n",
    "import concurrent.futures\n",
    "import asyncio\n",
    "import httpx\n",
    "import multiprocessing\n",
    "\n",
    "from urllib.parse import urlencode\n",
    "\n",
    "from typing import List, Dict, Optional, Union\n",
    "from glob import glob\n",
    "\n",
    "import joblib\n",
    "\n",
    "import matplotlib.pyplot as plt\n",
    "import seaborn as sns\n",
    "\n",
    "import nltk\n",
    "from nltk.tokenize import word_tokenize\n",
    "from nltk.corpus import stopwords\n",
    "\n",
    "from sklearn.preprocessing import StandardScaler, RobustScaler\n",
    "from sklearn.model_selection import train_test_split, StratifiedKFold\n",
    "from sklearn.impute import KNNImputer, SimpleImputer\n",
    "from sklearn.pipeline import Pipeline\n",
    "from sklearn.compose import ColumnTransformer\n",
    "from sklearn.ensemble import RandomForestClassifier\n",
    "from sklearn.metrics.pairwise import cosine_similarity\n",
    "from sklearn.preprocessing import normalize\n",
    "from sklearn.metrics import precision_score, recall_score, roc_auc_score\n",
    "\n",
    "from sentence_transformers import SentenceTransformer\n",
    "import fasttext\n",
    "from gensim.models import KeyedVectors \n",
    "\n",
    "import tensorflow as tf\n",
    "import tensorflow.keras as keras\n",
    "\n",
    "from keras import backend as K\n",
    "from keras.models import Model, Sequential\n",
    "from keras.layers import Dense, LSTM, Bidirectional, Input, Lambda, Dot, Layer\n",
    "from keras.callbacks import EarlyStopping\n",
    "\n",
    "import faiss\n",
    "\n",
    "nltk.download('stopwords')\n",
    "nltk.download('punkt')"
   ]
  },
  {
   "cell_type": "markdown",
   "metadata": {},
   "source": [
    "### **2. Settings**"
   ]
  },
  {
   "cell_type": "code",
   "execution_count": 2,
   "metadata": {},
   "outputs": [],
   "source": [
    "tf.random.set_seed(42)\n",
    "\n",
    "pd.set_option('display.max_rows', 100)\n",
    "pd.set_option('display.max_columns', 50)"
   ]
  },
  {
   "cell_type": "markdown",
   "metadata": {},
   "source": [
    "### **3. Load Data**"
   ]
  },
  {
   "cell_type": "code",
   "execution_count": 3,
   "metadata": {},
   "outputs": [],
   "source": [
    "def fetch_data(url: str, params=None):\n",
    "  try:\n",
    "    response = requests.get(url, params=params)\n",
    "    if (response.status_code == 200):\n",
    "      return response.json()\n",
    "    \n",
    "    print(f\"Error response with status code: {response.status_code}\")\n",
    "  except Exception as error:\n",
    "    print(f'Failed to fetch data: {error}')\n",
    "\n",
    "def urls_builder(base_url: str, n_fetch: int, limit: int, products: List[str], **kwargs):\n",
    "  urls = []\n",
    "  for product in products:\n",
    "    for i in range(n_fetch):\n",
    "      \n",
    "      param = {\n",
    "        'offset': i * limit,\n",
    "        'limit': limit,\n",
    "        'product': product,\n",
    "        **kwargs,\n",
    "      }\n",
    "      \n",
    "      full_url = base_url + '?' + urlencode(param)\n",
    "      urls.append(full_url)\n",
    "    \n",
    "  return urls\n",
    "\n",
    "def save_json(data, path: str):\n",
    "  with open(path, 'w') as json_file:\n",
    "    json.dump(data, json_file)\n",
    "\n",
    "def load_json(path: str):\n",
    "  with open(path, 'r') as json_file:\n",
    "    loaded_data = json.load(json_file)\n",
    "  return loaded_data"
   ]
  },
  {
   "cell_type": "code",
   "execution_count": 4,
   "metadata": {},
   "outputs": [],
   "source": [
    "# %%script skipped # Skipped due to resource optimization\n",
    "\n",
    "selected_fields = ['id', 'duplicates', 'summary', 'description', 'status', 'resolution', 'platform', 'product', 'type', 'priority', 'severity', 'component']\n",
    "products = ['Firefox']\n",
    "\n",
    "base_params = {\n",
    "  'include_fields': ', '.join(selected_fields),\n",
    "  'type': 'defect',\n",
    "}\n",
    "saved_data_path = os.path.join('data_1', 'raw_data', 'firefox_raw_data.json')\n",
    "\n",
    "base_url = 'https://bugzilla.mozilla.org/rest/bug'\n",
    "n_fetch = 50\n",
    "limit = 5000\n",
    "\n",
    "if os.path.exists(saved_data_path):\n",
    "  response_data = load_json(saved_data_path)\n",
    "else:\n",
    "  urls = urls_builder(base_url, n_fetch, limit, products, **base_params)\n",
    "  response_data = []\n",
    "\n",
    "  max_workers = 50\n",
    "  with concurrent.futures.ThreadPoolExecutor(max_workers) as executor:\n",
    "    response_data = list(executor.map(fetch_data, urls))\n",
    "    \n",
    "  response_data = [item['bugs'] for item in response_data]\n",
    "  response_data = [item for sublist in response_data for item in sublist]\n",
    "  \n",
    "  save_json(response_data, saved_data_path)"
   ]
  },
  {
   "cell_type": "code",
   "execution_count": 24,
   "metadata": {},
   "outputs": [
    {
     "data": {
      "text/html": [
       "<div>\n",
       "<style scoped>\n",
       "    .dataframe tbody tr th:only-of-type {\n",
       "        vertical-align: middle;\n",
       "    }\n",
       "\n",
       "    .dataframe tbody tr th {\n",
       "        vertical-align: top;\n",
       "    }\n",
       "\n",
       "    .dataframe thead th {\n",
       "        text-align: right;\n",
       "    }\n",
       "</style>\n",
       "<table border=\"1\" class=\"dataframe\">\n",
       "  <thead>\n",
       "    <tr style=\"text-align: right;\">\n",
       "      <th></th>\n",
       "      <th>severity</th>\n",
       "      <th>status</th>\n",
       "      <th>component</th>\n",
       "      <th>description</th>\n",
       "      <th>summary</th>\n",
       "      <th>platform</th>\n",
       "      <th>resolution</th>\n",
       "      <th>type</th>\n",
       "      <th>priority</th>\n",
       "      <th>duplicates</th>\n",
       "      <th>product</th>\n",
       "    </tr>\n",
       "    <tr>\n",
       "      <th>id</th>\n",
       "      <th></th>\n",
       "      <th></th>\n",
       "      <th></th>\n",
       "      <th></th>\n",
       "      <th></th>\n",
       "      <th></th>\n",
       "      <th></th>\n",
       "      <th></th>\n",
       "      <th></th>\n",
       "      <th></th>\n",
       "      <th></th>\n",
       "    </tr>\n",
       "  </thead>\n",
       "  <tbody>\n",
       "    <tr>\n",
       "      <th>14871</th>\n",
       "      <td>minor</td>\n",
       "      <td>RESOLVED</td>\n",
       "      <td>General</td>\n",
       "      <td>Please add \"Match Whole Word Only\" option to b...</td>\n",
       "      <td>[Find] Find whole word only</td>\n",
       "      <td>All</td>\n",
       "      <td>DUPLICATE</td>\n",
       "      <td>defect</td>\n",
       "      <td>--</td>\n",
       "      <td>[]</td>\n",
       "      <td>Firefox</td>\n",
       "    </tr>\n",
       "    <tr>\n",
       "      <th>24278</th>\n",
       "      <td>normal</td>\n",
       "      <td>RESOLVED</td>\n",
       "      <td>File Handling</td>\n",
       "      <td>I just tried to download a file with mozilla. ...</td>\n",
       "      <td>The download window is not resizable!</td>\n",
       "      <td>x86</td>\n",
       "      <td>WORKSFORME</td>\n",
       "      <td>defect</td>\n",
       "      <td>P3</td>\n",
       "      <td>[]</td>\n",
       "      <td>Firefox</td>\n",
       "    </tr>\n",
       "    <tr>\n",
       "      <th>27493</th>\n",
       "      <td>S3</td>\n",
       "      <td>NEW</td>\n",
       "      <td>File Handling</td>\n",
       "      <td>The choice of default directory, which the fil...</td>\n",
       "      <td>Default open/save directory isn't smart</td>\n",
       "      <td>All</td>\n",
       "      <td></td>\n",
       "      <td>defect</td>\n",
       "      <td>P3</td>\n",
       "      <td>[2226, 34974, 38526, 55478, 56782]</td>\n",
       "      <td>Firefox</td>\n",
       "    </tr>\n",
       "    <tr>\n",
       "      <th>35507</th>\n",
       "      <td>S3</td>\n",
       "      <td>NEW</td>\n",
       "      <td>File Handling</td>\n",
       "      <td></td>\n",
       "      <td>URILoader needs to use webprogress to cancel l...</td>\n",
       "      <td>x86</td>\n",
       "      <td></td>\n",
       "      <td>defect</td>\n",
       "      <td>--</td>\n",
       "      <td>[]</td>\n",
       "      <td>Firefox</td>\n",
       "    </tr>\n",
       "    <tr>\n",
       "      <th>38121</th>\n",
       "      <td>S3</td>\n",
       "      <td>NEW</td>\n",
       "      <td>File Handling</td>\n",
       "      <td>Windows:\\n1. Load http://www.w3.org/Style/CSS/...</td>\n",
       "      <td>\"save as\" should convert line breaks depending...</td>\n",
       "      <td>All</td>\n",
       "      <td></td>\n",
       "      <td>defect</td>\n",
       "      <td>P4</td>\n",
       "      <td>[40198, 89251, 109341, 146614, 147405, 211130]</td>\n",
       "      <td>Firefox</td>\n",
       "    </tr>\n",
       "  </tbody>\n",
       "</table>\n",
       "</div>"
      ],
      "text/plain": [
       "      severity    status      component  \\\n",
       "id                                        \n",
       "14871    minor  RESOLVED        General   \n",
       "24278   normal  RESOLVED  File Handling   \n",
       "27493       S3       NEW  File Handling   \n",
       "35507       S3       NEW  File Handling   \n",
       "38121       S3       NEW  File Handling   \n",
       "\n",
       "                                             description  \\\n",
       "id                                                         \n",
       "14871  Please add \"Match Whole Word Only\" option to b...   \n",
       "24278  I just tried to download a file with mozilla. ...   \n",
       "27493  The choice of default directory, which the fil...   \n",
       "35507                                                      \n",
       "38121  Windows:\\n1. Load http://www.w3.org/Style/CSS/...   \n",
       "\n",
       "                                                 summary platform  resolution  \\\n",
       "id                                                                              \n",
       "14871                        [Find] Find whole word only      All   DUPLICATE   \n",
       "24278              The download window is not resizable!      x86  WORKSFORME   \n",
       "27493            Default open/save directory isn't smart      All               \n",
       "35507  URILoader needs to use webprogress to cancel l...      x86               \n",
       "38121  \"save as\" should convert line breaks depending...      All               \n",
       "\n",
       "         type priority                                      duplicates  \\\n",
       "id                                                                       \n",
       "14871  defect       --                                              []   \n",
       "24278  defect       P3                                              []   \n",
       "27493  defect       P3              [2226, 34974, 38526, 55478, 56782]   \n",
       "35507  defect       --                                              []   \n",
       "38121  defect       P4  [40198, 89251, 109341, 146614, 147405, 211130]   \n",
       "\n",
       "       product  \n",
       "id              \n",
       "14871  Firefox  \n",
       "24278  Firefox  \n",
       "27493  Firefox  \n",
       "35507  Firefox  \n",
       "38121  Firefox  "
      ]
     },
     "execution_count": 24,
     "metadata": {},
     "output_type": "execute_result"
    }
   ],
   "source": [
    "raw_data_path = os.path.join('data_1', 'cache', 'raw_data.parquet')\n",
    "df = pd.DataFrame()\n",
    "\n",
    "if (os.path.exists(raw_data_path)):\n",
    "  df = pd.read_parquet(raw_data_path)\n",
    "else:\n",
    "  data_paths = glob(os.path.join('data_1', 'raw_data', 'firefox_raw_data.json'))\n",
    "\n",
    "  for path in data_paths:\n",
    "    data = load_json(path)\n",
    "    data = pd.DataFrame(data)\n",
    "    df = pd.concat([df, data])\n",
    "\n",
    "  df = df.set_index('id')\n",
    "  df.to_parquet(raw_data_path)\n",
    "\n",
    "df.head()"
   ]
  },
  {
   "cell_type": "code",
   "execution_count": 25,
   "metadata": {},
   "outputs": [
    {
     "data": {
      "text/plain": [
       "973"
      ]
     },
     "execution_count": 25,
     "metadata": {},
     "output_type": "execute_result"
    }
   ],
   "source": [
    "df = df.drop(['status', 'priority', 'resolution', 'severity', 'component', 'product', 'type'], axis=1)\n",
    "\n",
    "gc.collect()"
   ]
  },
  {
   "cell_type": "code",
   "execution_count": 26,
   "metadata": {},
   "outputs": [
    {
     "name": "stdout",
     "output_type": "stream",
     "text": [
      "<class 'pandas.core.frame.DataFrame'>\n",
      "Index: 180361 entries, 14871 to 1877932\n",
      "Data columns (total 4 columns):\n",
      " #   Column       Non-Null Count   Dtype \n",
      "---  ------       --------------   ----- \n",
      " 0   description  180361 non-null  object\n",
      " 1   summary      180361 non-null  object\n",
      " 2   platform     180361 non-null  object\n",
      " 3   duplicates   180361 non-null  object\n",
      "dtypes: object(4)\n",
      "memory usage: 263.5 MB\n"
     ]
    }
   ],
   "source": [
    "df.info(memory_usage='deep')"
   ]
  },
  {
   "cell_type": "markdown",
   "metadata": {},
   "source": [
    "### **3. EDA**"
   ]
  },
  {
   "cell_type": "markdown",
   "metadata": {},
   "source": [
    "### **3.1. Missing Values**"
   ]
  },
  {
   "cell_type": "code",
   "execution_count": 27,
   "metadata": {},
   "outputs": [
    {
     "data": {
      "text/plain": [
       "description    0\n",
       "summary        0\n",
       "platform       0\n",
       "duplicates     0\n",
       "dtype: int64"
      ]
     },
     "execution_count": 27,
     "metadata": {},
     "output_type": "execute_result"
    }
   ],
   "source": [
    "df.isna().sum()"
   ]
  },
  {
   "cell_type": "markdown",
   "metadata": {},
   "source": [
    "### **3.2. Product**"
   ]
  },
  {
   "cell_type": "code",
   "execution_count": 13,
   "metadata": {},
   "outputs": [
    {
     "name": "stdout",
     "output_type": "stream",
     "text": [
      "Couldn't find program: 'skipped'\n"
     ]
    }
   ],
   "source": [
    "%%script skipped # Skipped\n",
    "\n",
    "df['product'].value_counts(ascending=False)"
   ]
  },
  {
   "cell_type": "markdown",
   "metadata": {},
   "source": [
    "### **3.3. Platform**"
   ]
  },
  {
   "cell_type": "code",
   "execution_count": 28,
   "metadata": {},
   "outputs": [
    {
     "data": {
      "text/plain": [
       "platform\n",
       "x86            80884\n",
       "Unspecified    39764\n",
       "All            28530\n",
       "x86_64         19096\n",
       "PowerPC         6273\n",
       "Desktop         4625\n",
       "Other            727\n",
       "ARM              188\n",
       "Sun              181\n",
       "ARM64             51\n",
       "HP                24\n",
       "DEC                7\n",
       "SGI                6\n",
       "RISCV64            3\n",
       "XScale             2\n",
       "Name: count, dtype: int64"
      ]
     },
     "execution_count": 28,
     "metadata": {},
     "output_type": "execute_result"
    }
   ],
   "source": [
    "df['platform'].value_counts(ascending=False)"
   ]
  },
  {
   "cell_type": "markdown",
   "metadata": {},
   "source": [
    "### **3.4. Type**"
   ]
  },
  {
   "cell_type": "code",
   "execution_count": 16,
   "metadata": {},
   "outputs": [
    {
     "name": "stdout",
     "output_type": "stream",
     "text": [
      "Couldn't find program: 'skipped'\n"
     ]
    }
   ],
   "source": [
    "%%script skipped # Skipped\n",
    "\n",
    "df['type'].value_counts(ascending=False)"
   ]
  },
  {
   "cell_type": "markdown",
   "metadata": {},
   "source": [
    "### **3.5. Duplicates**"
   ]
  },
  {
   "cell_type": "code",
   "execution_count": 29,
   "metadata": {},
   "outputs": [
    {
     "data": {
      "text/plain": [
       "id\n",
       "246078     114\n",
       "247116      73\n",
       "210910      69\n",
       "69938       68\n",
       "245392      66\n",
       "          ... \n",
       "479529       0\n",
       "479532       0\n",
       "479534       0\n",
       "479535       0\n",
       "1877932      0\n",
       "Name: duplicates, Length: 180361, dtype: int64"
      ]
     },
     "execution_count": 29,
     "metadata": {},
     "output_type": "execute_result"
    }
   ],
   "source": [
    "duplicates = df['duplicates'].apply(lambda x: len(x)).sort_values(ascending=False)\n",
    "duplicates"
   ]
  },
  {
   "cell_type": "code",
   "execution_count": 30,
   "metadata": {},
   "outputs": [
    {
     "data": {
      "text/plain": [
       "12643"
      ]
     },
     "execution_count": 30,
     "metadata": {},
     "output_type": "execute_result"
    }
   ],
   "source": [
    "duplicated_bugs = duplicates[duplicates > 0]\n",
    "duplicated_bugs.count()"
   ]
  },
  {
   "cell_type": "markdown",
   "metadata": {},
   "source": [
    "### **4. Feature Engineering**"
   ]
  },
  {
   "cell_type": "markdown",
   "metadata": {},
   "source": [
    "### **4.1. Missing Values**"
   ]
  },
  {
   "cell_type": "code",
   "execution_count": 32,
   "metadata": {},
   "outputs": [
    {
     "name": "stdout",
     "output_type": "stream",
     "text": [
      "Couldn't find program: 'skipped'\n"
     ]
    }
   ],
   "source": [
    "%%script skipped # Skipped\n",
    "\n",
    "df.loc[df['type'] == '--', 'type'] = 'no type'"
   ]
  },
  {
   "cell_type": "markdown",
   "metadata": {},
   "source": [
    "### **4.2. Duplicates**"
   ]
  },
  {
   "cell_type": "code",
   "execution_count": 33,
   "metadata": {},
   "outputs": [
    {
     "data": {
      "text/plain": [
       "id\n",
       "246078     [239385, 239561, 246164, 246674, 246958, 24697...\n",
       "247116     [247032, 254990, 255342, 256792, 257710, 25950...\n",
       "210910     [197227, 210933, 211542, 212349, 212382, 21269...\n",
       "69938      [79637, 87494, 105392, 107129, 116505, 121880,...\n",
       "245392     [245393, 245694, 246339, 246486, 247750, 24788...\n",
       "                                 ...                        \n",
       "424481                                              [430057]\n",
       "680193                                              [772488]\n",
       "1781903                                            [1743762]\n",
       "315040                                              [335261]\n",
       "442252                                              [442310]\n",
       "Name: duplicates, Length: 12643, dtype: object"
      ]
     },
     "execution_count": 33,
     "metadata": {},
     "output_type": "execute_result"
    }
   ],
   "source": [
    "duplicated = df.loc[duplicated_bugs.index, 'duplicates']\n",
    "duplicated"
   ]
  },
  {
   "cell_type": "code",
   "execution_count": 34,
   "metadata": {},
   "outputs": [],
   "source": [
    "data_path = os.path.join('data_1', 'cache', 'duplicate_to_data.parquet')\n",
    "\n",
    "if (os.path.exists(data_path)):\n",
    "  df = pd.read_parquet(data_path)\n",
    "else:\n",
    "  df['duplicates_to'] = -1\n",
    "\n",
    "  for idx, dups in zip(duplicated.index, duplicated):\n",
    "    for item in dups:\n",
    "      df.loc[df.index == item, 'duplicates_to'] = idx\n",
    "      \n",
    "  df.to_parquet(data_path)"
   ]
  },
  {
   "cell_type": "code",
   "execution_count": 35,
   "metadata": {},
   "outputs": [],
   "source": [
    "df = df.drop(columns=['duplicates'])"
   ]
  },
  {
   "cell_type": "markdown",
   "metadata": {},
   "source": [
    "### **4.3. Clean Sentences**"
   ]
  },
  {
   "cell_type": "code",
   "execution_count": 36,
   "metadata": {},
   "outputs": [],
   "source": [
    "def remove_special_chars(text: str):\n",
    "  text = text.lower()\n",
    "  text = re.sub(r'\\n|\\t|\\r|\\0', ' ', text)\n",
    "  text = re.sub(r'[^a-zA-Z0-9\\s]', ' ', text)\n",
    "  text = re.sub(r'\\s{2,}', ' ', text)\n",
    "  text = re.sub(r'\\s$', '', text)\n",
    "  text = re.sub(r'\\s[b-z]\\s', ' ', text)\n",
    "  text = re.sub(r'\\s[b-z]\\s', ' ', text)\n",
    "  \n",
    "  return text\n",
    "\n",
    "def remove_stopwords(text: str):\n",
    "  stop_words = set(stopwords.words('english'))\n",
    "  words = word_tokenize(text)\n",
    "  filtered_words = [word for word in words if word not in stop_words]\n",
    "  \n",
    "  return ' '.join(filtered_words)\n",
    "\n",
    "def clean_text(text: str):\n",
    "  text = remove_special_chars(text)\n",
    "  text = remove_stopwords(text)\n",
    "  \n",
    "  return text\n",
    "\n",
    "df['platform'] = df['platform'].apply(clean_text)\n",
    "df['summary'] = df['summary'].apply(clean_text)\n",
    "df['description'] = df['description'].apply(clean_text)\n",
    "\n",
    "# df['type'] = df['type'].apply(clean_text)\n",
    "# df['product'] = df['product'].apply(clean_text)"
   ]
  },
  {
   "cell_type": "markdown",
   "metadata": {},
   "source": [
    "### **4.4. Combined Text**"
   ]
  },
  {
   "cell_type": "code",
   "execution_count": 37,
   "metadata": {},
   "outputs": [],
   "source": [
    "df['text'] = df['platform'] + ' ' + df['summary'] + ' ' + df['description']\n",
    "\n",
    "# df['text'] = df['type'] + ' ' + df['platform'] + ' ' + df['summary'] + ' ' + df['description']"
   ]
  },
  {
   "cell_type": "code",
   "execution_count": 38,
   "metadata": {},
   "outputs": [
    {
     "data": {
      "text/html": [
       "<div>\n",
       "<style scoped>\n",
       "    .dataframe tbody tr th:only-of-type {\n",
       "        vertical-align: middle;\n",
       "    }\n",
       "\n",
       "    .dataframe tbody tr th {\n",
       "        vertical-align: top;\n",
       "    }\n",
       "\n",
       "    .dataframe thead th {\n",
       "        text-align: right;\n",
       "    }\n",
       "</style>\n",
       "<table border=\"1\" class=\"dataframe\">\n",
       "  <thead>\n",
       "    <tr style=\"text-align: right;\">\n",
       "      <th></th>\n",
       "      <th>text</th>\n",
       "      <th>duplicates_to</th>\n",
       "    </tr>\n",
       "    <tr>\n",
       "      <th>id</th>\n",
       "      <th></th>\n",
       "      <th></th>\n",
       "    </tr>\n",
       "  </thead>\n",
       "  <tbody>\n",
       "    <tr>\n",
       "      <th>14871</th>\n",
       "      <td>find find whole word please add match whole w...</td>\n",
       "      <td>-1</td>\n",
       "    </tr>\n",
       "    <tr>\n",
       "      <th>24278</th>\n",
       "      <td>x86 download window resizable tried download f...</td>\n",
       "      <td>-1</td>\n",
       "    </tr>\n",
       "    <tr>\n",
       "      <th>27493</th>\n",
       "      <td>default open save directory smart choice defa...</td>\n",
       "      <td>-1</td>\n",
       "    </tr>\n",
       "    <tr>\n",
       "      <th>35507</th>\n",
       "      <td>x86 uriloader needs use webprogress cancel loads</td>\n",
       "      <td>-1</td>\n",
       "    </tr>\n",
       "    <tr>\n",
       "      <th>38121</th>\n",
       "      <td>save convert line breaks depending platform w...</td>\n",
       "      <td>-1</td>\n",
       "    </tr>\n",
       "  </tbody>\n",
       "</table>\n",
       "</div>"
      ],
      "text/plain": [
       "                                                    text  duplicates_to\n",
       "id                                                                     \n",
       "14871   find find whole word please add match whole w...             -1\n",
       "24278  x86 download window resizable tried download f...             -1\n",
       "27493   default open save directory smart choice defa...             -1\n",
       "35507  x86 uriloader needs use webprogress cancel loads              -1\n",
       "38121   save convert line breaks depending platform w...             -1"
      ]
     },
     "execution_count": 38,
     "metadata": {},
     "output_type": "execute_result"
    }
   ],
   "source": [
    "df = df[['text', 'duplicates_to']]\n",
    "\n",
    "df.head()"
   ]
  },
  {
   "cell_type": "markdown",
   "metadata": {},
   "source": [
    "### **4.5. Sentence Embedding**"
   ]
  },
  {
   "cell_type": "code",
   "execution_count": 39,
   "metadata": {},
   "outputs": [],
   "source": [
    "# %%script skipped # Skipped\n",
    "\n",
    "sent_embd_model = SentenceTransformer('sentence-transformers/all-MiniLM-L6-v2')"
   ]
  },
  {
   "cell_type": "code",
   "execution_count": 41,
   "metadata": {},
   "outputs": [
    {
     "data": {
      "text/plain": [
       "0"
      ]
     },
     "execution_count": 41,
     "metadata": {},
     "output_type": "execute_result"
    }
   ],
   "source": [
    "# %%script skipped # Skipped\n",
    "\n",
    "embd_data_path = os.path.join('data_1', 'cache', 'sent_trans_embd_data.parquet')\n",
    "\n",
    "if (os.path.exists(embd_data_path)):\n",
    "  df = pd.read_parquet(embd_data_path)\n",
    "else:\n",
    "  df['text_embedded'] = df['text'].apply(sent_embd_model.encode)\n",
    "  df.to_parquet(embd_data_path)\n",
    "\n",
    "df['text_embedded'] = df['text_embedded'].apply(np.array)\n",
    "gc.collect()"
   ]
  },
  {
   "cell_type": "code",
   "execution_count": null,
   "metadata": {},
   "outputs": [],
   "source": [
    "# %%script skipped # Skipped\n",
    "\n",
    "model_path = os.path.join('models', 'wiki-news-300d-1M-subword.vec')\n",
    "sent_embd_model = KeyedVectors.load_word2vec_format(model_path, binary=False)"
   ]
  },
  {
   "cell_type": "code",
   "execution_count": 39,
   "metadata": {},
   "outputs": [],
   "source": [
    "# %%script skipped # Skipped\n",
    "\n",
    "def sentence_embedding(sentence, model):\n",
    "    words = word_tokenize(sentence)\n",
    "    words_in_vocab = [word for word in words if word in model]\n",
    "\n",
    "    if not words_in_vocab:\n",
    "        return None\n",
    "\n",
    "    embedding = np.mean([model[word] for word in words_in_vocab], axis=0)\n",
    "    embedding = normalize(embedding.reshape(1, -1), norm='l2').reshape(-1)\n",
    "    \n",
    "    return embedding"
   ]
  },
  {
   "cell_type": "code",
   "execution_count": 112,
   "metadata": {},
   "outputs": [
    {
     "data": {
      "text/plain": [
       "0"
      ]
     },
     "execution_count": 112,
     "metadata": {},
     "output_type": "execute_result"
    }
   ],
   "source": [
    "# %%script skipped # Skipped\n",
    "\n",
    "embd_data_path = os.path.join('data_1', 'cache', 'fasttext_embd_data.parquet')\n",
    "\n",
    "if (os.path.exists(embd_data_path)):\n",
    "  df = pd.read_parquet(embd_data_path)\n",
    "else:\n",
    "  df['text_embedded'] = df['text'].apply(sentence_embedding, model=sent_embd_model)\n",
    "  df.to_parquet(embd_data_path)\n",
    "\n",
    "df['text_embedded'] = df['text_embedded'].apply(np.array)\n",
    "gc.collect()"
   ]
  },
  {
   "cell_type": "code",
   "execution_count": 42,
   "metadata": {},
   "outputs": [
    {
     "name": "stdout",
     "output_type": "stream",
     "text": [
      "<class 'pandas.core.frame.DataFrame'>\n",
      "Index: 180361 entries, 14871 to 1877932\n",
      "Data columns (total 3 columns):\n",
      " #   Column         Non-Null Count   Dtype \n",
      "---  ------         --------------   ----- \n",
      " 0   text           180361 non-null  object\n",
      " 1   duplicates_to  180361 non-null  int64 \n",
      " 2   text_embedded  180361 non-null  object\n",
      "dtypes: int64(1), object(2)\n",
      "memory usage: 452.8 MB\n"
     ]
    }
   ],
   "source": [
    "df.info(memory_usage='deep')"
   ]
  },
  {
   "cell_type": "markdown",
   "metadata": {},
   "source": [
    "### **4.6. Sentence Pairs**"
   ]
  },
  {
   "cell_type": "code",
   "execution_count": 43,
   "metadata": {},
   "outputs": [],
   "source": [
    "df = df.reset_index()"
   ]
  },
  {
   "cell_type": "code",
   "execution_count": 44,
   "metadata": {},
   "outputs": [],
   "source": [
    "df_duplicates = df[df['duplicates_to'] != -1].copy()\n",
    "df_uniques = df[df['duplicates_to'] == -1].copy()"
   ]
  },
  {
   "cell_type": "code",
   "execution_count": 45,
   "metadata": {},
   "outputs": [
    {
     "data": {
      "text/html": [
       "<div>\n",
       "<style scoped>\n",
       "    .dataframe tbody tr th:only-of-type {\n",
       "        vertical-align: middle;\n",
       "    }\n",
       "\n",
       "    .dataframe tbody tr th {\n",
       "        vertical-align: top;\n",
       "    }\n",
       "\n",
       "    .dataframe thead th {\n",
       "        text-align: right;\n",
       "    }\n",
       "</style>\n",
       "<table border=\"1\" class=\"dataframe\">\n",
       "  <thead>\n",
       "    <tr style=\"text-align: right;\">\n",
       "      <th></th>\n",
       "      <th>id__left</th>\n",
       "      <th>text__left</th>\n",
       "      <th>text_embedded__left</th>\n",
       "      <th>id__right</th>\n",
       "      <th>text__right</th>\n",
       "      <th>text_embedded__right</th>\n",
       "      <th>label</th>\n",
       "    </tr>\n",
       "  </thead>\n",
       "  <tbody>\n",
       "    <tr>\n",
       "      <th>0</th>\n",
       "      <td>95091</td>\n",
       "      <td>x86 helper application lack mozilla 0 9 3 buil...</td>\n",
       "      <td>[-0.05064879, -0.038834795, 0.0040822984, 0.03...</td>\n",
       "      <td>57420</td>\n",
       "      <td>support helper app command line args using m1...</td>\n",
       "      <td>[0.03632154, -0.08749529, -0.07250358, -0.0945...</td>\n",
       "      <td>1</td>\n",
       "    </tr>\n",
       "    <tr>\n",
       "      <th>1</th>\n",
       "      <td>308815</td>\n",
       "      <td>x86 linux choose helper application allow user...</td>\n",
       "      <td>[0.020580648, -0.03251207, -0.10909204, 0.0141...</td>\n",
       "      <td>57420</td>\n",
       "      <td>support helper app command line args using m1...</td>\n",
       "      <td>[0.03632154, -0.08749529, -0.07250358, -0.0945...</td>\n",
       "      <td>1</td>\n",
       "    </tr>\n",
       "    <tr>\n",
       "      <th>2</th>\n",
       "      <td>406060</td>\n",
       "      <td>x86 nslocalhandlerapp fails hand uri correctly...</td>\n",
       "      <td>[0.020628773, -0.048608445, 0.005101101, -0.06...</td>\n",
       "      <td>57420</td>\n",
       "      <td>support helper app command line args using m1...</td>\n",
       "      <td>[0.03632154, -0.08749529, -0.07250358, -0.0945...</td>\n",
       "      <td>1</td>\n",
       "    </tr>\n",
       "    <tr>\n",
       "      <th>3</th>\n",
       "      <td>525506</td>\n",
       "      <td>x86 preferences applications use commandlines ...</td>\n",
       "      <td>[0.007659245, -0.065760784, -0.077460386, -0.0...</td>\n",
       "      <td>57420</td>\n",
       "      <td>support helper app command line args using m1...</td>\n",
       "      <td>[0.03632154, -0.08749529, -0.07250358, -0.0945...</td>\n",
       "      <td>1</td>\n",
       "    </tr>\n",
       "    <tr>\n",
       "      <th>4</th>\n",
       "      <td>134649</td>\n",
       "      <td>powerpc browser urlbar clickselectsall default...</td>\n",
       "      <td>[-0.024015507, 0.012870593, 0.018699512, 0.129...</td>\n",
       "      <td>409810</td>\n",
       "      <td>powerpc clicking location bar selects whole ur...</td>\n",
       "      <td>[-0.011166345, -0.04270263, 0.026916128, 0.060...</td>\n",
       "      <td>1</td>\n",
       "    </tr>\n",
       "  </tbody>\n",
       "</table>\n",
       "</div>"
      ],
      "text/plain": [
       "   id__left                                         text__left  \\\n",
       "0     95091  x86 helper application lack mozilla 0 9 3 buil...   \n",
       "1    308815  x86 linux choose helper application allow user...   \n",
       "2    406060  x86 nslocalhandlerapp fails hand uri correctly...   \n",
       "3    525506  x86 preferences applications use commandlines ...   \n",
       "4    134649  powerpc browser urlbar clickselectsall default...   \n",
       "\n",
       "                                 text_embedded__left  id__right  \\\n",
       "0  [-0.05064879, -0.038834795, 0.0040822984, 0.03...      57420   \n",
       "1  [0.020580648, -0.03251207, -0.10909204, 0.0141...      57420   \n",
       "2  [0.020628773, -0.048608445, 0.005101101, -0.06...      57420   \n",
       "3  [0.007659245, -0.065760784, -0.077460386, -0.0...      57420   \n",
       "4  [-0.024015507, 0.012870593, 0.018699512, 0.129...     409810   \n",
       "\n",
       "                                         text__right  \\\n",
       "0   support helper app command line args using m1...   \n",
       "1   support helper app command line args using m1...   \n",
       "2   support helper app command line args using m1...   \n",
       "3   support helper app command line args using m1...   \n",
       "4  powerpc clicking location bar selects whole ur...   \n",
       "\n",
       "                                text_embedded__right  label  \n",
       "0  [0.03632154, -0.08749529, -0.07250358, -0.0945...      1  \n",
       "1  [0.03632154, -0.08749529, -0.07250358, -0.0945...      1  \n",
       "2  [0.03632154, -0.08749529, -0.07250358, -0.0945...      1  \n",
       "3  [0.03632154, -0.08749529, -0.07250358, -0.0945...      1  \n",
       "4  [-0.011166345, -0.04270263, 0.026916128, 0.060...      1  "
      ]
     },
     "execution_count": 45,
     "metadata": {},
     "output_type": "execute_result"
    }
   ],
   "source": [
    "df_duplicates = pd.merge(left=df_duplicates,\n",
    "                        right=df_uniques,\n",
    "                        left_on='duplicates_to',\n",
    "                        right_on='id',\n",
    "                        suffixes=('__left', '__right'))\n",
    "df_duplicates = df_duplicates.drop(columns=['duplicates_to__left', 'duplicates_to__right'])\n",
    "df_duplicates['label'] = 1\n",
    "df_duplicates = df_duplicates.reset_index(drop=True)\n",
    "\n",
    "df_duplicates.head()"
   ]
  },
  {
   "cell_type": "code",
   "execution_count": 46,
   "metadata": {},
   "outputs": [
    {
     "data": {
      "text/html": [
       "<div>\n",
       "<style scoped>\n",
       "    .dataframe tbody tr th:only-of-type {\n",
       "        vertical-align: middle;\n",
       "    }\n",
       "\n",
       "    .dataframe tbody tr th {\n",
       "        vertical-align: top;\n",
       "    }\n",
       "\n",
       "    .dataframe thead th {\n",
       "        text-align: right;\n",
       "    }\n",
       "</style>\n",
       "<table border=\"1\" class=\"dataframe\">\n",
       "  <thead>\n",
       "    <tr style=\"text-align: right;\">\n",
       "      <th></th>\n",
       "      <th>text_embedded__left</th>\n",
       "      <th>text__left</th>\n",
       "      <th>id__left</th>\n",
       "      <th>text_embedded__right</th>\n",
       "      <th>text__right</th>\n",
       "      <th>id__right</th>\n",
       "      <th>label</th>\n",
       "    </tr>\n",
       "  </thead>\n",
       "  <tbody>\n",
       "    <tr>\n",
       "      <th>0</th>\n",
       "      <td>[0.049917005, -0.03702191, -0.077136844, 0.018...</td>\n",
       "      <td>x86 view text size normal ctrl 0 work keypad z...</td>\n",
       "      <td>262896</td>\n",
       "      <td>[-0.061627317, -0.05548735, 0.016275661, -0.02...</td>\n",
       "      <td>unspecified send tabs getting fxai currentacco...</td>\n",
       "      <td>1582542.0</td>\n",
       "      <td>0</td>\n",
       "    </tr>\n",
       "    <tr>\n",
       "      <th>1</th>\n",
       "      <td>[-0.008961278, 0.05875989, -0.04428572, 0.0341...</td>\n",
       "      <td>x86 64 horrible rendering text ff19 0 user age...</td>\n",
       "      <td>847091</td>\n",
       "      <td>[0.049917005, -0.03702191, -0.077136844, 0.018...</td>\n",
       "      <td>x86 view text size normal ctrl 0 work keypad z...</td>\n",
       "      <td>262896.0</td>\n",
       "      <td>0</td>\n",
       "    </tr>\n",
       "    <tr>\n",
       "      <th>2</th>\n",
       "      <td>[0.021460924, -0.052563563, 0.012884889, 0.057...</td>\n",
       "      <td>unspecified remote settings fetching broken as...</td>\n",
       "      <td>1780445</td>\n",
       "      <td>[-0.008961278, 0.05875989, -0.04428572, 0.0341...</td>\n",
       "      <td>x86 64 horrible rendering text ff19 0 user age...</td>\n",
       "      <td>847091.0</td>\n",
       "      <td>0</td>\n",
       "    </tr>\n",
       "    <tr>\n",
       "      <th>3</th>\n",
       "      <td>[-0.014556644, -0.03459076, 0.06754639, -0.002...</td>\n",
       "      <td>x86 64 pressing current url search url empty s...</td>\n",
       "      <td>1540710</td>\n",
       "      <td>[0.021460924, -0.052563563, 0.012884889, 0.057...</td>\n",
       "      <td>unspecified remote settings fetching broken as...</td>\n",
       "      <td>1780445.0</td>\n",
       "      <td>0</td>\n",
       "    </tr>\n",
       "    <tr>\n",
       "      <th>4</th>\n",
       "      <td>[0.01124776, -0.0707667, 0.019575356, 0.032355...</td>\n",
       "      <td>x86 undo close tab replaces single blank tab u...</td>\n",
       "      <td>720670</td>\n",
       "      <td>[-0.014556644, -0.03459076, 0.06754639, -0.002...</td>\n",
       "      <td>x86 64 pressing current url search url empty s...</td>\n",
       "      <td>1540710.0</td>\n",
       "      <td>0</td>\n",
       "    </tr>\n",
       "  </tbody>\n",
       "</table>\n",
       "</div>"
      ],
      "text/plain": [
       "                                 text_embedded__left  \\\n",
       "0  [0.049917005, -0.03702191, -0.077136844, 0.018...   \n",
       "1  [-0.008961278, 0.05875989, -0.04428572, 0.0341...   \n",
       "2  [0.021460924, -0.052563563, 0.012884889, 0.057...   \n",
       "3  [-0.014556644, -0.03459076, 0.06754639, -0.002...   \n",
       "4  [0.01124776, -0.0707667, 0.019575356, 0.032355...   \n",
       "\n",
       "                                          text__left  id__left  \\\n",
       "0  x86 view text size normal ctrl 0 work keypad z...    262896   \n",
       "1  x86 64 horrible rendering text ff19 0 user age...    847091   \n",
       "2  unspecified remote settings fetching broken as...   1780445   \n",
       "3  x86 64 pressing current url search url empty s...   1540710   \n",
       "4  x86 undo close tab replaces single blank tab u...    720670   \n",
       "\n",
       "                                text_embedded__right  \\\n",
       "0  [-0.061627317, -0.05548735, 0.016275661, -0.02...   \n",
       "1  [0.049917005, -0.03702191, -0.077136844, 0.018...   \n",
       "2  [-0.008961278, 0.05875989, -0.04428572, 0.0341...   \n",
       "3  [0.021460924, -0.052563563, 0.012884889, 0.057...   \n",
       "4  [-0.014556644, -0.03459076, 0.06754639, -0.002...   \n",
       "\n",
       "                                         text__right  id__right  label  \n",
       "0  unspecified send tabs getting fxai currentacco...  1582542.0      0  \n",
       "1  x86 view text size normal ctrl 0 work keypad z...   262896.0      0  \n",
       "2  x86 64 horrible rendering text ff19 0 user age...   847091.0      0  \n",
       "3  unspecified remote settings fetching broken as...  1780445.0      0  \n",
       "4  x86 64 pressing current url search url empty s...  1540710.0      0  "
      ]
     },
     "execution_count": 46,
     "metadata": {},
     "output_type": "execute_result"
    }
   ],
   "source": [
    "half_rows = df_uniques.shape[0] // 2\n",
    "df_uniques = df_uniques.sample(frac=1, replace=False, random_state=42)\n",
    "\n",
    "df_uniques_temp = pd.DataFrame()\n",
    "df_uniques_temp['text_embedded__left'] = df_uniques['text_embedded']\n",
    "df_uniques_temp['text__left'] = df_uniques['text']\n",
    "df_uniques_temp['id__left'] = df_uniques['id']\n",
    "\n",
    "df_uniques_temp['text_embedded__right'] = df_uniques['text_embedded'].shift(1)\n",
    "df_uniques_temp['text__right'] = df_uniques['text'].shift(1)\n",
    "df_uniques_temp['id__right'] = df_uniques['id'].shift(1)\n",
    "\n",
    "df_uniques_temp = df_uniques_temp.dropna()\n",
    "df_uniques_temp['label'] = 0\n",
    "\n",
    "df_uniques = df_uniques_temp.reset_index(drop=True)\n",
    "\n",
    "del df_uniques_temp\n",
    "gc.collect()\n",
    "\n",
    "df_uniques.head()"
   ]
  },
  {
   "cell_type": "code",
   "execution_count": 47,
   "metadata": {},
   "outputs": [
    {
     "data": {
      "text/plain": [
       "0"
      ]
     },
     "execution_count": 47,
     "metadata": {},
     "output_type": "execute_result"
    }
   ],
   "source": [
    "df = pd.concat([df_duplicates, df_uniques], axis=0).sample(frac=1, replace=False, random_state=42).reset_index(drop=True)\n",
    "gc.collect()"
   ]
  },
  {
   "cell_type": "markdown",
   "metadata": {},
   "source": [
    "### **5. Data Split**"
   ]
  },
  {
   "cell_type": "markdown",
   "metadata": {},
   "source": [
    "### **5.1. Train Test Split**"
   ]
  },
  {
   "cell_type": "code",
   "execution_count": 48,
   "metadata": {},
   "outputs": [
    {
     "name": "stdout",
     "output_type": "stream",
     "text": [
      "Shape of X_train: (125531, 2)\n",
      "Shape of X_test: (53800, 2)\n",
      "Shape of y_train: (125531,)\n",
      "Shape of y_test: (53800,)\n"
     ]
    }
   ],
   "source": [
    "X, X_test, y, y_test = train_test_split(df[['text_embedded__left', 'text_embedded__right']],\n",
    "                                                    df['label'],\n",
    "                                                    shuffle=True,\n",
    "                                                    stratify=df['label'],\n",
    "                                                    test_size=0.3,\n",
    "                                                    random_state=42)\n",
    "\n",
    "print(f'Shape of X_train: {X.shape}')\n",
    "print(f'Shape of X_test: {X_test.shape}')\n",
    "print(f'Shape of y_train: {y.shape}')\n",
    "print(f'Shape of y_test: {y_test.shape}')"
   ]
  },
  {
   "cell_type": "markdown",
   "metadata": {},
   "source": [
    "### **5.2. Data Fold**"
   ]
  },
  {
   "cell_type": "code",
   "execution_count": 49,
   "metadata": {},
   "outputs": [],
   "source": [
    "n_splits = 5\n",
    "\n",
    "skf = StratifiedKFold(n_splits=n_splits, shuffle=True, random_state=42)"
   ]
  },
  {
   "cell_type": "markdown",
   "metadata": {},
   "source": [
    "### **6. Model Preparation**"
   ]
  },
  {
   "cell_type": "code",
   "execution_count": 50,
   "metadata": {},
   "outputs": [
    {
     "name": "stdout",
     "output_type": "stream",
     "text": [
      "WARNING:tensorflow:From d:\\Programs\\Miniconda3\\envs\\env_1\\Lib\\site-packages\\keras\\src\\backend.py:1398: The name tf.executing_eagerly_outside_functions is deprecated. Please use tf.compat.v1.executing_eagerly_outside_functions instead.\n",
      "\n",
      "Model: \"training_model\"\n",
      "__________________________________________________________________________________________________\n",
      " Layer (type)                Output Shape                 Param #   Connected to                  \n",
      "==================================================================================================\n",
      " input_1 (InputLayer)        [(None, 384)]                0         []                            \n",
      "                                                                                                  \n",
      " input_2 (InputLayer)        [(None, 384)]                0         []                            \n",
      "                                                                                                  \n",
      " shared_node_1 (Dense)       (None, 256)                  98560     ['input_1[0][0]',             \n",
      "                                                                     'input_2[0][0]']             \n",
      "                                                                                                  \n",
      " shared_node_2 (Dense)       (None, 256)                  65792     ['shared_node_1[0][0]',       \n",
      "                                                                     'shared_node_1[1][0]']       \n",
      "                                                                                                  \n",
      " shared_node_3 (Dense)       (None, 128)                  32896     ['shared_node_2[0][0]',       \n",
      "                                                                     'shared_node_2[1][0]']       \n",
      "                                                                                                  \n",
      " shared_node_4 (Dense)       (None, 128)                  16512     ['shared_node_3[0][0]',       \n",
      "                                                                     'shared_node_3[1][0]']       \n",
      "                                                                                                  \n",
      " cosine_similarity (Dot)     (None, 1)                    0         ['shared_node_4[0][0]',       \n",
      "                                                                     'shared_node_4[1][0]']       \n",
      "                                                                                                  \n",
      " output (Dense)              (None, 1)                    2         ['cosine_similarity[0][0]']   \n",
      "                                                                                                  \n",
      "==================================================================================================\n",
      "Total params: 213762 (835.01 KB)\n",
      "Trainable params: 213762 (835.01 KB)\n",
      "Non-trainable params: 0 (0.00 Byte)\n",
      "__________________________________________________________________________________________________\n"
     ]
    }
   ],
   "source": [
    "input_1 = Input(shape=(384, ), name='input_1')\n",
    "input_2 = Input(shape=(384, ), name='input_2')\n",
    "\n",
    "shared_node_1 = Dense(256, name='shared_node_1')\n",
    "shared_node_2 = Dense(256, name='shared_node_2')\n",
    "shared_node_3 = Dense(128, name='shared_node_3')\n",
    "shared_node_4 = Dense(128, name='shared_node_4')\n",
    "\n",
    "x1 = shared_node_1(input_1)\n",
    "x1 = shared_node_2(x1)\n",
    "x1 = shared_node_3(x1)\n",
    "x1 = shared_node_4(x1)\n",
    "\n",
    "x2 = shared_node_1(input_2)\n",
    "x2 = shared_node_2(x2)\n",
    "x2 = shared_node_3(x2)\n",
    "x2 = shared_node_4(x2)\n",
    "\n",
    "cosine_similarity_layer = Dot(axes=-1, normalize=True, name='cosine_similarity')([x1, x2])\n",
    "output_layer = Dense(1, activation='sigmoid', name='output')(cosine_similarity_layer)\n",
    "\n",
    "training_model = Model(inputs=[input_1, input_2], outputs=output_layer, name='training_model')\n",
    "\n",
    "optimizer = keras.optimizers.Adam(learning_rate=0.002)\n",
    "loss = keras.losses.BinaryCrossentropy(from_logits=False)\n",
    "\n",
    "training_model.compile(loss=loss, optimizer=optimizer, metrics=[keras.metrics.Precision(), keras.metrics.Recall()])\n",
    "\n",
    "training_model.summary()"
   ]
  },
  {
   "cell_type": "markdown",
   "metadata": {},
   "source": [
    "### **7. Model Training**"
   ]
  },
  {
   "cell_type": "markdown",
   "metadata": {},
   "source": [
    "### **7.1. Traning Preparation**"
   ]
  },
  {
   "cell_type": "code",
   "execution_count": 51,
   "metadata": {},
   "outputs": [
    {
     "data": {
      "text/plain": [
       "405"
      ]
     },
     "execution_count": 51,
     "metadata": {},
     "output_type": "execute_result"
    }
   ],
   "source": [
    "tf.random.set_seed(42)\n",
    "gc.collect()"
   ]
  },
  {
   "cell_type": "code",
   "execution_count": 52,
   "metadata": {},
   "outputs": [],
   "source": [
    "def train_model(X_train, X_valid, y_train, y_valid, batch_size, epochs, callbacks=None, verbose='auto'):\n",
    "  training_model.fit(X_train,\n",
    "                       y_train,\n",
    "                       epochs=epochs,\n",
    "                       batch_size=batch_size,\n",
    "                       validation_data=(X_valid, y_valid),\n",
    "                       callbacks=[*callbacks],\n",
    "                       verbose=verbose)\n",
    "    \n",
    "  train_score = training_model.evaluate(X_train, y_train, verbose=verbose)[1:]\n",
    "  valid_score = training_model.evaluate(X_valid, y_valid, verbose=verbose)[1:]\n",
    "  \n",
    "  return (train_score, valid_score)"
   ]
  },
  {
   "cell_type": "markdown",
   "metadata": {},
   "source": [
    "### **7.2. Model Training**"
   ]
  },
  {
   "cell_type": "code",
   "execution_count": 882,
   "metadata": {},
   "outputs": [
    {
     "name": "stdout",
     "output_type": "stream",
     "text": [
      "fold-1: train - precision = 0.9321084022521973, recall = 0.9087702035903931\n",
      "fold-1: valid - precision = 0.8746867179870605, recall = 0.8691200613975525\n",
      "--------------------------------------------------------------------------------------------------------------------------------------------------------------------------------------------------------\n",
      "fold-2: train - precision = 0.9238320589065552, recall = 0.9177618026733398\n",
      "fold-2: valid - precision = 0.8732782602310181, recall = 0.877144455909729\n",
      "--------------------------------------------------------------------------------------------------------------------------------------------------------------------------------------------------------\n",
      "fold-3: train - precision = 0.9380005598068237, recall = 0.9073113203048706\n",
      "fold-3: valid - precision = 0.8902438879013062, recall = 0.8683264255523682\n",
      "--------------------------------------------------------------------------------------------------------------------------------------------------------------------------------------------------------\n",
      "fold-4: train - precision = 0.937411904335022, recall = 0.9199695587158203\n",
      "fold-4: valid - precision = 0.8891415596008301, recall = 0.8652835488319397\n",
      "--------------------------------------------------------------------------------------------------------------------------------------------------------------------------------------------------------\n",
      "fold-5: train - precision = 0.9301981329917908, recall = 0.9125052094459534\n",
      "fold-5: valid - precision = 0.8956447839736938, recall = 0.8763143420219421\n",
      "--------------------------------------------------------------------------------------------------------------------------------------------------------------------------------------------------------\n",
      "average_score: train - precision = 0.9323102116584778, recall = 0.9132636189460754\n",
      "average_score: valid - precision = 0.9323102116584778, recall = 0.9132636189460754\n"
     ]
    }
   ],
   "source": [
    "epochs = 10\n",
    "batch_size = 32\n",
    "\n",
    "train_scores = []\n",
    "valid_scores = []\n",
    "\n",
    "for fold, (train_idx, valid_idx) in enumerate(skf.split(X, y)):\n",
    "    X_train, X_valid = X.iloc[train_idx], X.iloc[valid_idx]\n",
    "    y_train, y_valid = y.iloc[train_idx], y.iloc[valid_idx]\n",
    "\n",
    "    X_train_inputs = [np.vstack(X_train['text_embedded__left']), np.vstack(X_train['text_embedded__right'])]\n",
    "    X_valid_inputs = [np.vstack(X_valid['text_embedded__left']), np.vstack(X_valid['text_embedded__right'])]\n",
    "    \n",
    "    early_stopping = EarlyStopping(monitor='loss', patience=5, restore_best_weights=True)\n",
    "    \n",
    "    train_score, valid_score = train_model(X_train_inputs,\n",
    "                                           X_valid_inputs,\n",
    "                                           y_train,\n",
    "                                           y_valid,\n",
    "                                           batch_size=batch_size,\n",
    "                                           epochs=epochs,\n",
    "                                           callbacks=[early_stopping],\n",
    "                                           verbose=0)\n",
    "    \n",
    "    print(f'fold-{fold + 1}: train - precision = {train_score[0]}, recall = {train_score[1]}')\n",
    "    print(f'fold-{fold + 1}: valid - precision = {valid_score[0]}, recall = {valid_score[1]}')\n",
    "    print('-' * 200)\n",
    "    \n",
    "    train_scores.append(train_score)\n",
    "    valid_scores.append(valid_score)\n",
    "    \n",
    "train_scores_avg = np.mean(train_scores, axis=0)\n",
    "valid_scores_avg = np.mean(train_scores, axis=0)\n",
    "\n",
    "print(f'average_score: train - precision = {train_scores_avg[0]}, recall = {train_scores_avg[1]}')\n",
    "print(f'average_score: valid - precision = {valid_scores_avg[0]}, recall = {valid_scores_avg[1]}')"
   ]
  },
  {
   "cell_type": "markdown",
   "metadata": {},
   "source": [
    "### **7.3. Save/Load Model**"
   ]
  },
  {
   "cell_type": "code",
   "execution_count": 81,
   "metadata": {},
   "outputs": [],
   "source": [
    "saved_model_path = os.path.join('models', 'model.pkl')\n",
    "# joblib.dump(training_model, saved_model_path)\n",
    "\n",
    "training_model = joblib.load(saved_model_path)"
   ]
  },
  {
   "cell_type": "markdown",
   "metadata": {},
   "source": [
    "### **7.4. Model Evaluation**"
   ]
  },
  {
   "cell_type": "code",
   "execution_count": 900,
   "metadata": {},
   "outputs": [
    {
     "name": "stdout",
     "output_type": "stream",
     "text": [
      "1961/1961 [==============================] - 3s 2ms/step\n",
      "Precision: 0.8672\n",
      "Recall: 0.8492\n",
      "AUC: 0.9154\n"
     ]
    }
   ],
   "source": [
    "val_predictions = training_model.predict([np.vstack(X_test['text_embedded__left']), np.vstack(X_test['text_embedded__right'])])\n",
    "val_predictions_binary = (val_predictions > 0.5).astype(int)\n",
    "\n",
    "precision = precision_score(y_test, val_predictions_binary)\n",
    "recall = recall_score(y_test, val_predictions_binary)\n",
    "auc = roc_auc_score(y_test, val_predictions_binary)\n",
    "\n",
    "print(f'Precision: {precision:.4f}')\n",
    "print(f'Recall: {recall:.4f}')\n",
    "print(f'AUC: {auc:.4f}')"
   ]
  },
  {
   "cell_type": "markdown",
   "metadata": {},
   "source": [
    "### **7.5. Embedding Model Preparation**"
   ]
  },
  {
   "cell_type": "code",
   "execution_count": 82,
   "metadata": {},
   "outputs": [
    {
     "name": "stdout",
     "output_type": "stream",
     "text": [
      "Model: \"embd_inference_model\"\n",
      "_________________________________________________________________\n",
      " Layer (type)                Output Shape              Param #   \n",
      "=================================================================\n",
      " input (InputLayer)          [(None, 384)]             0         \n",
      "                                                                 \n",
      " shared_node_1 (Dense)       (None, 256)               98560     \n",
      "                                                                 \n",
      " shared_node_2 (Dense)       (None, 256)               65792     \n",
      "                                                                 \n",
      " shared_node_3 (Dense)       (None, 128)               32896     \n",
      "                                                                 \n",
      " shared_node_4 (Dense)       (None, 128)               16512     \n",
      "                                                                 \n",
      "=================================================================\n",
      "Total params: 213760 (835.00 KB)\n",
      "Trainable params: 213760 (835.00 KB)\n",
      "Non-trainable params: 0 (0.00 Byte)\n",
      "_________________________________________________________________\n"
     ]
    }
   ],
   "source": [
    "embd_input = Input(shape=(384, ), name='input')\n",
    "embd_hidden = training_model.get_layer('shared_node_1')(embd_input)\n",
    "embd_hidden = training_model.get_layer('shared_node_2')(embd_hidden)\n",
    "embd_hidden = training_model.get_layer('shared_node_3')(embd_hidden)\n",
    "embd_output = training_model.get_layer('shared_node_4')(embd_hidden)\n",
    "\n",
    "embd_model = Model(inputs=embd_input, outputs=embd_output, name='embd_inference_model')\n",
    "embd_model.summary()"
   ]
  },
  {
   "cell_type": "markdown",
   "metadata": {},
   "source": [
    "### **7.6. Embedding Model Evaluation**"
   ]
  },
  {
   "cell_type": "code",
   "execution_count": 83,
   "metadata": {},
   "outputs": [],
   "source": [
    "def custom_cosine_similarity(text_1: np.ndarray, text_2: np.ndarray):\n",
    "    dot_product = np.dot(text_1, text_2)\n",
    "    norm_text_1 = np.linalg.norm(text_1)\n",
    "    norm_text_2 = np.linalg.norm(text_2)\n",
    "    \n",
    "    similarity = dot_product / (norm_text_1 * norm_text_2)\n",
    "    \n",
    "    return similarity"
   ]
  },
  {
   "cell_type": "code",
   "execution_count": 84,
   "metadata": {},
   "outputs": [
    {
     "name": "stdout",
     "output_type": "stream",
     "text": [
      "1961/1961 [==============================] - 2s 1ms/step\n",
      "1961/1961 [==============================] - 2s 1ms/step\n"
     ]
    }
   ],
   "source": [
    "embd_test_left = embd_model.predict(np.vstack(X_test['text_embedded__left']))\n",
    "embd_test_right = embd_model.predict(np.vstack(X_test['text_embedded__right']))\n",
    "embd_similarity = np.array([custom_cosine_similarity(embd_1, embd_2) for embd_1, embd_2 in zip(embd_test_left, embd_test_right)])"
   ]
  },
  {
   "cell_type": "code",
   "execution_count": 87,
   "metadata": {},
   "outputs": [],
   "source": [
    "def evaluate_model(similarity_scores: np.ndarray, threshold: float):\n",
    "  embd_binary_similarity = (similarity_scores > threshold).astype(int)\n",
    "\n",
    "  precision = precision_score(y_test, embd_binary_similarity)\n",
    "  recall = recall_score(y_test, embd_binary_similarity)\n",
    "  auc = roc_auc_score(y_test, embd_binary_similarity)\n",
    "  \n",
    "  return [precision, recall, auc]"
   ]
  },
  {
   "cell_type": "code",
   "execution_count": 908,
   "metadata": {},
   "outputs": [
    {
     "data": {
      "text/html": [
       "<div>\n",
       "<style scoped>\n",
       "    .dataframe tbody tr th:only-of-type {\n",
       "        vertical-align: middle;\n",
       "    }\n",
       "\n",
       "    .dataframe tbody tr th {\n",
       "        vertical-align: top;\n",
       "    }\n",
       "\n",
       "    .dataframe thead th {\n",
       "        text-align: right;\n",
       "    }\n",
       "</style>\n",
       "<table border=\"1\" class=\"dataframe\">\n",
       "  <thead>\n",
       "    <tr style=\"text-align: right;\">\n",
       "      <th></th>\n",
       "      <th>threshold</th>\n",
       "      <th>precision</th>\n",
       "      <th>recall</th>\n",
       "      <th>auc</th>\n",
       "    </tr>\n",
       "  </thead>\n",
       "  <tbody>\n",
       "    <tr>\n",
       "      <th>501</th>\n",
       "      <td>0.501502</td>\n",
       "      <td>0.711361</td>\n",
       "      <td>0.932989</td>\n",
       "      <td>0.939836</td>\n",
       "    </tr>\n",
       "    <tr>\n",
       "      <th>500</th>\n",
       "      <td>0.500501</td>\n",
       "      <td>0.709741</td>\n",
       "      <td>0.933247</td>\n",
       "      <td>0.939747</td>\n",
       "    </tr>\n",
       "    <tr>\n",
       "      <th>498</th>\n",
       "      <td>0.498498</td>\n",
       "      <td>0.706267</td>\n",
       "      <td>0.934151</td>\n",
       "      <td>0.939717</td>\n",
       "    </tr>\n",
       "    <tr>\n",
       "      <th>488</th>\n",
       "      <td>0.488488</td>\n",
       "      <td>0.692000</td>\n",
       "      <td>0.938154</td>\n",
       "      <td>0.939673</td>\n",
       "    </tr>\n",
       "    <tr>\n",
       "      <th>502</th>\n",
       "      <td>0.502503</td>\n",
       "      <td>0.713382</td>\n",
       "      <td>0.931956</td>\n",
       "      <td>0.939611</td>\n",
       "    </tr>\n",
       "    <tr>\n",
       "      <th>...</th>\n",
       "      <td>...</td>\n",
       "      <td>...</td>\n",
       "      <td>...</td>\n",
       "      <td>...</td>\n",
       "    </tr>\n",
       "    <tr>\n",
       "      <th>995</th>\n",
       "      <td>0.995996</td>\n",
       "      <td>1.000000</td>\n",
       "      <td>0.025178</td>\n",
       "      <td>0.512589</td>\n",
       "    </tr>\n",
       "    <tr>\n",
       "      <th>996</th>\n",
       "      <td>0.996997</td>\n",
       "      <td>1.000000</td>\n",
       "      <td>0.024661</td>\n",
       "      <td>0.512331</td>\n",
       "    </tr>\n",
       "    <tr>\n",
       "      <th>997</th>\n",
       "      <td>0.997998</td>\n",
       "      <td>1.000000</td>\n",
       "      <td>0.023370</td>\n",
       "      <td>0.511685</td>\n",
       "    </tr>\n",
       "    <tr>\n",
       "      <th>998</th>\n",
       "      <td>0.998999</td>\n",
       "      <td>1.000000</td>\n",
       "      <td>0.022853</td>\n",
       "      <td>0.511427</td>\n",
       "    </tr>\n",
       "    <tr>\n",
       "      <th>999</th>\n",
       "      <td>1.000000</td>\n",
       "      <td>1.000000</td>\n",
       "      <td>0.004906</td>\n",
       "      <td>0.502453</td>\n",
       "    </tr>\n",
       "  </tbody>\n",
       "</table>\n",
       "<p>1000 rows × 4 columns</p>\n",
       "</div>"
      ],
      "text/plain": [
       "     threshold  precision    recall       auc\n",
       "501   0.501502   0.711361  0.932989  0.939836\n",
       "500   0.500501   0.709741  0.933247  0.939747\n",
       "498   0.498498   0.706267  0.934151  0.939717\n",
       "488   0.488488   0.692000  0.938154  0.939673\n",
       "502   0.502503   0.713382  0.931956  0.939611\n",
       "..         ...        ...       ...       ...\n",
       "995   0.995996   1.000000  0.025178  0.512589\n",
       "996   0.996997   1.000000  0.024661  0.512331\n",
       "997   0.997998   1.000000  0.023370  0.511685\n",
       "998   0.998999   1.000000  0.022853  0.511427\n",
       "999   1.000000   1.000000  0.004906  0.502453\n",
       "\n",
       "[1000 rows x 4 columns]"
      ]
     },
     "execution_count": 908,
     "metadata": {},
     "output_type": "execute_result"
    }
   ],
   "source": [
    "threshold_eval = pd.DataFrame([[threshold, *evaluate_model(embd_similarity, threshold)] for threshold in np.linspace(0, 1, 1000)], columns=['threshold', 'precision', 'recall', 'auc'])\n",
    "threshold_eval.sort_values(by='auc', ascending=False)"
   ]
  },
  {
   "cell_type": "code",
   "execution_count": 909,
   "metadata": {},
   "outputs": [
    {
     "data": {
      "text/plain": [
       "<Axes: title={'center': 'Metrics Evaluation'}, xlabel='Threshold', ylabel='Metric score'>"
      ]
     },
     "execution_count": 909,
     "metadata": {},
     "output_type": "execute_result"
    },
    {
     "data": {
      "image/png": "[encoded data removed]",
      "text/plain": [
       "<Figure size 640x480 with 1 Axes>"
      ]
     },
     "metadata": {},
     "output_type": "display_data"
    }
   ],
   "source": [
    "threshold_eval.plot(kind='line',\n",
    "                    title='Metrics Evaluation',\n",
    "                    x='threshold',\n",
    "                    xlabel='Threshold',\n",
    "                    ylabel='Metric score',\n",
    "                    grid=True)"
   ]
  },
  {
   "cell_type": "code",
   "execution_count": 88,
   "metadata": {},
   "outputs": [
    {
     "name": "stdout",
     "output_type": "stream",
     "text": [
      "Precision: 0.99034\n",
      "Recall: 0.38399\n",
      "AUC: 0.69173\n"
     ]
    }
   ],
   "source": [
    "model_eval = evaluate_model(embd_similarity, 0.84)\n",
    "\n",
    "print(f'Precision: {model_eval[0]:.5f}')\n",
    "print(f'Recall: {model_eval[1]:.5f}')\n",
    "print(f'AUC: {model_eval[2]:.5f}')"
   ]
  },
  {
   "cell_type": "code",
   "execution_count": 93,
   "metadata": {},
   "outputs": [
    {
     "name": "stdout",
     "output_type": "stream",
     "text": [
      "6536/6536 [==============================] - 8s 1ms/step\n"
     ]
    },
    {
     "data": {
      "text/html": [
       "<div>\n",
       "<style scoped>\n",
       "    .dataframe tbody tr th:only-of-type {\n",
       "        vertical-align: middle;\n",
       "    }\n",
       "\n",
       "    .dataframe tbody tr th {\n",
       "        vertical-align: top;\n",
       "    }\n",
       "\n",
       "    .dataframe thead th {\n",
       "        text-align: right;\n",
       "    }\n",
       "</style>\n",
       "<table border=\"1\" class=\"dataframe\">\n",
       "  <thead>\n",
       "    <tr style=\"text-align: right;\">\n",
       "      <th></th>\n",
       "      <th>text</th>\n",
       "      <th>text_embedded</th>\n",
       "    </tr>\n",
       "  </thead>\n",
       "  <tbody>\n",
       "    <tr>\n",
       "      <th>0</th>\n",
       "      <td>defect x86 64 timeline new tab page content lo...</td>\n",
       "      <td>[-1442.97509765625, -309.9499206542969, 549.81...</td>\n",
       "    </tr>\n",
       "    <tr>\n",
       "      <th>1</th>\n",
       "      <td>defect x86 64 users told refresh firefox witho...</td>\n",
       "      <td>[-1142.993408203125, 1058.1937255859375, -528....</td>\n",
       "    </tr>\n",
       "    <tr>\n",
       "      <th>2</th>\n",
       "      <td>defect unspecified failure browser components ...</td>\n",
       "      <td>[-906.2084350585938, -2149.55615234375, 1594.4...</td>\n",
       "    </tr>\n",
       "    <tr>\n",
       "      <th>3</th>\n",
       "      <td>defect x86 fix identity icon label padding lin...</td>\n",
       "      <td>[-228.60427856445312, 53.46491241455078, -1029...</td>\n",
       "    </tr>\n",
       "    <tr>\n",
       "      <th>4</th>\n",
       "      <td>defect x86 prishtinanet com causes firefox cra...</td>\n",
       "      <td>[893.91455078125, 1100.9400634765625, -503.231...</td>\n",
       "    </tr>\n",
       "  </tbody>\n",
       "</table>\n",
       "</div>"
      ],
      "text/plain": [
       "                                                text  \\\n",
       "0  defect x86 64 timeline new tab page content lo...   \n",
       "1  defect x86 64 users told refresh firefox witho...   \n",
       "2  defect unspecified failure browser components ...   \n",
       "3  defect x86 fix identity icon label padding lin...   \n",
       "4  defect x86 prishtinanet com causes firefox cra...   \n",
       "\n",
       "                                       text_embedded  \n",
       "0  [-1442.97509765625, -309.9499206542969, 549.81...  \n",
       "1  [-1142.993408203125, 1058.1937255859375, -528....  \n",
       "2  [-906.2084350585938, -2149.55615234375, 1594.4...  \n",
       "3  [-228.60427856445312, 53.46491241455078, -1029...  \n",
       "4  [893.91455078125, 1100.9400634765625, -503.231...  "
      ]
     },
     "execution_count": 93,
     "metadata": {},
     "output_type": "execute_result"
    }
   ],
   "source": [
    "df_embd = df[['text__left', 'text_embedded__left']].rename(columns={'text__left': 'text', 'text_embedded__left': 'text_embedded'}).copy()\n",
    "df_embd['text_embedded'] = embd_model.predict(np.vstack(df_embd['text_embedded'])).tolist()\n",
    "\n",
    "df_embd.head()"
   ]
  },
  {
   "cell_type": "code",
   "execution_count": 114,
   "metadata": {},
   "outputs": [
    {
     "data": {
      "text/plain": [
       "<Axes: >"
      ]
     },
     "execution_count": 114,
     "metadata": {},
     "output_type": "execute_result"
    },
    {
     "data": {
      "image/png": "[encoded data removed]",
      "text/plain": [
       "<Figure size 640x480 with 2 Axes>"
      ]
     },
     "metadata": {},
     "output_type": "display_data"
    }
   ],
   "source": [
    "corr = cosine_similarity(np.vstack(df_embd['text_embedded'][:100]), np.vstack(df_embd['text_embedded'][:100]))\n",
    "corr = np.where(corr >= 0.84, corr, 0)\n",
    "\n",
    "sns.heatmap(corr)"
   ]
  },
  {
   "cell_type": "code",
   "execution_count": 115,
   "metadata": {},
   "outputs": [
    {
     "name": "stdout",
     "output_type": "stream",
     "text": [
      "defect x86 fix identity icon label padding linux bug 406612 landed created linux ts regression attributable browser css changes patch two rules removed one involving sizing identity icon label font calculations expensive one hiding label value empty remove dangling padding font sizing stay far concerned likely culprit land text hiding patch attached code reviewed gavin bug 406612 think needs reviewed need approval blocking status land since tree closed beta3 low priority easy bit polish\n",
      "enhancement  explicitly make activist balanced dreamer balanced light themes automatic color scheme detection considers activist balanced dreamer balanced dark themes want light like balanced colorways difference apparent toggling balanced colorways colorway closet adopts color scheme instantly\n",
      "[[0.85479224]]\n"
     ]
    }
   ],
   "source": [
    "data_1 = df_embd.iloc[3]\n",
    "data_2 = df_embd.iloc[15]\n",
    "\n",
    "print(data_1['text'])\n",
    "print(data_2['text'])\n",
    "\n",
    "print(cosine_similarity([data_1['text_embedded']], [data_2['text_embedded']]))"
   ]
  },
  {
   "cell_type": "code",
   "execution_count": 117,
   "metadata": {},
   "outputs": [
    {
     "name": "stdout",
     "output_type": "stream",
     "text": [
      "Query Vector:\n",
      "[0.87860686 0.22653875 0.65734774 0.96605545 0.15145151 0.2982492\n",
      " 0.5165359  0.28707543 0.9061593  0.36739534 0.34405288 0.05615452\n",
      " 0.751676   0.42787138 0.11478934 0.5781669  0.21105713 0.49473268\n",
      " 0.8429029  0.17072904 0.08898357 0.62752676 0.52478963 0.05872801\n",
      " 0.1791995  0.19407521 0.04045861 0.09941993 0.4479414  0.00552192\n",
      " 0.02916618 0.83127666 0.21180315 0.85808176 0.19852638 0.7432397\n",
      " 0.39331847 0.8940792  0.22746792 0.22474612 0.13187602 0.44633147\n",
      " 0.7892145  0.97325355 0.41099414 0.19369474 0.74277127 0.07681527\n",
      " 0.6246317  0.24130125 0.48736638 0.39253554 0.9999381  0.7563497\n",
      " 0.08966024 0.7217545  0.6162019  0.5653666  0.76087123 0.81508005\n",
      " 0.5632371  0.6939933  0.6367015  0.9300481  0.41462302 0.52910763\n",
      " 0.3421057  0.99765795 0.5737631  0.895744   0.0121693  0.7435259\n",
      " 0.26196012 0.8332001  0.2419089  0.7525511  0.12653184 0.6506273\n",
      " 0.92564946 0.21787514 0.68620205 0.22175765 0.56336695 0.81550634\n",
      " 0.5254116  0.08332592 0.27293006 0.8734649  0.79145    0.08629683\n",
      " 0.23837297 0.8752449  0.51640624 0.20041013 0.5650529  0.76413286\n",
      " 0.4018647  0.5007535  0.09955121 0.07099395 0.3561611  0.9273513\n",
      " 0.45064747 0.14860451 0.07918018 0.49621636 0.16609833 0.10803443\n",
      " 0.2163271  0.41811875 0.06873821 0.6034685  0.41075486 0.60338\n",
      " 0.43108863 0.31601125 0.4255196  0.65142924 0.381582   0.4767063\n",
      " 0.41198358 0.4588612  0.9151572  0.37301436 0.90406704 0.7238167\n",
      " 0.5482916  0.8369351  0.3697146  0.9515498  0.74261236 0.6890213\n",
      " 0.06753748 0.02338491 0.37000334 0.95983505 0.1937306  0.03673565\n",
      " 0.19605874 0.19675735 0.01431503 0.9399847  0.77719426 0.35438374\n",
      " 0.51482725 0.18535396 0.8498396  0.48774955 0.40265018 0.02583149\n",
      " 0.8567708  0.6759866  0.7953956  0.63550514 0.9971878  0.92546386\n",
      " 0.6060828  0.16180973 0.9338784  0.57697505 0.9734369  0.46761644\n",
      " 0.56363964 0.65096635 0.9431959  0.23973814 0.63428795 0.92002183\n",
      " 0.58831155 0.81334865 0.899802   0.94530386 0.00607251 0.20748521\n",
      " 0.445655   0.05330401 0.9415406  0.5149038  0.08455679 0.4721118\n",
      " 0.70449734 0.8845704  0.13749771 0.5879126  0.19338581 0.898035\n",
      " 0.03705304 0.32663944 0.8720856  0.10557236 0.12880893 0.03679488\n",
      " 0.9520361  0.94185096 0.43290207 0.51510155 0.3060519  0.10116007\n",
      " 0.4181629  0.05725867 0.24554193 0.63240707 0.8187645  0.9174876\n",
      " 0.12427673 0.76318574 0.6846161  0.2805208  0.23549683 0.25667283\n",
      " 0.14753509 0.6019527  0.88158494 0.28018934 0.03040701 0.6143365\n",
      " 0.56595576 0.6131358  0.34744605 0.8379529  0.357726   0.5911262\n",
      " 0.18240115 0.35769677 0.02245634 0.5778407  0.494035   0.7715255\n",
      " 0.7367293  0.40979344 0.59535336 0.7619192  0.308153   0.2583281\n",
      " 0.2377956  0.8143016  0.41180784 0.6361605  0.92452216 0.40622512\n",
      " 0.7291364  0.83656406 0.5454419  0.3804773  0.40972236 0.92417467\n",
      " 0.28468046 0.6446115  0.19780578 0.40602478 0.01626788 0.64856637\n",
      " 0.71124285 0.7557763  0.21823281 0.7214906  0.6285853  0.15061973\n",
      " 0.2471408  0.7880175  0.93718565 0.8681392  0.6430015  0.6214883\n",
      " 0.88030213 0.1550803  0.0229635  0.03352518 0.90014106 0.06183129\n",
      " 0.1023844  0.97261715 0.4862159  0.09226768 0.92985255 0.3123958\n",
      " 0.2947631  0.28193587 0.00517994 0.5778633  0.74013036 0.84223354\n",
      " 0.94904315 0.1756605  0.3781257  0.1432739  0.7234502  0.36252877\n",
      " 0.11471581 0.18087935 0.8092881  0.30387625 0.6866815  0.04039193\n",
      " 0.0304213  0.7149585  0.55129945 0.5702115  0.2827745  0.3207477\n",
      " 0.15321918 0.90471125 0.59795374 0.4685344  0.00408658 0.18079709\n",
      " 0.04222571 0.31081858 0.04314331 0.31113118 0.6000899  0.83884424\n",
      " 0.9802413  0.60129476 0.53207326 0.78931135 0.47216883 0.1849425\n",
      " 0.3039087  0.41900352 0.43873397 0.05018135 0.11381719 0.7280365\n",
      " 0.5723947  0.87522507 0.99884474 0.1349204  0.67134    0.94810945\n",
      " 0.39795732 0.19166167 0.35003552 0.19919977 0.42224157 0.8952805\n",
      " 0.7157088  0.11732256 0.90667176 0.47325322 0.47351468 0.9775622\n",
      " 0.16416192 0.13746248 0.4226798  0.69541454 0.6166458  0.8053862\n",
      " 0.40160266 0.05132655 0.35388115 0.2760385  0.76469207 0.01476336\n",
      " 0.15267302 0.25621346 0.67548525 0.9999091  0.7948184  0.96724254\n",
      " 0.56485635 0.81502193 0.2967789  0.4880658  0.66393375 0.9510116\n",
      " 0.330832   0.926464   0.40054828 0.36743313 0.7296187  0.8617673\n",
      " 0.8819484  0.994448   0.7713905  0.70427567 0.5787312  0.47565657\n",
      " 0.31196025 0.17601326 0.1882647  0.7497076  0.5821275  0.4674636 ]\n",
      "\n",
      "Nearest Neighbors:\n",
      "[[0.14739102 0.27935064 0.93949413 ... 0.48943186 0.58958924 0.39141604]\n",
      " [0.74308693 0.740348   0.8798724  ... 0.68313605 0.60705775 0.628754  ]\n",
      " [0.599248   0.54109234 0.5028831  ... 0.8914211  0.02091534 0.36162642]\n",
      " [0.17984992 0.53875375 0.7505496  ... 0.79495066 0.07271644 0.16125153]\n",
      " [0.74299854 0.4133398  0.3330807  ... 0.58388734 0.95426685 0.98999876]]\n",
      "\n",
      "Distances:\n",
      "[54.584896 54.667877 56.03792  56.26436  56.329887]\n"
     ]
    }
   ],
   "source": [
    "import numpy as np\n",
    "import faiss\n",
    "\n",
    "# Example data (replace this with your actual embedded sentences)\n",
    "embedded_sentences = np.random.rand(1000, 384).astype(np.float32)\n",
    "\n",
    "# Initialize the Faiss index\n",
    "index = faiss.IndexFlatL2(384)  # L2 distance index for Euclidean distance\n",
    "\n",
    "# Add embedded sentences to the index\n",
    "index.add(embedded_sentences)\n",
    "\n",
    "# Query for similar vectors to a given query vector\n",
    "query_vector = np.random.rand(384).astype(np.float32)  # Replace with your actual query vector\n",
    "k = 5  # Number of nearest neighbors to retrieve\n",
    "\n",
    "# Perform the similarity search\n",
    "distances, indices = index.search(query_vector.reshape(1, -1), k)\n",
    "\n",
    "# Display the results\n",
    "print(\"Query Vector:\")\n",
    "print(query_vector)\n",
    "print(\"\\nNearest Neighbors:\")\n",
    "print(embedded_sentences[indices[0]])\n",
    "print(\"\\nDistances:\")\n",
    "print(distances[0])"
   ]
  }
 ],
 "metadata": {
  "kernelspec": {
   "display_name": "env_1",
   "language": "python",
   "name": "python3"
  },
  "language_info": {
   "codemirror_mode": {
    "name": "ipython",
    "version": 3
   },
   "file_extension": ".py",
   "mimetype": "text/x-python",
   "name": "python",
   "nbconvert_exporter": "python",
   "pygments_lexer": "ipython3",
   "version": "3.11.7"
  }
 },
 "nbformat": 4,
 "nbformat_minor": 2
}
