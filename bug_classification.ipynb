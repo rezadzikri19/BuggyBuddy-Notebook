{
 "cells": [
  {
   "cell_type": "markdown",
   "metadata": {},
   "source": [
    "### **1. Import Dependencies**"
   ]
  },
  {
   "cell_type": "code",
   "execution_count": 41,
   "metadata": {},
   "outputs": [
    {
     "name": "stderr",
     "output_type": "stream",
     "text": [
      "[nltk_data] Downloading package stopwords to\n",
      "[nltk_data]     C:\\Users\\msi.pc\\AppData\\Roaming\\nltk_data...\n",
      "[nltk_data]   Package stopwords is already up-to-date!\n",
      "[nltk_data] Downloading package punkt to\n",
      "[nltk_data]     C:\\Users\\msi.pc\\AppData\\Roaming\\nltk_data...\n",
      "[nltk_data]   Package punkt is already up-to-date!\n"
     ]
    },
    {
     "data": {
      "text/plain": [
       "True"
      ]
     },
     "execution_count": 41,
     "metadata": {},
     "output_type": "execute_result"
    }
   ],
   "source": [
    "import pandas as pd\n",
    "import numpy as np\n",
    "\n",
    "from collections import Counter\n",
    "\n",
    "import gc\n",
    "import os\n",
    "import requests\n",
    "import json\n",
    "import re\n",
    "\n",
    "import concurrent.futures\n",
    "\n",
    "from urllib.parse import urlencode\n",
    "\n",
    "from typing import List, Dict, Optional, Union\n",
    "from glob import glob\n",
    "\n",
    "\n",
    "import matplotlib.pyplot as plt\n",
    "import seaborn as sns\n",
    "\n",
    "import nltk\n",
    "from nltk.tokenize import word_tokenize\n",
    "from nltk.corpus import stopwords\n",
    "\n",
    "from sklearn.model_selection import train_test_split, StratifiedKFold\n",
    "from sklearn.preprocessing import normalize\n",
    "from sklearn.metrics import precision_score, recall_score, f1_score, accuracy_score\n",
    "\n",
    "from sentence_transformers import SentenceTransformer\n",
    "from gensim.models import KeyedVectors \n",
    "\n",
    "import tensorflow as tf\n",
    "import tensorflow.keras as keras\n",
    "\n",
    "from keras.models import Model, load_model\n",
    "from keras.layers import Dense, LSTM, Bidirectional, Input, Reshape, Dot, GlobalAveragePooling1D\n",
    "from keras.callbacks import EarlyStopping\n",
    "\n",
    "import faiss\n",
    "\n",
    "from imblearn.over_sampling import RandomOverSampler\n",
    "\n",
    "nltk.download('stopwords')\n",
    "nltk.download('punkt')"
   ]
  },
  {
   "cell_type": "markdown",
   "metadata": {},
   "source": [
    "### **2. Settings**"
   ]
  },
  {
   "cell_type": "code",
   "execution_count": 2,
   "metadata": {},
   "outputs": [],
   "source": [
    "tf.random.set_seed(42)\n",
    "\n",
    "pd.set_option('display.max_rows', 100)\n",
    "pd.set_option('display.max_columns', 50)"
   ]
  },
  {
   "cell_type": "markdown",
   "metadata": {},
   "source": [
    "### **3. Load Data**"
   ]
  },
  {
   "cell_type": "markdown",
   "metadata": {},
   "source": [
    "Fetch the bug report data using [BugZilla API](https://bmo.readthedocs.io/en/latest/api/core/v1/bug.html#get-bug) then save it as json and Pandas.parquet."
   ]
  },
  {
   "cell_type": "code",
   "execution_count": 3,
   "metadata": {},
   "outputs": [],
   "source": [
    "def fetch_data(url: str, params=None):\n",
    "  try:\n",
    "    response = requests.get(url, params=params)\n",
    "    if (response.status_code == 200):\n",
    "      return response.json()\n",
    "    \n",
    "    print(f\"Error response with status code: {response.status_code}\")\n",
    "  except Exception as error:\n",
    "    print(f'Failed to fetch data: {error}')\n",
    "\n",
    "\n",
    "def urls_builder(base_url: str, n_fetch: int, limit: int, products: List[str], **kwargs):\n",
    "  urls = []\n",
    "  for product in products:\n",
    "    for i in range(n_fetch):\n",
    "      param = {'offset': i * limit, 'limit': limit, 'product': product, **kwargs}\n",
    "      full_url = base_url + '?' + urlencode(param)\n",
    "      urls.append(full_url)\n",
    "    \n",
    "  return urls\n",
    "\n",
    "\n",
    "def save_json(data, path: str):\n",
    "  with open(path, 'w') as json_file:\n",
    "    json.dump(data, json_file)\n",
    "\n",
    "\n",
    "def load_json(path: str):\n",
    "  with open(path, 'r') as json_file:\n",
    "    loaded_data = json.load(json_file)\n",
    "  return loaded_data"
   ]
  },
  {
   "cell_type": "code",
   "execution_count": 17,
   "metadata": {},
   "outputs": [],
   "source": [
    "%%script skipped # Skipped\n",
    "\n",
    "selected_fields = ['id', 'duplicates', 'summary', 'description', 'status', 'resolution', 'platform', 'product', 'type', 'priority', 'severity', 'component']\n",
    "products = ['Firefox']\n",
    "\n",
    "base_params = {'include_fields': ', '.join(selected_fields)}\n",
    "saved_data_path = os.path.join('data', 'raw_data', 'firefox_raw_data.json')\n",
    "\n",
    "base_url = 'https://bugzilla.mozilla.org/rest/bug'\n",
    "n_fetch, limit = 50, 100\n",
    "\n",
    "if os.path.exists(saved_data_path):\n",
    "  response_data = load_json(saved_data_path)\n",
    "else:\n",
    "  urls = urls_builder(base_url, n_fetch, limit, products, **base_params)\n",
    "  response_data = []\n",
    "\n",
    "  max_workers = 50\n",
    "  with concurrent.futures.ThreadPoolExecutor(max_workers) as executor:\n",
    "    response_data = list(executor.map(fetch_data, urls))\n",
    "    \n",
    "  response_data = [item['bugs'] for item in response_data]\n",
    "  response_data = [item for sublist in response_data for item in sublist]\n",
    "  \n",
    "  save_json(response_data, saved_data_path)"
   ]
  },
  {
   "cell_type": "code",
   "execution_count": 84,
   "metadata": {},
   "outputs": [
    {
     "data": {
      "text/html": [
       "<div>\n",
       "<style scoped>\n",
       "    .dataframe tbody tr th:only-of-type {\n",
       "        vertical-align: middle;\n",
       "    }\n",
       "\n",
       "    .dataframe tbody tr th {\n",
       "        vertical-align: top;\n",
       "    }\n",
       "\n",
       "    .dataframe thead th {\n",
       "        text-align: right;\n",
       "    }\n",
       "</style>\n",
       "<table border=\"1\" class=\"dataframe\">\n",
       "  <thead>\n",
       "    <tr style=\"text-align: right;\">\n",
       "      <th></th>\n",
       "      <th>component</th>\n",
       "      <th>status</th>\n",
       "      <th>resolution</th>\n",
       "      <th>summary</th>\n",
       "      <th>description</th>\n",
       "      <th>product</th>\n",
       "      <th>duplicates</th>\n",
       "      <th>severity</th>\n",
       "      <th>priority</th>\n",
       "      <th>type</th>\n",
       "      <th>platform</th>\n",
       "    </tr>\n",
       "    <tr>\n",
       "      <th>id</th>\n",
       "      <th></th>\n",
       "      <th></th>\n",
       "      <th></th>\n",
       "      <th></th>\n",
       "      <th></th>\n",
       "      <th></th>\n",
       "      <th></th>\n",
       "      <th></th>\n",
       "      <th></th>\n",
       "      <th></th>\n",
       "      <th></th>\n",
       "    </tr>\n",
       "  </thead>\n",
       "  <tbody>\n",
       "    <tr>\n",
       "      <th>10954</th>\n",
       "      <td>Settings UI</td>\n",
       "      <td>RESOLVED</td>\n",
       "      <td>WONTFIX</td>\n",
       "      <td>Dialup properties needs to be exposed in prefs</td>\n",
       "      <td>The dialup properties of the profile should be...</td>\n",
       "      <td>Firefox</td>\n",
       "      <td>[]</td>\n",
       "      <td>normal</td>\n",
       "      <td>P3</td>\n",
       "      <td>enhancement</td>\n",
       "      <td>All</td>\n",
       "    </tr>\n",
       "    <tr>\n",
       "      <th>14871</th>\n",
       "      <td>General</td>\n",
       "      <td>RESOLVED</td>\n",
       "      <td>DUPLICATE</td>\n",
       "      <td>[Find] Find whole word only</td>\n",
       "      <td>Please add \"Match Whole Word Only\" option to b...</td>\n",
       "      <td>Firefox</td>\n",
       "      <td>[]</td>\n",
       "      <td>minor</td>\n",
       "      <td>--</td>\n",
       "      <td>defect</td>\n",
       "      <td>All</td>\n",
       "    </tr>\n",
       "    <tr>\n",
       "      <th>19118</th>\n",
       "      <td>Settings UI</td>\n",
       "      <td>RESOLVED</td>\n",
       "      <td>WONTFIX</td>\n",
       "      <td>Plug-In Manager (ui for choosing mimetype-plug...</td>\n",
       "      <td>I would really like a plug-in manager for my b...</td>\n",
       "      <td>Firefox</td>\n",
       "      <td>[32380, 57760, 64040, 66644, 95646, 96695, 106...</td>\n",
       "      <td>normal</td>\n",
       "      <td>--</td>\n",
       "      <td>enhancement</td>\n",
       "      <td>All</td>\n",
       "    </tr>\n",
       "    <tr>\n",
       "      <th>21482</th>\n",
       "      <td>File Handling</td>\n",
       "      <td>NEW</td>\n",
       "      <td></td>\n",
       "      <td>Improvement to Save File dialog: folder based ...</td>\n",
       "      <td>Perhaps this really should be in the standardi...</td>\n",
       "      <td>Firefox</td>\n",
       "      <td>[]</td>\n",
       "      <td>S3</td>\n",
       "      <td>P3</td>\n",
       "      <td>enhancement</td>\n",
       "      <td>All</td>\n",
       "    </tr>\n",
       "    <tr>\n",
       "      <th>23207</th>\n",
       "      <td>File Handling</td>\n",
       "      <td>NEW</td>\n",
       "      <td></td>\n",
       "      <td>Options in Save As (location of saved images, ...</td>\n",
       "      <td>Save as... feature should be extended in follo...</td>\n",
       "      <td>Firefox</td>\n",
       "      <td>[26366, 172317, 177285]</td>\n",
       "      <td>S3</td>\n",
       "      <td>P5</td>\n",
       "      <td>enhancement</td>\n",
       "      <td>Unspecified</td>\n",
       "    </tr>\n",
       "  </tbody>\n",
       "</table>\n",
       "</div>"
      ],
      "text/plain": [
       "           component    status resolution  \\\n",
       "id                                          \n",
       "10954    Settings UI  RESOLVED    WONTFIX   \n",
       "14871        General  RESOLVED  DUPLICATE   \n",
       "19118    Settings UI  RESOLVED    WONTFIX   \n",
       "21482  File Handling       NEW              \n",
       "23207  File Handling       NEW              \n",
       "\n",
       "                                                 summary  \\\n",
       "id                                                         \n",
       "10954     Dialup properties needs to be exposed in prefs   \n",
       "14871                        [Find] Find whole word only   \n",
       "19118  Plug-In Manager (ui for choosing mimetype-plug...   \n",
       "21482  Improvement to Save File dialog: folder based ...   \n",
       "23207  Options in Save As (location of saved images, ...   \n",
       "\n",
       "                                             description  product  \\\n",
       "id                                                                  \n",
       "10954  The dialup properties of the profile should be...  Firefox   \n",
       "14871  Please add \"Match Whole Word Only\" option to b...  Firefox   \n",
       "19118  I would really like a plug-in manager for my b...  Firefox   \n",
       "21482  Perhaps this really should be in the standardi...  Firefox   \n",
       "23207  Save as... feature should be extended in follo...  Firefox   \n",
       "\n",
       "                                              duplicates severity priority  \\\n",
       "id                                                                           \n",
       "10954                                                 []   normal       P3   \n",
       "14871                                                 []    minor       --   \n",
       "19118  [32380, 57760, 64040, 66644, 95646, 96695, 106...   normal       --   \n",
       "21482                                                 []       S3       P3   \n",
       "23207                            [26366, 172317, 177285]       S3       P5   \n",
       "\n",
       "              type     platform  \n",
       "id                               \n",
       "10954  enhancement          All  \n",
       "14871       defect          All  \n",
       "19118  enhancement          All  \n",
       "21482  enhancement          All  \n",
       "23207  enhancement  Unspecified  "
      ]
     },
     "execution_count": 84,
     "metadata": {},
     "output_type": "execute_result"
    }
   ],
   "source": [
    "raw_data_path = os.path.join('data', 'cache', 'raw_data.parquet')\n",
    "df = pd.DataFrame()\n",
    "\n",
    "if (os.path.exists(raw_data_path)):\n",
    "  df = pd.read_parquet(raw_data_path)\n",
    "else:\n",
    "  data_paths = glob(os.path.join('data', 'raw_data', '*.json'))\n",
    "\n",
    "  for path in data_paths:\n",
    "    data = load_json(path)\n",
    "    data = pd.DataFrame(data)\n",
    "    df = pd.concat([df, data])\n",
    "\n",
    "  df = df.set_index('id')\n",
    "  df.to_parquet(raw_data_path)\n",
    "\n",
    "df.head()"
   ]
  },
  {
   "cell_type": "code",
   "execution_count": 85,
   "metadata": {},
   "outputs": [
    {
     "data": {
      "text/plain": [
       "7246"
      ]
     },
     "execution_count": 85,
     "metadata": {},
     "output_type": "execute_result"
    }
   ],
   "source": [
    "df = df.drop(['status', 'priority', 'resolution', 'severity', 'type', 'product'], axis=1)\n",
    "\n",
    "gc.collect()"
   ]
  },
  {
   "cell_type": "code",
   "execution_count": 86,
   "metadata": {},
   "outputs": [
    {
     "name": "stdout",
     "output_type": "stream",
     "text": [
      "<class 'pandas.core.frame.DataFrame'>\n",
      "Index: 210693 entries, 10954 to 1876223\n",
      "Data columns (total 5 columns):\n",
      " #   Column       Non-Null Count   Dtype \n",
      "---  ------       --------------   ----- \n",
      " 0   component    210693 non-null  object\n",
      " 1   summary      210693 non-null  object\n",
      " 2   description  210693 non-null  object\n",
      " 3   duplicates   210693 non-null  object\n",
      " 4   platform     210693 non-null  object\n",
      "dtypes: object(5)\n",
      "memory usage: 305.1 MB\n"
     ]
    }
   ],
   "source": [
    "df.info(memory_usage='deep')"
   ]
  },
  {
   "cell_type": "markdown",
   "metadata": {},
   "source": [
    "### **3. EDA**"
   ]
  },
  {
   "cell_type": "markdown",
   "metadata": {},
   "source": [
    "### **3.1. Missing Values**"
   ]
  },
  {
   "cell_type": "markdown",
   "metadata": {},
   "source": [
    "It seems there is no missing value"
   ]
  },
  {
   "cell_type": "code",
   "execution_count": 87,
   "metadata": {},
   "outputs": [
    {
     "data": {
      "text/plain": [
       "component      0\n",
       "summary        0\n",
       "description    0\n",
       "duplicates     0\n",
       "platform       0\n",
       "dtype: int64"
      ]
     },
     "execution_count": 87,
     "metadata": {},
     "output_type": "execute_result"
    }
   ],
   "source": [
    "df.isna().sum()"
   ]
  },
  {
   "cell_type": "markdown",
   "metadata": {},
   "source": [
    "### **3.2. Product (*no longer used*)**"
   ]
  },
  {
   "cell_type": "code",
   "execution_count": 8,
   "metadata": {},
   "outputs": [
    {
     "name": "stdout",
     "output_type": "stream",
     "text": [
      "Couldn't find program: 'skipped'\n"
     ]
    }
   ],
   "source": [
    "%%script skipped # Skipped\n",
    "\n",
    "df['product'].value_counts(ascending=False)"
   ]
  },
  {
   "cell_type": "markdown",
   "metadata": {},
   "source": [
    "### **3.3. Platform**"
   ]
  },
  {
   "cell_type": "code",
   "execution_count": 36,
   "metadata": {},
   "outputs": [
    {
     "data": {
      "text/plain": [
       "platform\n",
       "x86            84726\n",
       "Unspecified    57693\n",
       "All            35063\n",
       "x86_64         19720\n",
       "PowerPC         6528\n",
       "Desktop         5729\n",
       "Other            755\n",
       "ARM              192\n",
       "Sun              184\n",
       "ARM64             60\n",
       "HP                24\n",
       "DEC                7\n",
       "SGI                6\n",
       "RISCV64            4\n",
       "XScale             2\n",
       "Name: count, dtype: int64"
      ]
     },
     "execution_count": 36,
     "metadata": {},
     "output_type": "execute_result"
    }
   ],
   "source": [
    "df['platform'].value_counts(ascending=False)"
   ]
  },
  {
   "cell_type": "markdown",
   "metadata": {},
   "source": [
    "### **3.4. Type (*no longer used*)**"
   ]
  },
  {
   "cell_type": "code",
   "execution_count": 37,
   "metadata": {},
   "outputs": [
    {
     "name": "stdout",
     "output_type": "stream",
     "text": [
      "Couldn't find program: 'skipped'\n"
     ]
    }
   ],
   "source": [
    "%%script skipped # Skipped\n",
    "\n",
    "df['type'].value_counts(ascending=False)"
   ]
  },
  {
   "cell_type": "markdown",
   "metadata": {},
   "source": [
    "### **3.5. Duplicates**"
   ]
  },
  {
   "cell_type": "markdown",
   "metadata": {},
   "source": [
    "We observe that 15,140 bug reports have been identified as duplicates by other reports."
   ]
  },
  {
   "cell_type": "code",
   "execution_count": 88,
   "metadata": {},
   "outputs": [
    {
     "name": "stdout",
     "output_type": "stream",
     "text": [
      "total of duplicated bugs: 15140\n"
     ]
    }
   ],
   "source": [
    "duplicates = df['duplicates'].apply(lambda x: len(x)).sort_values(ascending=False)\n",
    "duplicated_bugs = duplicates[duplicates > 0]\n",
    "\n",
    "print(f'total of duplicated bugs: {duplicated_bugs.count()}')"
   ]
  },
  {
   "cell_type": "markdown",
   "metadata": {},
   "source": [
    "### **4. Feature Engineering**"
   ]
  },
  {
   "cell_type": "markdown",
   "metadata": {},
   "source": [
    "### **4.1. Missing Values (Skipped)**"
   ]
  },
  {
   "cell_type": "code",
   "execution_count": 39,
   "metadata": {},
   "outputs": [
    {
     "name": "stdout",
     "output_type": "stream",
     "text": [
      "Couldn't find program: 'skipped'\n"
     ]
    }
   ],
   "source": [
    "%%script skipped # Skipped\n",
    "\n",
    "df.loc[df['type'] == '--', 'type'] = 'no type'"
   ]
  },
  {
   "cell_type": "markdown",
   "metadata": {},
   "source": [
    "### **4.2. Duplicates**"
   ]
  },
  {
   "cell_type": "code",
   "execution_count": 89,
   "metadata": {},
   "outputs": [],
   "source": [
    "df = df.loc[df.astype(str).drop_duplicates(keep='first').index]"
   ]
  },
  {
   "cell_type": "markdown",
   "metadata": {},
   "source": [
    "### **4.2. Duplicates**"
   ]
  },
  {
   "cell_type": "markdown",
   "metadata": {},
   "source": [
    "Presently, our dataset includes a field named `'duplicates'`, which comprises a list of report IDs identified as duplicates. To prepare the data for model training, we introduce a new feature named `'duplicates_to'`, derived from the information in the `'duplicates'` field."
   ]
  },
  {
   "cell_type": "code",
   "execution_count": 90,
   "metadata": {},
   "outputs": [
    {
     "data": {
      "text/plain": [
       "id\n",
       "246078     [239385, 239561, 246164, 246674, 246958, 24697...\n",
       "247116     [247032, 254990, 255342, 256792, 257710, 25950...\n",
       "210910     [197227, 210933, 211542, 212349, 212382, 21269...\n",
       "69938      [79637, 87494, 105392, 107129, 116505, 121880,...\n",
       "245392     [245393, 245694, 246339, 246486, 247750, 24788...\n",
       "                                 ...                        \n",
       "733886                                              [615920]\n",
       "849859                                             [1235163]\n",
       "1860453                                            [1860454]\n",
       "875488                                              [886453]\n",
       "194923                                              [301718]\n",
       "Name: duplicates, Length: 15140, dtype: object"
      ]
     },
     "execution_count": 90,
     "metadata": {},
     "output_type": "execute_result"
    }
   ],
   "source": [
    "duplicated = df.loc[duplicated_bugs.index, 'duplicates']\n",
    "duplicated"
   ]
  },
  {
   "cell_type": "code",
   "execution_count": 91,
   "metadata": {},
   "outputs": [],
   "source": [
    "data_path = os.path.join('data', 'cache', 'duplicate_to_data.parquet')\n",
    "\n",
    "if (os.path.exists(data_path)):\n",
    "  df = pd.read_parquet(data_path)\n",
    "else:\n",
    "  df['duplicates_to'] = -1\n",
    "\n",
    "  for idx, dups in zip(duplicated.index, duplicated):\n",
    "    for item in dups:\n",
    "      df.loc[df.index == item, 'duplicates_to'] = idx\n",
    "      \n",
    "  df.to_parquet(data_path)"
   ]
  },
  {
   "cell_type": "code",
   "execution_count": 92,
   "metadata": {},
   "outputs": [
    {
     "data": {
      "text/plain": [
       "0"
      ]
     },
     "execution_count": 92,
     "metadata": {},
     "output_type": "execute_result"
    }
   ],
   "source": [
    "df = df.drop(columns=['duplicates'])\n",
    "gc.collect()"
   ]
  },
  {
   "cell_type": "markdown",
   "metadata": {},
   "source": [
    "### **4.4. Combined Text**"
   ]
  },
  {
   "cell_type": "code",
   "execution_count": 93,
   "metadata": {},
   "outputs": [],
   "source": [
    "df['text'] = df['platform'] + ' ' + df['component'] + ' ' + df['summary'] + ' ' + df['description']"
   ]
  },
  {
   "cell_type": "code",
   "execution_count": 94,
   "metadata": {},
   "outputs": [
    {
     "data": {
      "text/html": [
       "<div>\n",
       "<style scoped>\n",
       "    .dataframe tbody tr th:only-of-type {\n",
       "        vertical-align: middle;\n",
       "    }\n",
       "\n",
       "    .dataframe tbody tr th {\n",
       "        vertical-align: top;\n",
       "    }\n",
       "\n",
       "    .dataframe thead th {\n",
       "        text-align: right;\n",
       "    }\n",
       "</style>\n",
       "<table border=\"1\" class=\"dataframe\">\n",
       "  <thead>\n",
       "    <tr style=\"text-align: right;\">\n",
       "      <th></th>\n",
       "      <th>text</th>\n",
       "      <th>duplicates_to</th>\n",
       "    </tr>\n",
       "    <tr>\n",
       "      <th>id</th>\n",
       "      <th></th>\n",
       "      <th></th>\n",
       "    </tr>\n",
       "  </thead>\n",
       "  <tbody>\n",
       "    <tr>\n",
       "      <th>10954</th>\n",
       "      <td>All Settings UI Dialup properties needs to be ...</td>\n",
       "      <td>-1</td>\n",
       "    </tr>\n",
       "    <tr>\n",
       "      <th>14871</th>\n",
       "      <td>All General [Find] Find whole word only Please...</td>\n",
       "      <td>-1</td>\n",
       "    </tr>\n",
       "    <tr>\n",
       "      <th>19118</th>\n",
       "      <td>All Settings UI Plug-In Manager (ui for choosi...</td>\n",
       "      <td>-1</td>\n",
       "    </tr>\n",
       "    <tr>\n",
       "      <th>21482</th>\n",
       "      <td>All File Handling Improvement to Save File dia...</td>\n",
       "      <td>-1</td>\n",
       "    </tr>\n",
       "    <tr>\n",
       "      <th>23207</th>\n",
       "      <td>Unspecified File Handling Options in Save As (...</td>\n",
       "      <td>-1</td>\n",
       "    </tr>\n",
       "  </tbody>\n",
       "</table>\n",
       "</div>"
      ],
      "text/plain": [
       "                                                    text  duplicates_to\n",
       "id                                                                     \n",
       "10954  All Settings UI Dialup properties needs to be ...             -1\n",
       "14871  All General [Find] Find whole word only Please...             -1\n",
       "19118  All Settings UI Plug-In Manager (ui for choosi...             -1\n",
       "21482  All File Handling Improvement to Save File dia...             -1\n",
       "23207  Unspecified File Handling Options in Save As (...             -1"
      ]
     },
     "execution_count": 94,
     "metadata": {},
     "output_type": "execute_result"
    }
   ],
   "source": [
    "df = df[['text', 'duplicates_to']]\n",
    "\n",
    "df.head()"
   ]
  },
  {
   "cell_type": "code",
   "execution_count": 95,
   "metadata": {},
   "outputs": [
    {
     "name": "stdout",
     "output_type": "stream",
     "text": [
      "Total duplicate reports: 27230\n",
      "Total unique reports: 183181\n"
     ]
    }
   ],
   "source": [
    "duplicates_to = df['duplicates_to']\n",
    "\n",
    "total_duplicates = duplicates_to[duplicates_to != -1].count()\n",
    "total_uniques = duplicates_to[duplicates_to == -1].count()\n",
    "\n",
    "print(f'Total duplicate reports: {total_duplicates}')\n",
    "print(f'Total unique reports: {total_uniques}')"
   ]
  },
  {
   "cell_type": "markdown",
   "metadata": {},
   "source": [
    "### **4.3. Clean Sentences**"
   ]
  },
  {
   "cell_type": "markdown",
   "metadata": {},
   "source": [
    "Before performing embedding on the texts, it's necessary to preprocess the text data. This involves removing non-alphanumeric characters, newline characters, tab characters, return characters, single characters, and multiple spaces. Additionally, stopwords are removed using the stopwords provided by the `nltk` library. "
   ]
  },
  {
   "cell_type": "code",
   "execution_count": 107,
   "metadata": {},
   "outputs": [],
   "source": [
    "def remove_special_chars(text: str):\n",
    "  text = text.lower()\n",
    "  text = re.sub(r'\\n|\\t|\\r|\\0', ' ', text)\n",
    "  text = re.sub(r'[^a-zA-Z0-9\\s]', ' ', text)\n",
    "  text = re.sub(r'\\s{2,}', ' ', text)\n",
    "  text = re.sub(r'\\s$', '', text)\n",
    "  text = re.sub(r'\\s[b-z]\\s', ' ', text)\n",
    "  text = re.sub(r'\\s[b-z]\\s', ' ', text)\n",
    "  text = re.sub(r'\\s{2,}', ' ', text)\n",
    "  return text\n",
    "\n",
    "\n",
    "def remove_stopwords(text: str):\n",
    "  stop_words = set(stopwords.words('english'))\n",
    "  words = word_tokenize(text)\n",
    "  filtered_words = [word for word in words if word not in stop_words]\n",
    "  return ' '.join(filtered_words)\n",
    "\n",
    "\n",
    "def clean_text(text: str):\n",
    "  text = remove_special_chars(text)\n",
    "  text = remove_stopwords(text)\n",
    "  return text\n",
    "\n",
    "\n",
    "data_path = os.path.join('data', 'cache', 'cleaned_text_data.parquet')\n",
    "\n",
    "if (os.path.exists(data_path)):\n",
    "  df = pd.read_parquet(data_path)\n",
    "else:\n",
    "  df['text'] = df['text'].apply(clean_text)\n",
    "  df.to_parquet(data_path)"
   ]
  },
  {
   "cell_type": "markdown",
   "metadata": {},
   "source": [
    "### **4.5. Sentence Embedding**"
   ]
  },
  {
   "cell_type": "markdown",
   "metadata": {},
   "source": [
    "We use pretrained embedding model to vectorize the text, there are 2 methods that we try in this project, **Sentence Transformer (all-MiniLM-L6-v2)** and **Fasttext**."
   ]
  },
  {
   "cell_type": "markdown",
   "metadata": {},
   "source": [
    "### **4.5.1. Sentence Transformers**"
   ]
  },
  {
   "cell_type": "markdown",
   "metadata": {},
   "source": [
    "Referring to the [all-MiniLM-L6-v2 page](https://huggingface.co/sentence-transformers/all-MiniLM-L6-v2), it's noted that the all-MiniLM-L6-v2 model employs 384 dense vectors to represent a sentence. This model is designed as a sentence and short paragraph encoder, constrained to 256 word pieces. Consequently, longer texts will be truncated, *resulting in some text being unable to be vectorized with full context*."
   ]
  },
  {
   "cell_type": "code",
   "execution_count": 109,
   "metadata": {},
   "outputs": [],
   "source": [
    "# %%script skipped # Skipped\n",
    "sent_embd_model = SentenceTransformer('sentence-transformers/all-MiniLM-L6-v2')"
   ]
  },
  {
   "cell_type": "code",
   "execution_count": 45,
   "metadata": {},
   "outputs": [
    {
     "data": {
      "text/plain": [
       "9359"
      ]
     },
     "execution_count": 45,
     "metadata": {},
     "output_type": "execute_result"
    }
   ],
   "source": [
    "# %%script skipped # Skipped\n",
    "\n",
    "num_dim = 384\n",
    "embd_data_path = os.path.join('data', 'cache', 'sent_trans_embd_data.parquet')\n",
    "\n",
    "if (os.path.exists(embd_data_path)):\n",
    "  df = pd.read_parquet(embd_data_path)\n",
    "else:\n",
    "  df['text_embedded'] = df['text'].apply(sent_embd_model.encode)\n",
    "  df.to_parquet(embd_data_path)\n",
    "\n",
    "df['text_embedded'] = df['text_embedded'].apply(np.array)\n",
    "gc.collect()"
   ]
  },
  {
   "cell_type": "markdown",
   "metadata": {},
   "source": [
    "### **4.5.2. Fasttext (*no longer used*)**"
   ]
  },
  {
   "cell_type": "markdown",
   "metadata": {},
   "source": [
    "Essentially, `Fasttext` serves as a tool for word embedding. To obtain a sentence vector, we simply compute the normalized average word vector within the sentence. Normalization is applied because our goal is to determine similarity between texts or sentences. Utilizing `Fasttext` offers several advantages. Apart from being significantly faster, it allows us to capture the full context of every sentence since there is no limitation on sentence length. The output vector is a 300-dimensional vector representing the sentence's semantic meaning."
   ]
  },
  {
   "cell_type": "code",
   "execution_count": 17,
   "metadata": {},
   "outputs": [],
   "source": [
    "%%script skipped # Skipped\n",
    "\n",
    "model_path = os.path.join('pretrained_models', 'wiki-news-300d-1M-subword.vec')\n",
    "sent_embd_model = KeyedVectors.load_word2vec_format(model_path, binary=False)"
   ]
  },
  {
   "cell_type": "code",
   "execution_count": 18,
   "metadata": {},
   "outputs": [],
   "source": [
    "%%script skipped # Skipped\n",
    "\n",
    "def sentence_embedding(sentence, model):\n",
    "    words = word_tokenize(sentence)\n",
    "    words_in_vocab = [word for word in words if word in model]\n",
    "\n",
    "    if not words_in_vocab:\n",
    "        return None\n",
    "\n",
    "    embedding = np.mean([model[word] for word in words_in_vocab], axis=0)\n",
    "    embedding = normalize(embedding.reshape(1, -1), norm='l2').reshape(-1)\n",
    "\n",
    "    return embedding"
   ]
  },
  {
   "cell_type": "code",
   "execution_count": 167,
   "metadata": {},
   "outputs": [
    {
     "data": {
      "text/plain": [
       "20005"
      ]
     },
     "execution_count": 167,
     "metadata": {},
     "output_type": "execute_result"
    }
   ],
   "source": [
    "%%script skipped # Skipped\n",
    "\n",
    "num_dim = 300\n",
    "embd_data_path = os.path.join('data', 'cache', 'fasttext_embd_data.parquet')\n",
    "\n",
    "if (os.path.exists(embd_data_path)):\n",
    "  df = pd.read_parquet(embd_data_path)\n",
    "else:\n",
    "  df['text_embedded'] = df['text'].apply(sentence_embedding, model=sent_embd_model)\n",
    "  df.to_parquet(embd_data_path)\n",
    "\n",
    "df['text_embedded'] = df['text_embedded'].apply(np.array)\n",
    "gc.collect()"
   ]
  },
  {
   "cell_type": "code",
   "execution_count": 46,
   "metadata": {},
   "outputs": [
    {
     "name": "stdout",
     "output_type": "stream",
     "text": [
      "<class 'pandas.core.frame.DataFrame'>\n",
      "Index: 210411 entries, 10954 to 1876223\n",
      "Data columns (total 3 columns):\n",
      " #   Column         Non-Null Count   Dtype \n",
      "---  ------         --------------   ----- \n",
      " 0   text           210411 non-null  object\n",
      " 1   duplicates_to  210411 non-null  int64 \n",
      " 2   text_embedded  210411 non-null  object\n",
      "dtypes: int64(1), object(2)\n",
      "memory usage: 517.8 MB\n"
     ]
    }
   ],
   "source": [
    "df.info(memory_usage='deep')"
   ]
  },
  {
   "cell_type": "markdown",
   "metadata": {},
   "source": [
    "### **4.6. Sentence Pairs**"
   ]
  },
  {
   "cell_type": "markdown",
   "metadata": {},
   "source": [
    "Next, we need to transform the report data into sentence pairs and label them based on whether the pairs represent unique reports or duplicates."
   ]
  },
  {
   "cell_type": "code",
   "execution_count": 47,
   "metadata": {},
   "outputs": [],
   "source": [
    "df = df.reset_index()"
   ]
  },
  {
   "cell_type": "code",
   "execution_count": 48,
   "metadata": {},
   "outputs": [],
   "source": [
    "df_duplicate_pairs = df[df['duplicates_to'] != -1].copy()\n",
    "df_unique_pairs = df[df['duplicates_to'] == -1].copy()"
   ]
  },
  {
   "cell_type": "code",
   "execution_count": 49,
   "metadata": {},
   "outputs": [
    {
     "data": {
      "text/html": [
       "<div>\n",
       "<style scoped>\n",
       "    .dataframe tbody tr th:only-of-type {\n",
       "        vertical-align: middle;\n",
       "    }\n",
       "\n",
       "    .dataframe tbody tr th {\n",
       "        vertical-align: top;\n",
       "    }\n",
       "\n",
       "    .dataframe thead th {\n",
       "        text-align: right;\n",
       "    }\n",
       "</style>\n",
       "<table border=\"1\" class=\"dataframe\">\n",
       "  <thead>\n",
       "    <tr style=\"text-align: right;\">\n",
       "      <th></th>\n",
       "      <th>id__left</th>\n",
       "      <th>text__left</th>\n",
       "      <th>text_embedded__left</th>\n",
       "      <th>id__right</th>\n",
       "      <th>text__right</th>\n",
       "      <th>text_embedded__right</th>\n",
       "      <th>label</th>\n",
       "    </tr>\n",
       "  </thead>\n",
       "  <tbody>\n",
       "    <tr>\n",
       "      <th>0</th>\n",
       "      <td>46407</td>\n",
       "      <td>shell integration current url querried another...</td>\n",
       "      <td>[0.011266109, 0.053693008, 0.033212412, -0.044...</td>\n",
       "      <td>516502</td>\n",
       "      <td>shell integration add applescript support gett...</td>\n",
       "      <td>[-0.015900824, -0.019837132, -0.008177999, -0....</td>\n",
       "      <td>1</td>\n",
       "    </tr>\n",
       "    <tr>\n",
       "      <th>1</th>\n",
       "      <td>95091</td>\n",
       "      <td>x86 file handling helper application lack mozi...</td>\n",
       "      <td>[-0.05552455, -0.027041411, 0.0011574205, 0.03...</td>\n",
       "      <td>57420</td>\n",
       "      <td>file handling support helper app command line ...</td>\n",
       "      <td>[0.040415183, -0.079547316, -0.07587876, -0.08...</td>\n",
       "      <td>1</td>\n",
       "    </tr>\n",
       "    <tr>\n",
       "      <th>2</th>\n",
       "      <td>134649</td>\n",
       "      <td>powerpc address bar browser urlbar clickselect...</td>\n",
       "      <td>[-0.031197704, 0.009490658, 0.035421837, 0.118...</td>\n",
       "      <td>409810</td>\n",
       "      <td>powerpc address bar clicking location bar sele...</td>\n",
       "      <td>[-0.011373739, -0.03167129, 0.030749366, 0.056...</td>\n",
       "      <td>1</td>\n",
       "    </tr>\n",
       "    <tr>\n",
       "      <th>3</th>\n",
       "      <td>141706</td>\n",
       "      <td>file handling xx mail address specified href m...</td>\n",
       "      <td>[-0.02591943, 0.0053155706, -0.0051644226, 0.0...</td>\n",
       "      <td>1781264</td>\n",
       "      <td>x86 64 file handling encoded umlauts c3 bc pas...</td>\n",
       "      <td>[-0.0021476382, -0.034485035, 0.026389025, -0....</td>\n",
       "      <td>1</td>\n",
       "    </tr>\n",
       "    <tr>\n",
       "      <th>4</th>\n",
       "      <td>153509</td>\n",
       "      <td>x86 search allow search engines test default w...</td>\n",
       "      <td>[-0.008651667, -0.068613045, 0.019639283, 0.00...</td>\n",
       "      <td>340604</td>\n",
       "      <td>search implement ie window external issearchpr...</td>\n",
       "      <td>[-0.13265, -0.028928624, -0.021602863, 0.06101...</td>\n",
       "      <td>1</td>\n",
       "    </tr>\n",
       "  </tbody>\n",
       "</table>\n",
       "</div>"
      ],
      "text/plain": [
       "   id__left                                         text__left  \\\n",
       "0     46407  shell integration current url querried another...   \n",
       "1     95091  x86 file handling helper application lack mozi...   \n",
       "2    134649  powerpc address bar browser urlbar clickselect...   \n",
       "3    141706  file handling xx mail address specified href m...   \n",
       "4    153509  x86 search allow search engines test default w...   \n",
       "\n",
       "                                 text_embedded__left  id__right  \\\n",
       "0  [0.011266109, 0.053693008, 0.033212412, -0.044...     516502   \n",
       "1  [-0.05552455, -0.027041411, 0.0011574205, 0.03...      57420   \n",
       "2  [-0.031197704, 0.009490658, 0.035421837, 0.118...     409810   \n",
       "3  [-0.02591943, 0.0053155706, -0.0051644226, 0.0...    1781264   \n",
       "4  [-0.008651667, -0.068613045, 0.019639283, 0.00...     340604   \n",
       "\n",
       "                                         text__right  \\\n",
       "0  shell integration add applescript support gett...   \n",
       "1  file handling support helper app command line ...   \n",
       "2  powerpc address bar clicking location bar sele...   \n",
       "3  x86 64 file handling encoded umlauts c3 bc pas...   \n",
       "4  search implement ie window external issearchpr...   \n",
       "\n",
       "                                text_embedded__right  label  \n",
       "0  [-0.015900824, -0.019837132, -0.008177999, -0....      1  \n",
       "1  [0.040415183, -0.079547316, -0.07587876, -0.08...      1  \n",
       "2  [-0.011373739, -0.03167129, 0.030749366, 0.056...      1  \n",
       "3  [-0.0021476382, -0.034485035, 0.026389025, -0....      1  \n",
       "4  [-0.13265, -0.028928624, -0.021602863, 0.06101...      1  "
      ]
     },
     "execution_count": 49,
     "metadata": {},
     "output_type": "execute_result"
    }
   ],
   "source": [
    "df_duplicate_pairs = pd.merge(left=df_duplicate_pairs,\n",
    "                        right=df_unique_pairs,\n",
    "                        left_on='duplicates_to',\n",
    "                        right_on='id',\n",
    "                        suffixes=('__left', '__right'))\n",
    "df_duplicate_pairs = df_duplicate_pairs.drop(columns=['duplicates_to__left', 'duplicates_to__right'])\n",
    "df_duplicate_pairs['label'] = 1\n",
    "df_duplicate_pairs = df_duplicate_pairs.reset_index(drop=True)\n",
    "\n",
    "df_duplicate_pairs.head()"
   ]
  },
  {
   "cell_type": "code",
   "execution_count": 50,
   "metadata": {},
   "outputs": [
    {
     "data": {
      "text/html": [
       "<div>\n",
       "<style scoped>\n",
       "    .dataframe tbody tr th:only-of-type {\n",
       "        vertical-align: middle;\n",
       "    }\n",
       "\n",
       "    .dataframe tbody tr th {\n",
       "        vertical-align: top;\n",
       "    }\n",
       "\n",
       "    .dataframe thead th {\n",
       "        text-align: right;\n",
       "    }\n",
       "</style>\n",
       "<table border=\"1\" class=\"dataframe\">\n",
       "  <thead>\n",
       "    <tr style=\"text-align: right;\">\n",
       "      <th></th>\n",
       "      <th>text_embedded__left</th>\n",
       "      <th>text__left</th>\n",
       "      <th>id__left</th>\n",
       "      <th>text_embedded__right</th>\n",
       "      <th>text__right</th>\n",
       "      <th>id__right</th>\n",
       "      <th>label</th>\n",
       "    </tr>\n",
       "  </thead>\n",
       "  <tbody>\n",
       "    <tr>\n",
       "      <th>0</th>\n",
       "      <td>[0.003793072, -0.04199672, -0.007855307, 0.007...</td>\n",
       "      <td>unspecified address bar new tab firefox defaul...</td>\n",
       "      <td>1740952</td>\n",
       "      <td>[0.03892434, 0.10757874, 0.09274422, 0.0588078...</td>\n",
       "      <td>unspecified page info window remove tree page ...</td>\n",
       "      <td>1446353.0</td>\n",
       "      <td>0</td>\n",
       "    </tr>\n",
       "    <tr>\n",
       "      <th>1</th>\n",
       "      <td>[0.01245968, 0.0067038643, 0.052901685, 0.0374...</td>\n",
       "      <td>x86 theme enlarging image causes scroll bar wi...</td>\n",
       "      <td>559684</td>\n",
       "      <td>[0.003793072, -0.04199672, -0.007855307, 0.007...</td>\n",
       "      <td>unspecified address bar new tab firefox defaul...</td>\n",
       "      <td>1740952.0</td>\n",
       "      <td>0</td>\n",
       "    </tr>\n",
       "    <tr>\n",
       "      <th>2</th>\n",
       "      <td>[-0.0016018241, 0.02858848, 0.01993271, 0.0287...</td>\n",
       "      <td>x86 theme add single pixel chrome around conte...</td>\n",
       "      <td>621409</td>\n",
       "      <td>[0.01245968, 0.0067038643, 0.052901685, 0.0374...</td>\n",
       "      <td>x86 theme enlarging image causes scroll bar wi...</td>\n",
       "      <td>559684.0</td>\n",
       "      <td>0</td>\n",
       "    </tr>\n",
       "    <tr>\n",
       "      <th>3</th>\n",
       "      <td>[0.033901505, -0.042231336, -0.020924995, 0.01...</td>\n",
       "      <td>unspecified untriaged mozilla opens millions n...</td>\n",
       "      <td>1607995</td>\n",
       "      <td>[-0.0016018241, 0.02858848, 0.01993271, 0.0287...</td>\n",
       "      <td>x86 theme add single pixel chrome around conte...</td>\n",
       "      <td>621409.0</td>\n",
       "      <td>0</td>\n",
       "    </tr>\n",
       "    <tr>\n",
       "      <th>4</th>\n",
       "      <td>[0.025009602, -0.07818864, 0.014005913, -0.061...</td>\n",
       "      <td>x86 general lack trailing slash url leads weir...</td>\n",
       "      <td>298392</td>\n",
       "      <td>[0.033901505, -0.042231336, -0.020924995, 0.01...</td>\n",
       "      <td>unspecified untriaged mozilla opens millions n...</td>\n",
       "      <td>1607995.0</td>\n",
       "      <td>0</td>\n",
       "    </tr>\n",
       "  </tbody>\n",
       "</table>\n",
       "</div>"
      ],
      "text/plain": [
       "                                 text_embedded__left  \\\n",
       "0  [0.003793072, -0.04199672, -0.007855307, 0.007...   \n",
       "1  [0.01245968, 0.0067038643, 0.052901685, 0.0374...   \n",
       "2  [-0.0016018241, 0.02858848, 0.01993271, 0.0287...   \n",
       "3  [0.033901505, -0.042231336, -0.020924995, 0.01...   \n",
       "4  [0.025009602, -0.07818864, 0.014005913, -0.061...   \n",
       "\n",
       "                                          text__left  id__left  \\\n",
       "0  unspecified address bar new tab firefox defaul...   1740952   \n",
       "1  x86 theme enlarging image causes scroll bar wi...    559684   \n",
       "2  x86 theme add single pixel chrome around conte...    621409   \n",
       "3  unspecified untriaged mozilla opens millions n...   1607995   \n",
       "4  x86 general lack trailing slash url leads weir...    298392   \n",
       "\n",
       "                                text_embedded__right  \\\n",
       "0  [0.03892434, 0.10757874, 0.09274422, 0.0588078...   \n",
       "1  [0.003793072, -0.04199672, -0.007855307, 0.007...   \n",
       "2  [0.01245968, 0.0067038643, 0.052901685, 0.0374...   \n",
       "3  [-0.0016018241, 0.02858848, 0.01993271, 0.0287...   \n",
       "4  [0.033901505, -0.042231336, -0.020924995, 0.01...   \n",
       "\n",
       "                                         text__right  id__right  label  \n",
       "0  unspecified page info window remove tree page ...  1446353.0      0  \n",
       "1  unspecified address bar new tab firefox defaul...  1740952.0      0  \n",
       "2  x86 theme enlarging image causes scroll bar wi...   559684.0      0  \n",
       "3  x86 theme add single pixel chrome around conte...   621409.0      0  \n",
       "4  unspecified untriaged mozilla opens millions n...  1607995.0      0  "
      ]
     },
     "execution_count": 50,
     "metadata": {},
     "output_type": "execute_result"
    }
   ],
   "source": [
    "half_rows = df_unique_pairs.shape[0] // 2\n",
    "df_unique_pairs = df_unique_pairs.sample(frac=1, replace=False, random_state=42)\n",
    "\n",
    "_df_unique_pairs = pd.DataFrame()\n",
    "_df_unique_pairs['text_embedded__left'] = df_unique_pairs['text_embedded']\n",
    "_df_unique_pairs['text__left'] = df_unique_pairs['text']\n",
    "_df_unique_pairs['id__left'] = df_unique_pairs['id']\n",
    "\n",
    "_df_unique_pairs['text_embedded__right'] = df_unique_pairs['text_embedded'].shift(1)\n",
    "_df_unique_pairs['text__right'] = df_unique_pairs['text'].shift(1)\n",
    "_df_unique_pairs['id__right'] = df_unique_pairs['id'].shift(1)\n",
    "\n",
    "_df_unique_pairs = _df_unique_pairs.dropna()\n",
    "_df_unique_pairs['label'] = 0\n",
    "\n",
    "df_unique_pairs = _df_unique_pairs.reset_index(drop=True)\n",
    "\n",
    "del _df_unique_pairs\n",
    "gc.collect()\n",
    "\n",
    "df_unique_pairs.head()"
   ]
  },
  {
   "cell_type": "code",
   "execution_count": 51,
   "metadata": {},
   "outputs": [
    {
     "data": {
      "text/plain": [
       "0"
      ]
     },
     "execution_count": 51,
     "metadata": {},
     "output_type": "execute_result"
    }
   ],
   "source": [
    "df = pd.concat([df_duplicate_pairs, df_unique_pairs], axis=0).sample(frac=1, replace=False, random_state=42).reset_index(drop=True)\n",
    "gc.collect()"
   ]
  },
  {
   "cell_type": "markdown",
   "metadata": {},
   "source": [
    "### **5. Data Split**"
   ]
  },
  {
   "cell_type": "markdown",
   "metadata": {},
   "source": [
    "### **5.1. Train Test Split**"
   ]
  },
  {
   "cell_type": "code",
   "execution_count": 111,
   "metadata": {},
   "outputs": [
    {
     "name": "stdout",
     "output_type": "stream",
     "text": [
      "Shape of X_train: (146206, 2)\n",
      "Shape of X_test: (62660, 2)\n",
      "Shape of y_train: (146206,)\n",
      "Shape of y_test: (62660,)\n"
     ]
    }
   ],
   "source": [
    "X, X_test, y, y_test = train_test_split(df[['text_embedded__left', 'text_embedded__right']],\n",
    "                                        df['label'],\n",
    "                                        shuffle=True,\n",
    "                                        stratify=df['label'],\n",
    "                                        test_size=0.3,\n",
    "                                        random_state=42)\n",
    "\n",
    "print(f'Shape of X_train: {X.shape}')\n",
    "print(f'Shape of X_test: {X_test.shape}')\n",
    "print(f'Shape of y_train: {y.shape}')\n",
    "print(f'Shape of y_test: {y_test.shape}')"
   ]
  },
  {
   "cell_type": "code",
   "execution_count": 112,
   "metadata": {},
   "outputs": [
    {
     "name": "stdout",
     "output_type": "stream",
     "text": [
      "Train dataset target shape => 0: 128226, 1: 17980\n",
      "Test dataset target shape => 0: 54954, 1: 7706\n"
     ]
    }
   ],
   "source": [
    "print(f'Train dataset target shape => 0: {Counter(y)[0]}, 1: {Counter(y)[1]}')\n",
    "print(f'Test dataset target shape => 0: {Counter(y_test)[0]}, 1: {Counter(y_test)[1]}')"
   ]
  },
  {
   "cell_type": "markdown",
   "metadata": {},
   "source": [
    "### **5.2. Oversampling (*no longer used*)**"
   ]
  },
  {
   "cell_type": "code",
   "execution_count": 85,
   "metadata": {},
   "outputs": [
    {
     "name": "stdout",
     "output_type": "stream",
     "text": [
      "Resampled dataset target shape: Counter({1: 128226, 0: 128226})\n"
     ]
    }
   ],
   "source": [
    "%%script skipped # Skipped\n",
    "\n",
    "resampler = RandomOverSampler(random_state=42)\n",
    "X, y = resampler.fit_resample(X, y)\n",
    "\n",
    "print(f'Resampled dataset target shape: {Counter(y)}')"
   ]
  },
  {
   "cell_type": "markdown",
   "metadata": {},
   "source": [
    "### **5.3. Data Fold**"
   ]
  },
  {
   "cell_type": "markdown",
   "metadata": {},
   "source": [
    "We utilize Out-of-Fold (OOF) Cross Validation with 5 stratified folds."
   ]
  },
  {
   "cell_type": "code",
   "execution_count": 113,
   "metadata": {},
   "outputs": [],
   "source": [
    "n_splits = 5\n",
    "skf = StratifiedKFold(n_splits=n_splits, shuffle=True, random_state=42)"
   ]
  },
  {
   "cell_type": "markdown",
   "metadata": {},
   "source": [
    "### **6. Model Preparation**"
   ]
  },
  {
   "cell_type": "markdown",
   "metadata": {},
   "source": [
    "The model architecture employed is a Siamese network consisting of two input layers for embedded text, a `projection layer`, a `similarity layer` (normalized dot product), and a `single fully connected node` with sigmoid activation at the end for binary classification. This model is trained to classify whether the text pairs are the duplicate or unique. In this project, we experiment with two different types of projection layers: one with a `Dense/Fully connected layer` and the other with an `LSTM layer` (*no longer used*)."
   ]
  },
  {
   "cell_type": "markdown",
   "metadata": {},
   "source": [
    "### **6.1. Dense Model**"
   ]
  },
  {
   "cell_type": "markdown",
   "metadata": {},
   "source": [
    "Pada Dense Model, pada bagian projection layer menggunakan `Dense` layer dengan 256 nodes. We also use `BinaryCrossentropy` and `Adam` used as loss funtion and optimizer."
   ]
  },
  {
   "cell_type": "code",
   "execution_count": 87,
   "metadata": {},
   "outputs": [
    {
     "name": "stdout",
     "output_type": "stream",
     "text": [
      "Model: \"training_model\"\n",
      "__________________________________________________________________________________________________\n",
      " Layer (type)                Output Shape                 Param #   Connected to                  \n",
      "==================================================================================================\n",
      " input_1 (InputLayer)        [(None, 384)]                0         []                            \n",
      "                                                                                                  \n",
      " input_2 (InputLayer)        [(None, 384)]                0         []                            \n",
      "                                                                                                  \n",
      " shared_node_1 (Dense)       (None, 512)                  197120    ['input_1[0][0]',             \n",
      "                                                                     'input_2[0][0]']             \n",
      "                                                                                                  \n",
      " cosine_similarity (Dot)     (None, 1)                    0         ['shared_node_1[0][0]',       \n",
      "                                                                     'shared_node_1[1][0]']       \n",
      "                                                                                                  \n",
      " output (Dense)              (None, 1)                    2         ['cosine_similarity[0][0]']   \n",
      "                                                                                                  \n",
      "==================================================================================================\n",
      "Total params: 197122 (770.01 KB)\n",
      "Trainable params: 197122 (770.01 KB)\n",
      "Non-trainable params: 0 (0.00 Byte)\n",
      "__________________________________________________________________________________________________\n"
     ]
    }
   ],
   "source": [
    "# %%script skipped # Skipped\n",
    "\n",
    "input_1 = Input(shape=(num_dim, ), name='input_1')\n",
    "input_2 = Input(shape=(num_dim, ), name='input_2')\n",
    "\n",
    "shared_node_1 = Dense(256, activation='linear', name='shared_node_1')\n",
    "\n",
    "x1 = shared_node_1(input_1)\n",
    "x2 = shared_node_1(input_2)\n",
    "\n",
    "cosine_similarity_layer = Dot(axes=-1, normalize=True, name='cosine_similarity')([x1, x2])\n",
    "output_layer = Dense(1, activation='sigmoid', name='output')(cosine_similarity_layer)\n",
    "\n",
    "training_model = Model(inputs=[input_1, input_2], outputs=output_layer, name='training_model')\n",
    "\n",
    "optimizer = keras.optimizers.Adam(learning_rate=0.002)\n",
    "loss = keras.losses.BinaryCrossentropy(from_logits=False)\n",
    "metrics=[\n",
    "    keras.metrics.Precision(name='precision'),\n",
    "    keras.metrics.Recall(name='recall')\n",
    "  ]\n",
    "\n",
    "training_model.compile(\n",
    "  loss=loss,\n",
    "  optimizer=optimizer,\n",
    "  metrics=metrics)\n",
    "\n",
    "training_model.summary()"
   ]
  },
  {
   "cell_type": "markdown",
   "metadata": {},
   "source": [
    "### **6.2. LSTM Model (*no longer used*)**"
   ]
  },
  {
   "cell_type": "markdown",
   "metadata": {},
   "source": [
    "Untuk LSTM model, projection layer menggunakan `LSTM` dengan 256 nodes yang selanjutnya ditambahkan `GlobalAveragePooling1D`. We also use `BinaryCrossentropy` and `Adam` used as loss funtion and optimizer."
   ]
  },
  {
   "cell_type": "code",
   "execution_count": 218,
   "metadata": {},
   "outputs": [
    {
     "name": "stdout",
     "output_type": "stream",
     "text": [
      "Couldn't find program: 'skipped'\n"
     ]
    }
   ],
   "source": [
    "%%script skipped # Skipped\n",
    "\n",
    "input_1 = Input(shape=(num_dim, ), name='input_1')\n",
    "input_2 = Input(shape=(num_dim, ), name='input_2')\n",
    "\n",
    "reshape_node = Reshape((1, num_dim), input_shape=(num_dim, ), name='reshape_node_1')\n",
    "\n",
    "shared_node_1 = Bidirectional(LSTM(256, return_sequences=True, input_shape=(1, num_dim)), name='shared_node_1')\n",
    "shared_node_2 = GlobalAveragePooling1D(name='shared_node_2')\n",
    "\n",
    "x1 = reshape_node(input_1)\n",
    "x1 = shared_node_1(x1)\n",
    "x1 = shared_node_2(x1)\n",
    "\n",
    "x2 = reshape_node(input_2)\n",
    "x2 = shared_node_1(x2)\n",
    "x2 = shared_node_2(x2)\n",
    "\n",
    "cosine_similarity_layer = Dot(axes=-1, normalize=True, name='cosine_similarity')([x1, x2])\n",
    "output_layer = Dense(1, activation='sigmoid', name='output')(cosine_similarity_layer)\n",
    "\n",
    "training_model = Model(inputs=[input_1, input_2], outputs=output_layer, name='training_model')\n",
    "\n",
    "optimizer = keras.optimizers.Adam(learning_rate=0.002)\n",
    "loss = keras.losses.BinaryCrossentropy(from_logits=False)\n",
    "metrics=[\n",
    "    keras.metrics.Precision(name='precision'),\n",
    "    keras.metrics.Recall(name='recall')\n",
    "  ]\n",
    "\n",
    "training_model.compile(\n",
    "  loss=loss,\n",
    "  optimizer=optimizer,\n",
    "  metrics=metrics)\n",
    "\n",
    "training_model.summary()"
   ]
  },
  {
   "cell_type": "markdown",
   "metadata": {},
   "source": [
    "### **7. Model Training**"
   ]
  },
  {
   "cell_type": "markdown",
   "metadata": {},
   "source": [
    "### **7.1. Traning Preparation**"
   ]
  },
  {
   "cell_type": "code",
   "execution_count": 88,
   "metadata": {},
   "outputs": [
    {
     "data": {
      "text/plain": [
       "8019"
      ]
     },
     "execution_count": 88,
     "metadata": {},
     "output_type": "execute_result"
    }
   ],
   "source": [
    "tf.random.set_seed(42)\n",
    "gc.collect()"
   ]
  },
  {
   "cell_type": "code",
   "execution_count": 89,
   "metadata": {},
   "outputs": [],
   "source": [
    "def train_model(X_train, X_valid, y_train, y_valid, batch_size, epochs, callbacks=None, verbose='auto'):\n",
    "  history = training_model.fit(\n",
    "    X_train,\n",
    "    y_train,\n",
    "    epochs=epochs,\n",
    "    batch_size=batch_size,\n",
    "    validation_data=(X_valid, y_valid),\n",
    "    callbacks=[*callbacks],\n",
    "    verbose=verbose)\n",
    "    \n",
    "  train_score = training_model.evaluate(X_train, y_train, verbose=verbose)[1:]\n",
    "  valid_score = training_model.evaluate(X_valid, y_valid, verbose=verbose)[1:]\n",
    "  \n",
    "  return [train_score, valid_score, history]"
   ]
  },
  {
   "cell_type": "markdown",
   "metadata": {},
   "source": [
    "### **7.2. Model Training**"
   ]
  },
  {
   "cell_type": "code",
   "execution_count": 90,
   "metadata": {},
   "outputs": [
    {
     "name": "stdout",
     "output_type": "stream",
     "text": [
      "fold-1: train - precision = 1.000, recall = 1.000\n",
      "fold-1: valid - precision = 0.986, recall = 1.000\n",
      "----------------------------------------------------------------------------------------------------\n",
      "fold-2: train - precision = 1.000, recall = 1.000\n",
      "fold-2: valid - precision = 0.994, recall = 1.000\n",
      "----------------------------------------------------------------------------------------------------\n",
      "fold-3: train - precision = 1.000, recall = 1.000\n",
      "fold-3: valid - precision = 0.999, recall = 1.000\n",
      "----------------------------------------------------------------------------------------------------\n",
      "fold-4: train - precision = 1.000, recall = 1.000\n",
      "fold-4: valid - precision = 0.999, recall = 1.000\n",
      "----------------------------------------------------------------------------------------------------\n",
      "fold-5: train - precision = 1.000, recall = 1.000\n",
      "fold-5: valid - precision = 0.999, recall = 1.000\n",
      "----------------------------------------------------------------------------------------------------\n",
      "average_score: train - precision = 1.000, recall = 1.000\n",
      "average_score: valid - precision = 0.995, recall = 1.000\n"
     ]
    }
   ],
   "source": [
    "epochs = 30\n",
    "batch_size = 64\n",
    "\n",
    "train_scores = []\n",
    "valid_scores = []\n",
    "histories = []\n",
    "\n",
    "for fold, (train_idx, valid_idx) in enumerate(skf.split(X, y)):\n",
    "    X_train, X_valid = X.iloc[train_idx], X.iloc[valid_idx]\n",
    "    y_train, y_valid = y.iloc[train_idx], y.iloc[valid_idx]\n",
    "\n",
    "    X_train_inputs = [np.vstack(X_train['text_embedded__left']), np.vstack(X_train['text_embedded__right'])]\n",
    "    X_valid_inputs = [np.vstack(X_valid['text_embedded__left']), np.vstack(X_valid['text_embedded__right'])]\n",
    "    \n",
    "    early_stopping = EarlyStopping(monitor='loss', patience=5, restore_best_weights=True)\n",
    "    \n",
    "    train_score, valid_score, history = train_model(X_train_inputs,\n",
    "                                                    X_valid_inputs,\n",
    "                                                    y_train,\n",
    "                                                    y_valid,\n",
    "                                                    batch_size=batch_size,\n",
    "                                                    epochs=epochs,\n",
    "                                                    callbacks=[early_stopping],\n",
    "                                                    verbose=0)\n",
    "    \n",
    "    print(f'fold-{fold + 1}: train - precision = {train_score[0]:.3f}, recall = {train_score[1]:.3f}')\n",
    "    print(f'fold-{fold + 1}: valid - precision = {valid_score[0]:.3f}, recall = {valid_score[1]:.3f}')\n",
    "    print('-' * 100)\n",
    "    \n",
    "    train_scores.append(train_score)\n",
    "    valid_scores.append(valid_score)\n",
    "    histories.append(history.history)\n",
    "    \n",
    "train_scores_avg = np.mean(train_scores, axis=0)\n",
    "valid_scores_avg = np.mean(valid_scores, axis=0)\n",
    "\n",
    "print(f'average_score: train - precision = {train_scores_avg[0]:.3f}, recall = {train_scores_avg[1]:.3f}')\n",
    "print(f'average_score: valid - precision = {valid_scores_avg[0]:.3f}, recall = {valid_scores_avg[1]:.3f}')"
   ]
  },
  {
   "cell_type": "markdown",
   "metadata": {},
   "source": [
    "From our training results, we can see that our model has performed impressively, achieving `precision of 0.995` and `recall of 1.000` on validation set."
   ]
  },
  {
   "cell_type": "markdown",
   "metadata": {},
   "source": [
    "### **7.3. Save/Load Model**"
   ]
  },
  {
   "cell_type": "code",
   "execution_count": 114,
   "metadata": {},
   "outputs": [],
   "source": [
    "# %%script skipped # Skipped\n",
    "\n",
    "MODE = 'load'\n",
    "\n",
    "saved_model_path = os.path.join('models', 'model_dense_sent_trans.h5')\n",
    "saved_train_data_path = os.path.join('models', 'model_dense_sent_trans.json')\n",
    "\n",
    "if MODE == 'save':\n",
    "  training_model.save(saved_model_path)\n",
    "  save_json(histories ,saved_train_data_path)\n",
    "elif MODE == 'load':\n",
    "  training_model = load_model(saved_model_path)\n",
    "  histories = load_json(saved_train_data_path)"
   ]
  },
  {
   "cell_type": "markdown",
   "metadata": {},
   "source": [
    "### **7.4. Model Training Evaluation**"
   ]
  },
  {
   "cell_type": "markdown",
   "metadata": {},
   "source": [
    "From the plots below, we observe drops in precision and recall at the beginning of each fold's training. However, overall, both metrics tend to improve over time."
   ]
  },
  {
   "cell_type": "code",
   "execution_count": 115,
   "metadata": {},
   "outputs": [
    {
     "data": {
      "image/png": "[encoded data removed]",
      "text/plain": [
       "<Figure size 1000x500 with 2 Axes>"
      ]
     },
     "metadata": {},
     "output_type": "display_data"
    }
   ],
   "source": [
    "valid_precision_score = [item for history in histories for item in history['val_precision']]\n",
    "train_precision_score = [item for history in histories for item in history['precision']]\n",
    "valid_recall_score = [item for history in histories for item in history['val_recall']]\n",
    "train_recall_score = [item for history in histories for item in history['recall']]\n",
    "\n",
    "\n",
    "fig, axes = plt.subplots(1, 2, figsize=(10, 5), sharey=True)\n",
    "\n",
    "axes[0].plot(valid_precision_score, label='valid')\n",
    "axes[0].plot(train_precision_score, label='train')\n",
    "axes[0].set_title('Precision Score')\n",
    "axes[0].set_xlabel('epoch')\n",
    "axes[0].set_ylabel('score')\n",
    "axes[0].legend()\n",
    "axes[0].grid()\n",
    "\n",
    "axes[1].plot(valid_recall_score, label='valid')\n",
    "axes[1].plot(train_recall_score, label='train')\n",
    "axes[1].set_title('Recall Score')\n",
    "axes[1].set_xlabel('epoch')\n",
    "axes[1].set_ylabel('score')\n",
    "axes[1].legend()\n",
    "axes[1].grid()\n",
    "\n",
    "plt.tight_layout()\n",
    "plt.show()"
   ]
  },
  {
   "cell_type": "markdown",
   "metadata": {},
   "source": [
    "### **7.5. Embedding Model Preparation**"
   ]
  },
  {
   "cell_type": "markdown",
   "metadata": {},
   "source": [
    "We have successfully obtained a model capable of detecting whether a pair of reports are duplicates or not. However, directly using this model for duplicate report detection and determining which report has been duplicated (unique report) poses an issue. Each time a new report is added, it requires checking against all existing unique reports, which is inefficient. For instance, in the context of the data used in this project, there are 183,180 unique reports and 25,686 duplicate reports. Hence, it would require a total of 183,180 * 25,686 = `4,705,161,480 model inferences`!\n",
    "\n",
    "Therefore, we need to employ another method, adopting the approach used in training Word2Vec using the Continuous Bag of Words (CBOW) technique. Here, `we use the output from the projection layer as the vector representation of the report` and perform cosine similarity search to find similar or duplicate reports."
   ]
  },
  {
   "cell_type": "markdown",
   "metadata": {},
   "source": [
    "### **7.5.1. Get Dense Embedding Model**"
   ]
  },
  {
   "cell_type": "code",
   "execution_count": 133,
   "metadata": {},
   "outputs": [
    {
     "name": "stdout",
     "output_type": "stream",
     "text": [
      "Model: \"embd_inference_model\"\n",
      "_________________________________________________________________\n",
      " Layer (type)                Output Shape              Param #   \n",
      "=================================================================\n",
      " input (InputLayer)          [(None, 384)]             0         \n",
      "                                                                 \n",
      " shared_node_1 (Dense)       (None, 256)               98560     \n",
      "                                                                 \n",
      "=================================================================\n",
      "Total params: 98560 (385.00 KB)\n",
      "Trainable params: 98560 (385.00 KB)\n",
      "Non-trainable params: 0 (0.00 Byte)\n",
      "_________________________________________________________________\n"
     ]
    }
   ],
   "source": [
    "embd_input = Input(shape=(num_dim, ), name='input')\n",
    "embd_output = training_model.get_layer('shared_node_1')(embd_input)\n",
    "\n",
    "embd_model = Model(inputs=embd_input, outputs=embd_output, name='embd_inference_model')\n",
    "embd_model.summary()"
   ]
  },
  {
   "cell_type": "markdown",
   "metadata": {},
   "source": [
    "### **7.5.2. Get LSTM Embedding Model**"
   ]
  },
  {
   "cell_type": "code",
   "execution_count": 226,
   "metadata": {},
   "outputs": [
    {
     "name": "stdout",
     "output_type": "stream",
     "text": [
      "Couldn't find program: 'skipped'\n"
     ]
    }
   ],
   "source": [
    "%%script skipped # Skipped\n",
    "\n",
    "embd_input = Input(shape=(num_dim, ), name='input')\n",
    "embd_x = training_model.get_layer('reshape_node_1')(embd_input)\n",
    "embd_x = training_model.get_layer('shared_node_1')(embd_x)\n",
    "embd_x = training_model.get_layer('shared_node_2')(embd_x)\n",
    "embd_output = training_model.get_layer('shared_node_3')(embd_x)\n",
    "\n",
    "embd_model = Model(inputs=embd_input, outputs=embd_output, name='embd_inference_model')\n",
    "embd_model.summary()"
   ]
  },
  {
   "cell_type": "markdown",
   "metadata": {},
   "source": [
    "### **7.6. Embedding Model Evaluation**"
   ]
  },
  {
   "cell_type": "code",
   "execution_count": 117,
   "metadata": {},
   "outputs": [],
   "source": [
    "def custom_cosine_similarity(text_1: np.ndarray, text_2: np.ndarray):\n",
    "    dot_product = np.dot(text_1, text_2)\n",
    "    norm_text_1 = np.linalg.norm(text_1)\n",
    "    norm_text_2 = np.linalg.norm(text_2)\n",
    "    \n",
    "    similarity = dot_product / (norm_text_1 * norm_text_2)\n",
    "    return similarity"
   ]
  },
  {
   "cell_type": "code",
   "execution_count": 118,
   "metadata": {},
   "outputs": [
    {
     "name": "stdout",
     "output_type": "stream",
     "text": [
      "1959/1959 [==============================] - 3s 1ms/step\n",
      "1959/1959 [==============================] - 2s 1ms/step\n"
     ]
    }
   ],
   "source": [
    "embd_test_left = embd_model.predict(np.vstack(X_test['text_embedded__left']))\n",
    "embd_test_right = embd_model.predict(np.vstack(X_test['text_embedded__right']))\n",
    "\n",
    "embd_similarity = np.array([custom_cosine_similarity(embd_1, embd_2) for embd_1, embd_2 in zip(embd_test_left, embd_test_right)])"
   ]
  },
  {
   "cell_type": "code",
   "execution_count": 99,
   "metadata": {},
   "outputs": [],
   "source": [
    "def evaluate_model(similarity_scores: np.ndarray, threshold: float):\n",
    "  embd_binary_similarity = (similarity_scores > threshold).astype(int)\n",
    "\n",
    "  precision = precision_score(y_test, embd_binary_similarity)\n",
    "  recall = recall_score(y_test, embd_binary_similarity)\n",
    "  f1 = f1_score(y_test, embd_binary_similarity)\n",
    "  \n",
    "  return [precision, recall, f1]"
   ]
  },
  {
   "cell_type": "code",
   "execution_count": 100,
   "metadata": {},
   "outputs": [
    {
     "data": {
      "text/html": [
       "<div>\n",
       "<style scoped>\n",
       "    .dataframe tbody tr th:only-of-type {\n",
       "        vertical-align: middle;\n",
       "    }\n",
       "\n",
       "    .dataframe tbody tr th {\n",
       "        vertical-align: top;\n",
       "    }\n",
       "\n",
       "    .dataframe thead th {\n",
       "        text-align: right;\n",
       "    }\n",
       "</style>\n",
       "<table border=\"1\" class=\"dataframe\">\n",
       "  <thead>\n",
       "    <tr style=\"text-align: right;\">\n",
       "      <th></th>\n",
       "      <th>threshold</th>\n",
       "      <th>precision</th>\n",
       "      <th>recall</th>\n",
       "      <th>f1</th>\n",
       "    </tr>\n",
       "  </thead>\n",
       "  <tbody>\n",
       "    <tr>\n",
       "      <th>387</th>\n",
       "      <td>0.387387</td>\n",
       "      <td>0.944916</td>\n",
       "      <td>0.894887</td>\n",
       "      <td>0.919222</td>\n",
       "    </tr>\n",
       "    <tr>\n",
       "      <th>385</th>\n",
       "      <td>0.385385</td>\n",
       "      <td>0.943064</td>\n",
       "      <td>0.896315</td>\n",
       "      <td>0.919095</td>\n",
       "    </tr>\n",
       "    <tr>\n",
       "      <th>388</th>\n",
       "      <td>0.388388</td>\n",
       "      <td>0.945634</td>\n",
       "      <td>0.893849</td>\n",
       "      <td>0.919013</td>\n",
       "    </tr>\n",
       "    <tr>\n",
       "      <th>380</th>\n",
       "      <td>0.380380</td>\n",
       "      <td>0.938083</td>\n",
       "      <td>0.900467</td>\n",
       "      <td>0.918890</td>\n",
       "    </tr>\n",
       "    <tr>\n",
       "      <th>384</th>\n",
       "      <td>0.384384</td>\n",
       "      <td>0.941577</td>\n",
       "      <td>0.897223</td>\n",
       "      <td>0.918865</td>\n",
       "    </tr>\n",
       "    <tr>\n",
       "      <th>...</th>\n",
       "      <td>...</td>\n",
       "      <td>...</td>\n",
       "      <td>...</td>\n",
       "      <td>...</td>\n",
       "    </tr>\n",
       "    <tr>\n",
       "      <th>995</th>\n",
       "      <td>0.995996</td>\n",
       "      <td>1.000000</td>\n",
       "      <td>0.017908</td>\n",
       "      <td>0.035186</td>\n",
       "    </tr>\n",
       "    <tr>\n",
       "      <th>996</th>\n",
       "      <td>0.996997</td>\n",
       "      <td>1.000000</td>\n",
       "      <td>0.017519</td>\n",
       "      <td>0.034434</td>\n",
       "    </tr>\n",
       "    <tr>\n",
       "      <th>997</th>\n",
       "      <td>0.997998</td>\n",
       "      <td>1.000000</td>\n",
       "      <td>0.017259</td>\n",
       "      <td>0.033933</td>\n",
       "    </tr>\n",
       "    <tr>\n",
       "      <th>998</th>\n",
       "      <td>0.998999</td>\n",
       "      <td>1.000000</td>\n",
       "      <td>0.017130</td>\n",
       "      <td>0.033682</td>\n",
       "    </tr>\n",
       "    <tr>\n",
       "      <th>999</th>\n",
       "      <td>1.000000</td>\n",
       "      <td>1.000000</td>\n",
       "      <td>0.004412</td>\n",
       "      <td>0.008786</td>\n",
       "    </tr>\n",
       "  </tbody>\n",
       "</table>\n",
       "<p>1000 rows × 4 columns</p>\n",
       "</div>"
      ],
      "text/plain": [
       "     threshold  precision    recall        f1\n",
       "387   0.387387   0.944916  0.894887  0.919222\n",
       "385   0.385385   0.943064  0.896315  0.919095\n",
       "388   0.388388   0.945634  0.893849  0.919013\n",
       "380   0.380380   0.938083  0.900467  0.918890\n",
       "384   0.384384   0.941577  0.897223  0.918865\n",
       "..         ...        ...       ...       ...\n",
       "995   0.995996   1.000000  0.017908  0.035186\n",
       "996   0.996997   1.000000  0.017519  0.034434\n",
       "997   0.997998   1.000000  0.017259  0.033933\n",
       "998   0.998999   1.000000  0.017130  0.033682\n",
       "999   1.000000   1.000000  0.004412  0.008786\n",
       "\n",
       "[1000 rows x 4 columns]"
      ]
     },
     "execution_count": 100,
     "metadata": {},
     "output_type": "execute_result"
    }
   ],
   "source": [
    "threshold_eval = pd.DataFrame(\n",
    "  data=[[threshold, *evaluate_model(embd_similarity, threshold)] for threshold in np.linspace(0, 1, 1000)],\n",
    "  columns=['threshold', 'precision', 'recall', 'f1'])\n",
    "\n",
    "threshold_eval_sorted = threshold_eval.sort_values(by='f1', ascending=False)\n",
    "threshold_eval_sorted"
   ]
  },
  {
   "cell_type": "code",
   "execution_count": 101,
   "metadata": {},
   "outputs": [
    {
     "data": {
      "text/plain": [
       "<Axes: title={'center': 'Metrics Evaluation'}, xlabel='Threshold', ylabel='Metric score'>"
      ]
     },
     "execution_count": 101,
     "metadata": {},
     "output_type": "execute_result"
    },
    {
     "data": {
      "image/png": "[encoded data removed]",
      "text/plain": [
       "<Figure size 640x480 with 1 Axes>"
      ]
     },
     "metadata": {},
     "output_type": "display_data"
    }
   ],
   "source": [
    "threshold_eval.plot(\n",
    "  kind='line',\n",
    "  title='Metrics Evaluation',\n",
    "  x='threshold',\n",
    "  xlabel='Threshold',\n",
    "  ylabel='Metric score',\n",
    "  grid=True)"
   ]
  },
  {
   "cell_type": "code",
   "execution_count": 119,
   "metadata": {},
   "outputs": [
    {
     "name": "stdout",
     "output_type": "stream",
     "text": [
      "Precision: 0.94072\n",
      "Recall: 0.89787\n",
      "F1: 0.91880\n"
     ]
    }
   ],
   "source": [
    "threshold_opt = threshold_eval_sorted['threshold'].iloc[0]\n",
    "model_eval = evaluate_model(embd_similarity, threshold_opt)\n",
    "\n",
    "print(f'Precision: {model_eval[0]:.5f}')\n",
    "print(f'Recall: {model_eval[1]:.5f}')\n",
    "print(f'F1: {model_eval[2]:.5f}')"
   ]
  },
  {
   "cell_type": "markdown",
   "metadata": {},
   "source": [
    "### **8. Similarity Search**"
   ]
  },
  {
   "cell_type": "markdown",
   "metadata": {},
   "source": [
    "### **8.1. Prepare Data**"
   ]
  },
  {
   "cell_type": "markdown",
   "metadata": {},
   "source": [
    "We need to prepare the data for testing similarity search. This includes the testing data (`df_sim_search_test`), which consists of pairs of vectors (embedded report text) and `id_match` (id of the duplicated report), and the data collection from unique reports (`df_sim_search_data`), which consists of vectors (embedded report text) and report IDs used as the `master dataset`."
   ]
  },
  {
   "cell_type": "code",
   "execution_count": 135,
   "metadata": {},
   "outputs": [
    {
     "data": {
      "text/html": [
       "<div>\n",
       "<style scoped>\n",
       "    .dataframe tbody tr th:only-of-type {\n",
       "        vertical-align: middle;\n",
       "    }\n",
       "\n",
       "    .dataframe tbody tr th {\n",
       "        vertical-align: top;\n",
       "    }\n",
       "\n",
       "    .dataframe thead th {\n",
       "        text-align: right;\n",
       "    }\n",
       "</style>\n",
       "<table border=\"1\" class=\"dataframe\">\n",
       "  <thead>\n",
       "    <tr style=\"text-align: right;\">\n",
       "      <th></th>\n",
       "      <th>id</th>\n",
       "      <th>vector</th>\n",
       "      <th>id_match</th>\n",
       "    </tr>\n",
       "  </thead>\n",
       "  <tbody>\n",
       "    <tr>\n",
       "      <th>7</th>\n",
       "      <td>293631</td>\n",
       "      <td>[0.03956199, -0.04356538, 0.016794298, -0.0047...</td>\n",
       "      <td>293630.0</td>\n",
       "    </tr>\n",
       "    <tr>\n",
       "      <th>40</th>\n",
       "      <td>379544</td>\n",
       "      <td>[-0.0070534744, 0.053230204, -0.02449986, 0.01...</td>\n",
       "      <td>378837.0</td>\n",
       "    </tr>\n",
       "    <tr>\n",
       "      <th>52</th>\n",
       "      <td>220265</td>\n",
       "      <td>[0.0006551796, -0.029087212, -0.006409261, 0.0...</td>\n",
       "      <td>216602.0</td>\n",
       "    </tr>\n",
       "    <tr>\n",
       "      <th>55</th>\n",
       "      <td>1549034</td>\n",
       "      <td>[-0.0062051797, -0.0079135, 0.0073644766, 0.00...</td>\n",
       "      <td>1548990.0</td>\n",
       "    </tr>\n",
       "    <tr>\n",
       "      <th>60</th>\n",
       "      <td>230922</td>\n",
       "      <td>[0.063632436, 0.03333981, -0.040277764, -0.004...</td>\n",
       "      <td>216432.0</td>\n",
       "    </tr>\n",
       "    <tr>\n",
       "      <th>...</th>\n",
       "      <td>...</td>\n",
       "      <td>...</td>\n",
       "      <td>...</td>\n",
       "    </tr>\n",
       "    <tr>\n",
       "      <th>208816</th>\n",
       "      <td>555054</td>\n",
       "      <td>[0.025442548, 0.015526013, 0.045115303, -0.002...</td>\n",
       "      <td>544672.0</td>\n",
       "    </tr>\n",
       "    <tr>\n",
       "      <th>208829</th>\n",
       "      <td>266967</td>\n",
       "      <td>[-0.03685053, -0.056290228, -0.08407612, 0.033...</td>\n",
       "      <td>255637.0</td>\n",
       "    </tr>\n",
       "    <tr>\n",
       "      <th>208841</th>\n",
       "      <td>324858</td>\n",
       "      <td>[0.037113402, -0.11462945, 0.011635334, -0.001...</td>\n",
       "      <td>324763.0</td>\n",
       "    </tr>\n",
       "    <tr>\n",
       "      <th>208846</th>\n",
       "      <td>220068</td>\n",
       "      <td>[-0.06483394, 0.016236242, -0.00046764239, 0.0...</td>\n",
       "      <td>214121.0</td>\n",
       "    </tr>\n",
       "    <tr>\n",
       "      <th>208850</th>\n",
       "      <td>980518</td>\n",
       "      <td>[-0.04666864, -0.060789164, -0.06623578, 0.046...</td>\n",
       "      <td>932759.0</td>\n",
       "    </tr>\n",
       "  </tbody>\n",
       "</table>\n",
       "<p>25686 rows × 3 columns</p>\n",
       "</div>"
      ],
      "text/plain": [
       "             id                                             vector   id_match\n",
       "7        293631  [0.03956199, -0.04356538, 0.016794298, -0.0047...   293630.0\n",
       "40       379544  [-0.0070534744, 0.053230204, -0.02449986, 0.01...   378837.0\n",
       "52       220265  [0.0006551796, -0.029087212, -0.006409261, 0.0...   216602.0\n",
       "55      1549034  [-0.0062051797, -0.0079135, 0.0073644766, 0.00...  1548990.0\n",
       "60       230922  [0.063632436, 0.03333981, -0.040277764, -0.004...   216432.0\n",
       "...         ...                                                ...        ...\n",
       "208816   555054  [0.025442548, 0.015526013, 0.045115303, -0.002...   544672.0\n",
       "208829   266967  [-0.03685053, -0.056290228, -0.08407612, 0.033...   255637.0\n",
       "208841   324858  [0.037113402, -0.11462945, 0.011635334, -0.001...   324763.0\n",
       "208846   220068  [-0.06483394, 0.016236242, -0.00046764239, 0.0...   214121.0\n",
       "208850   980518  [-0.04666864, -0.060789164, -0.06623578, 0.046...   932759.0\n",
       "\n",
       "[25686 rows x 3 columns]"
      ]
     },
     "execution_count": 135,
     "metadata": {},
     "output_type": "execute_result"
    }
   ],
   "source": [
    "column_mapper = {\n",
    "  'id__left': 'id',\n",
    "  'text_embedded__left': 'vector',\n",
    "  'id__right': 'id_match',\n",
    "}\n",
    "\n",
    "df_sim_search_test = df[df['label'] == 1][['id__left', 'text_embedded__left', 'id__right']].rename(columns=column_mapper)\n",
    "df_sim_search_test"
   ]
  },
  {
   "cell_type": "code",
   "execution_count": 136,
   "metadata": {},
   "outputs": [
    {
     "data": {
      "text/html": [
       "<div>\n",
       "<style scoped>\n",
       "    .dataframe tbody tr th:only-of-type {\n",
       "        vertical-align: middle;\n",
       "    }\n",
       "\n",
       "    .dataframe tbody tr th {\n",
       "        vertical-align: top;\n",
       "    }\n",
       "\n",
       "    .dataframe thead th {\n",
       "        text-align: right;\n",
       "    }\n",
       "</style>\n",
       "<table border=\"1\" class=\"dataframe\">\n",
       "  <thead>\n",
       "    <tr style=\"text-align: right;\">\n",
       "      <th></th>\n",
       "      <th>id</th>\n",
       "      <th>vector</th>\n",
       "    </tr>\n",
       "  </thead>\n",
       "  <tbody>\n",
       "    <tr>\n",
       "      <th>0</th>\n",
       "      <td>685958</td>\n",
       "      <td>[0.036902905, -0.035959516, 0.017000956, -0.04...</td>\n",
       "    </tr>\n",
       "    <tr>\n",
       "      <th>1</th>\n",
       "      <td>1246857</td>\n",
       "      <td>[0.013780104, -0.034500245, -0.0673427, 0.0041...</td>\n",
       "    </tr>\n",
       "    <tr>\n",
       "      <th>2</th>\n",
       "      <td>1206916</td>\n",
       "      <td>[0.013095676, -0.01894292, 0.011076523, -0.004...</td>\n",
       "    </tr>\n",
       "    <tr>\n",
       "      <th>3</th>\n",
       "      <td>538897</td>\n",
       "      <td>[-0.037188318, -0.08663432, 0.08391913, -0.035...</td>\n",
       "    </tr>\n",
       "    <tr>\n",
       "      <th>4</th>\n",
       "      <td>257995</td>\n",
       "      <td>[-0.0681053, -0.07650347, 0.085386515, 0.01524...</td>\n",
       "    </tr>\n",
       "    <tr>\n",
       "      <th>...</th>\n",
       "      <td>...</td>\n",
       "      <td>...</td>\n",
       "    </tr>\n",
       "    <tr>\n",
       "      <th>208861</th>\n",
       "      <td>1603531</td>\n",
       "      <td>[-0.01886405, -0.031196129, 0.02678858, 0.0143...</td>\n",
       "    </tr>\n",
       "    <tr>\n",
       "      <th>208862</th>\n",
       "      <td>1692276</td>\n",
       "      <td>[0.009130968, -0.02435595, -0.093101114, -0.04...</td>\n",
       "    </tr>\n",
       "    <tr>\n",
       "      <th>208863</th>\n",
       "      <td>525188</td>\n",
       "      <td>[-0.0039968286, 0.012683702, 0.0096171135, -0....</td>\n",
       "    </tr>\n",
       "    <tr>\n",
       "      <th>208864</th>\n",
       "      <td>1548644</td>\n",
       "      <td>[-0.048929468, -0.06869774, 0.033939254, -0.05...</td>\n",
       "    </tr>\n",
       "    <tr>\n",
       "      <th>208865</th>\n",
       "      <td>1139573</td>\n",
       "      <td>[0.025087422, -0.07429775, -0.024007954, -0.04...</td>\n",
       "    </tr>\n",
       "  </tbody>\n",
       "</table>\n",
       "<p>183180 rows × 2 columns</p>\n",
       "</div>"
      ],
      "text/plain": [
       "             id                                             vector\n",
       "0        685958  [0.036902905, -0.035959516, 0.017000956, -0.04...\n",
       "1       1246857  [0.013780104, -0.034500245, -0.0673427, 0.0041...\n",
       "2       1206916  [0.013095676, -0.01894292, 0.011076523, -0.004...\n",
       "3        538897  [-0.037188318, -0.08663432, 0.08391913, -0.035...\n",
       "4        257995  [-0.0681053, -0.07650347, 0.085386515, 0.01524...\n",
       "...         ...                                                ...\n",
       "208861  1603531  [-0.01886405, -0.031196129, 0.02678858, 0.0143...\n",
       "208862  1692276  [0.009130968, -0.02435595, -0.093101114, -0.04...\n",
       "208863   525188  [-0.0039968286, 0.012683702, 0.0096171135, -0....\n",
       "208864  1548644  [-0.048929468, -0.06869774, 0.033939254, -0.05...\n",
       "208865  1139573  [0.025087422, -0.07429775, -0.024007954, -0.04...\n",
       "\n",
       "[183180 rows x 2 columns]"
      ]
     },
     "execution_count": 136,
     "metadata": {},
     "output_type": "execute_result"
    }
   ],
   "source": [
    "column_mapper = {\n",
    "  'id__left': 'id',\n",
    "  'text_embedded__left': 'vector',\n",
    "}\n",
    "\n",
    "df_sim_search_data = df[['id__left', 'text_embedded__left']].rename(columns=column_mapper)\n",
    "df_sim_search_data = df_sim_search_data[~df_sim_search_data['id'].isin(df_sim_search_test['id'])]\n",
    "df_sim_search_data"
   ]
  },
  {
   "cell_type": "markdown",
   "metadata": {},
   "source": [
    "### **8.2. Create Faiss Index**"
   ]
  },
  {
   "cell_type": "markdown",
   "metadata": {},
   "source": [
    "To facilitate the similarity search process, we will utilize the `faiss` library with 500 partitions to expedite the searching process. To use the cosine similarity index, we need to employ the `IndexIVFFlat` index with `METRIC_INNER_PRODUCT` and normalize the vectors from the master dataset before inserting them into the index."
   ]
  },
  {
   "cell_type": "code",
   "execution_count": 137,
   "metadata": {},
   "outputs": [
    {
     "name": "stdout",
     "output_type": "stream",
     "text": [
      "5725/5725 [==============================] - 7s 1ms/step\n"
     ]
    }
   ],
   "source": [
    "base_vectors = np.vstack(df_sim_search_data['vector'])\n",
    "mod_vectors = embd_model.predict(base_vectors)\n",
    "\n",
    "vector_dim = 256\n",
    "ids = df_sim_search_data['id']\n",
    "\n",
    "nlist = 500\n",
    "quantizer = faiss.IndexFlatIP(vector_dim)\n",
    "index = faiss.IndexIVFFlat(quantizer, vector_dim, nlist, faiss.METRIC_INNER_PRODUCT)\n",
    "\n",
    "faiss.normalize_L2(mod_vectors)\n",
    "\n",
    "index.train(mod_vectors)\n",
    "index.add_with_ids(mod_vectors, ids)"
   ]
  },
  {
   "cell_type": "markdown",
   "metadata": {},
   "source": [
    "### **8.3. Perform Similarity Search**"
   ]
  },
  {
   "cell_type": "markdown",
   "metadata": {},
   "source": [
    "Kita melakukan search terhadap 10 data terdekat yang memiliki similarity score di atas `threshold_opt`."
   ]
  },
  {
   "cell_type": "code",
   "execution_count": 160,
   "metadata": {},
   "outputs": [
    {
     "name": "stdout",
     "output_type": "stream",
     "text": [
      "803/803 [==============================] - 1s 1ms/step\n"
     ]
    }
   ],
   "source": [
    "index.nprobe = 20\n",
    "k = 10\n",
    "\n",
    "_base_vector = np.vstack(df_sim_search_test['vector'])\n",
    "_mod_vectors = embd_model.predict(_base_vector)\n",
    "faiss.normalize_L2(_mod_vectors)\n",
    "\n",
    "search_result = index.search(_mod_vectors, k=k)"
   ]
  },
  {
   "cell_type": "code",
   "execution_count": 161,
   "metadata": {},
   "outputs": [],
   "source": [
    "ids_search = []\n",
    "\n",
    "for scores, ids_match in zip(search_result[0], search_result[1]):\n",
    "  filtered = [res[1] for res in zip(scores, ids_match) if res[0] > threshold_opt]\n",
    "  ids_search.append(filtered)"
   ]
  },
  {
   "cell_type": "markdown",
   "metadata": {},
   "source": [
    "### **8.4. Similarity Search Evaluation**"
   ]
  },
  {
   "cell_type": "markdown",
   "metadata": {},
   "source": [
    "The metric used to measure the performance of similarity search is recall@10. This metric evaluates the recall value with true positives determined by the presence of `id_match` in the top 10 most similar report data."
   ]
  },
  {
   "cell_type": "code",
   "execution_count": 164,
   "metadata": {},
   "outputs": [
    {
     "name": "stdout",
     "output_type": "stream",
     "text": [
      "Recall@10: 0.33010200109008797\n"
     ]
    }
   ],
   "source": [
    "ids_actual = ids_search\n",
    "ids_expected = df_sim_search_test['id_match']\n",
    "\n",
    "true_result = [1] * len(df_sim_search_test)\n",
    "results = []\n",
    "for id_actual, id_expected in zip(ids_actual, ids_expected):\n",
    "  if id_expected in id_actual:\n",
    "    results.append(1)\n",
    "  else:\n",
    "    results.append(0)\n",
    "\n",
    "recall_sc = recall_score(true_result, results)\n",
    "\n",
    "print(f'Recall@{k}: {recall_sc}')"
   ]
  },
  {
   "cell_type": "markdown",
   "metadata": {},
   "source": [
    "It appears that the recall@10 value obtained is 0.3301, which is relatively small. However, by utilizing this model, we are potentially able to reduce 33.01% of duplicated bug reports reported by users. Recognizing this potential, we see the opportunity for this model to be implemented in the system."
   ]
  }
 ],
 "metadata": {
  "kernelspec": {
   "display_name": "env_1",
   "language": "python",
   "name": "python3"
  },
  "language_info": {
   "codemirror_mode": {
    "name": "ipython",
    "version": 3
   },
   "file_extension": ".py",
   "mimetype": "text/x-python",
   "name": "python",
   "nbconvert_exporter": "python",
   "pygments_lexer": "ipython3",
   "version": "3.11.5"
  }
 },
 "nbformat": 4,
 "nbformat_minor": 2
}
